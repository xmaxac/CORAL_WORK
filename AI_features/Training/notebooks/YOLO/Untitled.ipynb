{
 "cells": [
  {
   "cell_type": "code",
   "execution_count": 1,
   "id": "1503d79f-7f9a-4f3b-a125-075bddf5f46e",
   "metadata": {},
   "outputs": [
    {
     "name": "stdout",
     "output_type": "stream",
     "text": [
      "Num GPUs Available:  1\n"
     ]
    }
   ],
   "source": [
    "import tensorflow as tf\n",
    "print(\"Num GPUs Available: \", len(tf.config.list_physical_devices('GPU')))\n"
   ]
  },
  {
   "cell_type": "code",
   "execution_count": 3,
   "id": "7d039290-120e-4da1-8461-8b7a21570147",
   "metadata": {},
   "outputs": [
    {
     "name": "stdout",
     "output_type": "stream",
     "text": [
      "Num GPUs Available:  1\n",
      "TensorFlow version: 2.10.1\n",
      "CPU time: 2.5029 seconds\n",
      "GPU time: 0.5048 seconds\n"
     ]
    }
   ],
   "source": [
    "import tensorflow as tf\n",
    "import time\n",
    "\n",
    "print(\"Num GPUs Available: \", len(tf.config.list_physical_devices('GPU')))\n",
    "print(\"TensorFlow version:\", tf.__version__)\n",
    "\n",
    "size = 10000\n",
    "\n",
    "\n",
    "with tf.device('/CPU:0'):\n",
    "    a_cpu = tf.random.normal([size, size])\n",
    "    b_cpu = tf.random.normal([size, size])\n",
    "    start = time.time()\n",
    "    c_cpu = tf.matmul(a_cpu, b_cpu)\n",
    "    _ = c_cpu.numpy()  \n",
    "    end = time.time()\n",
    "    print(f\"CPU time: {end - start:.4f} seconds\")\n",
    "\n",
    "\n",
    "if tf.config.list_physical_devices('GPU'):\n",
    "    with tf.device('/GPU:0'):\n",
    "        a_gpu = tf.random.normal([size, size])\n",
    "        b_gpu = tf.random.normal([size, size])\n",
    "        _ = tf.matmul(a_gpu, b_gpu) \n",
    "\n",
    "        start = time.time()\n",
    "        c_gpu = tf.matmul(a_gpu, b_gpu)\n",
    "        _ = c_gpu.numpy()  \n",
    "        end = time.time()\n",
    "        print(f\"GPU time: {end - start:.4f} seconds\")\n",
    "else:\n",
    "    print(\"No GPU found.\")\n"
   ]
  }
 ],
 "metadata": {
  "kernelspec": {
   "display_name": "Python (py310)",
   "language": "python",
   "name": "py310"
  },
  "language_info": {
   "codemirror_mode": {
    "name": "ipython",
    "version": 3
   },
   "file_extension": ".py",
   "mimetype": "text/x-python",
   "name": "python",
   "nbconvert_exporter": "python",
   "pygments_lexer": "ipython3",
   "version": "3.10.16"
  }
 },
 "nbformat": 4,
 "nbformat_minor": 5
}
