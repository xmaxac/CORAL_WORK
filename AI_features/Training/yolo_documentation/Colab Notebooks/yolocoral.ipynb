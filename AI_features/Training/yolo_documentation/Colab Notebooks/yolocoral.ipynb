{
 "cells": [
  {
   "cell_type": "code",
   "execution_count": 1,
   "metadata": {
    "colab": {
     "base_uri": "https://localhost:8080/"
    },
    "executionInfo": {
     "elapsed": 9021,
     "status": "ok",
     "timestamp": 1739856452932,
     "user": {
      "displayName": "Qianyu Huang",
      "userId": "18232162311717956953"
     },
     "user_tz": 300
    },
    "id": "3-sFpKqKFDHg",
    "outputId": "2b2304a4-a5be-4fa5-a092-b910aa30cc23"
   },
   "outputs": [
    {
     "name": "stdout",
     "output_type": "stream",
     "text": [
      "Drive already mounted at /content/drive; to attempt to forcibly remount, call drive.mount(\"/content/drive\", force_remount=True).\n"
     ]
    }
   ],
   "source": [
    "from google.colab import drive\n",
    "drive.mount('/content/drive')\n"
   ]
  },
  {
   "cell_type": "code",
   "execution_count": 2,
   "metadata": {
    "colab": {
     "base_uri": "https://localhost:8080/"
    },
    "executionInfo": {
     "elapsed": 116042,
     "status": "ok",
     "timestamp": 1739856589607,
     "user": {
      "displayName": "Qianyu Huang",
      "userId": "18232162311717956953"
     },
     "user_tz": 300
    },
    "id": "IQzgHPRjHB_g",
    "outputId": "fdd817f2-42a3-4b7c-e099-fde440a4934d"
   },
   "outputs": [
    {
     "name": "stdout",
     "output_type": "stream",
     "text": [
      "\u001b[?25l   \u001b[90m━━━━━━━━━━━━━━━━━━━━━━━━━━━━━━━━━━━━━━━━\u001b[0m \u001b[32m0.0/83.1 kB\u001b[0m \u001b[31m?\u001b[0m eta \u001b[36m-:--:--\u001b[0m\r\u001b[2K   \u001b[90m━━━━━━━━━━━━━━━━━━━━━━━━━━━━━━━━━━━━━━━━\u001b[0m \u001b[32m83.1/83.1 kB\u001b[0m \u001b[31m3.5 MB/s\u001b[0m eta \u001b[36m0:00:00\u001b[0m\n",
      "\u001b[2K   \u001b[90m━━━━━━━━━━━━━━━━━━━━━━━━━━━━━━━━━━━━━━━━\u001b[0m \u001b[32m66.8/66.8 kB\u001b[0m \u001b[31m5.1 MB/s\u001b[0m eta \u001b[36m0:00:00\u001b[0m\n",
      "\u001b[2K   \u001b[90m━━━━━━━━━━━━━━━━━━━━━━━━━━━━━━━━━━━━━━━━\u001b[0m \u001b[32m49.9/49.9 MB\u001b[0m \u001b[31m13.9 MB/s\u001b[0m eta \u001b[36m0:00:00\u001b[0m\n",
      "\u001b[2K   \u001b[90m━━━━━━━━━━━━━━━━━━━━━━━━━━━━━━━━━━━━━━━━\u001b[0m \u001b[32m914.9/914.9 kB\u001b[0m \u001b[31m36.9 MB/s\u001b[0m eta \u001b[36m0:00:00\u001b[0m\n",
      "\u001b[2K   \u001b[90m━━━━━━━━━━━━━━━━━━━━━━━━━━━━━━━━━━━━━━━━\u001b[0m \u001b[32m363.4/363.4 MB\u001b[0m \u001b[31m3.7 MB/s\u001b[0m eta \u001b[36m0:00:00\u001b[0m\n",
      "\u001b[2K   \u001b[90m━━━━━━━━━━━━━━━━━━━━━━━━━━━━━━━━━━━━━━━━\u001b[0m \u001b[32m13.8/13.8 MB\u001b[0m \u001b[31m93.9 MB/s\u001b[0m eta \u001b[36m0:00:00\u001b[0m\n",
      "\u001b[2K   \u001b[90m━━━━━━━━━━━━━━━━━━━━━━━━━━━━━━━━━━━━━━━━\u001b[0m \u001b[32m24.6/24.6 MB\u001b[0m \u001b[31m69.6 MB/s\u001b[0m eta \u001b[36m0:00:00\u001b[0m\n",
      "\u001b[2K   \u001b[90m━━━━━━━━━━━━━━━━━━━━━━━━━━━━━━━━━━━━━━━━\u001b[0m \u001b[32m883.7/883.7 kB\u001b[0m \u001b[31m41.5 MB/s\u001b[0m eta \u001b[36m0:00:00\u001b[0m\n",
      "\u001b[2K   \u001b[90m━━━━━━━━━━━━━━━━━━━━━━━━━━━━━━━━━━━━━━━━\u001b[0m \u001b[32m664.8/664.8 MB\u001b[0m \u001b[31m1.4 MB/s\u001b[0m eta \u001b[36m0:00:00\u001b[0m\n",
      "\u001b[2K   \u001b[90m━━━━━━━━━━━━━━━━━━━━━━━━━━━━━━━━━━━━━━━━\u001b[0m \u001b[32m211.5/211.5 MB\u001b[0m \u001b[31m6.4 MB/s\u001b[0m eta \u001b[36m0:00:00\u001b[0m\n",
      "\u001b[2K   \u001b[90m━━━━━━━━━━━━━━━━━━━━━━━━━━━━━━━━━━━━━━━━\u001b[0m \u001b[32m56.3/56.3 MB\u001b[0m \u001b[31m11.7 MB/s\u001b[0m eta \u001b[36m0:00:00\u001b[0m\n",
      "\u001b[2K   \u001b[90m━━━━━━━━━━━━━━━━━━━━━━━━━━━━━━━━━━━━━━━━\u001b[0m \u001b[32m127.9/127.9 MB\u001b[0m \u001b[31m7.2 MB/s\u001b[0m eta \u001b[36m0:00:00\u001b[0m\n",
      "\u001b[2K   \u001b[90m━━━━━━━━━━━━━━━━━━━━━━━━━━━━━━━━━━━━━━━━\u001b[0m \u001b[32m207.5/207.5 MB\u001b[0m \u001b[31m6.0 MB/s\u001b[0m eta \u001b[36m0:00:00\u001b[0m\n",
      "\u001b[2K   \u001b[90m━━━━━━━━━━━━━━━━━━━━━━━━━━━━━━━━━━━━━━━━\u001b[0m \u001b[32m21.1/21.1 MB\u001b[0m \u001b[31m77.1 MB/s\u001b[0m eta \u001b[36m0:00:00\u001b[0m\n",
      "\u001b[?25h"
     ]
    }
   ],
   "source": [
    "!pip install roboflow ultralytics -q"
   ]
  },
  {
   "cell_type": "code",
   "execution_count": null,
   "metadata": {
    "colab": {
     "base_uri": "https://localhost:8080/"
    },
    "executionInfo": {
     "elapsed": 1568,
     "status": "ok",
     "timestamp": 1739801625381,
     "user": {
      "displayName": "Qianyu Huang",
      "userId": "18232162311717956953"
     },
     "user_tz": 300
    },
    "id": "kBolK9v9G8ia",
    "outputId": "66bc1c95-c7cf-48c2-f757-507df9a9c285"
   },
   "outputs": [
    {
     "name": "stdout",
     "output_type": "stream",
     "text": [
      "loading Roboflow workspace...\n",
      "loading Roboflow project...\n"
     ]
    }
   ],
   "source": [
    "\n",
    "from roboflow import Roboflow\n",
    "rf = Roboflow(api_key=\"ClBanWrKh09C5WLspcun\")\n",
    "project = rf.workspace(\"coralbase\").project(\"coral-detector\")\n",
    "version = project.version(4)"
   ]
  },
  {
   "cell_type": "markdown",
   "metadata": {
    "id": "1wgJ7VyhFxPr"
   },
   "source": []
  },
  {
   "cell_type": "code",
   "execution_count": null,
   "metadata": {
    "id": "P0EmZZWMHXDq"
   },
   "outputs": [],
   "source": [
    "dataset = version.download(\"yolov8\", location=\"/content/drive/MyDrive/yolov8dataset/\")"
   ]
  },
  {
   "cell_type": "code",
   "execution_count": null,
   "metadata": {
    "id": "3nMbQl8ZPyps"
   },
   "outputs": [],
   "source": [
    "dataset = version.download(\"yolov8\", location=\"/content/drive/MyDrive/yolov8dataset/\")"
   ]
  },
  {
   "cell_type": "code",
   "execution_count": null,
   "metadata": {
    "colab": {
     "base_uri": "https://localhost:8080/"
    },
    "executionInfo": {
     "elapsed": 85317,
     "status": "ok",
     "timestamp": 1739801824303,
     "user": {
      "displayName": "Qianyu Huang",
      "userId": "18232162311717956953"
     },
     "user_tz": 300
    },
    "id": "pxZPnFjpQ7bj",
    "outputId": "a591eaf9-d653-4354-899e-4b3c2a80c5e3"
   },
   "outputs": [
    {
     "name": "stdout",
     "output_type": "stream",
     "text": [
      "Collecting ultralytics\n",
      "  Downloading ultralytics-8.3.75-py3-none-any.whl.metadata (35 kB)\n",
      "Requirement already satisfied: numpy<=2.1.1,>=1.23.0 in /usr/local/lib/python3.11/dist-packages (from ultralytics) (1.26.4)\n",
      "Requirement already satisfied: matplotlib>=3.3.0 in /usr/local/lib/python3.11/dist-packages (from ultralytics) (3.10.0)\n",
      "Requirement already satisfied: opencv-python>=4.6.0 in /usr/local/lib/python3.11/dist-packages (from ultralytics) (4.11.0.86)\n",
      "Requirement already satisfied: pillow>=7.1.2 in /usr/local/lib/python3.11/dist-packages (from ultralytics) (11.1.0)\n",
      "Requirement already satisfied: pyyaml>=5.3.1 in /usr/local/lib/python3.11/dist-packages (from ultralytics) (6.0.2)\n",
      "Requirement already satisfied: requests>=2.23.0 in /usr/local/lib/python3.11/dist-packages (from ultralytics) (2.32.3)\n",
      "Requirement already satisfied: scipy>=1.4.1 in /usr/local/lib/python3.11/dist-packages (from ultralytics) (1.13.1)\n",
      "Requirement already satisfied: torch>=1.8.0 in /usr/local/lib/python3.11/dist-packages (from ultralytics) (2.5.1+cu124)\n",
      "Requirement already satisfied: torchvision>=0.9.0 in /usr/local/lib/python3.11/dist-packages (from ultralytics) (0.20.1+cu124)\n",
      "Requirement already satisfied: tqdm>=4.64.0 in /usr/local/lib/python3.11/dist-packages (from ultralytics) (4.67.1)\n",
      "Requirement already satisfied: psutil in /usr/local/lib/python3.11/dist-packages (from ultralytics) (5.9.5)\n",
      "Requirement already satisfied: py-cpuinfo in /usr/local/lib/python3.11/dist-packages (from ultralytics) (9.0.0)\n",
      "Requirement already satisfied: pandas>=1.1.4 in /usr/local/lib/python3.11/dist-packages (from ultralytics) (2.2.2)\n",
      "Requirement already satisfied: seaborn>=0.11.0 in /usr/local/lib/python3.11/dist-packages (from ultralytics) (0.13.2)\n",
      "Collecting ultralytics-thop>=2.0.0 (from ultralytics)\n",
      "  Downloading ultralytics_thop-2.0.14-py3-none-any.whl.metadata (9.4 kB)\n",
      "Requirement already satisfied: contourpy>=1.0.1 in /usr/local/lib/python3.11/dist-packages (from matplotlib>=3.3.0->ultralytics) (1.3.1)\n",
      "Requirement already satisfied: cycler>=0.10 in /usr/local/lib/python3.11/dist-packages (from matplotlib>=3.3.0->ultralytics) (0.12.1)\n",
      "Requirement already satisfied: fonttools>=4.22.0 in /usr/local/lib/python3.11/dist-packages (from matplotlib>=3.3.0->ultralytics) (4.56.0)\n",
      "Requirement already satisfied: kiwisolver>=1.3.1 in /usr/local/lib/python3.11/dist-packages (from matplotlib>=3.3.0->ultralytics) (1.4.8)\n",
      "Requirement already satisfied: packaging>=20.0 in /usr/local/lib/python3.11/dist-packages (from matplotlib>=3.3.0->ultralytics) (24.2)\n",
      "Requirement already satisfied: pyparsing>=2.3.1 in /usr/local/lib/python3.11/dist-packages (from matplotlib>=3.3.0->ultralytics) (3.2.1)\n",
      "Requirement already satisfied: python-dateutil>=2.7 in /usr/local/lib/python3.11/dist-packages (from matplotlib>=3.3.0->ultralytics) (2.8.2)\n",
      "Requirement already satisfied: pytz>=2020.1 in /usr/local/lib/python3.11/dist-packages (from pandas>=1.1.4->ultralytics) (2025.1)\n",
      "Requirement already satisfied: tzdata>=2022.7 in /usr/local/lib/python3.11/dist-packages (from pandas>=1.1.4->ultralytics) (2025.1)\n",
      "Requirement already satisfied: charset-normalizer<4,>=2 in /usr/local/lib/python3.11/dist-packages (from requests>=2.23.0->ultralytics) (3.4.1)\n",
      "Requirement already satisfied: idna<4,>=2.5 in /usr/local/lib/python3.11/dist-packages (from requests>=2.23.0->ultralytics) (3.7)\n",
      "Requirement already satisfied: urllib3<3,>=1.21.1 in /usr/local/lib/python3.11/dist-packages (from requests>=2.23.0->ultralytics) (2.3.0)\n",
      "Requirement already satisfied: certifi>=2017.4.17 in /usr/local/lib/python3.11/dist-packages (from requests>=2.23.0->ultralytics) (2025.1.31)\n",
      "Requirement already satisfied: filelock in /usr/local/lib/python3.11/dist-packages (from torch>=1.8.0->ultralytics) (3.17.0)\n",
      "Requirement already satisfied: typing-extensions>=4.8.0 in /usr/local/lib/python3.11/dist-packages (from torch>=1.8.0->ultralytics) (4.12.2)\n",
      "Requirement already satisfied: networkx in /usr/local/lib/python3.11/dist-packages (from torch>=1.8.0->ultralytics) (3.4.2)\n",
      "Requirement already satisfied: jinja2 in /usr/local/lib/python3.11/dist-packages (from torch>=1.8.0->ultralytics) (3.1.5)\n",
      "Requirement already satisfied: fsspec in /usr/local/lib/python3.11/dist-packages (from torch>=1.8.0->ultralytics) (2024.10.0)\n",
      "Collecting nvidia-cuda-nvrtc-cu12==12.4.127 (from torch>=1.8.0->ultralytics)\n",
      "  Downloading nvidia_cuda_nvrtc_cu12-12.4.127-py3-none-manylinux2014_x86_64.whl.metadata (1.5 kB)\n",
      "Collecting nvidia-cuda-runtime-cu12==12.4.127 (from torch>=1.8.0->ultralytics)\n",
      "  Downloading nvidia_cuda_runtime_cu12-12.4.127-py3-none-manylinux2014_x86_64.whl.metadata (1.5 kB)\n",
      "Collecting nvidia-cuda-cupti-cu12==12.4.127 (from torch>=1.8.0->ultralytics)\n",
      "  Downloading nvidia_cuda_cupti_cu12-12.4.127-py3-none-manylinux2014_x86_64.whl.metadata (1.6 kB)\n",
      "Collecting nvidia-cudnn-cu12==9.1.0.70 (from torch>=1.8.0->ultralytics)\n",
      "  Downloading nvidia_cudnn_cu12-9.1.0.70-py3-none-manylinux2014_x86_64.whl.metadata (1.6 kB)\n",
      "Collecting nvidia-cublas-cu12==12.4.5.8 (from torch>=1.8.0->ultralytics)\n",
      "  Downloading nvidia_cublas_cu12-12.4.5.8-py3-none-manylinux2014_x86_64.whl.metadata (1.5 kB)\n",
      "Collecting nvidia-cufft-cu12==11.2.1.3 (from torch>=1.8.0->ultralytics)\n",
      "  Downloading nvidia_cufft_cu12-11.2.1.3-py3-none-manylinux2014_x86_64.whl.metadata (1.5 kB)\n",
      "Collecting nvidia-curand-cu12==10.3.5.147 (from torch>=1.8.0->ultralytics)\n",
      "  Downloading nvidia_curand_cu12-10.3.5.147-py3-none-manylinux2014_x86_64.whl.metadata (1.5 kB)\n",
      "Collecting nvidia-cusolver-cu12==11.6.1.9 (from torch>=1.8.0->ultralytics)\n",
      "  Downloading nvidia_cusolver_cu12-11.6.1.9-py3-none-manylinux2014_x86_64.whl.metadata (1.6 kB)\n",
      "Collecting nvidia-cusparse-cu12==12.3.1.170 (from torch>=1.8.0->ultralytics)\n",
      "  Downloading nvidia_cusparse_cu12-12.3.1.170-py3-none-manylinux2014_x86_64.whl.metadata (1.6 kB)\n",
      "Requirement already satisfied: nvidia-nccl-cu12==2.21.5 in /usr/local/lib/python3.11/dist-packages (from torch>=1.8.0->ultralytics) (2.21.5)\n",
      "Requirement already satisfied: nvidia-nvtx-cu12==12.4.127 in /usr/local/lib/python3.11/dist-packages (from torch>=1.8.0->ultralytics) (12.4.127)\n",
      "Collecting nvidia-nvjitlink-cu12==12.4.127 (from torch>=1.8.0->ultralytics)\n",
      "  Downloading nvidia_nvjitlink_cu12-12.4.127-py3-none-manylinux2014_x86_64.whl.metadata (1.5 kB)\n",
      "Requirement already satisfied: triton==3.1.0 in /usr/local/lib/python3.11/dist-packages (from torch>=1.8.0->ultralytics) (3.1.0)\n",
      "Requirement already satisfied: sympy==1.13.1 in /usr/local/lib/python3.11/dist-packages (from torch>=1.8.0->ultralytics) (1.13.1)\n",
      "Requirement already satisfied: mpmath<1.4,>=1.1.0 in /usr/local/lib/python3.11/dist-packages (from sympy==1.13.1->torch>=1.8.0->ultralytics) (1.3.0)\n",
      "Requirement already satisfied: six>=1.5 in /usr/local/lib/python3.11/dist-packages (from python-dateutil>=2.7->matplotlib>=3.3.0->ultralytics) (1.17.0)\n",
      "Requirement already satisfied: MarkupSafe>=2.0 in /usr/local/lib/python3.11/dist-packages (from jinja2->torch>=1.8.0->ultralytics) (3.0.2)\n",
      "Downloading ultralytics-8.3.75-py3-none-any.whl (914 kB)\n",
      "\u001b[2K   \u001b[90m━━━━━━━━━━━━━━━━━━━━━━━━━━━━━━━━━━━━━━━━\u001b[0m \u001b[32m914.9/914.9 kB\u001b[0m \u001b[31m28.8 MB/s\u001b[0m eta \u001b[36m0:00:00\u001b[0m\n",
      "\u001b[?25hDownloading nvidia_cublas_cu12-12.4.5.8-py3-none-manylinux2014_x86_64.whl (363.4 MB)\n",
      "\u001b[2K   \u001b[90m━━━━━━━━━━━━━━━━━━━━━━━━━━━━━━━━━━━━━━━━\u001b[0m \u001b[32m363.4/363.4 MB\u001b[0m \u001b[31m4.3 MB/s\u001b[0m eta \u001b[36m0:00:00\u001b[0m\n",
      "\u001b[?25hDownloading nvidia_cuda_cupti_cu12-12.4.127-py3-none-manylinux2014_x86_64.whl (13.8 MB)\n",
      "\u001b[2K   \u001b[90m━━━━━━━━━━━━━━━━━━━━━━━━━━━━━━━━━━━━━━━━\u001b[0m \u001b[32m13.8/13.8 MB\u001b[0m \u001b[31m67.1 MB/s\u001b[0m eta \u001b[36m0:00:00\u001b[0m\n",
      "\u001b[?25hDownloading nvidia_cuda_nvrtc_cu12-12.4.127-py3-none-manylinux2014_x86_64.whl (24.6 MB)\n",
      "\u001b[2K   \u001b[90m━━━━━━━━━━━━━━━━━━━━━━━━━━━━━━━━━━━━━━━━\u001b[0m \u001b[32m24.6/24.6 MB\u001b[0m \u001b[31m35.4 MB/s\u001b[0m eta \u001b[36m0:00:00\u001b[0m\n",
      "\u001b[?25hDownloading nvidia_cuda_runtime_cu12-12.4.127-py3-none-manylinux2014_x86_64.whl (883 kB)\n",
      "\u001b[2K   \u001b[90m━━━━━━━━━━━━━━━━━━━━━━━━━━━━━━━━━━━━━━━━\u001b[0m \u001b[32m883.7/883.7 kB\u001b[0m \u001b[31m51.1 MB/s\u001b[0m eta \u001b[36m0:00:00\u001b[0m\n",
      "\u001b[?25hDownloading nvidia_cudnn_cu12-9.1.0.70-py3-none-manylinux2014_x86_64.whl (664.8 MB)\n",
      "\u001b[2K   \u001b[90m━━━━━━━━━━━━━━━━━━━━━━━━━━━━━━━━━━━━━━━━\u001b[0m \u001b[32m664.8/664.8 MB\u001b[0m \u001b[31m2.5 MB/s\u001b[0m eta \u001b[36m0:00:00\u001b[0m\n",
      "\u001b[?25hDownloading nvidia_cufft_cu12-11.2.1.3-py3-none-manylinux2014_x86_64.whl (211.5 MB)\n",
      "\u001b[2K   \u001b[90m━━━━━━━━━━━━━━━━━━━━━━━━━━━━━━━━━━━━━━━━\u001b[0m \u001b[32m211.5/211.5 MB\u001b[0m \u001b[31m5.8 MB/s\u001b[0m eta \u001b[36m0:00:00\u001b[0m\n",
      "\u001b[?25hDownloading nvidia_curand_cu12-10.3.5.147-py3-none-manylinux2014_x86_64.whl (56.3 MB)\n",
      "\u001b[2K   \u001b[90m━━━━━━━━━━━━━━━━━━━━━━━━━━━━━━━━━━━━━━━━\u001b[0m \u001b[32m56.3/56.3 MB\u001b[0m \u001b[31m12.0 MB/s\u001b[0m eta \u001b[36m0:00:00\u001b[0m\n",
      "\u001b[?25hDownloading nvidia_cusolver_cu12-11.6.1.9-py3-none-manylinux2014_x86_64.whl (127.9 MB)\n",
      "\u001b[2K   \u001b[90m━━━━━━━━━━━━━━━━━━━━━━━━━━━━━━━━━━━━━━━━\u001b[0m \u001b[32m127.9/127.9 MB\u001b[0m \u001b[31m7.4 MB/s\u001b[0m eta \u001b[36m0:00:00\u001b[0m\n",
      "\u001b[?25hDownloading nvidia_cusparse_cu12-12.3.1.170-py3-none-manylinux2014_x86_64.whl (207.5 MB)\n",
      "\u001b[2K   \u001b[90m━━━━━━━━━━━━━━━━━━━━━━━━━━━━━━━━━━━━━━━━\u001b[0m \u001b[32m207.5/207.5 MB\u001b[0m \u001b[31m5.5 MB/s\u001b[0m eta \u001b[36m0:00:00\u001b[0m\n",
      "\u001b[?25hDownloading nvidia_nvjitlink_cu12-12.4.127-py3-none-manylinux2014_x86_64.whl (21.1 MB)\n",
      "\u001b[2K   \u001b[90m━━━━━━━━━━━━━━━━━━━━━━━━━━━━━━━━━━━━━━━━\u001b[0m \u001b[32m21.1/21.1 MB\u001b[0m \u001b[31m42.7 MB/s\u001b[0m eta \u001b[36m0:00:00\u001b[0m\n",
      "\u001b[?25hDownloading ultralytics_thop-2.0.14-py3-none-any.whl (26 kB)\n",
      "Installing collected packages: nvidia-nvjitlink-cu12, nvidia-curand-cu12, nvidia-cufft-cu12, nvidia-cuda-runtime-cu12, nvidia-cuda-nvrtc-cu12, nvidia-cuda-cupti-cu12, nvidia-cublas-cu12, nvidia-cusparse-cu12, nvidia-cudnn-cu12, nvidia-cusolver-cu12, ultralytics-thop, ultralytics\n",
      "  Attempting uninstall: nvidia-nvjitlink-cu12\n",
      "    Found existing installation: nvidia-nvjitlink-cu12 12.5.82\n",
      "    Uninstalling nvidia-nvjitlink-cu12-12.5.82:\n",
      "      Successfully uninstalled nvidia-nvjitlink-cu12-12.5.82\n",
      "  Attempting uninstall: nvidia-curand-cu12\n",
      "    Found existing installation: nvidia-curand-cu12 10.3.6.82\n",
      "    Uninstalling nvidia-curand-cu12-10.3.6.82:\n",
      "      Successfully uninstalled nvidia-curand-cu12-10.3.6.82\n",
      "  Attempting uninstall: nvidia-cufft-cu12\n",
      "    Found existing installation: nvidia-cufft-cu12 11.2.3.61\n",
      "    Uninstalling nvidia-cufft-cu12-11.2.3.61:\n",
      "      Successfully uninstalled nvidia-cufft-cu12-11.2.3.61\n",
      "  Attempting uninstall: nvidia-cuda-runtime-cu12\n",
      "    Found existing installation: nvidia-cuda-runtime-cu12 12.5.82\n",
      "    Uninstalling nvidia-cuda-runtime-cu12-12.5.82:\n",
      "      Successfully uninstalled nvidia-cuda-runtime-cu12-12.5.82\n",
      "  Attempting uninstall: nvidia-cuda-nvrtc-cu12\n",
      "    Found existing installation: nvidia-cuda-nvrtc-cu12 12.5.82\n",
      "    Uninstalling nvidia-cuda-nvrtc-cu12-12.5.82:\n",
      "      Successfully uninstalled nvidia-cuda-nvrtc-cu12-12.5.82\n",
      "  Attempting uninstall: nvidia-cuda-cupti-cu12\n",
      "    Found existing installation: nvidia-cuda-cupti-cu12 12.5.82\n",
      "    Uninstalling nvidia-cuda-cupti-cu12-12.5.82:\n",
      "      Successfully uninstalled nvidia-cuda-cupti-cu12-12.5.82\n",
      "  Attempting uninstall: nvidia-cublas-cu12\n",
      "    Found existing installation: nvidia-cublas-cu12 12.5.3.2\n",
      "    Uninstalling nvidia-cublas-cu12-12.5.3.2:\n",
      "      Successfully uninstalled nvidia-cublas-cu12-12.5.3.2\n",
      "  Attempting uninstall: nvidia-cusparse-cu12\n",
      "    Found existing installation: nvidia-cusparse-cu12 12.5.1.3\n",
      "    Uninstalling nvidia-cusparse-cu12-12.5.1.3:\n",
      "      Successfully uninstalled nvidia-cusparse-cu12-12.5.1.3\n",
      "  Attempting uninstall: nvidia-cudnn-cu12\n",
      "    Found existing installation: nvidia-cudnn-cu12 9.3.0.75\n",
      "    Uninstalling nvidia-cudnn-cu12-9.3.0.75:\n",
      "      Successfully uninstalled nvidia-cudnn-cu12-9.3.0.75\n",
      "  Attempting uninstall: nvidia-cusolver-cu12\n",
      "    Found existing installation: nvidia-cusolver-cu12 11.6.3.83\n",
      "    Uninstalling nvidia-cusolver-cu12-11.6.3.83:\n",
      "      Successfully uninstalled nvidia-cusolver-cu12-11.6.3.83\n",
      "Successfully installed nvidia-cublas-cu12-12.4.5.8 nvidia-cuda-cupti-cu12-12.4.127 nvidia-cuda-nvrtc-cu12-12.4.127 nvidia-cuda-runtime-cu12-12.4.127 nvidia-cudnn-cu12-9.1.0.70 nvidia-cufft-cu12-11.2.1.3 nvidia-curand-cu12-10.3.5.147 nvidia-cusolver-cu12-11.6.1.9 nvidia-cusparse-cu12-12.3.1.170 nvidia-nvjitlink-cu12-12.4.127 ultralytics-8.3.75 ultralytics-thop-2.0.14\n"
     ]
    }
   ],
   "source": [
    "!pip install ultralytics"
   ]
  },
  {
   "cell_type": "code",
   "execution_count": null,
   "metadata": {
    "colab": {
     "base_uri": "https://localhost:8080/"
    },
    "executionInfo": {
     "elapsed": 1110,
     "status": "ok",
     "timestamp": 1739801944107,
     "user": {
      "displayName": "Qianyu Huang",
      "userId": "18232162311717956953"
     },
     "user_tz": 300
    },
    "id": "im1HobxDRWPV",
    "outputId": "5ac52035-e3f8-4f5a-8587-e7223ba41448"
   },
   "outputs": [
    {
     "name": "stdout",
     "output_type": "stream",
     "text": [
      "Downloading https://github.com/ultralytics/assets/releases/download/v8.3.0/yolov8s.pt to '/content/drive/MyDrive/yolov8s.pt'...\n"
     ]
    },
    {
     "name": "stderr",
     "output_type": "stream",
     "text": [
      "100%|██████████| 21.5M/21.5M [00:00<00:00, 159MB/s]\n"
     ]
    }
   ],
   "source": [
    "from ultralytics import YOLO\n",
    "\n",
    "model = YOLO(\"/content/drive/MyDrive/yolov8s.pt\")"
   ]
  },
  {
   "cell_type": "code",
   "execution_count": null,
   "metadata": {
    "colab": {
     "base_uri": "https://localhost:8080/"
    },
    "executionInfo": {
     "elapsed": 5397437,
     "status": "ok",
     "timestamp": 1739807461529,
     "user": {
      "displayName": "Qianyu Huang",
      "userId": "18232162311717956953"
     },
     "user_tz": 300
    },
    "id": "j_Lms7uURxFb",
    "outputId": "f3f1ac5c-a394-49d0-836f-4249d056e3bc"
   },
   "outputs": [
    {
     "name": "stdout",
     "output_type": "stream",
     "text": [
      "Ultralytics 8.3.75 🚀 Python-3.11.11 torch-2.5.1+cu124 CUDA:0 (Tesla T4, 15095MiB)\n",
      "\u001b[34m\u001b[1mengine/trainer: \u001b[0mtask=detect, mode=train, model=/content/drive/MyDrive/yolov8s.pt, data=//content/drive/MyDrive/yolov8dataset/data.yaml, epochs=100, time=None, patience=100, batch=16, imgsz=640, save=True, save_period=-1, cache=False, device=None, workers=8, project=/content/drive/MyDrive/yolov8-training, name=coral-detector, exist_ok=False, pretrained=True, optimizer=auto, verbose=True, seed=0, deterministic=True, single_cls=False, rect=False, cos_lr=False, close_mosaic=10, resume=False, amp=True, fraction=1.0, profile=False, freeze=None, multi_scale=False, overlap_mask=True, mask_ratio=4, dropout=0.0, val=True, split=val, save_json=False, save_hybrid=False, conf=None, iou=0.7, max_det=300, half=False, dnn=False, plots=True, source=None, vid_stride=1, stream_buffer=False, visualize=False, augment=False, agnostic_nms=False, classes=None, retina_masks=False, embed=None, show=False, save_frames=False, save_txt=False, save_conf=False, save_crop=False, show_labels=True, show_conf=True, show_boxes=True, line_width=None, format=torchscript, keras=False, optimize=False, int8=False, dynamic=False, simplify=True, opset=None, workspace=None, nms=False, lr0=0.01, lrf=0.01, momentum=0.937, weight_decay=0.0005, warmup_epochs=3.0, warmup_momentum=0.8, warmup_bias_lr=0.1, box=7.5, cls=0.5, dfl=1.5, pose=12.0, kobj=1.0, nbs=64, hsv_h=0.015, hsv_s=0.7, hsv_v=0.4, degrees=0.0, translate=0.1, scale=0.5, shear=0.0, perspective=0.0, flipud=0.0, fliplr=0.5, bgr=0.0, mosaic=1.0, mixup=0.0, copy_paste=0.0, copy_paste_mode=flip, auto_augment=randaugment, erasing=0.4, crop_fraction=1.0, cfg=None, tracker=botsort.yaml, save_dir=/content/drive/MyDrive/yolov8-training/coral-detector\n",
      "Downloading https://ultralytics.com/assets/Arial.ttf to '/root/.config/Ultralytics/Arial.ttf'...\n"
     ]
    },
    {
     "name": "stderr",
     "output_type": "stream",
     "text": [
      "100%|██████████| 755k/755k [00:00<00:00, 25.1MB/s]\n"
     ]
    },
    {
     "name": "stdout",
     "output_type": "stream",
     "text": [
      "Overriding model.yaml nc=80 with nc=1\n",
      "\n",
      "                   from  n    params  module                                       arguments                     \n",
      "  0                  -1  1       928  ultralytics.nn.modules.conv.Conv             [3, 32, 3, 2]                 \n",
      "  1                  -1  1     18560  ultralytics.nn.modules.conv.Conv             [32, 64, 3, 2]                \n",
      "  2                  -1  1     29056  ultralytics.nn.modules.block.C2f             [64, 64, 1, True]             \n",
      "  3                  -1  1     73984  ultralytics.nn.modules.conv.Conv             [64, 128, 3, 2]               \n",
      "  4                  -1  2    197632  ultralytics.nn.modules.block.C2f             [128, 128, 2, True]           \n",
      "  5                  -1  1    295424  ultralytics.nn.modules.conv.Conv             [128, 256, 3, 2]              \n",
      "  6                  -1  2    788480  ultralytics.nn.modules.block.C2f             [256, 256, 2, True]           \n",
      "  7                  -1  1   1180672  ultralytics.nn.modules.conv.Conv             [256, 512, 3, 2]              \n",
      "  8                  -1  1   1838080  ultralytics.nn.modules.block.C2f             [512, 512, 1, True]           \n",
      "  9                  -1  1    656896  ultralytics.nn.modules.block.SPPF            [512, 512, 5]                 \n",
      " 10                  -1  1         0  torch.nn.modules.upsampling.Upsample         [None, 2, 'nearest']          \n",
      " 11             [-1, 6]  1         0  ultralytics.nn.modules.conv.Concat           [1]                           \n",
      " 12                  -1  1    591360  ultralytics.nn.modules.block.C2f             [768, 256, 1]                 \n",
      " 13                  -1  1         0  torch.nn.modules.upsampling.Upsample         [None, 2, 'nearest']          \n",
      " 14             [-1, 4]  1         0  ultralytics.nn.modules.conv.Concat           [1]                           \n",
      " 15                  -1  1    148224  ultralytics.nn.modules.block.C2f             [384, 128, 1]                 \n",
      " 16                  -1  1    147712  ultralytics.nn.modules.conv.Conv             [128, 128, 3, 2]              \n",
      " 17            [-1, 12]  1         0  ultralytics.nn.modules.conv.Concat           [1]                           \n",
      " 18                  -1  1    493056  ultralytics.nn.modules.block.C2f             [384, 256, 1]                 \n",
      " 19                  -1  1    590336  ultralytics.nn.modules.conv.Conv             [256, 256, 3, 2]              \n",
      " 20             [-1, 9]  1         0  ultralytics.nn.modules.conv.Concat           [1]                           \n",
      " 21                  -1  1   1969152  ultralytics.nn.modules.block.C2f             [768, 512, 1]                 \n",
      " 22        [15, 18, 21]  1   2116435  ultralytics.nn.modules.head.Detect           [1, [128, 256, 512]]          \n",
      "Model summary: 225 layers, 11,135,987 parameters, 11,135,971 gradients, 28.6 GFLOPs\n",
      "\n",
      "Transferred 349/355 items from pretrained weights\n",
      "\u001b[34m\u001b[1mTensorBoard: \u001b[0mStart with 'tensorboard --logdir /content/drive/MyDrive/yolov8-training/coral-detector', view at http://localhost:6006/\n",
      "Freezing layer 'model.22.dfl.conv.weight'\n",
      "\u001b[34m\u001b[1mAMP: \u001b[0mrunning Automatic Mixed Precision (AMP) checks...\n",
      "Downloading https://github.com/ultralytics/assets/releases/download/v8.3.0/yolo11n.pt to 'yolo11n.pt'...\n"
     ]
    },
    {
     "name": "stderr",
     "output_type": "stream",
     "text": [
      "100%|██████████| 5.35M/5.35M [00:00<00:00, 107MB/s]\n"
     ]
    },
    {
     "name": "stdout",
     "output_type": "stream",
     "text": [
      "\u001b[34m\u001b[1mAMP: \u001b[0mchecks passed ✅\n"
     ]
    },
    {
     "name": "stderr",
     "output_type": "stream",
     "text": [
      "\u001b[34m\u001b[1mtrain: \u001b[0mScanning /content/drive/MyDrive/yolov8dataset/train/labels... 1806 images, 0 backgrounds, 0 corrupt: 100%|██████████| 1806/1806 [09:33<00:00,  3.15it/s]\n"
     ]
    },
    {
     "name": "stdout",
     "output_type": "stream",
     "text": [
      "\u001b[34m\u001b[1mtrain: \u001b[0mNew cache created: /content/drive/MyDrive/yolov8dataset/train/labels.cache\n",
      "\u001b[34m\u001b[1malbumentations: \u001b[0mBlur(p=0.01, blur_limit=(3, 7)), MedianBlur(p=0.01, blur_limit=(3, 7)), ToGray(p=0.01, num_output_channels=3, method='weighted_average'), CLAHE(p=0.01, clip_limit=(1.0, 4.0), tile_grid_size=(8, 8))\n"
     ]
    },
    {
     "name": "stderr",
     "output_type": "stream",
     "text": [
      "\u001b[34m\u001b[1mval: \u001b[0mScanning /content/drive/MyDrive/yolov8dataset/valid/labels... 49 images, 0 backgrounds, 0 corrupt: 100%|██████████| 49/49 [00:27<00:00,  1.77it/s]"
     ]
    },
    {
     "name": "stdout",
     "output_type": "stream",
     "text": [
      "\u001b[34m\u001b[1mval: \u001b[0mNew cache created: /content/drive/MyDrive/yolov8dataset/valid/labels.cache\n"
     ]
    },
    {
     "name": "stderr",
     "output_type": "stream",
     "text": [
      "\n"
     ]
    },
    {
     "name": "stdout",
     "output_type": "stream",
     "text": [
      "Plotting labels to /content/drive/MyDrive/yolov8-training/coral-detector/labels.jpg... \n",
      "\u001b[34m\u001b[1moptimizer:\u001b[0m 'optimizer=auto' found, ignoring 'lr0=0.01' and 'momentum=0.937' and determining best 'optimizer', 'lr0' and 'momentum' automatically... \n",
      "\u001b[34m\u001b[1moptimizer:\u001b[0m AdamW(lr=0.002, momentum=0.9) with parameter groups 57 weight(decay=0.0), 64 weight(decay=0.0005), 63 bias(decay=0.0)\n",
      "\u001b[34m\u001b[1mTensorBoard: \u001b[0mmodel graph visualization added ✅\n",
      "Image sizes 640 train, 640 val\n",
      "Using 2 dataloader workers\n",
      "Logging results to \u001b[1m/content/drive/MyDrive/yolov8-training/coral-detector\u001b[0m\n",
      "Starting training for 100 epochs...\n",
      "\n",
      "      Epoch    GPU_mem   box_loss   cls_loss   dfl_loss  Instances       Size\n"
     ]
    },
    {
     "name": "stderr",
     "output_type": "stream",
     "text": [
      "      1/100      4.08G     0.9996      1.517      1.472         55        640: 100%|██████████| 113/113 [00:46<00:00,  2.41it/s]\n",
      "                 Class     Images  Instances      Box(P          R      mAP50  mAP50-95): 100%|██████████| 2/2 [00:01<00:00,  1.01it/s]"
     ]
    },
    {
     "name": "stdout",
     "output_type": "stream",
     "text": [
      "                   all         49         86      0.269       0.36      0.221     0.0775\n"
     ]
    },
    {
     "name": "stderr",
     "output_type": "stream",
     "text": [
      "\n"
     ]
    },
    {
     "name": "stdout",
     "output_type": "stream",
     "text": [
      "\n",
      "      Epoch    GPU_mem   box_loss   cls_loss   dfl_loss  Instances       Size\n"
     ]
    },
    {
     "name": "stderr",
     "output_type": "stream",
     "text": [
      "      2/100      4.03G       1.16      1.359      1.584         83        640: 100%|██████████| 113/113 [00:46<00:00,  2.42it/s]\n",
      "                 Class     Images  Instances      Box(P          R      mAP50  mAP50-95): 100%|██████████| 2/2 [00:00<00:00,  2.50it/s]"
     ]
    },
    {
     "name": "stdout",
     "output_type": "stream",
     "text": [
      "                   all         49         86      0.098      0.163     0.0682      0.026\n"
     ]
    },
    {
     "name": "stderr",
     "output_type": "stream",
     "text": [
      "\n"
     ]
    },
    {
     "name": "stdout",
     "output_type": "stream",
     "text": [
      "\n",
      "      Epoch    GPU_mem   box_loss   cls_loss   dfl_loss  Instances       Size\n"
     ]
    },
    {
     "name": "stderr",
     "output_type": "stream",
     "text": [
      "      3/100      4.02G      1.206      1.381      1.625         54        640: 100%|██████████| 113/113 [00:46<00:00,  2.44it/s]\n",
      "                 Class     Images  Instances      Box(P          R      mAP50  mAP50-95): 100%|██████████| 2/2 [00:00<00:00,  2.09it/s]"
     ]
    },
    {
     "name": "stdout",
     "output_type": "stream",
     "text": [
      "                   all         49         86      0.703      0.384      0.482       0.24\n"
     ]
    },
    {
     "name": "stderr",
     "output_type": "stream",
     "text": [
      "\n"
     ]
    },
    {
     "name": "stdout",
     "output_type": "stream",
     "text": [
      "\n",
      "      Epoch    GPU_mem   box_loss   cls_loss   dfl_loss  Instances       Size\n"
     ]
    },
    {
     "name": "stderr",
     "output_type": "stream",
     "text": [
      "      4/100      4.02G       1.19      1.398       1.62         63        640: 100%|██████████| 113/113 [00:44<00:00,  2.56it/s]\n",
      "                 Class     Images  Instances      Box(P          R      mAP50  mAP50-95): 100%|██████████| 2/2 [00:00<00:00,  2.46it/s]"
     ]
    },
    {
     "name": "stdout",
     "output_type": "stream",
     "text": [
      "                   all         49         86      0.769      0.442      0.521       0.32\n"
     ]
    },
    {
     "name": "stderr",
     "output_type": "stream",
     "text": [
      "\n"
     ]
    },
    {
     "name": "stdout",
     "output_type": "stream",
     "text": [
      "\n",
      "      Epoch    GPU_mem   box_loss   cls_loss   dfl_loss  Instances       Size\n"
     ]
    },
    {
     "name": "stderr",
     "output_type": "stream",
     "text": [
      "      5/100      4.05G      1.144      1.297      1.579         62        640: 100%|██████████| 113/113 [00:45<00:00,  2.47it/s]\n",
      "                 Class     Images  Instances      Box(P          R      mAP50  mAP50-95): 100%|██████████| 2/2 [00:00<00:00,  2.92it/s]"
     ]
    },
    {
     "name": "stdout",
     "output_type": "stream",
     "text": [
      "                   all         49         86      0.448      0.501      0.466      0.262\n"
     ]
    },
    {
     "name": "stderr",
     "output_type": "stream",
     "text": [
      "\n"
     ]
    },
    {
     "name": "stdout",
     "output_type": "stream",
     "text": [
      "\n",
      "      Epoch    GPU_mem   box_loss   cls_loss   dfl_loss  Instances       Size\n"
     ]
    },
    {
     "name": "stderr",
     "output_type": "stream",
     "text": [
      "      6/100      4.06G      1.077      1.207       1.52         48        640: 100%|██████████| 113/113 [00:44<00:00,  2.56it/s]\n",
      "                 Class     Images  Instances      Box(P          R      mAP50  mAP50-95): 100%|██████████| 2/2 [00:00<00:00,  2.74it/s]"
     ]
    },
    {
     "name": "stdout",
     "output_type": "stream",
     "text": [
      "                   all         49         86      0.811      0.453      0.556      0.345\n"
     ]
    },
    {
     "name": "stderr",
     "output_type": "stream",
     "text": [
      "\n"
     ]
    },
    {
     "name": "stdout",
     "output_type": "stream",
     "text": [
      "\n",
      "      Epoch    GPU_mem   box_loss   cls_loss   dfl_loss  Instances       Size\n"
     ]
    },
    {
     "name": "stderr",
     "output_type": "stream",
     "text": [
      "      7/100      4.05G      1.038      1.192      1.495         62        640: 100%|██████████| 113/113 [00:44<00:00,  2.54it/s]\n",
      "                 Class     Images  Instances      Box(P          R      mAP50  mAP50-95): 100%|██████████| 2/2 [00:00<00:00,  2.27it/s]"
     ]
    },
    {
     "name": "stdout",
     "output_type": "stream",
     "text": [
      "                   all         49         86      0.711        0.5      0.572      0.378\n"
     ]
    },
    {
     "name": "stderr",
     "output_type": "stream",
     "text": [
      "\n"
     ]
    },
    {
     "name": "stdout",
     "output_type": "stream",
     "text": [
      "\n",
      "      Epoch    GPU_mem   box_loss   cls_loss   dfl_loss  Instances       Size\n"
     ]
    },
    {
     "name": "stderr",
     "output_type": "stream",
     "text": [
      "      8/100         4G      1.006      1.149      1.476         60        640: 100%|██████████| 113/113 [00:44<00:00,  2.52it/s]\n",
      "                 Class     Images  Instances      Box(P          R      mAP50  mAP50-95): 100%|██████████| 2/2 [00:00<00:00,  2.73it/s]"
     ]
    },
    {
     "name": "stdout",
     "output_type": "stream",
     "text": [
      "                   all         49         86      0.768        0.5      0.616      0.406\n"
     ]
    },
    {
     "name": "stderr",
     "output_type": "stream",
     "text": [
      "\n"
     ]
    },
    {
     "name": "stdout",
     "output_type": "stream",
     "text": [
      "\n",
      "      Epoch    GPU_mem   box_loss   cls_loss   dfl_loss  Instances       Size\n"
     ]
    },
    {
     "name": "stderr",
     "output_type": "stream",
     "text": [
      "      9/100      4.06G     0.9657      1.078      1.445         54        640: 100%|██████████| 113/113 [00:44<00:00,  2.52it/s]\n",
      "                 Class     Images  Instances      Box(P          R      mAP50  mAP50-95): 100%|██████████| 2/2 [00:00<00:00,  2.51it/s]"
     ]
    },
    {
     "name": "stdout",
     "output_type": "stream",
     "text": [
      "                   all         49         86      0.802      0.535       0.66      0.439\n"
     ]
    },
    {
     "name": "stderr",
     "output_type": "stream",
     "text": [
      "\n"
     ]
    },
    {
     "name": "stdout",
     "output_type": "stream",
     "text": [
      "\n",
      "      Epoch    GPU_mem   box_loss   cls_loss   dfl_loss  Instances       Size\n"
     ]
    },
    {
     "name": "stderr",
     "output_type": "stream",
     "text": [
      "     10/100      4.04G     0.9199      1.049      1.413         62        640: 100%|██████████| 113/113 [00:44<00:00,  2.54it/s]\n",
      "                 Class     Images  Instances      Box(P          R      mAP50  mAP50-95): 100%|██████████| 2/2 [00:01<00:00,  1.72it/s]"
     ]
    },
    {
     "name": "stdout",
     "output_type": "stream",
     "text": [
      "                   all         49         86      0.726      0.535      0.599      0.399\n"
     ]
    },
    {
     "name": "stderr",
     "output_type": "stream",
     "text": [
      "\n"
     ]
    },
    {
     "name": "stdout",
     "output_type": "stream",
     "text": [
      "\n",
      "      Epoch    GPU_mem   box_loss   cls_loss   dfl_loss  Instances       Size\n"
     ]
    },
    {
     "name": "stderr",
     "output_type": "stream",
     "text": [
      "     11/100      3.88G     0.9186      1.047       1.41         57        640: 100%|██████████| 113/113 [00:44<00:00,  2.55it/s]\n",
      "                 Class     Images  Instances      Box(P          R      mAP50  mAP50-95): 100%|██████████| 2/2 [00:00<00:00,  2.51it/s]"
     ]
    },
    {
     "name": "stdout",
     "output_type": "stream",
     "text": [
      "                   all         49         86      0.808      0.605      0.676      0.483\n"
     ]
    },
    {
     "name": "stderr",
     "output_type": "stream",
     "text": [
      "\n"
     ]
    },
    {
     "name": "stdout",
     "output_type": "stream",
     "text": [
      "\n",
      "      Epoch    GPU_mem   box_loss   cls_loss   dfl_loss  Instances       Size\n"
     ]
    },
    {
     "name": "stderr",
     "output_type": "stream",
     "text": [
      "     12/100      3.97G     0.9204      1.046      1.411         38        640: 100%|██████████| 113/113 [00:44<00:00,  2.56it/s]\n",
      "                 Class     Images  Instances      Box(P          R      mAP50  mAP50-95): 100%|██████████| 2/2 [00:00<00:00,  2.54it/s]"
     ]
    },
    {
     "name": "stdout",
     "output_type": "stream",
     "text": [
      "                   all         49         86      0.854       0.61      0.715      0.498\n"
     ]
    },
    {
     "name": "stderr",
     "output_type": "stream",
     "text": [
      "\n"
     ]
    },
    {
     "name": "stdout",
     "output_type": "stream",
     "text": [
      "\n",
      "      Epoch    GPU_mem   box_loss   cls_loss   dfl_loss  Instances       Size\n"
     ]
    },
    {
     "name": "stderr",
     "output_type": "stream",
     "text": [
      "     13/100      4.06G      0.882     0.9852      1.381         57        640: 100%|██████████| 113/113 [00:44<00:00,  2.54it/s]\n",
      "                 Class     Images  Instances      Box(P          R      mAP50  mAP50-95): 100%|██████████| 2/2 [00:01<00:00,  1.75it/s]"
     ]
    },
    {
     "name": "stdout",
     "output_type": "stream",
     "text": [
      "                   all         49         86      0.664      0.651      0.657      0.484\n"
     ]
    },
    {
     "name": "stderr",
     "output_type": "stream",
     "text": [
      "\n"
     ]
    },
    {
     "name": "stdout",
     "output_type": "stream",
     "text": [
      "\n",
      "      Epoch    GPU_mem   box_loss   cls_loss   dfl_loss  Instances       Size\n"
     ]
    },
    {
     "name": "stderr",
     "output_type": "stream",
     "text": [
      "     14/100      4.07G     0.8709     0.9769      1.371         46        640: 100%|██████████| 113/113 [00:44<00:00,  2.55it/s]\n",
      "                 Class     Images  Instances      Box(P          R      mAP50  mAP50-95): 100%|██████████| 2/2 [00:00<00:00,  2.27it/s]"
     ]
    },
    {
     "name": "stdout",
     "output_type": "stream",
     "text": [
      "                   all         49         86      0.827       0.61      0.687      0.463\n"
     ]
    },
    {
     "name": "stderr",
     "output_type": "stream",
     "text": [
      "\n"
     ]
    },
    {
     "name": "stdout",
     "output_type": "stream",
     "text": [
      "\n",
      "      Epoch    GPU_mem   box_loss   cls_loss   dfl_loss  Instances       Size\n"
     ]
    },
    {
     "name": "stderr",
     "output_type": "stream",
     "text": [
      "     15/100      4.04G     0.8527     0.9407      1.357         45        640: 100%|██████████| 113/113 [00:43<00:00,  2.58it/s]\n",
      "                 Class     Images  Instances      Box(P          R      mAP50  mAP50-95): 100%|██████████| 2/2 [00:00<00:00,  2.83it/s]"
     ]
    },
    {
     "name": "stdout",
     "output_type": "stream",
     "text": [
      "                   all         49         86      0.709      0.593      0.679      0.459\n"
     ]
    },
    {
     "name": "stderr",
     "output_type": "stream",
     "text": [
      "\n"
     ]
    },
    {
     "name": "stdout",
     "output_type": "stream",
     "text": [
      "\n",
      "      Epoch    GPU_mem   box_loss   cls_loss   dfl_loss  Instances       Size\n"
     ]
    },
    {
     "name": "stderr",
     "output_type": "stream",
     "text": [
      "     16/100      4.03G     0.8377     0.9319      1.338         37        640: 100%|██████████| 113/113 [00:44<00:00,  2.55it/s]\n",
      "                 Class     Images  Instances      Box(P          R      mAP50  mAP50-95): 100%|██████████| 2/2 [00:00<00:00,  3.35it/s]"
     ]
    },
    {
     "name": "stdout",
     "output_type": "stream",
     "text": [
      "                   all         49         86      0.694      0.605      0.654      0.443\n"
     ]
    },
    {
     "name": "stderr",
     "output_type": "stream",
     "text": [
      "\n"
     ]
    },
    {
     "name": "stdout",
     "output_type": "stream",
     "text": [
      "\n",
      "      Epoch    GPU_mem   box_loss   cls_loss   dfl_loss  Instances       Size\n"
     ]
    },
    {
     "name": "stderr",
     "output_type": "stream",
     "text": [
      "     17/100       3.9G     0.8306     0.9042      1.334         66        640: 100%|██████████| 113/113 [00:45<00:00,  2.50it/s]\n",
      "                 Class     Images  Instances      Box(P          R      mAP50  mAP50-95): 100%|██████████| 2/2 [00:00<00:00,  2.55it/s]"
     ]
    },
    {
     "name": "stdout",
     "output_type": "stream",
     "text": [
      "                   all         49         86       0.85      0.616      0.695      0.464\n"
     ]
    },
    {
     "name": "stderr",
     "output_type": "stream",
     "text": [
      "\n"
     ]
    },
    {
     "name": "stdout",
     "output_type": "stream",
     "text": [
      "\n",
      "      Epoch    GPU_mem   box_loss   cls_loss   dfl_loss  Instances       Size\n"
     ]
    },
    {
     "name": "stderr",
     "output_type": "stream",
     "text": [
      "     18/100      4.05G     0.7934     0.8682      1.301         55        640: 100%|██████████| 113/113 [00:44<00:00,  2.55it/s]\n",
      "                 Class     Images  Instances      Box(P          R      mAP50  mAP50-95): 100%|██████████| 2/2 [00:00<00:00,  2.20it/s]"
     ]
    },
    {
     "name": "stdout",
     "output_type": "stream",
     "text": [
      "                   all         49         86      0.709      0.593      0.598      0.443\n"
     ]
    },
    {
     "name": "stderr",
     "output_type": "stream",
     "text": [
      "\n"
     ]
    },
    {
     "name": "stdout",
     "output_type": "stream",
     "text": [
      "\n",
      "      Epoch    GPU_mem   box_loss   cls_loss   dfl_loss  Instances       Size\n"
     ]
    },
    {
     "name": "stderr",
     "output_type": "stream",
     "text": [
      "     19/100      4.06G     0.7986     0.8713      1.308         44        640: 100%|██████████| 113/113 [00:44<00:00,  2.55it/s]\n",
      "                 Class     Images  Instances      Box(P          R      mAP50  mAP50-95): 100%|██████████| 2/2 [00:00<00:00,  2.31it/s]"
     ]
    },
    {
     "name": "stdout",
     "output_type": "stream",
     "text": [
      "                   all         49         86      0.683       0.64      0.649       0.43\n"
     ]
    },
    {
     "name": "stderr",
     "output_type": "stream",
     "text": [
      "\n"
     ]
    },
    {
     "name": "stdout",
     "output_type": "stream",
     "text": [
      "\n",
      "      Epoch    GPU_mem   box_loss   cls_loss   dfl_loss  Instances       Size\n"
     ]
    },
    {
     "name": "stderr",
     "output_type": "stream",
     "text": [
      "     20/100      4.02G     0.7973       0.85       1.31         38        640: 100%|██████████| 113/113 [00:45<00:00,  2.50it/s]\n",
      "                 Class     Images  Instances      Box(P          R      mAP50  mAP50-95): 100%|██████████| 2/2 [00:00<00:00,  2.48it/s]"
     ]
    },
    {
     "name": "stdout",
     "output_type": "stream",
     "text": [
      "                   all         49         86      0.746      0.593      0.686      0.485\n"
     ]
    },
    {
     "name": "stderr",
     "output_type": "stream",
     "text": [
      "\n"
     ]
    },
    {
     "name": "stdout",
     "output_type": "stream",
     "text": [
      "\n",
      "      Epoch    GPU_mem   box_loss   cls_loss   dfl_loss  Instances       Size\n"
     ]
    },
    {
     "name": "stderr",
     "output_type": "stream",
     "text": [
      "     21/100      4.06G     0.7776     0.8357      1.289         63        640: 100%|██████████| 113/113 [00:43<00:00,  2.58it/s]\n",
      "                 Class     Images  Instances      Box(P          R      mAP50  mAP50-95): 100%|██████████| 2/2 [00:00<00:00,  2.25it/s]"
     ]
    },
    {
     "name": "stdout",
     "output_type": "stream",
     "text": [
      "                   all         49         86       0.82      0.582      0.696      0.485\n"
     ]
    },
    {
     "name": "stderr",
     "output_type": "stream",
     "text": [
      "\n"
     ]
    },
    {
     "name": "stdout",
     "output_type": "stream",
     "text": [
      "\n",
      "      Epoch    GPU_mem   box_loss   cls_loss   dfl_loss  Instances       Size\n"
     ]
    },
    {
     "name": "stderr",
     "output_type": "stream",
     "text": [
      "     22/100      4.04G     0.7588     0.8119      1.288         54        640: 100%|██████████| 113/113 [00:44<00:00,  2.53it/s]\n",
      "                 Class     Images  Instances      Box(P          R      mAP50  mAP50-95): 100%|██████████| 2/2 [00:00<00:00,  2.47it/s]"
     ]
    },
    {
     "name": "stdout",
     "output_type": "stream",
     "text": [
      "                   all         49         86      0.677      0.674      0.688      0.473\n"
     ]
    },
    {
     "name": "stderr",
     "output_type": "stream",
     "text": [
      "\n"
     ]
    },
    {
     "name": "stdout",
     "output_type": "stream",
     "text": [
      "\n",
      "      Epoch    GPU_mem   box_loss   cls_loss   dfl_loss  Instances       Size\n"
     ]
    },
    {
     "name": "stderr",
     "output_type": "stream",
     "text": [
      "     23/100      4.04G     0.7662     0.7995      1.288         57        640: 100%|██████████| 113/113 [00:44<00:00,  2.54it/s]\n",
      "                 Class     Images  Instances      Box(P          R      mAP50  mAP50-95): 100%|██████████| 2/2 [00:00<00:00,  2.21it/s]"
     ]
    },
    {
     "name": "stdout",
     "output_type": "stream",
     "text": [
      "                   all         49         86      0.853      0.523      0.656      0.484\n"
     ]
    },
    {
     "name": "stderr",
     "output_type": "stream",
     "text": [
      "\n"
     ]
    },
    {
     "name": "stdout",
     "output_type": "stream",
     "text": [
      "\n",
      "      Epoch    GPU_mem   box_loss   cls_loss   dfl_loss  Instances       Size\n"
     ]
    },
    {
     "name": "stderr",
     "output_type": "stream",
     "text": [
      "     24/100      4.05G     0.7409     0.7953      1.272         42        640: 100%|██████████| 113/113 [00:44<00:00,  2.55it/s]\n",
      "                 Class     Images  Instances      Box(P          R      mAP50  mAP50-95): 100%|██████████| 2/2 [00:00<00:00,  2.36it/s]"
     ]
    },
    {
     "name": "stdout",
     "output_type": "stream",
     "text": [
      "                   all         49         86      0.681       0.62      0.645      0.469\n"
     ]
    },
    {
     "name": "stderr",
     "output_type": "stream",
     "text": [
      "\n"
     ]
    },
    {
     "name": "stdout",
     "output_type": "stream",
     "text": [
      "\n",
      "      Epoch    GPU_mem   box_loss   cls_loss   dfl_loss  Instances       Size\n"
     ]
    },
    {
     "name": "stderr",
     "output_type": "stream",
     "text": [
      "     25/100      3.89G     0.7326     0.7827       1.26         66        640: 100%|██████████| 113/113 [00:45<00:00,  2.50it/s]\n",
      "                 Class     Images  Instances      Box(P          R      mAP50  mAP50-95): 100%|██████████| 2/2 [00:00<00:00,  2.66it/s]"
     ]
    },
    {
     "name": "stdout",
     "output_type": "stream",
     "text": [
      "                   all         49         86      0.694      0.686      0.724      0.512\n"
     ]
    },
    {
     "name": "stderr",
     "output_type": "stream",
     "text": [
      "\n"
     ]
    },
    {
     "name": "stdout",
     "output_type": "stream",
     "text": [
      "\n",
      "      Epoch    GPU_mem   box_loss   cls_loss   dfl_loss  Instances       Size\n"
     ]
    },
    {
     "name": "stderr",
     "output_type": "stream",
     "text": [
      "     26/100      4.01G     0.7419     0.7709      1.263         46        640: 100%|██████████| 113/113 [00:45<00:00,  2.47it/s]\n",
      "                 Class     Images  Instances      Box(P          R      mAP50  mAP50-95): 100%|██████████| 2/2 [00:00<00:00,  2.47it/s]"
     ]
    },
    {
     "name": "stdout",
     "output_type": "stream",
     "text": [
      "                   all         49         86      0.685      0.628      0.624      0.448\n"
     ]
    },
    {
     "name": "stderr",
     "output_type": "stream",
     "text": [
      "\n"
     ]
    },
    {
     "name": "stdout",
     "output_type": "stream",
     "text": [
      "\n",
      "      Epoch    GPU_mem   box_loss   cls_loss   dfl_loss  Instances       Size\n"
     ]
    },
    {
     "name": "stderr",
     "output_type": "stream",
     "text": [
      "     27/100      4.04G     0.7145      0.744      1.243         56        640: 100%|██████████| 113/113 [00:44<00:00,  2.52it/s]\n",
      "                 Class     Images  Instances      Box(P          R      mAP50  mAP50-95): 100%|██████████| 2/2 [00:00<00:00,  2.03it/s]"
     ]
    },
    {
     "name": "stdout",
     "output_type": "stream",
     "text": [
      "                   all         49         86      0.841      0.628      0.699      0.498\n"
     ]
    },
    {
     "name": "stderr",
     "output_type": "stream",
     "text": [
      "\n"
     ]
    },
    {
     "name": "stdout",
     "output_type": "stream",
     "text": [
      "\n",
      "      Epoch    GPU_mem   box_loss   cls_loss   dfl_loss  Instances       Size\n"
     ]
    },
    {
     "name": "stderr",
     "output_type": "stream",
     "text": [
      "     28/100      4.03G     0.7159     0.7515      1.247         58        640: 100%|██████████| 113/113 [00:45<00:00,  2.46it/s]\n",
      "                 Class     Images  Instances      Box(P          R      mAP50  mAP50-95): 100%|██████████| 2/2 [00:01<00:00,  1.49it/s]"
     ]
    },
    {
     "name": "stdout",
     "output_type": "stream",
     "text": [
      "                   all         49         86      0.863      0.587      0.695      0.476\n"
     ]
    },
    {
     "name": "stderr",
     "output_type": "stream",
     "text": [
      "\n"
     ]
    },
    {
     "name": "stdout",
     "output_type": "stream",
     "text": [
      "\n",
      "      Epoch    GPU_mem   box_loss   cls_loss   dfl_loss  Instances       Size\n"
     ]
    },
    {
     "name": "stderr",
     "output_type": "stream",
     "text": [
      "     29/100      4.09G     0.7096      0.725      1.238         83        640: 100%|██████████| 113/113 [00:44<00:00,  2.53it/s]\n",
      "                 Class     Images  Instances      Box(P          R      mAP50  mAP50-95): 100%|██████████| 2/2 [00:00<00:00,  2.51it/s]"
     ]
    },
    {
     "name": "stdout",
     "output_type": "stream",
     "text": [
      "                   all         49         86      0.869      0.581      0.711      0.517\n"
     ]
    },
    {
     "name": "stderr",
     "output_type": "stream",
     "text": [
      "\n"
     ]
    },
    {
     "name": "stdout",
     "output_type": "stream",
     "text": [
      "\n",
      "      Epoch    GPU_mem   box_loss   cls_loss   dfl_loss  Instances       Size\n"
     ]
    },
    {
     "name": "stderr",
     "output_type": "stream",
     "text": [
      "     30/100      3.89G     0.7005     0.7187      1.232         52        640: 100%|██████████| 113/113 [00:45<00:00,  2.51it/s]\n",
      "                 Class     Images  Instances      Box(P          R      mAP50  mAP50-95): 100%|██████████| 2/2 [00:00<00:00,  2.32it/s]"
     ]
    },
    {
     "name": "stdout",
     "output_type": "stream",
     "text": [
      "                   all         49         86      0.782      0.581      0.694      0.542\n"
     ]
    },
    {
     "name": "stderr",
     "output_type": "stream",
     "text": [
      "\n"
     ]
    },
    {
     "name": "stdout",
     "output_type": "stream",
     "text": [
      "\n",
      "      Epoch    GPU_mem   box_loss   cls_loss   dfl_loss  Instances       Size\n"
     ]
    },
    {
     "name": "stderr",
     "output_type": "stream",
     "text": [
      "     31/100      4.05G     0.6834     0.7031      1.221         62        640: 100%|██████████| 113/113 [00:45<00:00,  2.51it/s]\n",
      "                 Class     Images  Instances      Box(P          R      mAP50  mAP50-95): 100%|██████████| 2/2 [00:00<00:00,  2.36it/s]"
     ]
    },
    {
     "name": "stdout",
     "output_type": "stream",
     "text": [
      "                   all         49         86      0.823      0.605      0.674      0.512\n"
     ]
    },
    {
     "name": "stderr",
     "output_type": "stream",
     "text": [
      "\n"
     ]
    },
    {
     "name": "stdout",
     "output_type": "stream",
     "text": [
      "\n",
      "      Epoch    GPU_mem   box_loss   cls_loss   dfl_loss  Instances       Size\n"
     ]
    },
    {
     "name": "stderr",
     "output_type": "stream",
     "text": [
      "     32/100      3.86G     0.6784     0.6873      1.208         64        640: 100%|██████████| 113/113 [00:45<00:00,  2.47it/s]\n",
      "                 Class     Images  Instances      Box(P          R      mAP50  mAP50-95): 100%|██████████| 2/2 [00:00<00:00,  2.59it/s]"
     ]
    },
    {
     "name": "stdout",
     "output_type": "stream",
     "text": [
      "                   all         49         86      0.815      0.565       0.66      0.488\n"
     ]
    },
    {
     "name": "stderr",
     "output_type": "stream",
     "text": [
      "\n"
     ]
    },
    {
     "name": "stdout",
     "output_type": "stream",
     "text": [
      "\n",
      "      Epoch    GPU_mem   box_loss   cls_loss   dfl_loss  Instances       Size\n"
     ]
    },
    {
     "name": "stderr",
     "output_type": "stream",
     "text": [
      "     33/100      4.08G     0.6626     0.6707      1.205         65        640: 100%|██████████| 113/113 [00:45<00:00,  2.50it/s]\n",
      "                 Class     Images  Instances      Box(P          R      mAP50  mAP50-95): 100%|██████████| 2/2 [00:00<00:00,  2.77it/s]"
     ]
    },
    {
     "name": "stdout",
     "output_type": "stream",
     "text": [
      "                   all         49         86        0.7      0.593       0.63       0.48\n"
     ]
    },
    {
     "name": "stderr",
     "output_type": "stream",
     "text": [
      "\n"
     ]
    },
    {
     "name": "stdout",
     "output_type": "stream",
     "text": [
      "\n",
      "      Epoch    GPU_mem   box_loss   cls_loss   dfl_loss  Instances       Size\n"
     ]
    },
    {
     "name": "stderr",
     "output_type": "stream",
     "text": [
      "     34/100      4.06G     0.6646      0.669      1.204         45        640: 100%|██████████| 113/113 [00:46<00:00,  2.45it/s]\n",
      "                 Class     Images  Instances      Box(P          R      mAP50  mAP50-95): 100%|██████████| 2/2 [00:00<00:00,  2.51it/s]"
     ]
    },
    {
     "name": "stdout",
     "output_type": "stream",
     "text": [
      "                   all         49         86      0.727       0.64      0.663      0.473\n"
     ]
    },
    {
     "name": "stderr",
     "output_type": "stream",
     "text": [
      "\n"
     ]
    },
    {
     "name": "stdout",
     "output_type": "stream",
     "text": [
      "\n",
      "      Epoch    GPU_mem   box_loss   cls_loss   dfl_loss  Instances       Size\n"
     ]
    },
    {
     "name": "stderr",
     "output_type": "stream",
     "text": [
      "     35/100      4.04G     0.6546     0.6476      1.193         48        640: 100%|██████████| 113/113 [00:45<00:00,  2.51it/s]\n",
      "                 Class     Images  Instances      Box(P          R      mAP50  mAP50-95): 100%|██████████| 2/2 [00:00<00:00,  2.08it/s]"
     ]
    },
    {
     "name": "stdout",
     "output_type": "stream",
     "text": [
      "                   all         49         86      0.842       0.57      0.676      0.486\n"
     ]
    },
    {
     "name": "stderr",
     "output_type": "stream",
     "text": [
      "\n"
     ]
    },
    {
     "name": "stdout",
     "output_type": "stream",
     "text": [
      "\n",
      "      Epoch    GPU_mem   box_loss   cls_loss   dfl_loss  Instances       Size\n"
     ]
    },
    {
     "name": "stderr",
     "output_type": "stream",
     "text": [
      "     36/100      4.05G      0.648     0.6456      1.196         59        640: 100%|██████████| 113/113 [00:45<00:00,  2.47it/s]\n",
      "                 Class     Images  Instances      Box(P          R      mAP50  mAP50-95): 100%|██████████| 2/2 [00:01<00:00,  1.76it/s]"
     ]
    },
    {
     "name": "stdout",
     "output_type": "stream",
     "text": [
      "                   all         49         86      0.783       0.63      0.716      0.525\n"
     ]
    },
    {
     "name": "stderr",
     "output_type": "stream",
     "text": [
      "\n"
     ]
    },
    {
     "name": "stdout",
     "output_type": "stream",
     "text": [
      "\n",
      "      Epoch    GPU_mem   box_loss   cls_loss   dfl_loss  Instances       Size\n"
     ]
    },
    {
     "name": "stderr",
     "output_type": "stream",
     "text": [
      "     37/100      4.06G     0.6525     0.6546      1.197         32        640: 100%|██████████| 113/113 [00:45<00:00,  2.49it/s]\n",
      "                 Class     Images  Instances      Box(P          R      mAP50  mAP50-95): 100%|██████████| 2/2 [00:00<00:00,  3.20it/s]\n"
     ]
    },
    {
     "name": "stdout",
     "output_type": "stream",
     "text": [
      "                   all         49         86      0.864      0.558      0.655      0.482\n",
      "\n",
      "      Epoch    GPU_mem   box_loss   cls_loss   dfl_loss  Instances       Size\n"
     ]
    },
    {
     "name": "stderr",
     "output_type": "stream",
     "text": [
      "     38/100      4.06G     0.6298     0.6216      1.177         58        640: 100%|██████████| 113/113 [00:45<00:00,  2.49it/s]\n",
      "                 Class     Images  Instances      Box(P          R      mAP50  mAP50-95): 100%|██████████| 2/2 [00:00<00:00,  2.58it/s]"
     ]
    },
    {
     "name": "stdout",
     "output_type": "stream",
     "text": [
      "                   all         49         86      0.746      0.648      0.653      0.464\n"
     ]
    },
    {
     "name": "stderr",
     "output_type": "stream",
     "text": [
      "\n"
     ]
    },
    {
     "name": "stdout",
     "output_type": "stream",
     "text": [
      "\n",
      "      Epoch    GPU_mem   box_loss   cls_loss   dfl_loss  Instances       Size\n"
     ]
    },
    {
     "name": "stderr",
     "output_type": "stream",
     "text": [
      "     39/100      3.88G     0.6336     0.6148       1.18         47        640: 100%|██████████| 113/113 [00:46<00:00,  2.44it/s]\n",
      "                 Class     Images  Instances      Box(P          R      mAP50  mAP50-95): 100%|██████████| 2/2 [00:00<00:00,  2.72it/s]"
     ]
    },
    {
     "name": "stdout",
     "output_type": "stream",
     "text": [
      "                   all         49         86      0.727      0.651       0.68      0.492\n"
     ]
    },
    {
     "name": "stderr",
     "output_type": "stream",
     "text": [
      "\n"
     ]
    },
    {
     "name": "stdout",
     "output_type": "stream",
     "text": [
      "\n",
      "      Epoch    GPU_mem   box_loss   cls_loss   dfl_loss  Instances       Size\n"
     ]
    },
    {
     "name": "stderr",
     "output_type": "stream",
     "text": [
      "     40/100      4.02G     0.6169     0.6034      1.161         53        640: 100%|██████████| 113/113 [00:45<00:00,  2.49it/s]\n",
      "                 Class     Images  Instances      Box(P          R      mAP50  mAP50-95): 100%|██████████| 2/2 [00:00<00:00,  2.40it/s]"
     ]
    },
    {
     "name": "stdout",
     "output_type": "stream",
     "text": [
      "                   all         49         86      0.778      0.686      0.724      0.545\n"
     ]
    },
    {
     "name": "stderr",
     "output_type": "stream",
     "text": [
      "\n"
     ]
    },
    {
     "name": "stdout",
     "output_type": "stream",
     "text": [
      "\n",
      "      Epoch    GPU_mem   box_loss   cls_loss   dfl_loss  Instances       Size\n"
     ]
    },
    {
     "name": "stderr",
     "output_type": "stream",
     "text": [
      "     41/100      4.08G     0.5978     0.6022      1.152         53        640: 100%|██████████| 113/113 [00:46<00:00,  2.45it/s]\n",
      "                 Class     Images  Instances      Box(P          R      mAP50  mAP50-95): 100%|██████████| 2/2 [00:00<00:00,  2.31it/s]"
     ]
    },
    {
     "name": "stdout",
     "output_type": "stream",
     "text": [
      "                   all         49         86       0.85      0.595       0.72      0.558\n"
     ]
    },
    {
     "name": "stderr",
     "output_type": "stream",
     "text": [
      "\n"
     ]
    },
    {
     "name": "stdout",
     "output_type": "stream",
     "text": [
      "\n",
      "      Epoch    GPU_mem   box_loss   cls_loss   dfl_loss  Instances       Size\n"
     ]
    },
    {
     "name": "stderr",
     "output_type": "stream",
     "text": [
      "     42/100      4.07G     0.6058     0.5905      1.157         54        640: 100%|██████████| 113/113 [00:45<00:00,  2.47it/s]\n",
      "                 Class     Images  Instances      Box(P          R      mAP50  mAP50-95): 100%|██████████| 2/2 [00:00<00:00,  2.72it/s]"
     ]
    },
    {
     "name": "stdout",
     "output_type": "stream",
     "text": [
      "                   all         49         86      0.729      0.686      0.683      0.492\n"
     ]
    },
    {
     "name": "stderr",
     "output_type": "stream",
     "text": [
      "\n"
     ]
    },
    {
     "name": "stdout",
     "output_type": "stream",
     "text": [
      "\n",
      "      Epoch    GPU_mem   box_loss   cls_loss   dfl_loss  Instances       Size\n"
     ]
    },
    {
     "name": "stderr",
     "output_type": "stream",
     "text": [
      "     43/100      4.04G     0.6042     0.5897      1.164         51        640: 100%|██████████| 113/113 [00:45<00:00,  2.46it/s]\n",
      "                 Class     Images  Instances      Box(P          R      mAP50  mAP50-95): 100%|██████████| 2/2 [00:00<00:00,  2.61it/s]"
     ]
    },
    {
     "name": "stdout",
     "output_type": "stream",
     "text": [
      "                   all         49         86      0.832       0.64      0.722      0.517\n"
     ]
    },
    {
     "name": "stderr",
     "output_type": "stream",
     "text": [
      "\n"
     ]
    },
    {
     "name": "stdout",
     "output_type": "stream",
     "text": [
      "\n",
      "      Epoch    GPU_mem   box_loss   cls_loss   dfl_loss  Instances       Size\n"
     ]
    },
    {
     "name": "stderr",
     "output_type": "stream",
     "text": [
      "     44/100      3.86G     0.5979     0.5815      1.156         51        640: 100%|██████████| 113/113 [00:46<00:00,  2.44it/s]\n",
      "                 Class     Images  Instances      Box(P          R      mAP50  mAP50-95): 100%|██████████| 2/2 [00:00<00:00,  2.38it/s]"
     ]
    },
    {
     "name": "stdout",
     "output_type": "stream",
     "text": [
      "                   all         49         86      0.804      0.628      0.679      0.492\n"
     ]
    },
    {
     "name": "stderr",
     "output_type": "stream",
     "text": [
      "\n"
     ]
    },
    {
     "name": "stdout",
     "output_type": "stream",
     "text": [
      "\n",
      "      Epoch    GPU_mem   box_loss   cls_loss   dfl_loss  Instances       Size\n"
     ]
    },
    {
     "name": "stderr",
     "output_type": "stream",
     "text": [
      "     45/100      4.05G     0.5944     0.5704      1.155         46        640: 100%|██████████| 113/113 [00:45<00:00,  2.50it/s]\n",
      "                 Class     Images  Instances      Box(P          R      mAP50  mAP50-95): 100%|██████████| 2/2 [00:00<00:00,  2.18it/s]"
     ]
    },
    {
     "name": "stdout",
     "output_type": "stream",
     "text": [
      "                   all         49         86      0.835      0.616      0.701       0.54\n"
     ]
    },
    {
     "name": "stderr",
     "output_type": "stream",
     "text": [
      "\n"
     ]
    },
    {
     "name": "stdout",
     "output_type": "stream",
     "text": [
      "\n",
      "      Epoch    GPU_mem   box_loss   cls_loss   dfl_loss  Instances       Size\n"
     ]
    },
    {
     "name": "stderr",
     "output_type": "stream",
     "text": [
      "     46/100      4.03G     0.5901     0.5653      1.145         65        640: 100%|██████████| 113/113 [00:46<00:00,  2.44it/s]\n",
      "                 Class     Images  Instances      Box(P          R      mAP50  mAP50-95): 100%|██████████| 2/2 [00:01<00:00,  1.43it/s]"
     ]
    },
    {
     "name": "stdout",
     "output_type": "stream",
     "text": [
      "                   all         49         86      0.867      0.606      0.711      0.536\n"
     ]
    },
    {
     "name": "stderr",
     "output_type": "stream",
     "text": [
      "\n"
     ]
    },
    {
     "name": "stdout",
     "output_type": "stream",
     "text": [
      "\n",
      "      Epoch    GPU_mem   box_loss   cls_loss   dfl_loss  Instances       Size\n"
     ]
    },
    {
     "name": "stderr",
     "output_type": "stream",
     "text": [
      "     47/100      4.07G     0.5682     0.5429      1.129         44        640: 100%|██████████| 113/113 [00:44<00:00,  2.52it/s]\n",
      "                 Class     Images  Instances      Box(P          R      mAP50  mAP50-95): 100%|██████████| 2/2 [00:00<00:00,  2.85it/s]"
     ]
    },
    {
     "name": "stdout",
     "output_type": "stream",
     "text": [
      "                   all         49         86      0.677      0.733      0.679      0.518\n"
     ]
    },
    {
     "name": "stderr",
     "output_type": "stream",
     "text": [
      "\n"
     ]
    },
    {
     "name": "stdout",
     "output_type": "stream",
     "text": [
      "\n",
      "      Epoch    GPU_mem   box_loss   cls_loss   dfl_loss  Instances       Size\n"
     ]
    },
    {
     "name": "stderr",
     "output_type": "stream",
     "text": [
      "     48/100      3.85G     0.5695       0.55      1.132         61        640: 100%|██████████| 113/113 [00:45<00:00,  2.51it/s]\n",
      "                 Class     Images  Instances      Box(P          R      mAP50  mAP50-95): 100%|██████████| 2/2 [00:00<00:00,  2.57it/s]"
     ]
    },
    {
     "name": "stdout",
     "output_type": "stream",
     "text": [
      "                   all         49         86      0.721      0.744       0.68      0.506\n"
     ]
    },
    {
     "name": "stderr",
     "output_type": "stream",
     "text": [
      "\n"
     ]
    },
    {
     "name": "stdout",
     "output_type": "stream",
     "text": [
      "\n",
      "      Epoch    GPU_mem   box_loss   cls_loss   dfl_loss  Instances       Size\n"
     ]
    },
    {
     "name": "stderr",
     "output_type": "stream",
     "text": [
      "     49/100      4.05G     0.5865     0.5512      1.139         66        640: 100%|██████████| 113/113 [00:46<00:00,  2.44it/s]\n",
      "                 Class     Images  Instances      Box(P          R      mAP50  mAP50-95): 100%|██████████| 2/2 [00:00<00:00,  2.17it/s]"
     ]
    },
    {
     "name": "stdout",
     "output_type": "stream",
     "text": [
      "                   all         49         86      0.792      0.662      0.734      0.545\n"
     ]
    },
    {
     "name": "stderr",
     "output_type": "stream",
     "text": [
      "\n"
     ]
    },
    {
     "name": "stdout",
     "output_type": "stream",
     "text": [
      "\n",
      "      Epoch    GPU_mem   box_loss   cls_loss   dfl_loss  Instances       Size\n"
     ]
    },
    {
     "name": "stderr",
     "output_type": "stream",
     "text": [
      "     50/100      3.88G     0.5589     0.5366      1.129         48        640: 100%|██████████| 113/113 [00:45<00:00,  2.50it/s]\n",
      "                 Class     Images  Instances      Box(P          R      mAP50  mAP50-95): 100%|██████████| 2/2 [00:00<00:00,  2.62it/s]"
     ]
    },
    {
     "name": "stdout",
     "output_type": "stream",
     "text": [
      "                   all         49         86      0.875      0.616      0.751      0.591\n"
     ]
    },
    {
     "name": "stderr",
     "output_type": "stream",
     "text": [
      "\n"
     ]
    },
    {
     "name": "stdout",
     "output_type": "stream",
     "text": [
      "\n",
      "      Epoch    GPU_mem   box_loss   cls_loss   dfl_loss  Instances       Size\n"
     ]
    },
    {
     "name": "stderr",
     "output_type": "stream",
     "text": [
      "     51/100      4.03G     0.5564     0.5185      1.128         39        640: 100%|██████████| 113/113 [00:44<00:00,  2.55it/s]\n",
      "                 Class     Images  Instances      Box(P          R      mAP50  mAP50-95): 100%|██████████| 2/2 [00:00<00:00,  2.66it/s]"
     ]
    },
    {
     "name": "stdout",
     "output_type": "stream",
     "text": [
      "                   all         49         86      0.886      0.605      0.703      0.522\n"
     ]
    },
    {
     "name": "stderr",
     "output_type": "stream",
     "text": [
      "\n"
     ]
    },
    {
     "name": "stdout",
     "output_type": "stream",
     "text": [
      "\n",
      "      Epoch    GPU_mem   box_loss   cls_loss   dfl_loss  Instances       Size\n"
     ]
    },
    {
     "name": "stderr",
     "output_type": "stream",
     "text": [
      "     52/100      4.03G     0.5471     0.5154      1.115         54        640: 100%|██████████| 113/113 [00:45<00:00,  2.51it/s]\n",
      "                 Class     Images  Instances      Box(P          R      mAP50  mAP50-95): 100%|██████████| 2/2 [00:00<00:00,  2.65it/s]"
     ]
    },
    {
     "name": "stdout",
     "output_type": "stream",
     "text": [
      "                   all         49         86      0.692      0.674      0.674      0.505\n"
     ]
    },
    {
     "name": "stderr",
     "output_type": "stream",
     "text": [
      "\n"
     ]
    },
    {
     "name": "stdout",
     "output_type": "stream",
     "text": [
      "\n",
      "      Epoch    GPU_mem   box_loss   cls_loss   dfl_loss  Instances       Size\n"
     ]
    },
    {
     "name": "stderr",
     "output_type": "stream",
     "text": [
      "     53/100      4.06G     0.5472      0.509       1.12         45        640: 100%|██████████| 113/113 [00:45<00:00,  2.49it/s]\n",
      "                 Class     Images  Instances      Box(P          R      mAP50  mAP50-95): 100%|██████████| 2/2 [00:00<00:00,  2.71it/s]"
     ]
    },
    {
     "name": "stdout",
     "output_type": "stream",
     "text": [
      "                   all         49         86      0.795      0.628      0.675      0.492\n"
     ]
    },
    {
     "name": "stderr",
     "output_type": "stream",
     "text": [
      "\n"
     ]
    },
    {
     "name": "stdout",
     "output_type": "stream",
     "text": [
      "\n",
      "      Epoch    GPU_mem   box_loss   cls_loss   dfl_loss  Instances       Size\n"
     ]
    },
    {
     "name": "stderr",
     "output_type": "stream",
     "text": [
      "     54/100      4.04G     0.5399     0.5028      1.119         57        640: 100%|██████████| 113/113 [00:45<00:00,  2.48it/s]\n",
      "                 Class     Images  Instances      Box(P          R      mAP50  mAP50-95): 100%|██████████| 2/2 [00:01<00:00,  1.36it/s]"
     ]
    },
    {
     "name": "stdout",
     "output_type": "stream",
     "text": [
      "                   all         49         86      0.816       0.67      0.696      0.529\n"
     ]
    },
    {
     "name": "stderr",
     "output_type": "stream",
     "text": [
      "\n"
     ]
    },
    {
     "name": "stdout",
     "output_type": "stream",
     "text": [
      "\n",
      "      Epoch    GPU_mem   box_loss   cls_loss   dfl_loss  Instances       Size\n"
     ]
    },
    {
     "name": "stderr",
     "output_type": "stream",
     "text": [
      "     55/100      4.04G     0.5412     0.4985      1.114         59        640: 100%|██████████| 113/113 [00:45<00:00,  2.49it/s]\n",
      "                 Class     Images  Instances      Box(P          R      mAP50  mAP50-95): 100%|██████████| 2/2 [00:00<00:00,  2.82it/s]"
     ]
    },
    {
     "name": "stdout",
     "output_type": "stream",
     "text": [
      "                   all         49         86      0.768       0.64      0.708      0.516\n"
     ]
    },
    {
     "name": "stderr",
     "output_type": "stream",
     "text": [
      "\n"
     ]
    },
    {
     "name": "stdout",
     "output_type": "stream",
     "text": [
      "\n",
      "      Epoch    GPU_mem   box_loss   cls_loss   dfl_loss  Instances       Size\n"
     ]
    },
    {
     "name": "stderr",
     "output_type": "stream",
     "text": [
      "     56/100      4.02G      0.531     0.4963      1.111         61        640: 100%|██████████| 113/113 [00:45<00:00,  2.48it/s]\n",
      "                 Class     Images  Instances      Box(P          R      mAP50  mAP50-95): 100%|██████████| 2/2 [00:00<00:00,  2.51it/s]"
     ]
    },
    {
     "name": "stdout",
     "output_type": "stream",
     "text": [
      "                   all         49         86      0.824      0.605       0.71      0.525\n"
     ]
    },
    {
     "name": "stderr",
     "output_type": "stream",
     "text": [
      "\n"
     ]
    },
    {
     "name": "stdout",
     "output_type": "stream",
     "text": [
      "\n",
      "      Epoch    GPU_mem   box_loss   cls_loss   dfl_loss  Instances       Size\n"
     ]
    },
    {
     "name": "stderr",
     "output_type": "stream",
     "text": [
      "     57/100      4.08G     0.5229      0.482      1.097         51        640: 100%|██████████| 113/113 [00:47<00:00,  2.40it/s]\n",
      "                 Class     Images  Instances      Box(P          R      mAP50  mAP50-95): 100%|██████████| 2/2 [00:00<00:00,  2.92it/s]"
     ]
    },
    {
     "name": "stdout",
     "output_type": "stream",
     "text": [
      "                   all         49         86      0.837      0.593      0.711      0.539\n"
     ]
    },
    {
     "name": "stderr",
     "output_type": "stream",
     "text": [
      "\n"
     ]
    },
    {
     "name": "stdout",
     "output_type": "stream",
     "text": [
      "\n",
      "      Epoch    GPU_mem   box_loss   cls_loss   dfl_loss  Instances       Size\n"
     ]
    },
    {
     "name": "stderr",
     "output_type": "stream",
     "text": [
      "     58/100      4.04G     0.5238     0.4801      1.095         49        640: 100%|██████████| 113/113 [00:45<00:00,  2.48it/s]\n",
      "                 Class     Images  Instances      Box(P          R      mAP50  mAP50-95): 100%|██████████| 2/2 [00:00<00:00,  2.13it/s]"
     ]
    },
    {
     "name": "stdout",
     "output_type": "stream",
     "text": [
      "                   all         49         86      0.698      0.733      0.735      0.549\n"
     ]
    },
    {
     "name": "stderr",
     "output_type": "stream",
     "text": [
      "\n"
     ]
    },
    {
     "name": "stdout",
     "output_type": "stream",
     "text": [
      "\n",
      "      Epoch    GPU_mem   box_loss   cls_loss   dfl_loss  Instances       Size\n"
     ]
    },
    {
     "name": "stderr",
     "output_type": "stream",
     "text": [
      "     59/100      4.06G     0.5194     0.4771      1.099         58        640: 100%|██████████| 113/113 [00:45<00:00,  2.50it/s]\n",
      "                 Class     Images  Instances      Box(P          R      mAP50  mAP50-95): 100%|██████████| 2/2 [00:00<00:00,  2.97it/s]"
     ]
    },
    {
     "name": "stdout",
     "output_type": "stream",
     "text": [
      "                   all         49         86       0.75      0.628      0.687      0.506\n"
     ]
    },
    {
     "name": "stderr",
     "output_type": "stream",
     "text": [
      "\n"
     ]
    },
    {
     "name": "stdout",
     "output_type": "stream",
     "text": [
      "\n",
      "      Epoch    GPU_mem   box_loss   cls_loss   dfl_loss  Instances       Size\n"
     ]
    },
    {
     "name": "stderr",
     "output_type": "stream",
     "text": [
      "     60/100      4.02G     0.5029     0.4682      1.086         59        640: 100%|██████████| 113/113 [00:44<00:00,  2.52it/s]\n",
      "                 Class     Images  Instances      Box(P          R      mAP50  mAP50-95): 100%|██████████| 2/2 [00:00<00:00,  2.72it/s]"
     ]
    },
    {
     "name": "stdout",
     "output_type": "stream",
     "text": [
      "                   all         49         86      0.801      0.607       0.71      0.519\n"
     ]
    },
    {
     "name": "stderr",
     "output_type": "stream",
     "text": [
      "\n"
     ]
    },
    {
     "name": "stdout",
     "output_type": "stream",
     "text": [
      "\n",
      "      Epoch    GPU_mem   box_loss   cls_loss   dfl_loss  Instances       Size\n"
     ]
    },
    {
     "name": "stderr",
     "output_type": "stream",
     "text": [
      "     61/100      4.06G     0.5131     0.4635      1.091         52        640: 100%|██████████| 113/113 [00:44<00:00,  2.52it/s]\n",
      "                 Class     Images  Instances      Box(P          R      mAP50  mAP50-95): 100%|██████████| 2/2 [00:00<00:00,  2.55it/s]"
     ]
    },
    {
     "name": "stdout",
     "output_type": "stream",
     "text": [
      "                   all         49         86      0.808      0.651      0.729      0.545\n"
     ]
    },
    {
     "name": "stderr",
     "output_type": "stream",
     "text": [
      "\n"
     ]
    },
    {
     "name": "stdout",
     "output_type": "stream",
     "text": [
      "\n",
      "      Epoch    GPU_mem   box_loss   cls_loss   dfl_loss  Instances       Size\n"
     ]
    },
    {
     "name": "stderr",
     "output_type": "stream",
     "text": [
      "     62/100      4.04G     0.5043     0.4662      1.093         48        640: 100%|██████████| 113/113 [00:46<00:00,  2.41it/s]\n",
      "                 Class     Images  Instances      Box(P          R      mAP50  mAP50-95): 100%|██████████| 2/2 [00:00<00:00,  2.57it/s]\n"
     ]
    },
    {
     "name": "stdout",
     "output_type": "stream",
     "text": [
      "                   all         49         86      0.822      0.646      0.687      0.535\n",
      "\n",
      "      Epoch    GPU_mem   box_loss   cls_loss   dfl_loss  Instances       Size\n"
     ]
    },
    {
     "name": "stderr",
     "output_type": "stream",
     "text": [
      "     63/100      3.88G     0.5037     0.4537       1.09         56        640: 100%|██████████| 113/113 [00:45<00:00,  2.47it/s]\n",
      "                 Class     Images  Instances      Box(P          R      mAP50  mAP50-95): 100%|██████████| 2/2 [00:00<00:00,  2.42it/s]"
     ]
    },
    {
     "name": "stdout",
     "output_type": "stream",
     "text": [
      "                   all         49         86      0.841      0.709      0.748      0.561\n"
     ]
    },
    {
     "name": "stderr",
     "output_type": "stream",
     "text": [
      "\n"
     ]
    },
    {
     "name": "stdout",
     "output_type": "stream",
     "text": [
      "\n",
      "      Epoch    GPU_mem   box_loss   cls_loss   dfl_loss  Instances       Size\n"
     ]
    },
    {
     "name": "stderr",
     "output_type": "stream",
     "text": [
      "     64/100      4.03G     0.4911     0.4483      1.071         57        640: 100%|██████████| 113/113 [00:45<00:00,  2.50it/s]\n",
      "                 Class     Images  Instances      Box(P          R      mAP50  mAP50-95): 100%|██████████| 2/2 [00:00<00:00,  2.34it/s]"
     ]
    },
    {
     "name": "stdout",
     "output_type": "stream",
     "text": [
      "                   all         49         86      0.763      0.733        0.7      0.546\n"
     ]
    },
    {
     "name": "stderr",
     "output_type": "stream",
     "text": [
      "\n"
     ]
    },
    {
     "name": "stdout",
     "output_type": "stream",
     "text": [
      "\n",
      "      Epoch    GPU_mem   box_loss   cls_loss   dfl_loss  Instances       Size\n"
     ]
    },
    {
     "name": "stderr",
     "output_type": "stream",
     "text": [
      "     65/100      4.05G     0.4876     0.4516       1.08         45        640: 100%|██████████| 113/113 [00:47<00:00,  2.40it/s]\n",
      "                 Class     Images  Instances      Box(P          R      mAP50  mAP50-95): 100%|██████████| 2/2 [00:00<00:00,  2.56it/s]"
     ]
    },
    {
     "name": "stdout",
     "output_type": "stream",
     "text": [
      "                   all         49         86      0.838       0.66      0.706      0.546\n"
     ]
    },
    {
     "name": "stderr",
     "output_type": "stream",
     "text": [
      "\n"
     ]
    },
    {
     "name": "stdout",
     "output_type": "stream",
     "text": [
      "\n",
      "      Epoch    GPU_mem   box_loss   cls_loss   dfl_loss  Instances       Size\n"
     ]
    },
    {
     "name": "stderr",
     "output_type": "stream",
     "text": [
      "     66/100      4.04G     0.4948     0.4451      1.078         52        640: 100%|██████████| 113/113 [00:46<00:00,  2.45it/s]\n",
      "                 Class     Images  Instances      Box(P          R      mAP50  mAP50-95): 100%|██████████| 2/2 [00:00<00:00,  2.13it/s]"
     ]
    },
    {
     "name": "stdout",
     "output_type": "stream",
     "text": [
      "                   all         49         86      0.892      0.579      0.705      0.558\n"
     ]
    },
    {
     "name": "stderr",
     "output_type": "stream",
     "text": [
      "\n"
     ]
    },
    {
     "name": "stdout",
     "output_type": "stream",
     "text": [
      "\n",
      "      Epoch    GPU_mem   box_loss   cls_loss   dfl_loss  Instances       Size\n"
     ]
    },
    {
     "name": "stderr",
     "output_type": "stream",
     "text": [
      "     67/100      3.88G     0.4779     0.4408      1.067         67        640: 100%|██████████| 113/113 [00:46<00:00,  2.43it/s]\n",
      "                 Class     Images  Instances      Box(P          R      mAP50  mAP50-95): 100%|██████████| 2/2 [00:00<00:00,  3.05it/s]"
     ]
    },
    {
     "name": "stdout",
     "output_type": "stream",
     "text": [
      "                   all         49         86      0.803      0.616      0.698      0.528\n"
     ]
    },
    {
     "name": "stderr",
     "output_type": "stream",
     "text": [
      "\n"
     ]
    },
    {
     "name": "stdout",
     "output_type": "stream",
     "text": [
      "\n",
      "      Epoch    GPU_mem   box_loss   cls_loss   dfl_loss  Instances       Size\n"
     ]
    },
    {
     "name": "stderr",
     "output_type": "stream",
     "text": [
      "     68/100      3.87G     0.4739      0.443       1.07         40        640: 100%|██████████| 113/113 [00:45<00:00,  2.51it/s]\n",
      "                 Class     Images  Instances      Box(P          R      mAP50  mAP50-95): 100%|██████████| 2/2 [00:00<00:00,  2.59it/s]"
     ]
    },
    {
     "name": "stdout",
     "output_type": "stream",
     "text": [
      "                   all         49         86      0.822      0.605        0.7      0.519\n"
     ]
    },
    {
     "name": "stderr",
     "output_type": "stream",
     "text": [
      "\n"
     ]
    },
    {
     "name": "stdout",
     "output_type": "stream",
     "text": [
      "\n",
      "      Epoch    GPU_mem   box_loss   cls_loss   dfl_loss  Instances       Size\n"
     ]
    },
    {
     "name": "stderr",
     "output_type": "stream",
     "text": [
      "     69/100      3.87G     0.4766       0.43      1.068         68        640: 100%|██████████| 113/113 [00:46<00:00,  2.43it/s]\n",
      "                 Class     Images  Instances      Box(P          R      mAP50  mAP50-95): 100%|██████████| 2/2 [00:01<00:00,  1.40it/s]"
     ]
    },
    {
     "name": "stdout",
     "output_type": "stream",
     "text": [
      "                   all         49         86      0.749      0.686      0.721      0.552\n"
     ]
    },
    {
     "name": "stderr",
     "output_type": "stream",
     "text": [
      "\n"
     ]
    },
    {
     "name": "stdout",
     "output_type": "stream",
     "text": [
      "\n",
      "      Epoch    GPU_mem   box_loss   cls_loss   dfl_loss  Instances       Size\n"
     ]
    },
    {
     "name": "stderr",
     "output_type": "stream",
     "text": [
      "     70/100      3.88G      0.461     0.4192      1.058         66        640: 100%|██████████| 113/113 [00:46<00:00,  2.41it/s]\n",
      "                 Class     Images  Instances      Box(P          R      mAP50  mAP50-95): 100%|██████████| 2/2 [00:00<00:00,  2.04it/s]"
     ]
    },
    {
     "name": "stdout",
     "output_type": "stream",
     "text": [
      "                   all         49         86      0.825      0.628      0.728      0.559\n"
     ]
    },
    {
     "name": "stderr",
     "output_type": "stream",
     "text": [
      "\n"
     ]
    },
    {
     "name": "stdout",
     "output_type": "stream",
     "text": [
      "\n",
      "      Epoch    GPU_mem   box_loss   cls_loss   dfl_loss  Instances       Size\n"
     ]
    },
    {
     "name": "stderr",
     "output_type": "stream",
     "text": [
      "     71/100      3.88G     0.4539     0.4188      1.056         43        640: 100%|██████████| 113/113 [00:45<00:00,  2.48it/s]\n",
      "                 Class     Images  Instances      Box(P          R      mAP50  mAP50-95): 100%|██████████| 2/2 [00:01<00:00,  1.47it/s]"
     ]
    },
    {
     "name": "stdout",
     "output_type": "stream",
     "text": [
      "                   all         49         86      0.758      0.698      0.697      0.545\n"
     ]
    },
    {
     "name": "stderr",
     "output_type": "stream",
     "text": [
      "\n"
     ]
    },
    {
     "name": "stdout",
     "output_type": "stream",
     "text": [
      "\n",
      "      Epoch    GPU_mem   box_loss   cls_loss   dfl_loss  Instances       Size\n"
     ]
    },
    {
     "name": "stderr",
     "output_type": "stream",
     "text": [
      "     72/100      3.86G     0.4555     0.4126      1.055         54        640: 100%|██████████| 113/113 [00:46<00:00,  2.45it/s]\n",
      "                 Class     Images  Instances      Box(P          R      mAP50  mAP50-95): 100%|██████████| 2/2 [00:00<00:00,  2.92it/s]"
     ]
    },
    {
     "name": "stdout",
     "output_type": "stream",
     "text": [
      "                   all         49         86      0.855       0.64      0.696      0.538\n"
     ]
    },
    {
     "name": "stderr",
     "output_type": "stream",
     "text": [
      "\n"
     ]
    },
    {
     "name": "stdout",
     "output_type": "stream",
     "text": [
      "\n",
      "      Epoch    GPU_mem   box_loss   cls_loss   dfl_loss  Instances       Size\n"
     ]
    },
    {
     "name": "stderr",
     "output_type": "stream",
     "text": [
      "     73/100      4.06G     0.4565     0.4056      1.059         57        640: 100%|██████████| 113/113 [00:45<00:00,  2.48it/s]\n",
      "                 Class     Images  Instances      Box(P          R      mAP50  mAP50-95): 100%|██████████| 2/2 [00:00<00:00,  2.32it/s]"
     ]
    },
    {
     "name": "stdout",
     "output_type": "stream",
     "text": [
      "                   all         49         86      0.808      0.605       0.69      0.542\n"
     ]
    },
    {
     "name": "stderr",
     "output_type": "stream",
     "text": [
      "\n"
     ]
    },
    {
     "name": "stdout",
     "output_type": "stream",
     "text": [
      "\n",
      "      Epoch    GPU_mem   box_loss   cls_loss   dfl_loss  Instances       Size\n"
     ]
    },
    {
     "name": "stderr",
     "output_type": "stream",
     "text": [
      "     74/100      3.88G     0.4516     0.4129      1.052         64        640: 100%|██████████| 113/113 [00:46<00:00,  2.42it/s]\n",
      "                 Class     Images  Instances      Box(P          R      mAP50  mAP50-95): 100%|██████████| 2/2 [00:00<00:00,  2.20it/s]"
     ]
    },
    {
     "name": "stdout",
     "output_type": "stream",
     "text": [
      "                   all         49         86      0.767       0.64       0.64      0.513\n"
     ]
    },
    {
     "name": "stderr",
     "output_type": "stream",
     "text": [
      "\n"
     ]
    },
    {
     "name": "stdout",
     "output_type": "stream",
     "text": [
      "\n",
      "      Epoch    GPU_mem   box_loss   cls_loss   dfl_loss  Instances       Size\n"
     ]
    },
    {
     "name": "stderr",
     "output_type": "stream",
     "text": [
      "     75/100      4.04G     0.4443     0.4061      1.052         66        640: 100%|██████████| 113/113 [00:45<00:00,  2.51it/s]\n",
      "                 Class     Images  Instances      Box(P          R      mAP50  mAP50-95): 100%|██████████| 2/2 [00:00<00:00,  2.13it/s]"
     ]
    },
    {
     "name": "stdout",
     "output_type": "stream",
     "text": [
      "                   all         49         86      0.729      0.651       0.68      0.525\n"
     ]
    },
    {
     "name": "stderr",
     "output_type": "stream",
     "text": [
      "\n"
     ]
    },
    {
     "name": "stdout",
     "output_type": "stream",
     "text": [
      "\n",
      "      Epoch    GPU_mem   box_loss   cls_loss   dfl_loss  Instances       Size\n"
     ]
    },
    {
     "name": "stderr",
     "output_type": "stream",
     "text": [
      "     76/100         4G     0.4483     0.3992      1.047         58        640: 100%|██████████| 113/113 [00:46<00:00,  2.44it/s]\n",
      "                 Class     Images  Instances      Box(P          R      mAP50  mAP50-95): 100%|██████████| 2/2 [00:01<00:00,  1.72it/s]"
     ]
    },
    {
     "name": "stdout",
     "output_type": "stream",
     "text": [
      "                   all         49         86      0.836      0.628      0.722      0.562\n"
     ]
    },
    {
     "name": "stderr",
     "output_type": "stream",
     "text": [
      "\n"
     ]
    },
    {
     "name": "stdout",
     "output_type": "stream",
     "text": [
      "\n",
      "      Epoch    GPU_mem   box_loss   cls_loss   dfl_loss  Instances       Size\n"
     ]
    },
    {
     "name": "stderr",
     "output_type": "stream",
     "text": [
      "     77/100       3.9G     0.4397     0.3956      1.047         49        640: 100%|██████████| 113/113 [00:44<00:00,  2.52it/s]\n",
      "                 Class     Images  Instances      Box(P          R      mAP50  mAP50-95): 100%|██████████| 2/2 [00:00<00:00,  2.57it/s]"
     ]
    },
    {
     "name": "stdout",
     "output_type": "stream",
     "text": [
      "                   all         49         86      0.783       0.64      0.684      0.528\n"
     ]
    },
    {
     "name": "stderr",
     "output_type": "stream",
     "text": [
      "\n"
     ]
    },
    {
     "name": "stdout",
     "output_type": "stream",
     "text": [
      "\n",
      "      Epoch    GPU_mem   box_loss   cls_loss   dfl_loss  Instances       Size\n"
     ]
    },
    {
     "name": "stderr",
     "output_type": "stream",
     "text": [
      "     78/100      4.04G     0.4319     0.3909      1.042         51        640: 100%|██████████| 113/113 [00:45<00:00,  2.47it/s]\n",
      "                 Class     Images  Instances      Box(P          R      mAP50  mAP50-95): 100%|██████████| 2/2 [00:00<00:00,  2.34it/s]"
     ]
    },
    {
     "name": "stdout",
     "output_type": "stream",
     "text": [
      "                   all         49         86       0.78       0.64      0.693      0.532\n"
     ]
    },
    {
     "name": "stderr",
     "output_type": "stream",
     "text": [
      "\n"
     ]
    },
    {
     "name": "stdout",
     "output_type": "stream",
     "text": [
      "\n",
      "      Epoch    GPU_mem   box_loss   cls_loss   dfl_loss  Instances       Size\n"
     ]
    },
    {
     "name": "stderr",
     "output_type": "stream",
     "text": [
      "     79/100      4.04G     0.4308     0.3879      1.038         52        640: 100%|██████████| 113/113 [00:45<00:00,  2.47it/s]\n",
      "                 Class     Images  Instances      Box(P          R      mAP50  mAP50-95): 100%|██████████| 2/2 [00:01<00:00,  1.77it/s]"
     ]
    },
    {
     "name": "stdout",
     "output_type": "stream",
     "text": [
      "                   all         49         86      0.829      0.628      0.682      0.519\n"
     ]
    },
    {
     "name": "stderr",
     "output_type": "stream",
     "text": [
      "\n"
     ]
    },
    {
     "name": "stdout",
     "output_type": "stream",
     "text": [
      "\n",
      "      Epoch    GPU_mem   box_loss   cls_loss   dfl_loss  Instances       Size\n"
     ]
    },
    {
     "name": "stderr",
     "output_type": "stream",
     "text": [
      "     80/100      4.02G     0.4368     0.3938      1.047         55        640: 100%|██████████| 113/113 [00:45<00:00,  2.50it/s]\n",
      "                 Class     Images  Instances      Box(P          R      mAP50  mAP50-95): 100%|██████████| 2/2 [00:00<00:00,  2.67it/s]"
     ]
    },
    {
     "name": "stdout",
     "output_type": "stream",
     "text": [
      "                   all         49         86       0.85      0.592      0.683      0.517\n"
     ]
    },
    {
     "name": "stderr",
     "output_type": "stream",
     "text": [
      "\n"
     ]
    },
    {
     "name": "stdout",
     "output_type": "stream",
     "text": [
      "\n",
      "      Epoch    GPU_mem   box_loss   cls_loss   dfl_loss  Instances       Size\n"
     ]
    },
    {
     "name": "stderr",
     "output_type": "stream",
     "text": [
      "     81/100      4.05G     0.4322     0.3886      1.041         68        640: 100%|██████████| 113/113 [00:44<00:00,  2.52it/s]\n",
      "                 Class     Images  Instances      Box(P          R      mAP50  mAP50-95): 100%|██████████| 2/2 [00:00<00:00,  2.63it/s]"
     ]
    },
    {
     "name": "stdout",
     "output_type": "stream",
     "text": [
      "                   all         49         86      0.848      0.605      0.685      0.529\n"
     ]
    },
    {
     "name": "stderr",
     "output_type": "stream",
     "text": [
      "\n"
     ]
    },
    {
     "name": "stdout",
     "output_type": "stream",
     "text": [
      "\n",
      "      Epoch    GPU_mem   box_loss   cls_loss   dfl_loss  Instances       Size\n"
     ]
    },
    {
     "name": "stderr",
     "output_type": "stream",
     "text": [
      "     82/100      4.04G     0.4285     0.3802      1.034         60        640: 100%|██████████| 113/113 [00:45<00:00,  2.48it/s]\n",
      "                 Class     Images  Instances      Box(P          R      mAP50  mAP50-95): 100%|██████████| 2/2 [00:00<00:00,  2.03it/s]"
     ]
    },
    {
     "name": "stdout",
     "output_type": "stream",
     "text": [
      "                   all         49         86      0.813       0.64      0.694      0.538\n"
     ]
    },
    {
     "name": "stderr",
     "output_type": "stream",
     "text": [
      "\n"
     ]
    },
    {
     "name": "stdout",
     "output_type": "stream",
     "text": [
      "\n",
      "      Epoch    GPU_mem   box_loss   cls_loss   dfl_loss  Instances       Size\n"
     ]
    },
    {
     "name": "stderr",
     "output_type": "stream",
     "text": [
      "     83/100      4.04G     0.4116     0.3758      1.032         44        640: 100%|██████████| 113/113 [00:45<00:00,  2.51it/s]\n",
      "                 Class     Images  Instances      Box(P          R      mAP50  mAP50-95): 100%|██████████| 2/2 [00:00<00:00,  2.65it/s]"
     ]
    },
    {
     "name": "stdout",
     "output_type": "stream",
     "text": [
      "                   all         49         86      0.711      0.709      0.695      0.537\n"
     ]
    },
    {
     "name": "stderr",
     "output_type": "stream",
     "text": [
      "\n"
     ]
    },
    {
     "name": "stdout",
     "output_type": "stream",
     "text": [
      "\n",
      "      Epoch    GPU_mem   box_loss   cls_loss   dfl_loss  Instances       Size\n"
     ]
    },
    {
     "name": "stderr",
     "output_type": "stream",
     "text": [
      "     84/100      4.02G     0.4159     0.3737      1.034         50        640: 100%|██████████| 113/113 [00:44<00:00,  2.53it/s]\n",
      "                 Class     Images  Instances      Box(P          R      mAP50  mAP50-95): 100%|██████████| 2/2 [00:00<00:00,  2.72it/s]"
     ]
    },
    {
     "name": "stdout",
     "output_type": "stream",
     "text": [
      "                   all         49         86      0.791       0.64      0.694      0.537\n"
     ]
    },
    {
     "name": "stderr",
     "output_type": "stream",
     "text": [
      "\n"
     ]
    },
    {
     "name": "stdout",
     "output_type": "stream",
     "text": [
      "\n",
      "      Epoch    GPU_mem   box_loss   cls_loss   dfl_loss  Instances       Size\n"
     ]
    },
    {
     "name": "stderr",
     "output_type": "stream",
     "text": [
      "     85/100      4.04G     0.4057     0.3605      1.019         56        640: 100%|██████████| 113/113 [00:45<00:00,  2.48it/s]\n",
      "                 Class     Images  Instances      Box(P          R      mAP50  mAP50-95): 100%|██████████| 2/2 [00:00<00:00,  2.21it/s]"
     ]
    },
    {
     "name": "stdout",
     "output_type": "stream",
     "text": [
      "                   all         49         86      0.771       0.64       0.69      0.528\n"
     ]
    },
    {
     "name": "stderr",
     "output_type": "stream",
     "text": [
      "\n"
     ]
    },
    {
     "name": "stdout",
     "output_type": "stream",
     "text": [
      "\n",
      "      Epoch    GPU_mem   box_loss   cls_loss   dfl_loss  Instances       Size\n"
     ]
    },
    {
     "name": "stderr",
     "output_type": "stream",
     "text": [
      "     86/100      4.04G     0.4018     0.3578      1.023         45        640: 100%|██████████| 113/113 [00:44<00:00,  2.55it/s]\n",
      "                 Class     Images  Instances      Box(P          R      mAP50  mAP50-95): 100%|██████████| 2/2 [00:00<00:00,  2.48it/s]"
     ]
    },
    {
     "name": "stdout",
     "output_type": "stream",
     "text": [
      "                   all         49         86      0.812      0.616      0.695       0.54\n"
     ]
    },
    {
     "name": "stderr",
     "output_type": "stream",
     "text": [
      "\n"
     ]
    },
    {
     "name": "stdout",
     "output_type": "stream",
     "text": [
      "\n",
      "      Epoch    GPU_mem   box_loss   cls_loss   dfl_loss  Instances       Size\n"
     ]
    },
    {
     "name": "stderr",
     "output_type": "stream",
     "text": [
      "     87/100      4.04G     0.4098     0.3664      1.036         42        640: 100%|██████████| 113/113 [00:44<00:00,  2.52it/s]\n",
      "                 Class     Images  Instances      Box(P          R      mAP50  mAP50-95): 100%|██████████| 2/2 [00:00<00:00,  2.53it/s]"
     ]
    },
    {
     "name": "stdout",
     "output_type": "stream",
     "text": [
      "                   all         49         86      0.868      0.614      0.701      0.535\n"
     ]
    },
    {
     "name": "stderr",
     "output_type": "stream",
     "text": [
      "\n"
     ]
    },
    {
     "name": "stdout",
     "output_type": "stream",
     "text": [
      "\n",
      "      Epoch    GPU_mem   box_loss   cls_loss   dfl_loss  Instances       Size\n"
     ]
    },
    {
     "name": "stderr",
     "output_type": "stream",
     "text": [
      "     88/100      4.02G     0.3955     0.3503      1.022         83        640: 100%|██████████| 113/113 [00:45<00:00,  2.49it/s]\n",
      "                 Class     Images  Instances      Box(P          R      mAP50  mAP50-95): 100%|██████████| 2/2 [00:01<00:00,  1.96it/s]"
     ]
    },
    {
     "name": "stdout",
     "output_type": "stream",
     "text": [
      "                   all         49         86      0.782       0.64       0.69      0.526\n"
     ]
    },
    {
     "name": "stderr",
     "output_type": "stream",
     "text": [
      "\n"
     ]
    },
    {
     "name": "stdout",
     "output_type": "stream",
     "text": [
      "\n",
      "      Epoch    GPU_mem   box_loss   cls_loss   dfl_loss  Instances       Size\n"
     ]
    },
    {
     "name": "stderr",
     "output_type": "stream",
     "text": [
      "     89/100      3.89G      0.397     0.3659       1.02         50        640: 100%|██████████| 113/113 [00:45<00:00,  2.51it/s]\n",
      "                 Class     Images  Instances      Box(P          R      mAP50  mAP50-95): 100%|██████████| 2/2 [00:00<00:00,  2.73it/s]"
     ]
    },
    {
     "name": "stdout",
     "output_type": "stream",
     "text": [
      "                   all         49         86      0.771      0.664      0.688      0.526\n"
     ]
    },
    {
     "name": "stderr",
     "output_type": "stream",
     "text": [
      "\n"
     ]
    },
    {
     "name": "stdout",
     "output_type": "stream",
     "text": [
      "\n",
      "      Epoch    GPU_mem   box_loss   cls_loss   dfl_loss  Instances       Size\n"
     ]
    },
    {
     "name": "stderr",
     "output_type": "stream",
     "text": [
      "     90/100      3.88G     0.3938     0.3485      1.021         56        640: 100%|██████████| 113/113 [00:44<00:00,  2.52it/s]\n",
      "                 Class     Images  Instances      Box(P          R      mAP50  mAP50-95): 100%|██████████| 2/2 [00:01<00:00,  1.77it/s]"
     ]
    },
    {
     "name": "stdout",
     "output_type": "stream",
     "text": [
      "                   all         49         86      0.831      0.663      0.713      0.548\n"
     ]
    },
    {
     "name": "stderr",
     "output_type": "stream",
     "text": [
      "\n"
     ]
    },
    {
     "name": "stdout",
     "output_type": "stream",
     "text": [
      "Closing dataloader mosaic\n",
      "\u001b[34m\u001b[1malbumentations: \u001b[0mBlur(p=0.01, blur_limit=(3, 7)), MedianBlur(p=0.01, blur_limit=(3, 7)), ToGray(p=0.01, num_output_channels=3, method='weighted_average'), CLAHE(p=0.01, clip_limit=(1.0, 4.0), tile_grid_size=(8, 8))\n",
      "\n",
      "      Epoch    GPU_mem   box_loss   cls_loss   dfl_loss  Instances       Size\n"
     ]
    },
    {
     "name": "stderr",
     "output_type": "stream",
     "text": [
      "     91/100      4.02G     0.3158     0.3045     0.9543         18        640: 100%|██████████| 113/113 [00:46<00:00,  2.45it/s]\n",
      "                 Class     Images  Instances      Box(P          R      mAP50  mAP50-95): 100%|██████████| 2/2 [00:00<00:00,  2.39it/s]"
     ]
    },
    {
     "name": "stdout",
     "output_type": "stream",
     "text": [
      "                   all         49         86      0.822      0.628      0.678      0.524\n"
     ]
    },
    {
     "name": "stderr",
     "output_type": "stream",
     "text": [
      "\n"
     ]
    },
    {
     "name": "stdout",
     "output_type": "stream",
     "text": [
      "\n",
      "      Epoch    GPU_mem   box_loss   cls_loss   dfl_loss  Instances       Size\n"
     ]
    },
    {
     "name": "stderr",
     "output_type": "stream",
     "text": [
      "     92/100         4G     0.2869     0.2601     0.9312         29        640: 100%|██████████| 113/113 [00:43<00:00,  2.59it/s]\n",
      "                 Class     Images  Instances      Box(P          R      mAP50  mAP50-95): 100%|██████████| 2/2 [00:00<00:00,  2.55it/s]"
     ]
    },
    {
     "name": "stdout",
     "output_type": "stream",
     "text": [
      "                   all         49         86      0.846      0.637        0.7       0.54\n"
     ]
    },
    {
     "name": "stderr",
     "output_type": "stream",
     "text": [
      "\n"
     ]
    },
    {
     "name": "stdout",
     "output_type": "stream",
     "text": [
      "\n",
      "      Epoch    GPU_mem   box_loss   cls_loss   dfl_loss  Instances       Size\n"
     ]
    },
    {
     "name": "stderr",
     "output_type": "stream",
     "text": [
      "     93/100      4.04G     0.2824     0.2577       0.93         27        640: 100%|██████████| 113/113 [00:43<00:00,  2.57it/s]\n",
      "                 Class     Images  Instances      Box(P          R      mAP50  mAP50-95): 100%|██████████| 2/2 [00:01<00:00,  1.44it/s]"
     ]
    },
    {
     "name": "stdout",
     "output_type": "stream",
     "text": [
      "                   all         49         86      0.825       0.66      0.725      0.564\n"
     ]
    },
    {
     "name": "stderr",
     "output_type": "stream",
     "text": [
      "\n"
     ]
    },
    {
     "name": "stdout",
     "output_type": "stream",
     "text": [
      "\n",
      "      Epoch    GPU_mem   box_loss   cls_loss   dfl_loss  Instances       Size\n"
     ]
    },
    {
     "name": "stderr",
     "output_type": "stream",
     "text": [
      "     94/100      4.04G     0.2739     0.2359     0.9294         28        640: 100%|██████████| 113/113 [00:43<00:00,  2.57it/s]\n",
      "                 Class     Images  Instances      Box(P          R      mAP50  mAP50-95): 100%|██████████| 2/2 [00:00<00:00,  2.94it/s]"
     ]
    },
    {
     "name": "stdout",
     "output_type": "stream",
     "text": [
      "                   all         49         86       0.84      0.628      0.725      0.565\n"
     ]
    },
    {
     "name": "stderr",
     "output_type": "stream",
     "text": [
      "\n"
     ]
    },
    {
     "name": "stdout",
     "output_type": "stream",
     "text": [
      "\n",
      "      Epoch    GPU_mem   box_loss   cls_loss   dfl_loss  Instances       Size\n"
     ]
    },
    {
     "name": "stderr",
     "output_type": "stream",
     "text": [
      "     95/100      4.02G     0.2671     0.2389     0.9195         27        640: 100%|██████████| 113/113 [00:44<00:00,  2.56it/s]\n",
      "                 Class     Images  Instances      Box(P          R      mAP50  mAP50-95): 100%|██████████| 2/2 [00:00<00:00,  2.25it/s]"
     ]
    },
    {
     "name": "stdout",
     "output_type": "stream",
     "text": [
      "                   all         49         86      0.774      0.686      0.717      0.565\n"
     ]
    },
    {
     "name": "stderr",
     "output_type": "stream",
     "text": [
      "\n"
     ]
    },
    {
     "name": "stdout",
     "output_type": "stream",
     "text": [
      "\n",
      "      Epoch    GPU_mem   box_loss   cls_loss   dfl_loss  Instances       Size\n"
     ]
    },
    {
     "name": "stderr",
     "output_type": "stream",
     "text": [
      "     96/100         4G     0.2618     0.2308     0.9165         25        640: 100%|██████████| 113/113 [00:43<00:00,  2.60it/s]\n",
      "                 Class     Images  Instances      Box(P          R      mAP50  mAP50-95): 100%|██████████| 2/2 [00:00<00:00,  2.00it/s]"
     ]
    },
    {
     "name": "stdout",
     "output_type": "stream",
     "text": [
      "                   all         49         86      0.783      0.672      0.715      0.567\n"
     ]
    },
    {
     "name": "stderr",
     "output_type": "stream",
     "text": [
      "\n"
     ]
    },
    {
     "name": "stdout",
     "output_type": "stream",
     "text": [
      "\n",
      "      Epoch    GPU_mem   box_loss   cls_loss   dfl_loss  Instances       Size\n"
     ]
    },
    {
     "name": "stderr",
     "output_type": "stream",
     "text": [
      "     97/100       3.9G     0.2638     0.2375     0.9154         28        640: 100%|██████████| 113/113 [00:44<00:00,  2.54it/s]\n",
      "                 Class     Images  Instances      Box(P          R      mAP50  mAP50-95): 100%|██████████| 2/2 [00:01<00:00,  1.66it/s]"
     ]
    },
    {
     "name": "stdout",
     "output_type": "stream",
     "text": [
      "                   all         49         86       0.82      0.651      0.716      0.575\n"
     ]
    },
    {
     "name": "stderr",
     "output_type": "stream",
     "text": [
      "\n"
     ]
    },
    {
     "name": "stdout",
     "output_type": "stream",
     "text": [
      "\n",
      "      Epoch    GPU_mem   box_loss   cls_loss   dfl_loss  Instances       Size\n"
     ]
    },
    {
     "name": "stderr",
     "output_type": "stream",
     "text": [
      "     98/100      3.86G     0.2615     0.2341     0.9139         20        640: 100%|██████████| 113/113 [00:43<00:00,  2.60it/s]\n",
      "                 Class     Images  Instances      Box(P          R      mAP50  mAP50-95): 100%|██████████| 2/2 [00:00<00:00,  2.45it/s]"
     ]
    },
    {
     "name": "stdout",
     "output_type": "stream",
     "text": [
      "                   all         49         86      0.775      0.686      0.717      0.572\n"
     ]
    },
    {
     "name": "stderr",
     "output_type": "stream",
     "text": [
      "\n"
     ]
    },
    {
     "name": "stdout",
     "output_type": "stream",
     "text": [
      "\n",
      "      Epoch    GPU_mem   box_loss   cls_loss   dfl_loss  Instances       Size\n"
     ]
    },
    {
     "name": "stderr",
     "output_type": "stream",
     "text": [
      "     99/100      4.04G      0.255     0.2272     0.9121         22        640: 100%|██████████| 113/113 [00:44<00:00,  2.56it/s]\n",
      "                 Class     Images  Instances      Box(P          R      mAP50  mAP50-95): 100%|██████████| 2/2 [00:00<00:00,  2.78it/s]"
     ]
    },
    {
     "name": "stdout",
     "output_type": "stream",
     "text": [
      "                   all         49         86      0.771      0.674      0.704      0.563\n"
     ]
    },
    {
     "name": "stderr",
     "output_type": "stream",
     "text": [
      "\n"
     ]
    },
    {
     "name": "stdout",
     "output_type": "stream",
     "text": [
      "\n",
      "      Epoch    GPU_mem   box_loss   cls_loss   dfl_loss  Instances       Size\n"
     ]
    },
    {
     "name": "stderr",
     "output_type": "stream",
     "text": [
      "    100/100         4G     0.2556     0.2327     0.9172         21        640: 100%|██████████| 113/113 [00:43<00:00,  2.61it/s]\n",
      "                 Class     Images  Instances      Box(P          R      mAP50  mAP50-95): 100%|██████████| 2/2 [00:00<00:00,  2.27it/s]"
     ]
    },
    {
     "name": "stdout",
     "output_type": "stream",
     "text": [
      "                   all         49         86      0.765      0.683      0.716      0.572\n"
     ]
    },
    {
     "name": "stderr",
     "output_type": "stream",
     "text": [
      "\n"
     ]
    },
    {
     "name": "stdout",
     "output_type": "stream",
     "text": [
      "\n",
      "100 epochs completed in 1.322 hours.\n",
      "Optimizer stripped from /content/drive/MyDrive/yolov8-training/coral-detector/weights/last.pt, 22.5MB\n",
      "Optimizer stripped from /content/drive/MyDrive/yolov8-training/coral-detector/weights/best.pt, 22.5MB\n",
      "\n",
      "Validating /content/drive/MyDrive/yolov8-training/coral-detector/weights/best.pt...\n",
      "Ultralytics 8.3.75 🚀 Python-3.11.11 torch-2.5.1+cu124 CUDA:0 (Tesla T4, 15095MiB)\n",
      "Model summary (fused): 168 layers, 11,125,971 parameters, 0 gradients, 28.4 GFLOPs\n"
     ]
    },
    {
     "name": "stderr",
     "output_type": "stream",
     "text": [
      "                 Class     Images  Instances      Box(P          R      mAP50  mAP50-95): 100%|██████████| 2/2 [00:00<00:00,  2.08it/s]\n"
     ]
    },
    {
     "name": "stdout",
     "output_type": "stream",
     "text": [
      "                   all         49         86      0.874      0.616      0.751      0.591\n",
      "Speed: 0.2ms preprocess, 5.4ms inference, 0.0ms loss, 2.4ms postprocess per image\n",
      "Results saved to \u001b[1m/content/drive/MyDrive/yolov8-training/coral-detector\u001b[0m\n"
     ]
    },
    {
     "data": {
      "text/plain": [
       "ultralytics.utils.metrics.DetMetrics object with attributes:\n",
       "\n",
       "ap_class_index: array([0])\n",
       "box: ultralytics.utils.metrics.Metric object\n",
       "confusion_matrix: <ultralytics.utils.metrics.ConfusionMatrix object at 0x7e8c5709f410>\n",
       "curves: ['Precision-Recall(B)', 'F1-Confidence(B)', 'Precision-Confidence(B)', 'Recall-Confidence(B)']\n",
       "curves_results: [[array([          0,    0.001001,    0.002002,    0.003003,    0.004004,    0.005005,    0.006006,    0.007007,    0.008008,    0.009009,     0.01001,    0.011011,    0.012012,    0.013013,    0.014014,    0.015015,    0.016016,    0.017017,    0.018018,    0.019019,     0.02002,    0.021021,    0.022022,    0.023023,\n",
       "          0.024024,    0.025025,    0.026026,    0.027027,    0.028028,    0.029029,     0.03003,    0.031031,    0.032032,    0.033033,    0.034034,    0.035035,    0.036036,    0.037037,    0.038038,    0.039039,     0.04004,    0.041041,    0.042042,    0.043043,    0.044044,    0.045045,    0.046046,    0.047047,\n",
       "          0.048048,    0.049049,     0.05005,    0.051051,    0.052052,    0.053053,    0.054054,    0.055055,    0.056056,    0.057057,    0.058058,    0.059059,     0.06006,    0.061061,    0.062062,    0.063063,    0.064064,    0.065065,    0.066066,    0.067067,    0.068068,    0.069069,     0.07007,    0.071071,\n",
       "          0.072072,    0.073073,    0.074074,    0.075075,    0.076076,    0.077077,    0.078078,    0.079079,     0.08008,    0.081081,    0.082082,    0.083083,    0.084084,    0.085085,    0.086086,    0.087087,    0.088088,    0.089089,     0.09009,    0.091091,    0.092092,    0.093093,    0.094094,    0.095095,\n",
       "          0.096096,    0.097097,    0.098098,    0.099099,      0.1001,      0.1011,      0.1021,      0.1031,      0.1041,     0.10511,     0.10611,     0.10711,     0.10811,     0.10911,     0.11011,     0.11111,     0.11211,     0.11311,     0.11411,     0.11512,     0.11612,     0.11712,     0.11812,     0.11912,\n",
       "           0.12012,     0.12112,     0.12212,     0.12312,     0.12412,     0.12513,     0.12613,     0.12713,     0.12813,     0.12913,     0.13013,     0.13113,     0.13213,     0.13313,     0.13413,     0.13514,     0.13614,     0.13714,     0.13814,     0.13914,     0.14014,     0.14114,     0.14214,     0.14314,\n",
       "           0.14414,     0.14515,     0.14615,     0.14715,     0.14815,     0.14915,     0.15015,     0.15115,     0.15215,     0.15315,     0.15415,     0.15516,     0.15616,     0.15716,     0.15816,     0.15916,     0.16016,     0.16116,     0.16216,     0.16316,     0.16416,     0.16517,     0.16617,     0.16717,\n",
       "           0.16817,     0.16917,     0.17017,     0.17117,     0.17217,     0.17317,     0.17417,     0.17518,     0.17618,     0.17718,     0.17818,     0.17918,     0.18018,     0.18118,     0.18218,     0.18318,     0.18418,     0.18519,     0.18619,     0.18719,     0.18819,     0.18919,     0.19019,     0.19119,\n",
       "           0.19219,     0.19319,     0.19419,      0.1952,      0.1962,      0.1972,      0.1982,      0.1992,      0.2002,      0.2012,      0.2022,      0.2032,      0.2042,     0.20521,     0.20621,     0.20721,     0.20821,     0.20921,     0.21021,     0.21121,     0.21221,     0.21321,     0.21421,     0.21522,\n",
       "           0.21622,     0.21722,     0.21822,     0.21922,     0.22022,     0.22122,     0.22222,     0.22322,     0.22422,     0.22523,     0.22623,     0.22723,     0.22823,     0.22923,     0.23023,     0.23123,     0.23223,     0.23323,     0.23423,     0.23524,     0.23624,     0.23724,     0.23824,     0.23924,\n",
       "           0.24024,     0.24124,     0.24224,     0.24324,     0.24424,     0.24525,     0.24625,     0.24725,     0.24825,     0.24925,     0.25025,     0.25125,     0.25225,     0.25325,     0.25425,     0.25526,     0.25626,     0.25726,     0.25826,     0.25926,     0.26026,     0.26126,     0.26226,     0.26326,\n",
       "           0.26426,     0.26527,     0.26627,     0.26727,     0.26827,     0.26927,     0.27027,     0.27127,     0.27227,     0.27327,     0.27427,     0.27528,     0.27628,     0.27728,     0.27828,     0.27928,     0.28028,     0.28128,     0.28228,     0.28328,     0.28428,     0.28529,     0.28629,     0.28729,\n",
       "           0.28829,     0.28929,     0.29029,     0.29129,     0.29229,     0.29329,     0.29429,      0.2953,      0.2963,      0.2973,      0.2983,      0.2993,      0.3003,      0.3013,      0.3023,      0.3033,      0.3043,     0.30531,     0.30631,     0.30731,     0.30831,     0.30931,     0.31031,     0.31131,\n",
       "           0.31231,     0.31331,     0.31431,     0.31532,     0.31632,     0.31732,     0.31832,     0.31932,     0.32032,     0.32132,     0.32232,     0.32332,     0.32432,     0.32533,     0.32633,     0.32733,     0.32833,     0.32933,     0.33033,     0.33133,     0.33233,     0.33333,     0.33433,     0.33534,\n",
       "           0.33634,     0.33734,     0.33834,     0.33934,     0.34034,     0.34134,     0.34234,     0.34334,     0.34434,     0.34535,     0.34635,     0.34735,     0.34835,     0.34935,     0.35035,     0.35135,     0.35235,     0.35335,     0.35435,     0.35536,     0.35636,     0.35736,     0.35836,     0.35936,\n",
       "           0.36036,     0.36136,     0.36236,     0.36336,     0.36436,     0.36537,     0.36637,     0.36737,     0.36837,     0.36937,     0.37037,     0.37137,     0.37237,     0.37337,     0.37437,     0.37538,     0.37638,     0.37738,     0.37838,     0.37938,     0.38038,     0.38138,     0.38238,     0.38338,\n",
       "           0.38438,     0.38539,     0.38639,     0.38739,     0.38839,     0.38939,     0.39039,     0.39139,     0.39239,     0.39339,     0.39439,      0.3954,      0.3964,      0.3974,      0.3984,      0.3994,      0.4004,      0.4014,      0.4024,      0.4034,      0.4044,     0.40541,     0.40641,     0.40741,\n",
       "           0.40841,     0.40941,     0.41041,     0.41141,     0.41241,     0.41341,     0.41441,     0.41542,     0.41642,     0.41742,     0.41842,     0.41942,     0.42042,     0.42142,     0.42242,     0.42342,     0.42442,     0.42543,     0.42643,     0.42743,     0.42843,     0.42943,     0.43043,     0.43143,\n",
       "           0.43243,     0.43343,     0.43443,     0.43544,     0.43644,     0.43744,     0.43844,     0.43944,     0.44044,     0.44144,     0.44244,     0.44344,     0.44444,     0.44545,     0.44645,     0.44745,     0.44845,     0.44945,     0.45045,     0.45145,     0.45245,     0.45345,     0.45445,     0.45546,\n",
       "           0.45646,     0.45746,     0.45846,     0.45946,     0.46046,     0.46146,     0.46246,     0.46346,     0.46446,     0.46547,     0.46647,     0.46747,     0.46847,     0.46947,     0.47047,     0.47147,     0.47247,     0.47347,     0.47447,     0.47548,     0.47648,     0.47748,     0.47848,     0.47948,\n",
       "           0.48048,     0.48148,     0.48248,     0.48348,     0.48448,     0.48549,     0.48649,     0.48749,     0.48849,     0.48949,     0.49049,     0.49149,     0.49249,     0.49349,     0.49449,      0.4955,      0.4965,      0.4975,      0.4985,      0.4995,      0.5005,      0.5015,      0.5025,      0.5035,\n",
       "            0.5045,     0.50551,     0.50651,     0.50751,     0.50851,     0.50951,     0.51051,     0.51151,     0.51251,     0.51351,     0.51451,     0.51552,     0.51652,     0.51752,     0.51852,     0.51952,     0.52052,     0.52152,     0.52252,     0.52352,     0.52452,     0.52553,     0.52653,     0.52753,\n",
       "           0.52853,     0.52953,     0.53053,     0.53153,     0.53253,     0.53353,     0.53453,     0.53554,     0.53654,     0.53754,     0.53854,     0.53954,     0.54054,     0.54154,     0.54254,     0.54354,     0.54454,     0.54555,     0.54655,     0.54755,     0.54855,     0.54955,     0.55055,     0.55155,\n",
       "           0.55255,     0.55355,     0.55455,     0.55556,     0.55656,     0.55756,     0.55856,     0.55956,     0.56056,     0.56156,     0.56256,     0.56356,     0.56456,     0.56557,     0.56657,     0.56757,     0.56857,     0.56957,     0.57057,     0.57157,     0.57257,     0.57357,     0.57457,     0.57558,\n",
       "           0.57658,     0.57758,     0.57858,     0.57958,     0.58058,     0.58158,     0.58258,     0.58358,     0.58458,     0.58559,     0.58659,     0.58759,     0.58859,     0.58959,     0.59059,     0.59159,     0.59259,     0.59359,     0.59459,      0.5956,      0.5966,      0.5976,      0.5986,      0.5996,\n",
       "            0.6006,      0.6016,      0.6026,      0.6036,      0.6046,     0.60561,     0.60661,     0.60761,     0.60861,     0.60961,     0.61061,     0.61161,     0.61261,     0.61361,     0.61461,     0.61562,     0.61662,     0.61762,     0.61862,     0.61962,     0.62062,     0.62162,     0.62262,     0.62362,\n",
       "           0.62462,     0.62563,     0.62663,     0.62763,     0.62863,     0.62963,     0.63063,     0.63163,     0.63263,     0.63363,     0.63463,     0.63564,     0.63664,     0.63764,     0.63864,     0.63964,     0.64064,     0.64164,     0.64264,     0.64364,     0.64464,     0.64565,     0.64665,     0.64765,\n",
       "           0.64865,     0.64965,     0.65065,     0.65165,     0.65265,     0.65365,     0.65465,     0.65566,     0.65666,     0.65766,     0.65866,     0.65966,     0.66066,     0.66166,     0.66266,     0.66366,     0.66466,     0.66567,     0.66667,     0.66767,     0.66867,     0.66967,     0.67067,     0.67167,\n",
       "           0.67267,     0.67367,     0.67467,     0.67568,     0.67668,     0.67768,     0.67868,     0.67968,     0.68068,     0.68168,     0.68268,     0.68368,     0.68468,     0.68569,     0.68669,     0.68769,     0.68869,     0.68969,     0.69069,     0.69169,     0.69269,     0.69369,     0.69469,      0.6957,\n",
       "            0.6967,      0.6977,      0.6987,      0.6997,      0.7007,      0.7017,      0.7027,      0.7037,      0.7047,     0.70571,     0.70671,     0.70771,     0.70871,     0.70971,     0.71071,     0.71171,     0.71271,     0.71371,     0.71471,     0.71572,     0.71672,     0.71772,     0.71872,     0.71972,\n",
       "           0.72072,     0.72172,     0.72272,     0.72372,     0.72472,     0.72573,     0.72673,     0.72773,     0.72873,     0.72973,     0.73073,     0.73173,     0.73273,     0.73373,     0.73473,     0.73574,     0.73674,     0.73774,     0.73874,     0.73974,     0.74074,     0.74174,     0.74274,     0.74374,\n",
       "           0.74474,     0.74575,     0.74675,     0.74775,     0.74875,     0.74975,     0.75075,     0.75175,     0.75275,     0.75375,     0.75475,     0.75576,     0.75676,     0.75776,     0.75876,     0.75976,     0.76076,     0.76176,     0.76276,     0.76376,     0.76476,     0.76577,     0.76677,     0.76777,\n",
       "           0.76877,     0.76977,     0.77077,     0.77177,     0.77277,     0.77377,     0.77477,     0.77578,     0.77678,     0.77778,     0.77878,     0.77978,     0.78078,     0.78178,     0.78278,     0.78378,     0.78478,     0.78579,     0.78679,     0.78779,     0.78879,     0.78979,     0.79079,     0.79179,\n",
       "           0.79279,     0.79379,     0.79479,      0.7958,      0.7968,      0.7978,      0.7988,      0.7998,      0.8008,      0.8018,      0.8028,      0.8038,      0.8048,     0.80581,     0.80681,     0.80781,     0.80881,     0.80981,     0.81081,     0.81181,     0.81281,     0.81381,     0.81481,     0.81582,\n",
       "           0.81682,     0.81782,     0.81882,     0.81982,     0.82082,     0.82182,     0.82282,     0.82382,     0.82482,     0.82583,     0.82683,     0.82783,     0.82883,     0.82983,     0.83083,     0.83183,     0.83283,     0.83383,     0.83483,     0.83584,     0.83684,     0.83784,     0.83884,     0.83984,\n",
       "           0.84084,     0.84184,     0.84284,     0.84384,     0.84484,     0.84585,     0.84685,     0.84785,     0.84885,     0.84985,     0.85085,     0.85185,     0.85285,     0.85385,     0.85485,     0.85586,     0.85686,     0.85786,     0.85886,     0.85986,     0.86086,     0.86186,     0.86286,     0.86386,\n",
       "           0.86486,     0.86587,     0.86687,     0.86787,     0.86887,     0.86987,     0.87087,     0.87187,     0.87287,     0.87387,     0.87487,     0.87588,     0.87688,     0.87788,     0.87888,     0.87988,     0.88088,     0.88188,     0.88288,     0.88388,     0.88488,     0.88589,     0.88689,     0.88789,\n",
       "           0.88889,     0.88989,     0.89089,     0.89189,     0.89289,     0.89389,     0.89489,      0.8959,      0.8969,      0.8979,      0.8989,      0.8999,      0.9009,      0.9019,      0.9029,      0.9039,      0.9049,     0.90591,     0.90691,     0.90791,     0.90891,     0.90991,     0.91091,     0.91191,\n",
       "           0.91291,     0.91391,     0.91491,     0.91592,     0.91692,     0.91792,     0.91892,     0.91992,     0.92092,     0.92192,     0.92292,     0.92392,     0.92492,     0.92593,     0.92693,     0.92793,     0.92893,     0.92993,     0.93093,     0.93193,     0.93293,     0.93393,     0.93493,     0.93594,\n",
       "           0.93694,     0.93794,     0.93894,     0.93994,     0.94094,     0.94194,     0.94294,     0.94394,     0.94494,     0.94595,     0.94695,     0.94795,     0.94895,     0.94995,     0.95095,     0.95195,     0.95295,     0.95395,     0.95495,     0.95596,     0.95696,     0.95796,     0.95896,     0.95996,\n",
       "           0.96096,     0.96196,     0.96296,     0.96396,     0.96496,     0.96597,     0.96697,     0.96797,     0.96897,     0.96997,     0.97097,     0.97197,     0.97297,     0.97397,     0.97497,     0.97598,     0.97698,     0.97798,     0.97898,     0.97998,     0.98098,     0.98198,     0.98298,     0.98398,\n",
       "           0.98498,     0.98599,     0.98699,     0.98799,     0.98899,     0.98999,     0.99099,     0.99199,     0.99299,     0.99399,     0.99499,       0.996,       0.997,       0.998,       0.999,           1]), array([[          1,           1,           1,           1,           1,           1,           1,           1,           1,           1,           1,           1,           1,           1,           1,           1,           1,           1,           1,           1,           1,           1,           1,\n",
       "                  1,           1,           1,           1,           1,           1,           1,           1,           1,           1,           1,           1,           1,           1,           1,           1,           1,           1,           1,           1,           1,           1,           1,\n",
       "                  1,           1,           1,           1,           1,           1,           1,           1,           1,           1,           1,           1,           1,     0.97368,     0.97368,     0.97368,     0.97368,     0.97368,     0.97368,     0.97368,     0.97368,     0.97368,     0.97368,\n",
       "            0.97368,     0.97368,     0.97368,     0.97368,     0.97368,     0.97368,     0.97368,     0.97368,     0.97368,     0.97368,     0.97368,     0.97368,     0.97368,     0.97368,     0.97368,     0.97368,     0.97368,     0.97368,     0.97368,     0.97368,     0.97368,     0.97368,     0.97368,\n",
       "            0.97368,     0.97368,     0.97368,     0.97368,     0.97368,     0.97368,     0.97368,     0.97368,     0.97368,     0.97368,     0.97368,     0.97368,     0.97368,     0.97368,     0.97368,     0.97368,     0.97368,     0.97368,     0.97368,     0.97368,     0.97368,     0.97368,     0.97368,\n",
       "            0.97368,     0.97368,     0.97368,     0.97368,     0.97368,     0.97368,     0.97368,     0.97368,     0.97368,     0.97368,     0.97368,     0.97368,     0.97368,     0.97368,     0.97368,     0.97368,     0.97368,     0.97368,     0.97368,     0.97368,     0.97368,     0.97368,     0.97368,\n",
       "            0.97368,     0.97368,     0.97368,     0.97368,     0.97368,     0.97368,     0.97368,     0.97368,     0.97368,     0.97368,     0.97368,     0.97368,     0.97368,     0.97368,     0.97368,     0.97368,     0.97368,     0.97368,     0.97368,     0.97368,     0.97368,     0.97368,     0.97368,\n",
       "            0.97368,     0.97368,     0.97368,     0.97368,     0.97368,     0.97368,     0.97368,     0.97368,     0.97368,     0.97368,     0.97368,     0.97368,     0.97368,     0.97368,     0.97368,     0.97368,     0.97368,     0.97368,     0.97368,     0.97368,     0.97368,     0.97368,     0.97368,\n",
       "            0.97368,     0.97368,     0.97368,     0.97368,     0.97368,     0.97368,     0.97368,     0.97368,     0.97368,     0.97368,     0.97368,     0.97368,     0.97368,     0.97368,     0.97368,     0.97368,     0.97368,     0.97368,     0.97368,     0.97368,     0.97368,     0.97368,     0.97368,\n",
       "            0.97368,     0.97368,     0.97368,     0.97368,     0.97368,     0.97368,     0.97368,     0.97368,     0.97368,     0.97368,     0.97368,     0.97368,     0.97368,     0.97368,     0.97368,     0.97368,     0.97368,     0.97368,     0.97368,     0.97368,     0.97368,     0.97368,     0.97368,\n",
       "            0.97368,     0.97368,     0.97368,     0.97368,     0.97368,     0.97368,     0.97368,     0.97368,     0.97368,     0.97368,     0.97368,     0.97368,     0.97368,     0.97368,     0.97368,     0.97368,     0.97368,     0.97368,     0.97368,     0.97368,     0.97368,     0.97368,     0.97368,\n",
       "            0.97368,     0.97368,     0.97368,     0.97368,     0.97368,     0.97368,     0.97368,     0.97368,     0.97368,     0.97368,     0.97368,     0.97368,     0.97368,     0.97368,     0.97368,     0.97368,     0.97368,     0.97368,     0.97368,     0.97368,     0.97368,     0.97368,     0.97368,\n",
       "            0.97368,     0.97368,     0.97368,     0.97368,     0.97368,     0.97368,     0.97368,     0.97368,     0.97368,     0.97368,     0.97368,     0.97368,     0.97368,     0.97368,     0.97368,     0.97368,     0.97368,     0.97368,     0.97368,     0.97368,     0.97368,     0.97368,     0.97368,\n",
       "            0.97368,     0.97368,     0.97368,     0.97368,     0.97368,     0.97368,     0.97368,     0.97368,     0.97368,     0.97368,     0.97368,     0.97368,     0.97368,     0.97368,     0.97368,     0.97368,     0.97368,     0.97368,     0.97368,     0.97368,     0.97368,     0.97368,     0.97368,\n",
       "            0.97368,     0.97368,     0.97368,     0.97368,     0.97368,     0.97368,     0.97368,     0.97368,     0.97368,     0.97368,     0.97368,     0.97368,     0.97368,     0.97368,     0.97368,     0.97368,     0.97368,     0.97368,     0.97368,     0.97368,     0.97368,     0.97368,     0.97368,\n",
       "            0.97368,     0.97368,     0.97368,     0.97368,     0.97368,     0.97368,     0.97368,     0.97368,     0.97368,     0.97368,     0.97368,     0.97368,     0.97368,     0.97368,     0.97368,     0.97368,     0.97368,     0.97368,     0.97368,     0.97368,     0.97368,     0.97368,     0.97368,\n",
       "            0.97368,     0.97368,     0.97368,     0.97368,     0.97368,     0.97368,     0.97368,     0.97368,     0.97368,     0.97368,     0.97368,     0.97368,     0.97368,     0.97368,     0.97368,     0.97368,     0.97368,     0.97368,     0.97368,     0.97368,     0.97368,     0.97368,     0.97368,\n",
       "            0.97368,     0.97368,     0.97368,     0.97368,     0.97368,     0.97368,     0.97368,     0.97368,     0.97368,     0.97368,     0.97368,     0.97368,     0.97368,     0.97368,     0.97368,     0.97368,     0.97368,     0.97368,     0.97368,     0.97368,     0.97368,     0.97368,     0.97368,\n",
       "            0.97368,     0.97368,     0.97368,     0.97368,     0.97368,     0.97368,     0.97368,     0.97368,     0.97368,     0.97368,     0.97368,     0.97368,     0.97368,     0.97368,     0.97368,     0.97368,     0.95455,     0.95455,     0.95455,     0.95455,     0.95455,     0.95455,     0.95455,\n",
       "            0.95455,     0.95455,     0.95455,     0.95455,     0.95455,     0.95455,     0.95455,     0.95455,     0.95455,     0.95455,     0.95455,     0.95455,     0.95455,     0.95455,     0.95455,     0.95455,     0.95455,     0.95455,     0.95455,     0.95455,     0.95455,     0.95455,     0.95455,\n",
       "            0.95455,     0.95455,     0.95455,     0.95455,     0.95455,     0.95455,     0.95455,     0.95455,     0.95455,     0.95455,     0.95455,     0.95455,     0.95455,     0.95455,     0.95455,     0.95455,     0.95455,     0.95455,     0.95455,     0.95455,     0.95455,     0.95455,     0.95455,\n",
       "            0.95455,     0.95455,     0.95455,     0.95455,     0.95455,      0.9375,      0.9375,      0.9375,      0.9375,      0.9375,      0.9375,      0.9375,      0.9375,      0.9375,      0.9375,      0.9375,      0.9375,      0.9375,      0.9375,      0.9375,      0.9375,      0.9375,      0.9375,\n",
       "             0.9375,      0.9375,      0.9375,      0.9375,      0.9375,      0.9375,      0.9375,      0.9375,      0.9375,      0.9375,      0.9375,      0.9375,      0.9375,      0.9375,      0.9375,      0.9375,      0.9375,     0.92727,     0.92727,     0.92727,     0.92727,     0.92727,     0.92727,\n",
       "            0.92727,     0.92727,     0.92727,     0.92727,     0.92727,     0.92727,     0.92727,     0.92727,     0.92727,     0.92727,     0.92727,     0.92727,     0.92727,     0.92727,     0.92727,     0.92727,     0.92727,     0.92727,     0.92727,     0.92727,     0.92727,     0.92727,     0.92727,\n",
       "            0.92727,     0.92727,     0.92727,     0.92727,     0.92727,     0.92727,     0.92727,     0.92727,     0.92727,     0.92727,     0.92727,     0.92727,     0.92727,     0.92727,     0.92727,     0.92727,     0.92727,     0.92727,     0.92727,     0.92727,     0.92727,     0.92727,     0.92727,\n",
       "            0.92727,     0.92727,     0.92727,     0.92727,     0.92727,     0.92727,     0.92727,     0.92727,     0.92727,     0.92727,     0.92727,     0.92727,     0.92727,     0.92727,     0.92727,     0.92727,     0.92727,     0.92727,     0.88333,     0.88333,     0.88333,     0.88333,     0.88333,\n",
       "            0.88333,     0.88333,     0.88333,     0.88333,     0.88333,     0.88333,     0.88333,     0.88333,     0.88333,     0.88333,     0.88333,     0.88333,     0.88333,     0.88333,     0.88333,     0.88333,     0.88333,     0.88333,     0.80597,     0.80597,     0.80597,     0.80597,     0.80597,\n",
       "            0.80597,     0.80597,     0.80597,     0.80597,     0.80597,     0.80597,     0.80597,     0.79167,     0.79167,     0.79167,     0.79167,     0.79167,     0.79167,     0.79167,     0.79167,     0.79167,     0.79167,     0.79167,     0.79167,     0.79167,     0.79167,     0.79167,     0.79167,\n",
       "            0.79167,     0.79167,     0.79167,     0.79167,     0.79167,     0.79167,     0.79167,     0.79167,     0.79167,     0.79167,     0.79167,     0.79167,     0.79167,     0.79167,     0.79167,     0.79167,     0.79167,     0.79167,     0.79167,       0.725,       0.725,       0.725,       0.725,\n",
       "              0.725,       0.725,       0.725,       0.725,       0.725,       0.725,       0.725,     0.67416,     0.67416,     0.67416,     0.67416,     0.67416,     0.67416,     0.67416,     0.67416,     0.67416,     0.67416,     0.67416,     0.67416,     0.67416,     0.67416,     0.67416,     0.67416,\n",
       "            0.67416,     0.67416,     0.67416,     0.67416,     0.67416,     0.67416,     0.67416,     0.67033,     0.67033,     0.67033,     0.67033,     0.67033,     0.67033,     0.67033,     0.67033,     0.67033,     0.67033,     0.67033,     0.67033,     0.66667,     0.66667,     0.66667,     0.66667,\n",
       "            0.66667,     0.66667,     0.66667,     0.66667,     0.66667,     0.66667,     0.66667,     0.66667,     0.64286,     0.64286,     0.64286,     0.64286,     0.64286,     0.64286,     0.64286,     0.64286,     0.64286,     0.64286,     0.64286,     0.62136,     0.62136,     0.62136,     0.62136,\n",
       "            0.62136,     0.62136,     0.62136,     0.62136,     0.62136,     0.62136,     0.62136,     0.62136,     0.60185,     0.60185,     0.60185,     0.60185,     0.60185,     0.60185,     0.60185,     0.60185,     0.60185,     0.60185,     0.60185,     0.60185,     0.58407,     0.58407,     0.58407,\n",
       "            0.58407,     0.58407,     0.58407,     0.58407,     0.58407,     0.58407,     0.58407,     0.58407,     0.54032,     0.54032,     0.54032,     0.54032,     0.54032,     0.54032,     0.54032,     0.54032,     0.54032,     0.54032,     0.54032,     0.54032,     0.48921,     0.48921,     0.48921,\n",
       "            0.48921,     0.48921,     0.48921,     0.48921,     0.48921,     0.48921,     0.48921,     0.48921,     0.47917,     0.47917,     0.47917,     0.47917,     0.47917,     0.47917,     0.47917,     0.47917,     0.47917,     0.47917,     0.47917,     0.47917,     0.47619,     0.47619,     0.47619,\n",
       "            0.47619,     0.47619,     0.47619,     0.47619,     0.47619,     0.47619,     0.47619,     0.47619,     0.47619,     0.37173,     0.37173,     0.37173,     0.37173,     0.37173,     0.37173,     0.37173,     0.37173,     0.37173,     0.37173,     0.37173,     0.36181,     0.36181,     0.36181,\n",
       "            0.36181,     0.36181,     0.36181,     0.36181,     0.36181,     0.36181,     0.36181,     0.36181,     0.36181,     0.32735,     0.32735,     0.32735,     0.32735,     0.32735,     0.32735,     0.32735,     0.32735,     0.32735,     0.32735,     0.32735,     0.32174,     0.32174,     0.32174,\n",
       "            0.32174,     0.32174,     0.32174,     0.32174,     0.32174,     0.32174,     0.32174,     0.32174,     0.32174,     0.20718,     0.20718,     0.20718,     0.20718,     0.20718,     0.20718,     0.20718,     0.20718,     0.20718,     0.20718,     0.20718,     0.20718,       0.152,       0.152,\n",
       "              0.152,       0.152,       0.152,       0.152,       0.152,       0.152,       0.152,       0.152,       0.152,     0.13604,     0.13604,     0.13604,     0.13604,     0.13604,     0.13604,     0.13604,     0.13604,     0.13604,     0.13604,     0.13604,     0.13604,     0.11931,     0.11816,\n",
       "            0.11702,     0.11587,     0.11472,     0.11357,     0.11243,     0.11128,     0.11013,     0.10899,     0.10784,     0.10669,     0.10554,      0.1044,     0.10325,      0.1021,     0.10096,    0.099808,    0.098661,    0.097514,    0.096366,    0.095219,    0.094072,    0.092925,    0.091777,\n",
       "            0.09063,    0.089483,    0.088336,    0.087189,    0.086041,    0.084894,    0.083747,      0.0826,    0.081453,    0.080305,    0.079158,    0.078011,    0.076864,    0.075716,    0.074569,    0.073422,    0.072275,    0.071128,     0.06998,    0.068833,    0.067686,    0.066539,    0.065391,\n",
       "           0.064244,    0.063097,     0.06195,    0.060803,    0.059655,    0.058508,    0.057361,    0.056214,    0.055066,    0.053919,    0.052772,    0.051625,    0.050478,     0.04933,    0.048183,    0.047036,    0.045889,    0.044742,    0.043594,    0.042447,      0.0413,    0.040153,    0.039005,\n",
       "           0.037858,    0.036711,    0.035564,    0.034417,    0.033269,    0.032122,    0.030975,    0.029828,     0.02868,    0.027533,    0.026386,    0.025239,    0.024092,    0.022944,    0.021797,     0.02065,    0.019503,    0.018355,    0.017208,    0.016061,    0.014914,    0.013767,    0.012619,\n",
       "           0.011472,    0.010325,   0.0091777,   0.0080305,   0.0068833,   0.0057361,   0.0045889,   0.0034417,   0.0022944,   0.0011472,           0]]), 'Recall', 'Precision'], [array([          0,    0.001001,    0.002002,    0.003003,    0.004004,    0.005005,    0.006006,    0.007007,    0.008008,    0.009009,     0.01001,    0.011011,    0.012012,    0.013013,    0.014014,    0.015015,    0.016016,    0.017017,    0.018018,    0.019019,     0.02002,    0.021021,    0.022022,    0.023023,\n",
       "          0.024024,    0.025025,    0.026026,    0.027027,    0.028028,    0.029029,     0.03003,    0.031031,    0.032032,    0.033033,    0.034034,    0.035035,    0.036036,    0.037037,    0.038038,    0.039039,     0.04004,    0.041041,    0.042042,    0.043043,    0.044044,    0.045045,    0.046046,    0.047047,\n",
       "          0.048048,    0.049049,     0.05005,    0.051051,    0.052052,    0.053053,    0.054054,    0.055055,    0.056056,    0.057057,    0.058058,    0.059059,     0.06006,    0.061061,    0.062062,    0.063063,    0.064064,    0.065065,    0.066066,    0.067067,    0.068068,    0.069069,     0.07007,    0.071071,\n",
       "          0.072072,    0.073073,    0.074074,    0.075075,    0.076076,    0.077077,    0.078078,    0.079079,     0.08008,    0.081081,    0.082082,    0.083083,    0.084084,    0.085085,    0.086086,    0.087087,    0.088088,    0.089089,     0.09009,    0.091091,    0.092092,    0.093093,    0.094094,    0.095095,\n",
       "          0.096096,    0.097097,    0.098098,    0.099099,      0.1001,      0.1011,      0.1021,      0.1031,      0.1041,     0.10511,     0.10611,     0.10711,     0.10811,     0.10911,     0.11011,     0.11111,     0.11211,     0.11311,     0.11411,     0.11512,     0.11612,     0.11712,     0.11812,     0.11912,\n",
       "           0.12012,     0.12112,     0.12212,     0.12312,     0.12412,     0.12513,     0.12613,     0.12713,     0.12813,     0.12913,     0.13013,     0.13113,     0.13213,     0.13313,     0.13413,     0.13514,     0.13614,     0.13714,     0.13814,     0.13914,     0.14014,     0.14114,     0.14214,     0.14314,\n",
       "           0.14414,     0.14515,     0.14615,     0.14715,     0.14815,     0.14915,     0.15015,     0.15115,     0.15215,     0.15315,     0.15415,     0.15516,     0.15616,     0.15716,     0.15816,     0.15916,     0.16016,     0.16116,     0.16216,     0.16316,     0.16416,     0.16517,     0.16617,     0.16717,\n",
       "           0.16817,     0.16917,     0.17017,     0.17117,     0.17217,     0.17317,     0.17417,     0.17518,     0.17618,     0.17718,     0.17818,     0.17918,     0.18018,     0.18118,     0.18218,     0.18318,     0.18418,     0.18519,     0.18619,     0.18719,     0.18819,     0.18919,     0.19019,     0.19119,\n",
       "           0.19219,     0.19319,     0.19419,      0.1952,      0.1962,      0.1972,      0.1982,      0.1992,      0.2002,      0.2012,      0.2022,      0.2032,      0.2042,     0.20521,     0.20621,     0.20721,     0.20821,     0.20921,     0.21021,     0.21121,     0.21221,     0.21321,     0.21421,     0.21522,\n",
       "           0.21622,     0.21722,     0.21822,     0.21922,     0.22022,     0.22122,     0.22222,     0.22322,     0.22422,     0.22523,     0.22623,     0.22723,     0.22823,     0.22923,     0.23023,     0.23123,     0.23223,     0.23323,     0.23423,     0.23524,     0.23624,     0.23724,     0.23824,     0.23924,\n",
       "           0.24024,     0.24124,     0.24224,     0.24324,     0.24424,     0.24525,     0.24625,     0.24725,     0.24825,     0.24925,     0.25025,     0.25125,     0.25225,     0.25325,     0.25425,     0.25526,     0.25626,     0.25726,     0.25826,     0.25926,     0.26026,     0.26126,     0.26226,     0.26326,\n",
       "           0.26426,     0.26527,     0.26627,     0.26727,     0.26827,     0.26927,     0.27027,     0.27127,     0.27227,     0.27327,     0.27427,     0.27528,     0.27628,     0.27728,     0.27828,     0.27928,     0.28028,     0.28128,     0.28228,     0.28328,     0.28428,     0.28529,     0.28629,     0.28729,\n",
       "           0.28829,     0.28929,     0.29029,     0.29129,     0.29229,     0.29329,     0.29429,      0.2953,      0.2963,      0.2973,      0.2983,      0.2993,      0.3003,      0.3013,      0.3023,      0.3033,      0.3043,     0.30531,     0.30631,     0.30731,     0.30831,     0.30931,     0.31031,     0.31131,\n",
       "           0.31231,     0.31331,     0.31431,     0.31532,     0.31632,     0.31732,     0.31832,     0.31932,     0.32032,     0.32132,     0.32232,     0.32332,     0.32432,     0.32533,     0.32633,     0.32733,     0.32833,     0.32933,     0.33033,     0.33133,     0.33233,     0.33333,     0.33433,     0.33534,\n",
       "           0.33634,     0.33734,     0.33834,     0.33934,     0.34034,     0.34134,     0.34234,     0.34334,     0.34434,     0.34535,     0.34635,     0.34735,     0.34835,     0.34935,     0.35035,     0.35135,     0.35235,     0.35335,     0.35435,     0.35536,     0.35636,     0.35736,     0.35836,     0.35936,\n",
       "           0.36036,     0.36136,     0.36236,     0.36336,     0.36436,     0.36537,     0.36637,     0.36737,     0.36837,     0.36937,     0.37037,     0.37137,     0.37237,     0.37337,     0.37437,     0.37538,     0.37638,     0.37738,     0.37838,     0.37938,     0.38038,     0.38138,     0.38238,     0.38338,\n",
       "           0.38438,     0.38539,     0.38639,     0.38739,     0.38839,     0.38939,     0.39039,     0.39139,     0.39239,     0.39339,     0.39439,      0.3954,      0.3964,      0.3974,      0.3984,      0.3994,      0.4004,      0.4014,      0.4024,      0.4034,      0.4044,     0.40541,     0.40641,     0.40741,\n",
       "           0.40841,     0.40941,     0.41041,     0.41141,     0.41241,     0.41341,     0.41441,     0.41542,     0.41642,     0.41742,     0.41842,     0.41942,     0.42042,     0.42142,     0.42242,     0.42342,     0.42442,     0.42543,     0.42643,     0.42743,     0.42843,     0.42943,     0.43043,     0.43143,\n",
       "           0.43243,     0.43343,     0.43443,     0.43544,     0.43644,     0.43744,     0.43844,     0.43944,     0.44044,     0.44144,     0.44244,     0.44344,     0.44444,     0.44545,     0.44645,     0.44745,     0.44845,     0.44945,     0.45045,     0.45145,     0.45245,     0.45345,     0.45445,     0.45546,\n",
       "           0.45646,     0.45746,     0.45846,     0.45946,     0.46046,     0.46146,     0.46246,     0.46346,     0.46446,     0.46547,     0.46647,     0.46747,     0.46847,     0.46947,     0.47047,     0.47147,     0.47247,     0.47347,     0.47447,     0.47548,     0.47648,     0.47748,     0.47848,     0.47948,\n",
       "           0.48048,     0.48148,     0.48248,     0.48348,     0.48448,     0.48549,     0.48649,     0.48749,     0.48849,     0.48949,     0.49049,     0.49149,     0.49249,     0.49349,     0.49449,      0.4955,      0.4965,      0.4975,      0.4985,      0.4995,      0.5005,      0.5015,      0.5025,      0.5035,\n",
       "            0.5045,     0.50551,     0.50651,     0.50751,     0.50851,     0.50951,     0.51051,     0.51151,     0.51251,     0.51351,     0.51451,     0.51552,     0.51652,     0.51752,     0.51852,     0.51952,     0.52052,     0.52152,     0.52252,     0.52352,     0.52452,     0.52553,     0.52653,     0.52753,\n",
       "           0.52853,     0.52953,     0.53053,     0.53153,     0.53253,     0.53353,     0.53453,     0.53554,     0.53654,     0.53754,     0.53854,     0.53954,     0.54054,     0.54154,     0.54254,     0.54354,     0.54454,     0.54555,     0.54655,     0.54755,     0.54855,     0.54955,     0.55055,     0.55155,\n",
       "           0.55255,     0.55355,     0.55455,     0.55556,     0.55656,     0.55756,     0.55856,     0.55956,     0.56056,     0.56156,     0.56256,     0.56356,     0.56456,     0.56557,     0.56657,     0.56757,     0.56857,     0.56957,     0.57057,     0.57157,     0.57257,     0.57357,     0.57457,     0.57558,\n",
       "           0.57658,     0.57758,     0.57858,     0.57958,     0.58058,     0.58158,     0.58258,     0.58358,     0.58458,     0.58559,     0.58659,     0.58759,     0.58859,     0.58959,     0.59059,     0.59159,     0.59259,     0.59359,     0.59459,      0.5956,      0.5966,      0.5976,      0.5986,      0.5996,\n",
       "            0.6006,      0.6016,      0.6026,      0.6036,      0.6046,     0.60561,     0.60661,     0.60761,     0.60861,     0.60961,     0.61061,     0.61161,     0.61261,     0.61361,     0.61461,     0.61562,     0.61662,     0.61762,     0.61862,     0.61962,     0.62062,     0.62162,     0.62262,     0.62362,\n",
       "           0.62462,     0.62563,     0.62663,     0.62763,     0.62863,     0.62963,     0.63063,     0.63163,     0.63263,     0.63363,     0.63463,     0.63564,     0.63664,     0.63764,     0.63864,     0.63964,     0.64064,     0.64164,     0.64264,     0.64364,     0.64464,     0.64565,     0.64665,     0.64765,\n",
       "           0.64865,     0.64965,     0.65065,     0.65165,     0.65265,     0.65365,     0.65465,     0.65566,     0.65666,     0.65766,     0.65866,     0.65966,     0.66066,     0.66166,     0.66266,     0.66366,     0.66466,     0.66567,     0.66667,     0.66767,     0.66867,     0.66967,     0.67067,     0.67167,\n",
       "           0.67267,     0.67367,     0.67467,     0.67568,     0.67668,     0.67768,     0.67868,     0.67968,     0.68068,     0.68168,     0.68268,     0.68368,     0.68468,     0.68569,     0.68669,     0.68769,     0.68869,     0.68969,     0.69069,     0.69169,     0.69269,     0.69369,     0.69469,      0.6957,\n",
       "            0.6967,      0.6977,      0.6987,      0.6997,      0.7007,      0.7017,      0.7027,      0.7037,      0.7047,     0.70571,     0.70671,     0.70771,     0.70871,     0.70971,     0.71071,     0.71171,     0.71271,     0.71371,     0.71471,     0.71572,     0.71672,     0.71772,     0.71872,     0.71972,\n",
       "           0.72072,     0.72172,     0.72272,     0.72372,     0.72472,     0.72573,     0.72673,     0.72773,     0.72873,     0.72973,     0.73073,     0.73173,     0.73273,     0.73373,     0.73473,     0.73574,     0.73674,     0.73774,     0.73874,     0.73974,     0.74074,     0.74174,     0.74274,     0.74374,\n",
       "           0.74474,     0.74575,     0.74675,     0.74775,     0.74875,     0.74975,     0.75075,     0.75175,     0.75275,     0.75375,     0.75475,     0.75576,     0.75676,     0.75776,     0.75876,     0.75976,     0.76076,     0.76176,     0.76276,     0.76376,     0.76476,     0.76577,     0.76677,     0.76777,\n",
       "           0.76877,     0.76977,     0.77077,     0.77177,     0.77277,     0.77377,     0.77477,     0.77578,     0.77678,     0.77778,     0.77878,     0.77978,     0.78078,     0.78178,     0.78278,     0.78378,     0.78478,     0.78579,     0.78679,     0.78779,     0.78879,     0.78979,     0.79079,     0.79179,\n",
       "           0.79279,     0.79379,     0.79479,      0.7958,      0.7968,      0.7978,      0.7988,      0.7998,      0.8008,      0.8018,      0.8028,      0.8038,      0.8048,     0.80581,     0.80681,     0.80781,     0.80881,     0.80981,     0.81081,     0.81181,     0.81281,     0.81381,     0.81481,     0.81582,\n",
       "           0.81682,     0.81782,     0.81882,     0.81982,     0.82082,     0.82182,     0.82282,     0.82382,     0.82482,     0.82583,     0.82683,     0.82783,     0.82883,     0.82983,     0.83083,     0.83183,     0.83283,     0.83383,     0.83483,     0.83584,     0.83684,     0.83784,     0.83884,     0.83984,\n",
       "           0.84084,     0.84184,     0.84284,     0.84384,     0.84484,     0.84585,     0.84685,     0.84785,     0.84885,     0.84985,     0.85085,     0.85185,     0.85285,     0.85385,     0.85485,     0.85586,     0.85686,     0.85786,     0.85886,     0.85986,     0.86086,     0.86186,     0.86286,     0.86386,\n",
       "           0.86486,     0.86587,     0.86687,     0.86787,     0.86887,     0.86987,     0.87087,     0.87187,     0.87287,     0.87387,     0.87487,     0.87588,     0.87688,     0.87788,     0.87888,     0.87988,     0.88088,     0.88188,     0.88288,     0.88388,     0.88488,     0.88589,     0.88689,     0.88789,\n",
       "           0.88889,     0.88989,     0.89089,     0.89189,     0.89289,     0.89389,     0.89489,      0.8959,      0.8969,      0.8979,      0.8989,      0.8999,      0.9009,      0.9019,      0.9029,      0.9039,      0.9049,     0.90591,     0.90691,     0.90791,     0.90891,     0.90991,     0.91091,     0.91191,\n",
       "           0.91291,     0.91391,     0.91491,     0.91592,     0.91692,     0.91792,     0.91892,     0.91992,     0.92092,     0.92192,     0.92292,     0.92392,     0.92492,     0.92593,     0.92693,     0.92793,     0.92893,     0.92993,     0.93093,     0.93193,     0.93293,     0.93393,     0.93493,     0.93594,\n",
       "           0.93694,     0.93794,     0.93894,     0.93994,     0.94094,     0.94194,     0.94294,     0.94394,     0.94494,     0.94595,     0.94695,     0.94795,     0.94895,     0.94995,     0.95095,     0.95195,     0.95295,     0.95395,     0.95495,     0.95596,     0.95696,     0.95796,     0.95896,     0.95996,\n",
       "           0.96096,     0.96196,     0.96296,     0.96396,     0.96496,     0.96597,     0.96697,     0.96797,     0.96897,     0.96997,     0.97097,     0.97197,     0.97297,     0.97397,     0.97497,     0.97598,     0.97698,     0.97798,     0.97898,     0.97998,     0.98098,     0.98198,     0.98298,     0.98398,\n",
       "           0.98498,     0.98599,     0.98699,     0.98799,     0.98899,     0.98999,     0.99099,     0.99199,     0.99299,     0.99399,     0.99499,       0.996,       0.997,       0.998,       0.999,           1]), array([[    0.21154,     0.21154,     0.28952,     0.34781,      0.3826,     0.41174,     0.43985,      0.4558,     0.46854,     0.47323,     0.49763,     0.50186,     0.50938,     0.51076,     0.52143,     0.53096,      0.5413,       0.552,     0.56413,     0.57592,     0.57724,      0.5784,     0.58506,\n",
       "            0.59462,     0.59898,     0.60061,     0.59538,      0.5977,     0.59855,     0.60358,     0.59885,     0.60144,     0.60684,      0.6125,     0.61414,     0.61814,     0.62085,     0.62414,     0.62514,     0.62614,     0.63124,     0.63419,     0.63682,      0.6357,     0.63395,     0.63848,\n",
       "            0.64063,     0.64437,      0.6453,     0.64622,      0.6476,     0.65085,     0.65197,     0.65307,     0.66016,     0.66114,     0.66212,      0.6631,     0.65841,     0.66186,     0.66674,     0.66714,     0.66754,     0.66793,     0.66833,     0.66873,     0.66912,     0.66952,     0.66992,\n",
       "            0.66951,     0.66838,     0.66725,     0.66612,     0.66499,     0.66386,     0.66542,     0.66747,     0.66853,     0.66959,     0.67046,     0.67111,     0.67176,     0.67241,     0.67306,     0.67379,     0.67645,     0.67558,     0.67317,     0.67077,     0.67786,     0.67896,     0.68005,\n",
       "            0.68115,     0.68257,     0.68398,     0.67763,     0.67817,     0.67871,     0.67926,      0.6798,     0.68034,     0.68087,     0.68192,     0.68548,     0.68906,     0.68956,     0.69007,     0.69057,     0.69107,     0.69157,     0.69207,     0.69257,     0.68541,     0.68554,     0.68568,\n",
       "            0.68581,     0.68595,     0.68608,     0.68622,     0.68635,     0.68649,     0.68662,     0.68676,     0.68689,     0.68702,     0.68716,     0.68729,     0.68743,     0.68756,      0.6877,     0.68783,     0.68796,      0.6881,     0.68823,     0.68837,      0.6885,     0.68863,     0.68877,\n",
       "             0.6889,     0.68903,     0.68917,     0.68776,     0.68221,     0.68297,      0.6842,     0.68542,     0.68415,     0.68209,     0.68002,     0.67814,     0.67796,     0.67778,     0.67761,     0.67743,     0.67725,     0.67707,     0.67689,     0.67671,     0.67653,     0.67635,     0.67617,\n",
       "            0.67599,     0.67581,     0.67563,     0.67545,     0.67528,      0.6751,     0.67492,     0.67474,     0.67456,     0.67438,      0.6742,     0.67402,     0.67384,     0.67366,     0.67348,      0.6733,     0.67312,     0.67294,     0.67276,     0.67258,      0.6724,     0.67222,     0.67204,\n",
       "            0.67186,     0.67168,      0.6715,     0.67132,     0.67114,     0.67096,     0.67078,      0.6706,      0.6745,     0.67477,     0.67504,     0.67531,     0.67558,     0.67585,     0.67612,     0.67639,     0.67666,     0.67693,      0.6772,     0.67747,     0.67774,       0.678,     0.67827,\n",
       "            0.67853,     0.67878,     0.67903,     0.67927,     0.67952,     0.67977,     0.68002,     0.68027,     0.68052,     0.68076,     0.68101,     0.68126,     0.68151,     0.68175,       0.682,     0.68225,     0.68303,     0.68421,     0.68539,     0.68648,     0.68707,     0.68766,     0.68825,\n",
       "            0.68884,     0.68942,     0.69001,     0.69052,     0.69072,     0.69093,     0.69114,     0.69134,     0.69155,     0.69176,     0.69196,     0.69217,     0.69237,     0.69258,     0.69278,     0.69299,     0.69319,      0.6934,      0.6936,     0.69381,     0.69401,     0.69422,     0.69442,\n",
       "            0.69484,      0.6977,      0.6983,     0.69749,     0.69669,     0.69588,     0.69507,     0.69426,     0.69345,     0.69264,     0.69183,     0.69102,     0.69099,     0.69108,     0.69117,     0.69126,     0.69135,     0.69144,     0.69154,     0.69163,     0.69172,     0.69181,      0.6919,\n",
       "            0.69199,     0.69208,     0.69218,     0.69227,     0.69236,     0.69245,     0.69254,     0.69263,     0.69272,     0.69281,      0.6929,     0.69299,     0.69309,     0.69318,     0.69327,     0.69336,     0.69345,     0.69354,     0.69363,     0.69372,     0.69381,      0.6939,     0.69399,\n",
       "            0.69408,     0.69417,     0.69426,     0.69436,     0.69445,     0.69454,     0.69463,     0.69472,     0.69481,      0.6949,     0.69499,     0.69508,     0.69517,     0.69525,     0.69534,     0.69542,     0.69551,     0.69559,     0.69568,     0.69576,     0.69585,     0.69593,     0.69602,\n",
       "             0.6961,     0.69619,     0.69628,     0.69636,     0.69645,     0.69653,     0.69662,      0.6967,     0.69679,     0.69687,     0.69696,     0.69704,     0.69713,     0.69721,      0.6973,     0.69738,     0.69746,     0.69755,     0.69763,     0.69772,      0.6978,     0.69789,     0.69797,\n",
       "            0.69806,     0.69814,     0.69823,     0.69831,      0.6984,     0.69848,     0.69857,     0.69865,     0.69873,     0.69882,      0.6989,     0.69899,     0.69907,     0.69916,     0.69924,     0.69933,      0.6996,     0.70037,     0.70115,     0.70192,     0.70268,     0.70345,     0.70425,\n",
       "            0.70507,     0.70588,      0.7067,     0.70751,     0.71389,     0.71703,     0.71719,     0.71735,      0.7175,     0.71766,     0.71782,     0.71798,     0.71813,     0.71829,     0.71845,      0.7186,     0.71876,     0.71892,     0.71907,     0.71923,     0.71939,     0.71954,      0.7197,\n",
       "            0.71985,     0.72001,     0.72017,     0.72032,     0.72048,     0.72063,     0.72079,     0.72094,      0.7211,     0.72126,     0.72141,     0.72148,     0.72134,     0.72121,     0.72107,     0.72093,      0.7208,     0.72066,     0.72053,     0.72039,     0.72026,     0.72012,     0.71998,\n",
       "            0.71985,     0.71971,     0.71958,     0.71944,      0.7193,     0.71917,     0.71903,      0.7189,     0.71876,     0.71862,     0.71849,     0.71835,     0.71822,     0.71808,     0.71794,     0.71781,     0.71767,     0.71753,      0.7174,     0.71726,     0.71713,     0.71699,     0.71685,\n",
       "            0.71672,     0.71658,     0.71644,     0.71631,     0.71617,     0.71603,      0.7159,     0.71576,     0.71562,     0.71549,     0.71535,     0.71522,     0.71508,     0.71494,     0.71481,     0.71467,     0.71453,      0.7144,     0.71426,     0.71412,     0.71398,     0.71385,     0.71371,\n",
       "            0.71357,     0.71344,     0.71324,     0.71298,     0.71273,     0.71247,     0.71221,     0.71196,      0.7117,     0.71145,     0.71119,     0.71094,     0.71068,     0.71043,     0.71017,     0.70991,     0.70966,      0.7094,     0.70915,     0.70889,     0.70863,     0.70838,     0.70812,\n",
       "            0.70786,     0.70761,     0.70735,     0.70709,     0.70684,     0.70658,     0.70632,     0.70607,     0.70581,     0.70555,     0.70529,     0.70504,     0.70479,     0.70454,     0.70429,     0.70404,     0.70378,     0.70353,     0.70328,     0.70303,     0.70278,     0.70253,     0.70228,\n",
       "            0.70203,     0.70177,     0.70152,     0.70127,     0.70102,     0.70077,     0.70051,     0.70026,     0.70001,     0.69976,     0.69951,     0.69925,       0.699,     0.69875,      0.6985,     0.69824,     0.69799,     0.69774,     0.69749,     0.69723,     0.69698,     0.69692,      0.6977,\n",
       "            0.69847,     0.69924,     0.70002,     0.70078,     0.70133,     0.70142,     0.70152,     0.70161,      0.7017,     0.70179,     0.70189,     0.70198,     0.70207,     0.70216,     0.70226,     0.70235,     0.70244,     0.70253,     0.70263,     0.70272,     0.70281,      0.7029,       0.703,\n",
       "            0.70309,     0.70318,     0.70327,     0.70337,     0.70346,     0.70355,     0.70364,     0.70373,     0.70383,     0.70392,     0.70401,      0.7041,     0.70419,     0.70429,     0.70438,     0.70447,     0.70456,     0.70465,     0.70474,     0.70484,     0.70493,     0.70502,     0.70511,\n",
       "             0.7052,     0.70529,     0.70539,     0.70548,     0.70557,     0.70566,     0.70575,     0.70584,     0.69874,      0.7011,     0.70218,     0.70249,      0.7028,     0.70312,     0.70343,     0.70374,     0.70405,     0.70436,     0.70467,     0.70497,     0.70528,     0.70559,      0.7059,\n",
       "            0.70621,     0.70651,     0.70912,     0.71185,     0.71267,      0.7135,     0.71432,     0.71513,     0.71595,     0.71629,     0.71641,     0.71653,     0.71664,     0.71676,     0.71687,     0.71699,      0.7171,     0.71722,     0.71733,     0.71745,     0.71757,     0.71768,      0.7178,\n",
       "            0.71791,     0.71803,     0.71814,     0.71826,     0.71837,     0.71849,      0.7186,     0.71872,     0.71883,     0.71895,     0.71906,     0.71917,     0.71929,      0.7194,     0.71952,     0.71963,     0.71975,     0.71986,     0.71998,     0.72009,      0.7202,     0.72032,     0.72043,\n",
       "            0.72055,     0.72066,     0.72077,     0.72089,       0.721,     0.72116,     0.72147,     0.72178,     0.72209,      0.7224,     0.72271,     0.72301,     0.72332,     0.72363,     0.72393,     0.72424,     0.72455,     0.72485,     0.72516,     0.72546,     0.72577,     0.72599,     0.72574,\n",
       "             0.7255,     0.72525,       0.725,     0.72475,      0.7245,     0.72425,       0.724,     0.72375,      0.7235,     0.72325,       0.723,     0.72275,      0.7225,     0.72225,       0.722,     0.72175,      0.7215,     0.72125,       0.721,     0.72075,      0.7205,     0.72025,        0.72,\n",
       "            0.71975,      0.7195,     0.71925,       0.719,     0.71875,     0.71849,     0.71824,     0.71799,     0.71774,     0.71749,     0.71723,     0.71671,     0.71619,     0.71567,     0.71515,     0.71463,     0.71411,     0.71359,     0.71307,     0.71255,     0.71203,      0.7115,     0.71098,\n",
       "            0.71046,     0.70994,     0.70941,     0.70889,     0.70836,     0.70877,     0.70924,      0.7097,     0.71017,     0.71063,     0.71109,     0.71155,     0.71201,     0.71247,     0.71293,     0.71439,     0.71881,     0.72091,     0.72299,     0.72258,     0.72155,     0.72051,     0.71947,\n",
       "            0.71844,      0.7174,     0.71635,     0.71531,     0.71427,      0.7136,     0.71293,     0.71225,     0.71158,      0.7109,     0.71022,     0.70955,     0.70887,     0.70819,     0.70751,     0.70683,     0.70615,     0.70547,     0.69812,     0.69396,     0.69201,     0.69006,      0.6881,\n",
       "            0.68614,     0.68538,     0.68462,     0.68386,      0.6831,     0.68234,     0.68158,     0.68082,     0.68006,     0.67929,     0.67853,     0.67776,       0.677,     0.67335,     0.66716,     0.66863,     0.67008,     0.67153,     0.67047,      0.6692,     0.66792,     0.66664,     0.66536,\n",
       "            0.66408,     0.66279,     0.65924,     0.65117,     0.65062,     0.65006,     0.64951,     0.64896,      0.6484,     0.64785,      0.6473,     0.64674,     0.64619,     0.64563,     0.64507,     0.64452,     0.64396,      0.6434,     0.64285,     0.64229,     0.64173,     0.64125,     0.64154,\n",
       "            0.64183,     0.64213,     0.64242,     0.64271,       0.643,     0.64329,     0.64358,     0.64387,     0.64415,     0.64444,     0.64473,     0.64502,      0.6453,     0.64559,     0.64587,     0.64609,     0.64303,     0.63996,     0.63688,     0.63511,     0.63421,      0.6333,     0.63239,\n",
       "            0.63148,     0.63057,     0.62966,     0.62875,     0.62784,     0.62692,     0.62601,     0.62509,     0.62103,     0.61659,     0.61074,      0.6032,     0.60155,     0.59993,     0.59829,     0.59666,     0.59502,     0.59337,     0.59214,     0.59297,     0.59379,      0.5946,     0.59542,\n",
       "            0.59622,     0.59625,     0.59459,     0.59293,     0.59126,     0.58959,     0.58791,     0.58623,     0.57385,     0.57206,     0.57034,     0.56862,      0.5669,     0.56516,     0.56343,     0.54948,     0.54638,     0.54326,     0.54012,     0.53726,     0.53515,     0.53304,     0.53093,\n",
       "            0.52881,     0.52668,     0.52392,     0.52024,     0.51654,     0.51283,     0.49986,      0.4932,     0.48683,     0.48503,     0.48322,     0.48141,      0.4796,     0.47778,     0.47596,     0.47414,     0.46954,       0.464,     0.45871,     0.45403,     0.44932,     0.44422,     0.43849,\n",
       "            0.43273,     0.43047,     0.42839,     0.42631,     0.42422,     0.42213,     0.42003,     0.41642,     0.40259,     0.39503,     0.38297,     0.37069,      0.3662,      0.3617,     0.35664,     0.35025,     0.34382,     0.32896,     0.31967,     0.31131,     0.30885,     0.30686,     0.30487,\n",
       "            0.30288,     0.30088,     0.29888,     0.29687,     0.29486,     0.29195,      0.2885,     0.28504,     0.28157,     0.27809,     0.26393,     0.25786,      0.2551,     0.25234,     0.24957,     0.24679,       0.244,     0.23843,     0.22924,     0.21844,     0.20604,     0.19969,     0.19331,\n",
       "            0.18563,     0.16603,     0.14835,      0.1443,     0.14023,     0.13615,     0.13205,     0.11794,     0.10912,     0.10961,     0.10699,    0.098406,    0.089747,    0.065998,    0.062563,    0.059115,    0.055656,    0.052183,    0.048699,    0.044357,    0.029043,           0,           0,\n",
       "                  0,           0,           0,           0,           0,           0,           0,           0,           0,           0,           0,           0,           0,           0,           0,           0,           0,           0,           0,           0,           0,           0,           0,\n",
       "                  0,           0,           0,           0,           0,           0,           0,           0,           0,           0,           0]]), 'Confidence', 'F1'], [array([          0,    0.001001,    0.002002,    0.003003,    0.004004,    0.005005,    0.006006,    0.007007,    0.008008,    0.009009,     0.01001,    0.011011,    0.012012,    0.013013,    0.014014,    0.015015,    0.016016,    0.017017,    0.018018,    0.019019,     0.02002,    0.021021,    0.022022,    0.023023,\n",
       "          0.024024,    0.025025,    0.026026,    0.027027,    0.028028,    0.029029,     0.03003,    0.031031,    0.032032,    0.033033,    0.034034,    0.035035,    0.036036,    0.037037,    0.038038,    0.039039,     0.04004,    0.041041,    0.042042,    0.043043,    0.044044,    0.045045,    0.046046,    0.047047,\n",
       "          0.048048,    0.049049,     0.05005,    0.051051,    0.052052,    0.053053,    0.054054,    0.055055,    0.056056,    0.057057,    0.058058,    0.059059,     0.06006,    0.061061,    0.062062,    0.063063,    0.064064,    0.065065,    0.066066,    0.067067,    0.068068,    0.069069,     0.07007,    0.071071,\n",
       "          0.072072,    0.073073,    0.074074,    0.075075,    0.076076,    0.077077,    0.078078,    0.079079,     0.08008,    0.081081,    0.082082,    0.083083,    0.084084,    0.085085,    0.086086,    0.087087,    0.088088,    0.089089,     0.09009,    0.091091,    0.092092,    0.093093,    0.094094,    0.095095,\n",
       "          0.096096,    0.097097,    0.098098,    0.099099,      0.1001,      0.1011,      0.1021,      0.1031,      0.1041,     0.10511,     0.10611,     0.10711,     0.10811,     0.10911,     0.11011,     0.11111,     0.11211,     0.11311,     0.11411,     0.11512,     0.11612,     0.11712,     0.11812,     0.11912,\n",
       "           0.12012,     0.12112,     0.12212,     0.12312,     0.12412,     0.12513,     0.12613,     0.12713,     0.12813,     0.12913,     0.13013,     0.13113,     0.13213,     0.13313,     0.13413,     0.13514,     0.13614,     0.13714,     0.13814,     0.13914,     0.14014,     0.14114,     0.14214,     0.14314,\n",
       "           0.14414,     0.14515,     0.14615,     0.14715,     0.14815,     0.14915,     0.15015,     0.15115,     0.15215,     0.15315,     0.15415,     0.15516,     0.15616,     0.15716,     0.15816,     0.15916,     0.16016,     0.16116,     0.16216,     0.16316,     0.16416,     0.16517,     0.16617,     0.16717,\n",
       "           0.16817,     0.16917,     0.17017,     0.17117,     0.17217,     0.17317,     0.17417,     0.17518,     0.17618,     0.17718,     0.17818,     0.17918,     0.18018,     0.18118,     0.18218,     0.18318,     0.18418,     0.18519,     0.18619,     0.18719,     0.18819,     0.18919,     0.19019,     0.19119,\n",
       "           0.19219,     0.19319,     0.19419,      0.1952,      0.1962,      0.1972,      0.1982,      0.1992,      0.2002,      0.2012,      0.2022,      0.2032,      0.2042,     0.20521,     0.20621,     0.20721,     0.20821,     0.20921,     0.21021,     0.21121,     0.21221,     0.21321,     0.21421,     0.21522,\n",
       "           0.21622,     0.21722,     0.21822,     0.21922,     0.22022,     0.22122,     0.22222,     0.22322,     0.22422,     0.22523,     0.22623,     0.22723,     0.22823,     0.22923,     0.23023,     0.23123,     0.23223,     0.23323,     0.23423,     0.23524,     0.23624,     0.23724,     0.23824,     0.23924,\n",
       "           0.24024,     0.24124,     0.24224,     0.24324,     0.24424,     0.24525,     0.24625,     0.24725,     0.24825,     0.24925,     0.25025,     0.25125,     0.25225,     0.25325,     0.25425,     0.25526,     0.25626,     0.25726,     0.25826,     0.25926,     0.26026,     0.26126,     0.26226,     0.26326,\n",
       "           0.26426,     0.26527,     0.26627,     0.26727,     0.26827,     0.26927,     0.27027,     0.27127,     0.27227,     0.27327,     0.27427,     0.27528,     0.27628,     0.27728,     0.27828,     0.27928,     0.28028,     0.28128,     0.28228,     0.28328,     0.28428,     0.28529,     0.28629,     0.28729,\n",
       "           0.28829,     0.28929,     0.29029,     0.29129,     0.29229,     0.29329,     0.29429,      0.2953,      0.2963,      0.2973,      0.2983,      0.2993,      0.3003,      0.3013,      0.3023,      0.3033,      0.3043,     0.30531,     0.30631,     0.30731,     0.30831,     0.30931,     0.31031,     0.31131,\n",
       "           0.31231,     0.31331,     0.31431,     0.31532,     0.31632,     0.31732,     0.31832,     0.31932,     0.32032,     0.32132,     0.32232,     0.32332,     0.32432,     0.32533,     0.32633,     0.32733,     0.32833,     0.32933,     0.33033,     0.33133,     0.33233,     0.33333,     0.33433,     0.33534,\n",
       "           0.33634,     0.33734,     0.33834,     0.33934,     0.34034,     0.34134,     0.34234,     0.34334,     0.34434,     0.34535,     0.34635,     0.34735,     0.34835,     0.34935,     0.35035,     0.35135,     0.35235,     0.35335,     0.35435,     0.35536,     0.35636,     0.35736,     0.35836,     0.35936,\n",
       "           0.36036,     0.36136,     0.36236,     0.36336,     0.36436,     0.36537,     0.36637,     0.36737,     0.36837,     0.36937,     0.37037,     0.37137,     0.37237,     0.37337,     0.37437,     0.37538,     0.37638,     0.37738,     0.37838,     0.37938,     0.38038,     0.38138,     0.38238,     0.38338,\n",
       "           0.38438,     0.38539,     0.38639,     0.38739,     0.38839,     0.38939,     0.39039,     0.39139,     0.39239,     0.39339,     0.39439,      0.3954,      0.3964,      0.3974,      0.3984,      0.3994,      0.4004,      0.4014,      0.4024,      0.4034,      0.4044,     0.40541,     0.40641,     0.40741,\n",
       "           0.40841,     0.40941,     0.41041,     0.41141,     0.41241,     0.41341,     0.41441,     0.41542,     0.41642,     0.41742,     0.41842,     0.41942,     0.42042,     0.42142,     0.42242,     0.42342,     0.42442,     0.42543,     0.42643,     0.42743,     0.42843,     0.42943,     0.43043,     0.43143,\n",
       "           0.43243,     0.43343,     0.43443,     0.43544,     0.43644,     0.43744,     0.43844,     0.43944,     0.44044,     0.44144,     0.44244,     0.44344,     0.44444,     0.44545,     0.44645,     0.44745,     0.44845,     0.44945,     0.45045,     0.45145,     0.45245,     0.45345,     0.45445,     0.45546,\n",
       "           0.45646,     0.45746,     0.45846,     0.45946,     0.46046,     0.46146,     0.46246,     0.46346,     0.46446,     0.46547,     0.46647,     0.46747,     0.46847,     0.46947,     0.47047,     0.47147,     0.47247,     0.47347,     0.47447,     0.47548,     0.47648,     0.47748,     0.47848,     0.47948,\n",
       "           0.48048,     0.48148,     0.48248,     0.48348,     0.48448,     0.48549,     0.48649,     0.48749,     0.48849,     0.48949,     0.49049,     0.49149,     0.49249,     0.49349,     0.49449,      0.4955,      0.4965,      0.4975,      0.4985,      0.4995,      0.5005,      0.5015,      0.5025,      0.5035,\n",
       "            0.5045,     0.50551,     0.50651,     0.50751,     0.50851,     0.50951,     0.51051,     0.51151,     0.51251,     0.51351,     0.51451,     0.51552,     0.51652,     0.51752,     0.51852,     0.51952,     0.52052,     0.52152,     0.52252,     0.52352,     0.52452,     0.52553,     0.52653,     0.52753,\n",
       "           0.52853,     0.52953,     0.53053,     0.53153,     0.53253,     0.53353,     0.53453,     0.53554,     0.53654,     0.53754,     0.53854,     0.53954,     0.54054,     0.54154,     0.54254,     0.54354,     0.54454,     0.54555,     0.54655,     0.54755,     0.54855,     0.54955,     0.55055,     0.55155,\n",
       "           0.55255,     0.55355,     0.55455,     0.55556,     0.55656,     0.55756,     0.55856,     0.55956,     0.56056,     0.56156,     0.56256,     0.56356,     0.56456,     0.56557,     0.56657,     0.56757,     0.56857,     0.56957,     0.57057,     0.57157,     0.57257,     0.57357,     0.57457,     0.57558,\n",
       "           0.57658,     0.57758,     0.57858,     0.57958,     0.58058,     0.58158,     0.58258,     0.58358,     0.58458,     0.58559,     0.58659,     0.58759,     0.58859,     0.58959,     0.59059,     0.59159,     0.59259,     0.59359,     0.59459,      0.5956,      0.5966,      0.5976,      0.5986,      0.5996,\n",
       "            0.6006,      0.6016,      0.6026,      0.6036,      0.6046,     0.60561,     0.60661,     0.60761,     0.60861,     0.60961,     0.61061,     0.61161,     0.61261,     0.61361,     0.61461,     0.61562,     0.61662,     0.61762,     0.61862,     0.61962,     0.62062,     0.62162,     0.62262,     0.62362,\n",
       "           0.62462,     0.62563,     0.62663,     0.62763,     0.62863,     0.62963,     0.63063,     0.63163,     0.63263,     0.63363,     0.63463,     0.63564,     0.63664,     0.63764,     0.63864,     0.63964,     0.64064,     0.64164,     0.64264,     0.64364,     0.64464,     0.64565,     0.64665,     0.64765,\n",
       "           0.64865,     0.64965,     0.65065,     0.65165,     0.65265,     0.65365,     0.65465,     0.65566,     0.65666,     0.65766,     0.65866,     0.65966,     0.66066,     0.66166,     0.66266,     0.66366,     0.66466,     0.66567,     0.66667,     0.66767,     0.66867,     0.66967,     0.67067,     0.67167,\n",
       "           0.67267,     0.67367,     0.67467,     0.67568,     0.67668,     0.67768,     0.67868,     0.67968,     0.68068,     0.68168,     0.68268,     0.68368,     0.68468,     0.68569,     0.68669,     0.68769,     0.68869,     0.68969,     0.69069,     0.69169,     0.69269,     0.69369,     0.69469,      0.6957,\n",
       "            0.6967,      0.6977,      0.6987,      0.6997,      0.7007,      0.7017,      0.7027,      0.7037,      0.7047,     0.70571,     0.70671,     0.70771,     0.70871,     0.70971,     0.71071,     0.71171,     0.71271,     0.71371,     0.71471,     0.71572,     0.71672,     0.71772,     0.71872,     0.71972,\n",
       "           0.72072,     0.72172,     0.72272,     0.72372,     0.72472,     0.72573,     0.72673,     0.72773,     0.72873,     0.72973,     0.73073,     0.73173,     0.73273,     0.73373,     0.73473,     0.73574,     0.73674,     0.73774,     0.73874,     0.73974,     0.74074,     0.74174,     0.74274,     0.74374,\n",
       "           0.74474,     0.74575,     0.74675,     0.74775,     0.74875,     0.74975,     0.75075,     0.75175,     0.75275,     0.75375,     0.75475,     0.75576,     0.75676,     0.75776,     0.75876,     0.75976,     0.76076,     0.76176,     0.76276,     0.76376,     0.76476,     0.76577,     0.76677,     0.76777,\n",
       "           0.76877,     0.76977,     0.77077,     0.77177,     0.77277,     0.77377,     0.77477,     0.77578,     0.77678,     0.77778,     0.77878,     0.77978,     0.78078,     0.78178,     0.78278,     0.78378,     0.78478,     0.78579,     0.78679,     0.78779,     0.78879,     0.78979,     0.79079,     0.79179,\n",
       "           0.79279,     0.79379,     0.79479,      0.7958,      0.7968,      0.7978,      0.7988,      0.7998,      0.8008,      0.8018,      0.8028,      0.8038,      0.8048,     0.80581,     0.80681,     0.80781,     0.80881,     0.80981,     0.81081,     0.81181,     0.81281,     0.81381,     0.81481,     0.81582,\n",
       "           0.81682,     0.81782,     0.81882,     0.81982,     0.82082,     0.82182,     0.82282,     0.82382,     0.82482,     0.82583,     0.82683,     0.82783,     0.82883,     0.82983,     0.83083,     0.83183,     0.83283,     0.83383,     0.83483,     0.83584,     0.83684,     0.83784,     0.83884,     0.83984,\n",
       "           0.84084,     0.84184,     0.84284,     0.84384,     0.84484,     0.84585,     0.84685,     0.84785,     0.84885,     0.84985,     0.85085,     0.85185,     0.85285,     0.85385,     0.85485,     0.85586,     0.85686,     0.85786,     0.85886,     0.85986,     0.86086,     0.86186,     0.86286,     0.86386,\n",
       "           0.86486,     0.86587,     0.86687,     0.86787,     0.86887,     0.86987,     0.87087,     0.87187,     0.87287,     0.87387,     0.87487,     0.87588,     0.87688,     0.87788,     0.87888,     0.87988,     0.88088,     0.88188,     0.88288,     0.88388,     0.88488,     0.88589,     0.88689,     0.88789,\n",
       "           0.88889,     0.88989,     0.89089,     0.89189,     0.89289,     0.89389,     0.89489,      0.8959,      0.8969,      0.8979,      0.8989,      0.8999,      0.9009,      0.9019,      0.9029,      0.9039,      0.9049,     0.90591,     0.90691,     0.90791,     0.90891,     0.90991,     0.91091,     0.91191,\n",
       "           0.91291,     0.91391,     0.91491,     0.91592,     0.91692,     0.91792,     0.91892,     0.91992,     0.92092,     0.92192,     0.92292,     0.92392,     0.92492,     0.92593,     0.92693,     0.92793,     0.92893,     0.92993,     0.93093,     0.93193,     0.93293,     0.93393,     0.93493,     0.93594,\n",
       "           0.93694,     0.93794,     0.93894,     0.93994,     0.94094,     0.94194,     0.94294,     0.94394,     0.94494,     0.94595,     0.94695,     0.94795,     0.94895,     0.94995,     0.95095,     0.95195,     0.95295,     0.95395,     0.95495,     0.95596,     0.95696,     0.95796,     0.95896,     0.95996,\n",
       "           0.96096,     0.96196,     0.96296,     0.96396,     0.96496,     0.96597,     0.96697,     0.96797,     0.96897,     0.96997,     0.97097,     0.97197,     0.97297,     0.97397,     0.97497,     0.97598,     0.97698,     0.97798,     0.97898,     0.97998,     0.98098,     0.98198,     0.98298,     0.98398,\n",
       "           0.98498,     0.98599,     0.98699,     0.98799,     0.98899,     0.98999,     0.99099,     0.99199,     0.99299,     0.99399,     0.99499,       0.996,       0.997,       0.998,       0.999,           1]), array([[    0.11994,     0.11994,     0.17357,     0.21795,     0.24599,     0.27062,     0.29543,     0.31001,     0.32357,     0.32983,     0.35403,     0.35972,     0.36831,     0.37213,     0.38358,     0.39399,     0.40548,      0.4176,     0.43164,     0.44561,     0.44719,     0.44858,     0.45665,\n",
       "             0.4684,     0.47383,     0.47588,      0.4733,     0.47624,     0.48154,     0.48807,     0.48635,     0.48977,     0.49697,     0.50461,     0.50684,     0.51232,     0.51605,      0.5206,       0.522,      0.5234,     0.53057,     0.53474,     0.53849,     0.53895,     0.54001,     0.54662,\n",
       "            0.54979,     0.55532,      0.5567,     0.55807,     0.56013,     0.56502,     0.56669,     0.56837,     0.57919,      0.5807,     0.58222,     0.58373,     0.58137,     0.58867,     0.59645,     0.59709,     0.59772,     0.59836,       0.599,     0.59964,     0.60027,     0.60091,     0.60155,\n",
       "            0.60153,     0.60092,     0.60031,      0.5997,     0.59909,     0.59848,     0.60174,      0.6051,     0.60684,     0.60859,     0.61003,     0.61111,     0.61219,     0.61327,     0.61435,     0.61556,     0.62001,     0.62047,     0.61921,     0.61794,     0.63077,     0.63267,     0.63456,\n",
       "            0.63649,     0.63897,     0.64144,     0.63924,      0.6402,     0.64117,     0.64214,      0.6431,     0.64407,     0.64503,     0.64691,     0.65335,     0.65989,     0.66082,     0.66174,     0.66266,     0.66358,     0.66451,     0.66543,     0.66635,     0.66307,     0.66332,     0.66358,\n",
       "            0.66383,     0.66408,     0.66434,     0.66459,     0.66484,     0.66509,     0.66535,      0.6656,     0.66585,      0.6661,     0.66636,     0.66661,     0.66686,     0.66711,     0.66737,     0.66762,     0.66787,     0.66812,     0.66838,     0.66863,     0.66888,     0.66914,     0.66939,\n",
       "            0.66964,     0.66989,     0.67015,     0.66959,     0.66686,     0.66886,     0.67123,     0.67359,     0.67339,     0.67238,     0.67136,     0.67045,     0.67036,     0.67027,     0.67018,     0.67009,        0.67,     0.66991,     0.66982,     0.66973,     0.66964,     0.66956,     0.66947,\n",
       "            0.66938,     0.66929,      0.6692,     0.66911,     0.66902,     0.66893,     0.66884,     0.66875,     0.66867,     0.66858,     0.66849,      0.6684,     0.66831,     0.66822,     0.66813,     0.66804,     0.66795,     0.66786,     0.66778,     0.66769,      0.6676,     0.66751,     0.66742,\n",
       "            0.66733,     0.66724,     0.66715,     0.66706,     0.66697,     0.66689,      0.6668,     0.66671,     0.67458,     0.67512,     0.67566,     0.67621,     0.67675,     0.67729,     0.67783,     0.67838,     0.67892,     0.67946,        0.68,     0.68054,     0.68109,     0.68163,     0.68217,\n",
       "            0.68269,     0.68319,      0.6837,      0.6842,     0.68471,     0.68521,     0.68572,     0.68622,     0.68672,     0.68723,     0.68773,     0.68824,     0.68874,     0.68925,     0.68975,     0.69026,     0.69186,     0.69429,     0.69673,     0.69898,     0.70021,     0.70143,     0.70266,\n",
       "            0.70389,     0.70511,     0.70634,      0.7074,     0.70784,     0.70827,     0.70871,     0.70914,     0.70957,     0.71001,     0.71044,     0.71088,     0.71131,     0.71174,     0.71218,     0.71261,     0.71305,     0.71348,     0.71391,     0.71435,     0.71478,     0.71522,     0.71565,\n",
       "            0.71653,     0.72265,     0.72478,     0.72442,     0.72407,     0.72371,     0.72335,       0.723,     0.72264,     0.72228,     0.72193,     0.72157,     0.72169,     0.72189,     0.72209,     0.72229,     0.72249,     0.72269,     0.72289,     0.72309,     0.72329,     0.72349,     0.72369,\n",
       "            0.72389,     0.72409,     0.72429,     0.72449,     0.72468,     0.72488,     0.72508,     0.72528,     0.72548,     0.72568,     0.72588,     0.72608,     0.72628,     0.72648,     0.72668,     0.72688,     0.72708,     0.72728,     0.72748,     0.72768,     0.72788,     0.72808,     0.72828,\n",
       "            0.72848,     0.72868,     0.72888,     0.72908,     0.72928,     0.72948,     0.72968,     0.72987,     0.73007,     0.73027,     0.73047,     0.73067,     0.73087,     0.73106,     0.73125,     0.73143,     0.73162,     0.73181,       0.732,     0.73219,     0.73238,     0.73257,     0.73276,\n",
       "            0.73295,     0.73313,     0.73332,     0.73351,      0.7337,     0.73389,     0.73408,     0.73427,     0.73446,     0.73465,     0.73483,     0.73502,     0.73521,      0.7354,     0.73559,     0.73578,     0.73597,     0.73616,     0.73635,     0.73653,     0.73672,     0.73691,      0.7371,\n",
       "            0.73729,     0.73748,     0.73767,     0.73786,     0.73805,     0.73823,     0.73842,     0.73861,      0.7388,     0.73899,     0.73918,     0.73937,     0.73956,     0.73975,     0.73993,     0.74012,     0.74074,     0.74248,     0.74421,     0.74595,     0.74769,     0.74942,     0.75124,\n",
       "            0.75311,     0.75497,     0.75684,      0.7587,     0.77353,     0.78094,     0.78132,     0.78169,     0.78206,     0.78244,     0.78281,     0.78319,     0.78356,     0.78393,     0.78431,     0.78468,     0.78505,     0.78543,      0.7858,     0.78617,     0.78655,     0.78692,      0.7873,\n",
       "            0.78767,     0.78804,     0.78842,     0.78879,     0.78916,     0.78954,     0.78991,     0.79029,     0.79066,     0.79103,     0.79141,     0.79165,      0.7916,     0.79155,      0.7915,     0.79146,     0.79141,     0.79136,     0.79131,     0.79126,     0.79121,     0.79116,     0.79111,\n",
       "            0.79106,     0.79101,     0.79096,     0.79092,     0.79087,     0.79082,     0.79077,     0.79072,     0.79067,     0.79062,     0.79057,     0.79052,     0.79047,     0.79042,     0.79038,     0.79033,     0.79028,     0.79023,     0.79018,     0.79013,     0.79008,     0.79003,     0.78998,\n",
       "            0.78993,     0.78988,     0.78983,     0.78979,     0.78974,     0.78969,     0.78964,     0.78959,     0.78954,     0.78949,     0.78944,     0.78939,     0.78934,     0.78929,     0.78925,      0.7892,     0.78915,      0.7891,     0.78905,       0.789,     0.78895,      0.7889,     0.78885,\n",
       "             0.7888,     0.78875,     0.78868,     0.78859,     0.78849,      0.7884,     0.78831,     0.78821,     0.78812,     0.78802,     0.78793,     0.78784,     0.78774,     0.78765,     0.78756,     0.78746,     0.78737,     0.78727,     0.78718,     0.78709,     0.78699,      0.7869,     0.78681,\n",
       "            0.78671,     0.78662,     0.78652,     0.78643,     0.78634,     0.78624,     0.78615,     0.78606,     0.78596,     0.78587,     0.78577,     0.78568,     0.78559,     0.78549,      0.7854,     0.78531,     0.78521,     0.78512,     0.78503,     0.78493,     0.78484,     0.78474,     0.78465,\n",
       "            0.78456,     0.78446,     0.78437,     0.78428,     0.78418,     0.78409,       0.784,      0.7839,     0.78381,     0.78372,     0.78362,     0.78353,     0.78343,     0.78334,     0.78325,     0.78315,     0.78306,     0.78297,     0.78287,     0.78278,     0.78269,     0.78297,     0.78494,\n",
       "             0.7869,     0.78887,     0.79083,      0.7928,      0.7942,     0.79443,     0.79467,     0.79491,     0.79515,     0.79539,     0.79563,     0.79586,      0.7961,     0.79634,     0.79658,     0.79682,     0.79705,     0.79729,     0.79753,     0.79777,     0.79801,     0.79825,     0.79848,\n",
       "            0.79872,     0.79896,      0.7992,     0.79944,     0.79968,     0.79991,     0.80015,     0.80039,     0.80063,     0.80087,      0.8011,     0.80134,     0.80158,     0.80182,     0.80206,      0.8023,     0.80253,     0.80277,     0.80301,     0.80325,     0.80349,     0.80372,     0.80396,\n",
       "             0.8042,     0.80444,     0.80468,     0.80492,     0.80515,     0.80539,     0.80563,     0.80587,     0.80667,       0.813,     0.81591,     0.81675,      0.8176,     0.81844,     0.81928,     0.82012,     0.82097,     0.82181,     0.82265,     0.82349,     0.82434,     0.82518,     0.82602,\n",
       "            0.82686,     0.82771,     0.83489,     0.84249,     0.84481,     0.84713,     0.84945,     0.85176,     0.85408,     0.85506,     0.85539,     0.85572,     0.85605,     0.85638,     0.85671,     0.85704,     0.85737,      0.8577,     0.85803,     0.85836,     0.85869,     0.85902,     0.85935,\n",
       "            0.85968,     0.86001,     0.86034,     0.86067,       0.861,     0.86134,     0.86167,       0.862,     0.86233,     0.86266,     0.86299,     0.86332,     0.86365,     0.86398,     0.86431,     0.86464,     0.86497,      0.8653,     0.86563,     0.86596,     0.86629,     0.86662,     0.86695,\n",
       "            0.86728,     0.86761,     0.86794,     0.86827,      0.8686,     0.86906,     0.86996,     0.87086,     0.87176,     0.87266,     0.87356,     0.87446,     0.87536,     0.87626,     0.87716,     0.87806,     0.87896,     0.87986,     0.88076,     0.88166,     0.88256,     0.88333,     0.88327,\n",
       "            0.88321,     0.88316,      0.8831,     0.88304,     0.88299,     0.88293,     0.88288,     0.88282,     0.88276,     0.88271,     0.88265,     0.88259,     0.88254,     0.88248,     0.88242,     0.88237,     0.88231,     0.88226,      0.8822,     0.88214,     0.88209,     0.88203,     0.88197,\n",
       "            0.88192,     0.88186,     0.88181,     0.88175,     0.88169,     0.88164,     0.88158,     0.88152,     0.88147,     0.88141,     0.88135,     0.88123,     0.88111,     0.88099,     0.88087,     0.88075,     0.88063,     0.88052,      0.8804,     0.88028,     0.88016,     0.88004,     0.87992,\n",
       "             0.8798,     0.87968,     0.87956,     0.87944,     0.87932,     0.88067,     0.88211,     0.88354,     0.88498,     0.88642,     0.88786,     0.88929,     0.89073,     0.89217,     0.89361,     0.89822,     0.91233,     0.91911,      0.9259,     0.92715,       0.927,     0.92684,     0.92669,\n",
       "            0.92654,     0.92638,     0.92623,     0.92608,     0.92592,     0.92582,     0.92572,     0.92562,     0.92551,     0.92541,     0.92531,     0.92521,     0.92511,       0.925,      0.9249,      0.9248,      0.9247,     0.92459,     0.92346,     0.92281,      0.9225,     0.92219,     0.92188,\n",
       "            0.92157,     0.92145,     0.92132,      0.9212,     0.92107,     0.92095,     0.92083,      0.9207,     0.92058,     0.92046,     0.92033,     0.92021,     0.92009,     0.91948,     0.92025,     0.92585,     0.93146,     0.93706,     0.93734,     0.93717,       0.937,     0.93683,     0.93666,\n",
       "            0.93649,     0.93632,     0.93584,     0.93473,     0.93466,     0.93458,      0.9345,     0.93442,     0.93434,     0.93426,     0.93419,     0.93411,     0.93403,     0.93395,     0.93387,      0.9338,     0.93372,     0.93364,     0.93356,     0.93348,      0.9334,     0.93345,     0.93469,\n",
       "            0.93593,     0.93718,     0.93842,     0.93966,      0.9409,     0.94215,     0.94339,     0.94463,     0.94587,     0.94712,     0.94836,      0.9496,     0.95084,     0.95209,     0.95333,     0.95454,     0.95423,     0.95392,     0.95361,     0.95343,     0.95334,     0.95324,     0.95315,\n",
       "            0.95305,     0.95296,     0.95286,     0.95277,     0.95267,     0.95258,     0.95249,     0.95239,     0.95195,     0.95148,     0.95084,        0.95,     0.94981,     0.94963,     0.94944,     0.94925,     0.94906,     0.94887,     0.94943,      0.9537,     0.95796,     0.96223,     0.96649,\n",
       "            0.97076,     0.97365,     0.97355,     0.97344,     0.97334,     0.97323,     0.97313,     0.97303,     0.97223,     0.97211,     0.97199,     0.97187,     0.97176,     0.97164,     0.97153,     0.97055,     0.97032,     0.97009,     0.96986,     0.96965,     0.96949,     0.96933,     0.96917,\n",
       "            0.96901,     0.96885,     0.96863,     0.96833,     0.96804,     0.96774,     0.96665,     0.96606,     0.96551,     0.96534,     0.96517,       0.965,     0.96483,     0.96466,      0.9645,     0.96433,     0.96388,     0.96333,     0.96281,     0.96232,     0.96184,     0.96129,     0.96066,\n",
       "            0.96003,     0.95977,     0.95952,     0.95928,     0.95904,     0.95879,     0.95855,     0.95811,     0.95638,     0.95536,     0.95369,     0.95189,     0.95119,     0.95049,     0.94969,     0.94861,     0.94753,     0.94482,     0.94298,      0.9413,     0.94077,     0.94032,     0.93988,\n",
       "            0.93944,     0.93899,     0.93855,     0.93811,     0.93766,     0.93696,     0.93611,     0.93525,      0.9344,     0.93354,     0.92965,      0.9279,     0.92703,     0.92616,      0.9253,     0.92443,     0.92356,     0.92164,     0.91835,     0.91415,     0.90902,     0.90591,     0.90281,\n",
       "             0.8989,     0.88717,     0.87447,     0.87081,     0.86715,     0.86349,     0.85983,     0.84411,     0.88659,     0.95492,           1,           1,           1,           1,           1,           1,           1,           1,           1,           1,           1,           1,           1,\n",
       "                  1,           1,           1,           1,           1,           1,           1,           1,           1,           1,           1,           1,           1,           1,           1,           1,           1,           1,           1,           1,           1,           1,           1,\n",
       "                  1,           1,           1,           1,           1,           1,           1,           1,           1,           1,           1]]), 'Confidence', 'Precision'], [array([          0,    0.001001,    0.002002,    0.003003,    0.004004,    0.005005,    0.006006,    0.007007,    0.008008,    0.009009,     0.01001,    0.011011,    0.012012,    0.013013,    0.014014,    0.015015,    0.016016,    0.017017,    0.018018,    0.019019,     0.02002,    0.021021,    0.022022,    0.023023,\n",
       "          0.024024,    0.025025,    0.026026,    0.027027,    0.028028,    0.029029,     0.03003,    0.031031,    0.032032,    0.033033,    0.034034,    0.035035,    0.036036,    0.037037,    0.038038,    0.039039,     0.04004,    0.041041,    0.042042,    0.043043,    0.044044,    0.045045,    0.046046,    0.047047,\n",
       "          0.048048,    0.049049,     0.05005,    0.051051,    0.052052,    0.053053,    0.054054,    0.055055,    0.056056,    0.057057,    0.058058,    0.059059,     0.06006,    0.061061,    0.062062,    0.063063,    0.064064,    0.065065,    0.066066,    0.067067,    0.068068,    0.069069,     0.07007,    0.071071,\n",
       "          0.072072,    0.073073,    0.074074,    0.075075,    0.076076,    0.077077,    0.078078,    0.079079,     0.08008,    0.081081,    0.082082,    0.083083,    0.084084,    0.085085,    0.086086,    0.087087,    0.088088,    0.089089,     0.09009,    0.091091,    0.092092,    0.093093,    0.094094,    0.095095,\n",
       "          0.096096,    0.097097,    0.098098,    0.099099,      0.1001,      0.1011,      0.1021,      0.1031,      0.1041,     0.10511,     0.10611,     0.10711,     0.10811,     0.10911,     0.11011,     0.11111,     0.11211,     0.11311,     0.11411,     0.11512,     0.11612,     0.11712,     0.11812,     0.11912,\n",
       "           0.12012,     0.12112,     0.12212,     0.12312,     0.12412,     0.12513,     0.12613,     0.12713,     0.12813,     0.12913,     0.13013,     0.13113,     0.13213,     0.13313,     0.13413,     0.13514,     0.13614,     0.13714,     0.13814,     0.13914,     0.14014,     0.14114,     0.14214,     0.14314,\n",
       "           0.14414,     0.14515,     0.14615,     0.14715,     0.14815,     0.14915,     0.15015,     0.15115,     0.15215,     0.15315,     0.15415,     0.15516,     0.15616,     0.15716,     0.15816,     0.15916,     0.16016,     0.16116,     0.16216,     0.16316,     0.16416,     0.16517,     0.16617,     0.16717,\n",
       "           0.16817,     0.16917,     0.17017,     0.17117,     0.17217,     0.17317,     0.17417,     0.17518,     0.17618,     0.17718,     0.17818,     0.17918,     0.18018,     0.18118,     0.18218,     0.18318,     0.18418,     0.18519,     0.18619,     0.18719,     0.18819,     0.18919,     0.19019,     0.19119,\n",
       "           0.19219,     0.19319,     0.19419,      0.1952,      0.1962,      0.1972,      0.1982,      0.1992,      0.2002,      0.2012,      0.2022,      0.2032,      0.2042,     0.20521,     0.20621,     0.20721,     0.20821,     0.20921,     0.21021,     0.21121,     0.21221,     0.21321,     0.21421,     0.21522,\n",
       "           0.21622,     0.21722,     0.21822,     0.21922,     0.22022,     0.22122,     0.22222,     0.22322,     0.22422,     0.22523,     0.22623,     0.22723,     0.22823,     0.22923,     0.23023,     0.23123,     0.23223,     0.23323,     0.23423,     0.23524,     0.23624,     0.23724,     0.23824,     0.23924,\n",
       "           0.24024,     0.24124,     0.24224,     0.24324,     0.24424,     0.24525,     0.24625,     0.24725,     0.24825,     0.24925,     0.25025,     0.25125,     0.25225,     0.25325,     0.25425,     0.25526,     0.25626,     0.25726,     0.25826,     0.25926,     0.26026,     0.26126,     0.26226,     0.26326,\n",
       "           0.26426,     0.26527,     0.26627,     0.26727,     0.26827,     0.26927,     0.27027,     0.27127,     0.27227,     0.27327,     0.27427,     0.27528,     0.27628,     0.27728,     0.27828,     0.27928,     0.28028,     0.28128,     0.28228,     0.28328,     0.28428,     0.28529,     0.28629,     0.28729,\n",
       "           0.28829,     0.28929,     0.29029,     0.29129,     0.29229,     0.29329,     0.29429,      0.2953,      0.2963,      0.2973,      0.2983,      0.2993,      0.3003,      0.3013,      0.3023,      0.3033,      0.3043,     0.30531,     0.30631,     0.30731,     0.30831,     0.30931,     0.31031,     0.31131,\n",
       "           0.31231,     0.31331,     0.31431,     0.31532,     0.31632,     0.31732,     0.31832,     0.31932,     0.32032,     0.32132,     0.32232,     0.32332,     0.32432,     0.32533,     0.32633,     0.32733,     0.32833,     0.32933,     0.33033,     0.33133,     0.33233,     0.33333,     0.33433,     0.33534,\n",
       "           0.33634,     0.33734,     0.33834,     0.33934,     0.34034,     0.34134,     0.34234,     0.34334,     0.34434,     0.34535,     0.34635,     0.34735,     0.34835,     0.34935,     0.35035,     0.35135,     0.35235,     0.35335,     0.35435,     0.35536,     0.35636,     0.35736,     0.35836,     0.35936,\n",
       "           0.36036,     0.36136,     0.36236,     0.36336,     0.36436,     0.36537,     0.36637,     0.36737,     0.36837,     0.36937,     0.37037,     0.37137,     0.37237,     0.37337,     0.37437,     0.37538,     0.37638,     0.37738,     0.37838,     0.37938,     0.38038,     0.38138,     0.38238,     0.38338,\n",
       "           0.38438,     0.38539,     0.38639,     0.38739,     0.38839,     0.38939,     0.39039,     0.39139,     0.39239,     0.39339,     0.39439,      0.3954,      0.3964,      0.3974,      0.3984,      0.3994,      0.4004,      0.4014,      0.4024,      0.4034,      0.4044,     0.40541,     0.40641,     0.40741,\n",
       "           0.40841,     0.40941,     0.41041,     0.41141,     0.41241,     0.41341,     0.41441,     0.41542,     0.41642,     0.41742,     0.41842,     0.41942,     0.42042,     0.42142,     0.42242,     0.42342,     0.42442,     0.42543,     0.42643,     0.42743,     0.42843,     0.42943,     0.43043,     0.43143,\n",
       "           0.43243,     0.43343,     0.43443,     0.43544,     0.43644,     0.43744,     0.43844,     0.43944,     0.44044,     0.44144,     0.44244,     0.44344,     0.44444,     0.44545,     0.44645,     0.44745,     0.44845,     0.44945,     0.45045,     0.45145,     0.45245,     0.45345,     0.45445,     0.45546,\n",
       "           0.45646,     0.45746,     0.45846,     0.45946,     0.46046,     0.46146,     0.46246,     0.46346,     0.46446,     0.46547,     0.46647,     0.46747,     0.46847,     0.46947,     0.47047,     0.47147,     0.47247,     0.47347,     0.47447,     0.47548,     0.47648,     0.47748,     0.47848,     0.47948,\n",
       "           0.48048,     0.48148,     0.48248,     0.48348,     0.48448,     0.48549,     0.48649,     0.48749,     0.48849,     0.48949,     0.49049,     0.49149,     0.49249,     0.49349,     0.49449,      0.4955,      0.4965,      0.4975,      0.4985,      0.4995,      0.5005,      0.5015,      0.5025,      0.5035,\n",
       "            0.5045,     0.50551,     0.50651,     0.50751,     0.50851,     0.50951,     0.51051,     0.51151,     0.51251,     0.51351,     0.51451,     0.51552,     0.51652,     0.51752,     0.51852,     0.51952,     0.52052,     0.52152,     0.52252,     0.52352,     0.52452,     0.52553,     0.52653,     0.52753,\n",
       "           0.52853,     0.52953,     0.53053,     0.53153,     0.53253,     0.53353,     0.53453,     0.53554,     0.53654,     0.53754,     0.53854,     0.53954,     0.54054,     0.54154,     0.54254,     0.54354,     0.54454,     0.54555,     0.54655,     0.54755,     0.54855,     0.54955,     0.55055,     0.55155,\n",
       "           0.55255,     0.55355,     0.55455,     0.55556,     0.55656,     0.55756,     0.55856,     0.55956,     0.56056,     0.56156,     0.56256,     0.56356,     0.56456,     0.56557,     0.56657,     0.56757,     0.56857,     0.56957,     0.57057,     0.57157,     0.57257,     0.57357,     0.57457,     0.57558,\n",
       "           0.57658,     0.57758,     0.57858,     0.57958,     0.58058,     0.58158,     0.58258,     0.58358,     0.58458,     0.58559,     0.58659,     0.58759,     0.58859,     0.58959,     0.59059,     0.59159,     0.59259,     0.59359,     0.59459,      0.5956,      0.5966,      0.5976,      0.5986,      0.5996,\n",
       "            0.6006,      0.6016,      0.6026,      0.6036,      0.6046,     0.60561,     0.60661,     0.60761,     0.60861,     0.60961,     0.61061,     0.61161,     0.61261,     0.61361,     0.61461,     0.61562,     0.61662,     0.61762,     0.61862,     0.61962,     0.62062,     0.62162,     0.62262,     0.62362,\n",
       "           0.62462,     0.62563,     0.62663,     0.62763,     0.62863,     0.62963,     0.63063,     0.63163,     0.63263,     0.63363,     0.63463,     0.63564,     0.63664,     0.63764,     0.63864,     0.63964,     0.64064,     0.64164,     0.64264,     0.64364,     0.64464,     0.64565,     0.64665,     0.64765,\n",
       "           0.64865,     0.64965,     0.65065,     0.65165,     0.65265,     0.65365,     0.65465,     0.65566,     0.65666,     0.65766,     0.65866,     0.65966,     0.66066,     0.66166,     0.66266,     0.66366,     0.66466,     0.66567,     0.66667,     0.66767,     0.66867,     0.66967,     0.67067,     0.67167,\n",
       "           0.67267,     0.67367,     0.67467,     0.67568,     0.67668,     0.67768,     0.67868,     0.67968,     0.68068,     0.68168,     0.68268,     0.68368,     0.68468,     0.68569,     0.68669,     0.68769,     0.68869,     0.68969,     0.69069,     0.69169,     0.69269,     0.69369,     0.69469,      0.6957,\n",
       "            0.6967,      0.6977,      0.6987,      0.6997,      0.7007,      0.7017,      0.7027,      0.7037,      0.7047,     0.70571,     0.70671,     0.70771,     0.70871,     0.70971,     0.71071,     0.71171,     0.71271,     0.71371,     0.71471,     0.71572,     0.71672,     0.71772,     0.71872,     0.71972,\n",
       "           0.72072,     0.72172,     0.72272,     0.72372,     0.72472,     0.72573,     0.72673,     0.72773,     0.72873,     0.72973,     0.73073,     0.73173,     0.73273,     0.73373,     0.73473,     0.73574,     0.73674,     0.73774,     0.73874,     0.73974,     0.74074,     0.74174,     0.74274,     0.74374,\n",
       "           0.74474,     0.74575,     0.74675,     0.74775,     0.74875,     0.74975,     0.75075,     0.75175,     0.75275,     0.75375,     0.75475,     0.75576,     0.75676,     0.75776,     0.75876,     0.75976,     0.76076,     0.76176,     0.76276,     0.76376,     0.76476,     0.76577,     0.76677,     0.76777,\n",
       "           0.76877,     0.76977,     0.77077,     0.77177,     0.77277,     0.77377,     0.77477,     0.77578,     0.77678,     0.77778,     0.77878,     0.77978,     0.78078,     0.78178,     0.78278,     0.78378,     0.78478,     0.78579,     0.78679,     0.78779,     0.78879,     0.78979,     0.79079,     0.79179,\n",
       "           0.79279,     0.79379,     0.79479,      0.7958,      0.7968,      0.7978,      0.7988,      0.7998,      0.8008,      0.8018,      0.8028,      0.8038,      0.8048,     0.80581,     0.80681,     0.80781,     0.80881,     0.80981,     0.81081,     0.81181,     0.81281,     0.81381,     0.81481,     0.81582,\n",
       "           0.81682,     0.81782,     0.81882,     0.81982,     0.82082,     0.82182,     0.82282,     0.82382,     0.82482,     0.82583,     0.82683,     0.82783,     0.82883,     0.82983,     0.83083,     0.83183,     0.83283,     0.83383,     0.83483,     0.83584,     0.83684,     0.83784,     0.83884,     0.83984,\n",
       "           0.84084,     0.84184,     0.84284,     0.84384,     0.84484,     0.84585,     0.84685,     0.84785,     0.84885,     0.84985,     0.85085,     0.85185,     0.85285,     0.85385,     0.85485,     0.85586,     0.85686,     0.85786,     0.85886,     0.85986,     0.86086,     0.86186,     0.86286,     0.86386,\n",
       "           0.86486,     0.86587,     0.86687,     0.86787,     0.86887,     0.86987,     0.87087,     0.87187,     0.87287,     0.87387,     0.87487,     0.87588,     0.87688,     0.87788,     0.87888,     0.87988,     0.88088,     0.88188,     0.88288,     0.88388,     0.88488,     0.88589,     0.88689,     0.88789,\n",
       "           0.88889,     0.88989,     0.89089,     0.89189,     0.89289,     0.89389,     0.89489,      0.8959,      0.8969,      0.8979,      0.8989,      0.8999,      0.9009,      0.9019,      0.9029,      0.9039,      0.9049,     0.90591,     0.90691,     0.90791,     0.90891,     0.90991,     0.91091,     0.91191,\n",
       "           0.91291,     0.91391,     0.91491,     0.91592,     0.91692,     0.91792,     0.91892,     0.91992,     0.92092,     0.92192,     0.92292,     0.92392,     0.92492,     0.92593,     0.92693,     0.92793,     0.92893,     0.92993,     0.93093,     0.93193,     0.93293,     0.93393,     0.93493,     0.93594,\n",
       "           0.93694,     0.93794,     0.93894,     0.93994,     0.94094,     0.94194,     0.94294,     0.94394,     0.94494,     0.94595,     0.94695,     0.94795,     0.94895,     0.94995,     0.95095,     0.95195,     0.95295,     0.95395,     0.95495,     0.95596,     0.95696,     0.95796,     0.95896,     0.95996,\n",
       "           0.96096,     0.96196,     0.96296,     0.96396,     0.96496,     0.96597,     0.96697,     0.96797,     0.96897,     0.96997,     0.97097,     0.97197,     0.97297,     0.97397,     0.97497,     0.97598,     0.97698,     0.97798,     0.97898,     0.97998,     0.98098,     0.98198,     0.98298,     0.98398,\n",
       "           0.98498,     0.98599,     0.98699,     0.98799,     0.98899,     0.98999,     0.99099,     0.99199,     0.99299,     0.99399,     0.99499,       0.996,       0.997,       0.998,       0.999,           1]), array([[    0.89535,     0.89535,     0.87209,     0.86047,     0.86047,     0.86047,     0.86047,     0.86047,     0.84884,     0.83721,     0.83721,     0.82969,     0.82558,     0.81395,     0.81395,     0.81395,     0.81395,     0.81395,     0.81395,     0.81395,     0.81395,     0.81395,     0.81395,\n",
       "            0.81395,     0.81395,     0.81395,     0.80233,     0.80233,      0.7907,      0.7907,     0.77907,     0.77907,     0.77907,     0.77907,     0.77907,     0.77907,     0.77907,     0.77907,     0.77907,     0.77907,     0.77907,     0.77907,     0.77907,      0.7748,     0.76744,     0.76744,\n",
       "            0.76744,     0.76744,     0.76744,     0.76744,     0.76744,     0.76744,     0.76744,     0.76744,     0.76744,     0.76744,     0.76744,     0.76744,     0.75899,     0.75581,     0.75581,     0.75581,     0.75581,     0.75581,     0.75581,     0.75581,     0.75581,     0.75581,     0.75581,\n",
       "            0.75481,      0.7529,       0.751,     0.74909,     0.74718,     0.74528,     0.74419,     0.74419,     0.74419,     0.74419,     0.74419,     0.74419,     0.74419,     0.74419,     0.74419,     0.74419,     0.74419,     0.74142,     0.73744,     0.73347,     0.73256,     0.73256,     0.73256,\n",
       "            0.73256,     0.73256,     0.73256,     0.72093,     0.72093,     0.72093,     0.72093,     0.72093,     0.72093,     0.72093,     0.72093,     0.72093,     0.72093,     0.72093,     0.72093,     0.72093,     0.72093,     0.72093,     0.72093,     0.72093,      0.7093,      0.7093,      0.7093,\n",
       "             0.7093,      0.7093,      0.7093,      0.7093,      0.7093,      0.7093,      0.7093,      0.7093,      0.7093,      0.7093,      0.7093,      0.7093,      0.7093,      0.7093,      0.7093,      0.7093,      0.7093,      0.7093,      0.7093,      0.7093,      0.7093,      0.7093,      0.7093,\n",
       "             0.7093,      0.7093,      0.7093,     0.70695,     0.69828,     0.69767,     0.69767,     0.69767,     0.69526,     0.69208,      0.6889,     0.68602,     0.68575,     0.68547,      0.6852,     0.68493,     0.68465,     0.68438,     0.68411,     0.68383,     0.68356,     0.68329,     0.68301,\n",
       "            0.68274,     0.68247,     0.68219,     0.68192,     0.68165,     0.68137,      0.6811,     0.68083,     0.68055,     0.68028,     0.68001,     0.67973,     0.67946,     0.67919,     0.67892,     0.67864,     0.67837,      0.6781,     0.67782,     0.67755,     0.67728,       0.677,     0.67673,\n",
       "            0.67646,     0.67618,     0.67591,     0.67564,     0.67536,     0.67509,     0.67482,     0.67454,     0.67442,     0.67442,     0.67442,     0.67442,     0.67442,     0.67442,     0.67442,     0.67442,     0.67442,     0.67442,     0.67442,     0.67442,     0.67442,     0.67442,     0.67442,\n",
       "            0.67442,     0.67442,     0.67442,     0.67442,     0.67442,     0.67442,     0.67442,     0.67442,     0.67442,     0.67442,     0.67442,     0.67442,     0.67442,     0.67442,     0.67442,     0.67442,     0.67442,     0.67442,     0.67442,     0.67442,     0.67442,     0.67442,     0.67442,\n",
       "            0.67442,     0.67442,     0.67442,     0.67442,     0.67442,     0.67442,     0.67442,     0.67442,     0.67442,     0.67442,     0.67442,     0.67442,     0.67442,     0.67442,     0.67442,     0.67442,     0.67442,     0.67442,     0.67442,     0.67442,     0.67442,     0.67442,     0.67442,\n",
       "            0.67442,     0.67442,     0.67368,     0.67249,      0.6713,     0.67011,     0.66892,     0.66772,     0.66653,     0.66534,     0.66415,     0.66296,     0.66279,     0.66279,     0.66279,     0.66279,     0.66279,     0.66279,     0.66279,     0.66279,     0.66279,     0.66279,     0.66279,\n",
       "            0.66279,     0.66279,     0.66279,     0.66279,     0.66279,     0.66279,     0.66279,     0.66279,     0.66279,     0.66279,     0.66279,     0.66279,     0.66279,     0.66279,     0.66279,     0.66279,     0.66279,     0.66279,     0.66279,     0.66279,     0.66279,     0.66279,     0.66279,\n",
       "            0.66279,     0.66279,     0.66279,     0.66279,     0.66279,     0.66279,     0.66279,     0.66279,     0.66279,     0.66279,     0.66279,     0.66279,     0.66279,     0.66279,     0.66279,     0.66279,     0.66279,     0.66279,     0.66279,     0.66279,     0.66279,     0.66279,     0.66279,\n",
       "            0.66279,     0.66279,     0.66279,     0.66279,     0.66279,     0.66279,     0.66279,     0.66279,     0.66279,     0.66279,     0.66279,     0.66279,     0.66279,     0.66279,     0.66279,     0.66279,     0.66279,     0.66279,     0.66279,     0.66279,     0.66279,     0.66279,     0.66279,\n",
       "            0.66279,     0.66279,     0.66279,     0.66279,     0.66279,     0.66279,     0.66279,     0.66279,     0.66279,     0.66279,     0.66279,     0.66279,     0.66279,     0.66279,     0.66279,     0.66279,     0.66279,     0.66279,     0.66279,     0.66279,     0.66279,     0.66279,     0.66279,\n",
       "            0.66279,     0.66279,     0.66279,     0.66279,     0.66279,     0.66279,     0.66279,     0.66279,     0.66279,     0.66279,     0.66279,     0.66279,     0.66279,     0.66279,     0.66279,     0.66279,     0.66279,     0.66279,     0.66279,     0.66279,     0.66279,     0.66279,     0.66279,\n",
       "            0.66279,     0.66279,     0.66279,     0.66279,     0.66279,     0.66279,     0.66279,     0.66279,     0.66279,     0.66279,     0.66279,     0.66273,     0.66254,     0.66234,     0.66215,     0.66195,     0.66176,     0.66156,     0.66137,     0.66118,     0.66098,     0.66079,     0.66059,\n",
       "             0.6604,      0.6602,     0.66001,     0.65981,     0.65962,     0.65942,     0.65923,     0.65903,     0.65884,     0.65865,     0.65845,     0.65826,     0.65806,     0.65787,     0.65767,     0.65748,     0.65728,     0.65709,     0.65689,      0.6567,      0.6565,     0.65631,     0.65612,\n",
       "            0.65592,     0.65573,     0.65553,     0.65534,     0.65514,     0.65495,     0.65475,     0.65456,     0.65436,     0.65417,     0.65398,     0.65378,     0.65359,     0.65339,      0.6532,       0.653,     0.65281,     0.65261,     0.65242,     0.65222,     0.65203,     0.65183,     0.65164,\n",
       "            0.65145,     0.65125,     0.65096,      0.6506,     0.65024,     0.64988,     0.64952,     0.64916,      0.6488,     0.64844,     0.64808,     0.64771,     0.64735,     0.64699,     0.64663,     0.64627,     0.64591,     0.64555,     0.64519,     0.64482,     0.64446,      0.6441,     0.64374,\n",
       "            0.64338,     0.64302,     0.64266,      0.6423,     0.64194,     0.64157,     0.64121,     0.64085,     0.64049,     0.64013,     0.63977,     0.63941,     0.63906,     0.63871,     0.63836,     0.63801,     0.63766,     0.63731,     0.63696,     0.63661,     0.63626,     0.63591,     0.63555,\n",
       "             0.6352,     0.63485,      0.6345,     0.63415,      0.6338,     0.63345,      0.6331,     0.63275,      0.6324,     0.63205,      0.6317,     0.63135,       0.631,     0.63065,      0.6303,     0.62995,      0.6296,     0.62924,     0.62889,     0.62854,     0.62819,     0.62791,     0.62791,\n",
       "            0.62791,     0.62791,     0.62791,     0.62791,     0.62791,     0.62791,     0.62791,     0.62791,     0.62791,     0.62791,     0.62791,     0.62791,     0.62791,     0.62791,     0.62791,     0.62791,     0.62791,     0.62791,     0.62791,     0.62791,     0.62791,     0.62791,     0.62791,\n",
       "            0.62791,     0.62791,     0.62791,     0.62791,     0.62791,     0.62791,     0.62791,     0.62791,     0.62791,     0.62791,     0.62791,     0.62791,     0.62791,     0.62791,     0.62791,     0.62791,     0.62791,     0.62791,     0.62791,     0.62791,     0.62791,     0.62791,     0.62791,\n",
       "            0.62791,     0.62791,     0.62791,     0.62791,     0.62791,     0.62791,     0.62791,     0.62791,     0.61628,     0.61628,     0.61628,     0.61628,     0.61628,     0.61628,     0.61628,     0.61628,     0.61628,     0.61628,     0.61628,     0.61628,     0.61628,     0.61628,     0.61628,\n",
       "            0.61628,     0.61628,     0.61628,     0.61628,     0.61628,     0.61628,     0.61628,     0.61628,     0.61628,     0.61628,     0.61628,     0.61628,     0.61628,     0.61628,     0.61628,     0.61628,     0.61628,     0.61628,     0.61628,     0.61628,     0.61628,     0.61628,     0.61628,\n",
       "            0.61628,     0.61628,     0.61628,     0.61628,     0.61628,     0.61628,     0.61628,     0.61628,     0.61628,     0.61628,     0.61628,     0.61628,     0.61628,     0.61628,     0.61628,     0.61628,     0.61628,     0.61628,     0.61628,     0.61628,     0.61628,     0.61628,     0.61628,\n",
       "            0.61628,     0.61628,     0.61628,     0.61628,     0.61628,     0.61628,     0.61628,     0.61628,     0.61628,     0.61628,     0.61628,     0.61628,     0.61628,     0.61628,     0.61628,     0.61628,     0.61628,     0.61628,     0.61628,     0.61628,     0.61628,     0.61623,      0.6159,\n",
       "            0.61557,     0.61524,     0.61491,     0.61458,     0.61425,     0.61392,     0.61358,     0.61325,     0.61292,     0.61259,     0.61226,     0.61193,      0.6116,     0.61127,     0.61094,      0.6106,     0.61027,     0.60994,     0.60961,     0.60928,     0.60895,     0.60862,     0.60829,\n",
       "            0.60796,     0.60763,     0.60729,     0.60696,     0.60663,      0.6063,     0.60597,     0.60564,     0.60531,     0.60498,     0.60464,     0.60396,     0.60328,      0.6026,     0.60192,     0.60123,     0.60055,     0.59987,     0.59919,     0.59851,     0.59783,     0.59715,     0.59647,\n",
       "            0.59579,      0.5951,     0.59442,     0.59374,     0.59306,     0.59302,     0.59302,     0.59302,     0.59302,     0.59302,     0.59302,     0.59302,     0.59302,     0.59302,     0.59302,     0.59302,     0.59302,     0.59302,     0.59302,     0.59197,     0.59064,     0.58932,     0.58799,\n",
       "            0.58667,     0.58534,     0.58402,      0.5827,     0.58138,     0.58053,     0.57968,     0.57883,     0.57797,     0.57712,     0.57627,     0.57542,     0.57457,     0.57372,     0.57287,     0.57202,     0.57116,     0.57031,     0.56119,     0.55606,     0.55368,     0.55129,     0.54891,\n",
       "            0.54653,      0.5456,     0.54468,     0.54377,     0.54285,     0.54193,     0.54102,      0.5401,     0.53918,     0.53827,     0.53735,     0.53643,     0.53551,     0.53117,     0.52326,     0.52326,     0.52326,     0.52326,     0.52188,     0.52039,      0.5189,     0.51741,     0.51592,\n",
       "            0.51443,     0.51294,     0.50885,     0.49961,     0.49898,     0.49835,     0.49772,      0.4971,     0.49647,     0.49584,     0.49521,     0.49459,     0.49396,     0.49333,     0.49271,     0.49208,     0.49145,     0.49082,      0.4902,     0.48957,     0.48894,     0.48837,     0.48837,\n",
       "            0.48837,     0.48837,     0.48837,     0.48837,     0.48837,     0.48837,     0.48837,     0.48837,     0.48837,     0.48837,     0.48837,     0.48837,     0.48837,     0.48837,     0.48837,      0.4883,      0.4849,     0.48149,     0.47809,     0.47614,     0.47515,     0.47416,     0.47316,\n",
       "            0.47217,     0.47118,     0.47018,     0.46919,      0.4682,      0.4672,     0.46621,     0.46522,     0.46083,     0.45607,     0.44984,     0.44189,     0.44016,     0.43846,     0.43676,     0.43506,     0.43335,     0.43165,     0.43023,     0.43023,     0.43023,     0.43023,     0.43023,\n",
       "            0.43023,      0.4297,       0.428,     0.42629,     0.42459,     0.42289,     0.42119,     0.41948,     0.40706,     0.40528,     0.40358,     0.40187,     0.40017,     0.39847,     0.39677,     0.38322,     0.38024,     0.37726,     0.37428,     0.37157,     0.36958,     0.36759,     0.36561,\n",
       "            0.36362,     0.36163,     0.35906,     0.35566,     0.35225,     0.34885,     0.33708,     0.33112,     0.32547,     0.32388,     0.32229,      0.3207,     0.31911,     0.31752,     0.31593,     0.31435,     0.31036,     0.30559,     0.30108,      0.2971,     0.29313,     0.28885,     0.28408,\n",
       "            0.27931,     0.27745,     0.27575,     0.27405,     0.27235,     0.27064,     0.26894,     0.26602,     0.25496,       0.249,     0.23959,     0.23016,     0.22675,     0.22335,     0.21955,     0.21478,     0.21001,     0.19915,     0.19245,     0.18649,     0.18475,     0.18335,     0.18195,\n",
       "            0.18054,     0.17914,     0.17774,     0.17634,     0.17493,     0.17291,     0.17053,     0.16814,     0.16576,     0.16338,      0.1538,     0.14973,      0.1479,     0.14607,     0.14423,      0.1424,     0.14057,     0.13693,     0.13097,     0.12404,     0.11619,     0.11221,     0.10824,\n",
       "             0.1035,    0.091586,     0.08105,    0.078666,    0.076282,    0.073898,    0.071515,    0.063401,     0.05814,     0.05814,    0.056517,    0.051749,    0.046982,    0.034125,    0.032292,    0.030458,    0.028624,    0.026791,    0.024957,    0.022682,    0.014736,           0,           0,\n",
       "                  0,           0,           0,           0,           0,           0,           0,           0,           0,           0,           0,           0,           0,           0,           0,           0,           0,           0,           0,           0,           0,           0,           0,\n",
       "                  0,           0,           0,           0,           0,           0,           0,           0,           0,           0,           0]]), 'Confidence', 'Recall']]\n",
       "fitness: 0.606619265322557\n",
       "keys: ['metrics/precision(B)', 'metrics/recall(B)', 'metrics/mAP50(B)', 'metrics/mAP50-95(B)']\n",
       "maps: array([    0.59059])\n",
       "names: {0: 'Coral'}\n",
       "plot: True\n",
       "results_dict: {'metrics/precision(B)': 0.874461727831491, 'metrics/recall(B)': 0.6162790697674418, 'metrics/mAP50(B)': 0.7508408671665523, 'metrics/mAP50-95(B)': 0.5905946428954465, 'fitness': 0.606619265322557}\n",
       "save_dir: PosixPath('/content/drive/MyDrive/yolov8-training/coral-detector')\n",
       "speed: {'preprocess': 0.24689704081983832, 'inference': 5.395602591826381, 'loss': 0.0004885510416174003, 'postprocess': 2.4217649999850344}\n",
       "task: 'detect'"
      ]
     },
     "execution_count": 15,
     "metadata": {},
     "output_type": "execute_result"
    }
   ],
   "source": [
    "model.train(data=\"//content/drive/MyDrive/yolov8dataset/data.yaml\",\n",
    "            epochs=100,\n",
    "            imgsz=640,\n",
    "            batch=16,\n",
    "            project=\"/content/drive/MyDrive/yolov8-training\",\n",
    "            name=\"coral-detector\"\n",
    ")"
   ]
  },
  {
   "cell_type": "code",
   "execution_count": null,
   "metadata": {
    "colab": {
     "base_uri": "https://localhost:8080/",
     "height": 1000
    },
    "executionInfo": {
     "elapsed": 105014,
     "status": "error",
     "timestamp": 1739817761053,
     "user": {
      "displayName": "Qianyu Huang",
      "userId": "18232162311717956953"
     },
     "user_tz": 300
    },
    "id": "mlNxV-S7SUoN",
    "outputId": "eb522afa-de55-4d94-f9e3-d043b922146b"
   },
   "outputs": [
    {
     "name": "stdout",
     "output_type": "stream",
     "text": [
      "Collecting ultralytics\n",
      "  Downloading ultralytics-8.3.75-py3-none-any.whl.metadata (35 kB)\n",
      "Requirement already satisfied: numpy<=2.1.1,>=1.23.0 in /usr/local/lib/python3.11/dist-packages (from ultralytics) (1.26.4)\n",
      "Requirement already satisfied: matplotlib>=3.3.0 in /usr/local/lib/python3.11/dist-packages (from ultralytics) (3.10.0)\n",
      "Requirement already satisfied: opencv-python>=4.6.0 in /usr/local/lib/python3.11/dist-packages (from ultralytics) (4.11.0.86)\n",
      "Requirement already satisfied: pillow>=7.1.2 in /usr/local/lib/python3.11/dist-packages (from ultralytics) (11.1.0)\n",
      "Requirement already satisfied: pyyaml>=5.3.1 in /usr/local/lib/python3.11/dist-packages (from ultralytics) (6.0.2)\n",
      "Requirement already satisfied: requests>=2.23.0 in /usr/local/lib/python3.11/dist-packages (from ultralytics) (2.32.3)\n",
      "Requirement already satisfied: scipy>=1.4.1 in /usr/local/lib/python3.11/dist-packages (from ultralytics) (1.13.1)\n",
      "Requirement already satisfied: torch>=1.8.0 in /usr/local/lib/python3.11/dist-packages (from ultralytics) (2.5.1+cu124)\n",
      "Requirement already satisfied: torchvision>=0.9.0 in /usr/local/lib/python3.11/dist-packages (from ultralytics) (0.20.1+cu124)\n",
      "Requirement already satisfied: tqdm>=4.64.0 in /usr/local/lib/python3.11/dist-packages (from ultralytics) (4.67.1)\n",
      "Requirement already satisfied: psutil in /usr/local/lib/python3.11/dist-packages (from ultralytics) (5.9.5)\n",
      "Requirement already satisfied: py-cpuinfo in /usr/local/lib/python3.11/dist-packages (from ultralytics) (9.0.0)\n",
      "Requirement already satisfied: pandas>=1.1.4 in /usr/local/lib/python3.11/dist-packages (from ultralytics) (2.2.2)\n",
      "Requirement already satisfied: seaborn>=0.11.0 in /usr/local/lib/python3.11/dist-packages (from ultralytics) (0.13.2)\n",
      "Collecting ultralytics-thop>=2.0.0 (from ultralytics)\n",
      "  Downloading ultralytics_thop-2.0.14-py3-none-any.whl.metadata (9.4 kB)\n",
      "Requirement already satisfied: contourpy>=1.0.1 in /usr/local/lib/python3.11/dist-packages (from matplotlib>=3.3.0->ultralytics) (1.3.1)\n",
      "Requirement already satisfied: cycler>=0.10 in /usr/local/lib/python3.11/dist-packages (from matplotlib>=3.3.0->ultralytics) (0.12.1)\n",
      "Requirement already satisfied: fonttools>=4.22.0 in /usr/local/lib/python3.11/dist-packages (from matplotlib>=3.3.0->ultralytics) (4.56.0)\n",
      "Requirement already satisfied: kiwisolver>=1.3.1 in /usr/local/lib/python3.11/dist-packages (from matplotlib>=3.3.0->ultralytics) (1.4.8)\n",
      "Requirement already satisfied: packaging>=20.0 in /usr/local/lib/python3.11/dist-packages (from matplotlib>=3.3.0->ultralytics) (24.2)\n",
      "Requirement already satisfied: pyparsing>=2.3.1 in /usr/local/lib/python3.11/dist-packages (from matplotlib>=3.3.0->ultralytics) (3.2.1)\n",
      "Requirement already satisfied: python-dateutil>=2.7 in /usr/local/lib/python3.11/dist-packages (from matplotlib>=3.3.0->ultralytics) (2.8.2)\n",
      "Requirement already satisfied: pytz>=2020.1 in /usr/local/lib/python3.11/dist-packages (from pandas>=1.1.4->ultralytics) (2025.1)\n",
      "Requirement already satisfied: tzdata>=2022.7 in /usr/local/lib/python3.11/dist-packages (from pandas>=1.1.4->ultralytics) (2025.1)\n",
      "Requirement already satisfied: charset-normalizer<4,>=2 in /usr/local/lib/python3.11/dist-packages (from requests>=2.23.0->ultralytics) (3.4.1)\n",
      "Requirement already satisfied: idna<4,>=2.5 in /usr/local/lib/python3.11/dist-packages (from requests>=2.23.0->ultralytics) (3.10)\n",
      "Requirement already satisfied: urllib3<3,>=1.21.1 in /usr/local/lib/python3.11/dist-packages (from requests>=2.23.0->ultralytics) (2.3.0)\n",
      "Requirement already satisfied: certifi>=2017.4.17 in /usr/local/lib/python3.11/dist-packages (from requests>=2.23.0->ultralytics) (2025.1.31)\n",
      "Requirement already satisfied: filelock in /usr/local/lib/python3.11/dist-packages (from torch>=1.8.0->ultralytics) (3.17.0)\n",
      "Requirement already satisfied: typing-extensions>=4.8.0 in /usr/local/lib/python3.11/dist-packages (from torch>=1.8.0->ultralytics) (4.12.2)\n",
      "Requirement already satisfied: networkx in /usr/local/lib/python3.11/dist-packages (from torch>=1.8.0->ultralytics) (3.4.2)\n",
      "Requirement already satisfied: jinja2 in /usr/local/lib/python3.11/dist-packages (from torch>=1.8.0->ultralytics) (3.1.5)\n",
      "Requirement already satisfied: fsspec in /usr/local/lib/python3.11/dist-packages (from torch>=1.8.0->ultralytics) (2024.10.0)\n",
      "Collecting nvidia-cuda-nvrtc-cu12==12.4.127 (from torch>=1.8.0->ultralytics)\n",
      "  Downloading nvidia_cuda_nvrtc_cu12-12.4.127-py3-none-manylinux2014_x86_64.whl.metadata (1.5 kB)\n",
      "Collecting nvidia-cuda-runtime-cu12==12.4.127 (from torch>=1.8.0->ultralytics)\n",
      "  Downloading nvidia_cuda_runtime_cu12-12.4.127-py3-none-manylinux2014_x86_64.whl.metadata (1.5 kB)\n",
      "Collecting nvidia-cuda-cupti-cu12==12.4.127 (from torch>=1.8.0->ultralytics)\n",
      "  Downloading nvidia_cuda_cupti_cu12-12.4.127-py3-none-manylinux2014_x86_64.whl.metadata (1.6 kB)\n",
      "Collecting nvidia-cudnn-cu12==9.1.0.70 (from torch>=1.8.0->ultralytics)\n",
      "  Downloading nvidia_cudnn_cu12-9.1.0.70-py3-none-manylinux2014_x86_64.whl.metadata (1.6 kB)\n",
      "Collecting nvidia-cublas-cu12==12.4.5.8 (from torch>=1.8.0->ultralytics)\n",
      "  Downloading nvidia_cublas_cu12-12.4.5.8-py3-none-manylinux2014_x86_64.whl.metadata (1.5 kB)\n",
      "Collecting nvidia-cufft-cu12==11.2.1.3 (from torch>=1.8.0->ultralytics)\n",
      "  Downloading nvidia_cufft_cu12-11.2.1.3-py3-none-manylinux2014_x86_64.whl.metadata (1.5 kB)\n",
      "Collecting nvidia-curand-cu12==10.3.5.147 (from torch>=1.8.0->ultralytics)\n",
      "  Downloading nvidia_curand_cu12-10.3.5.147-py3-none-manylinux2014_x86_64.whl.metadata (1.5 kB)\n",
      "Collecting nvidia-cusolver-cu12==11.6.1.9 (from torch>=1.8.0->ultralytics)\n",
      "  Downloading nvidia_cusolver_cu12-11.6.1.9-py3-none-manylinux2014_x86_64.whl.metadata (1.6 kB)\n",
      "Collecting nvidia-cusparse-cu12==12.3.1.170 (from torch>=1.8.0->ultralytics)\n",
      "  Downloading nvidia_cusparse_cu12-12.3.1.170-py3-none-manylinux2014_x86_64.whl.metadata (1.6 kB)\n",
      "Requirement already satisfied: nvidia-nccl-cu12==2.21.5 in /usr/local/lib/python3.11/dist-packages (from torch>=1.8.0->ultralytics) (2.21.5)\n",
      "Requirement already satisfied: nvidia-nvtx-cu12==12.4.127 in /usr/local/lib/python3.11/dist-packages (from torch>=1.8.0->ultralytics) (12.4.127)\n",
      "Collecting nvidia-nvjitlink-cu12==12.4.127 (from torch>=1.8.0->ultralytics)\n",
      "  Downloading nvidia_nvjitlink_cu12-12.4.127-py3-none-manylinux2014_x86_64.whl.metadata (1.5 kB)\n",
      "Requirement already satisfied: triton==3.1.0 in /usr/local/lib/python3.11/dist-packages (from torch>=1.8.0->ultralytics) (3.1.0)\n",
      "Requirement already satisfied: sympy==1.13.1 in /usr/local/lib/python3.11/dist-packages (from torch>=1.8.0->ultralytics) (1.13.1)\n",
      "Requirement already satisfied: mpmath<1.4,>=1.1.0 in /usr/local/lib/python3.11/dist-packages (from sympy==1.13.1->torch>=1.8.0->ultralytics) (1.3.0)\n",
      "Requirement already satisfied: six>=1.5 in /usr/local/lib/python3.11/dist-packages (from python-dateutil>=2.7->matplotlib>=3.3.0->ultralytics) (1.17.0)\n",
      "Requirement already satisfied: MarkupSafe>=2.0 in /usr/local/lib/python3.11/dist-packages (from jinja2->torch>=1.8.0->ultralytics) (3.0.2)\n",
      "Downloading ultralytics-8.3.75-py3-none-any.whl (914 kB)\n",
      "\u001b[2K   \u001b[90m━━━━━━━━━━━━━━━━━━━━━━━━━━━━━━━━━━━━━━━━\u001b[0m \u001b[32m914.9/914.9 kB\u001b[0m \u001b[31m29.8 MB/s\u001b[0m eta \u001b[36m0:00:00\u001b[0m\n",
      "\u001b[?25hDownloading nvidia_cublas_cu12-12.4.5.8-py3-none-manylinux2014_x86_64.whl (363.4 MB)\n",
      "\u001b[2K   \u001b[90m━━━━━━━━━━━━━━━━━━━━━━━━━━━━━━━━━━━━━━━━\u001b[0m \u001b[32m363.4/363.4 MB\u001b[0m \u001b[31m3.8 MB/s\u001b[0m eta \u001b[36m0:00:00\u001b[0m\n",
      "\u001b[?25hDownloading nvidia_cuda_cupti_cu12-12.4.127-py3-none-manylinux2014_x86_64.whl (13.8 MB)\n",
      "\u001b[2K   \u001b[90m━━━━━━━━━━━━━━━━━━━━━━━━━━━━━━━━━━━━━━━━\u001b[0m \u001b[32m13.8/13.8 MB\u001b[0m \u001b[31m64.5 MB/s\u001b[0m eta \u001b[36m0:00:00\u001b[0m\n",
      "\u001b[?25hDownloading nvidia_cuda_nvrtc_cu12-12.4.127-py3-none-manylinux2014_x86_64.whl (24.6 MB)\n",
      "\u001b[2K   \u001b[90m━━━━━━━━━━━━━━━━━━━━━━━━━━━━━━━━━━━━━━━━\u001b[0m \u001b[32m24.6/24.6 MB\u001b[0m \u001b[31m66.8 MB/s\u001b[0m eta \u001b[36m0:00:00\u001b[0m\n",
      "\u001b[?25hDownloading nvidia_cuda_runtime_cu12-12.4.127-py3-none-manylinux2014_x86_64.whl (883 kB)\n",
      "\u001b[2K   \u001b[90m━━━━━━━━━━━━━━━━━━━━━━━━━━━━━━━━━━━━━━━━\u001b[0m \u001b[32m883.7/883.7 kB\u001b[0m \u001b[31m31.9 MB/s\u001b[0m eta \u001b[36m0:00:00\u001b[0m\n",
      "\u001b[?25hDownloading nvidia_cudnn_cu12-9.1.0.70-py3-none-manylinux2014_x86_64.whl (664.8 MB)\n",
      "\u001b[2K   \u001b[90m━━━━━━━━━━━━━━━━━━━━━━━━━━━━━━━━━━━━━━━━\u001b[0m \u001b[32m664.8/664.8 MB\u001b[0m \u001b[31m2.6 MB/s\u001b[0m eta \u001b[36m0:00:00\u001b[0m\n",
      "\u001b[?25hDownloading nvidia_cufft_cu12-11.2.1.3-py3-none-manylinux2014_x86_64.whl (211.5 MB)\n",
      "\u001b[2K   \u001b[90m━━━━━━━━━━━━━━━━━━━━━━━━━━━━━━━━━━━━━━━━\u001b[0m \u001b[32m211.5/211.5 MB\u001b[0m \u001b[31m5.2 MB/s\u001b[0m eta \u001b[36m0:00:00\u001b[0m\n",
      "\u001b[?25hDownloading nvidia_curand_cu12-10.3.5.147-py3-none-manylinux2014_x86_64.whl (56.3 MB)\n",
      "\u001b[2K   \u001b[90m━━━━━━━━━━━━━━━━━━━━━━━━━━━━━━━━━━━━━━━━\u001b[0m \u001b[32m56.3/56.3 MB\u001b[0m \u001b[31m10.4 MB/s\u001b[0m eta \u001b[36m0:00:00\u001b[0m\n",
      "\u001b[?25hDownloading nvidia_cusolver_cu12-11.6.1.9-py3-none-manylinux2014_x86_64.whl (127.9 MB)\n",
      "\u001b[2K   \u001b[90m━━━━━━━━━━━━━━━━━━━━━━━━━━━━━━━━━━━━━━━━\u001b[0m \u001b[32m127.9/127.9 MB\u001b[0m \u001b[31m7.6 MB/s\u001b[0m eta \u001b[36m0:00:00\u001b[0m\n",
      "\u001b[?25hDownloading nvidia_cusparse_cu12-12.3.1.170-py3-none-manylinux2014_x86_64.whl (207.5 MB)\n",
      "\u001b[2K   \u001b[90m━━━━━━━━━━━━━━━━━━━━━━━━━━━━━━━━━━━━━━━━\u001b[0m \u001b[32m207.5/207.5 MB\u001b[0m \u001b[31m6.3 MB/s\u001b[0m eta \u001b[36m0:00:00\u001b[0m\n",
      "\u001b[?25hDownloading nvidia_nvjitlink_cu12-12.4.127-py3-none-manylinux2014_x86_64.whl (21.1 MB)\n",
      "\u001b[2K   \u001b[90m━━━━━━━━━━━━━━━━━━━━━━━━━━━━━━━━━━━━━━━━\u001b[0m \u001b[32m21.1/21.1 MB\u001b[0m \u001b[31m56.8 MB/s\u001b[0m eta \u001b[36m0:00:00\u001b[0m\n",
      "\u001b[?25hDownloading ultralytics_thop-2.0.14-py3-none-any.whl (26 kB)\n",
      "Installing collected packages: nvidia-nvjitlink-cu12, nvidia-curand-cu12, nvidia-cufft-cu12, nvidia-cuda-runtime-cu12, nvidia-cuda-nvrtc-cu12, nvidia-cuda-cupti-cu12, nvidia-cublas-cu12, nvidia-cusparse-cu12, nvidia-cudnn-cu12, nvidia-cusolver-cu12, ultralytics-thop, ultralytics\n",
      "  Attempting uninstall: nvidia-nvjitlink-cu12\n",
      "    Found existing installation: nvidia-nvjitlink-cu12 12.5.82\n",
      "    Uninstalling nvidia-nvjitlink-cu12-12.5.82:\n",
      "      Successfully uninstalled nvidia-nvjitlink-cu12-12.5.82\n",
      "  Attempting uninstall: nvidia-curand-cu12\n",
      "    Found existing installation: nvidia-curand-cu12 10.3.6.82\n",
      "    Uninstalling nvidia-curand-cu12-10.3.6.82:\n",
      "      Successfully uninstalled nvidia-curand-cu12-10.3.6.82\n",
      "  Attempting uninstall: nvidia-cufft-cu12\n",
      "    Found existing installation: nvidia-cufft-cu12 11.2.3.61\n",
      "    Uninstalling nvidia-cufft-cu12-11.2.3.61:\n",
      "      Successfully uninstalled nvidia-cufft-cu12-11.2.3.61\n",
      "  Attempting uninstall: nvidia-cuda-runtime-cu12\n",
      "    Found existing installation: nvidia-cuda-runtime-cu12 12.5.82\n",
      "    Uninstalling nvidia-cuda-runtime-cu12-12.5.82:\n",
      "      Successfully uninstalled nvidia-cuda-runtime-cu12-12.5.82\n",
      "  Attempting uninstall: nvidia-cuda-nvrtc-cu12\n",
      "    Found existing installation: nvidia-cuda-nvrtc-cu12 12.5.82\n",
      "    Uninstalling nvidia-cuda-nvrtc-cu12-12.5.82:\n",
      "      Successfully uninstalled nvidia-cuda-nvrtc-cu12-12.5.82\n",
      "  Attempting uninstall: nvidia-cuda-cupti-cu12\n",
      "    Found existing installation: nvidia-cuda-cupti-cu12 12.5.82\n",
      "    Uninstalling nvidia-cuda-cupti-cu12-12.5.82:\n",
      "      Successfully uninstalled nvidia-cuda-cupti-cu12-12.5.82\n",
      "  Attempting uninstall: nvidia-cublas-cu12\n",
      "    Found existing installation: nvidia-cublas-cu12 12.5.3.2\n",
      "    Uninstalling nvidia-cublas-cu12-12.5.3.2:\n",
      "      Successfully uninstalled nvidia-cublas-cu12-12.5.3.2\n",
      "  Attempting uninstall: nvidia-cusparse-cu12\n",
      "    Found existing installation: nvidia-cusparse-cu12 12.5.1.3\n",
      "    Uninstalling nvidia-cusparse-cu12-12.5.1.3:\n",
      "      Successfully uninstalled nvidia-cusparse-cu12-12.5.1.3\n",
      "  Attempting uninstall: nvidia-cudnn-cu12\n",
      "    Found existing installation: nvidia-cudnn-cu12 9.3.0.75\n",
      "    Uninstalling nvidia-cudnn-cu12-9.3.0.75:\n",
      "      Successfully uninstalled nvidia-cudnn-cu12-9.3.0.75\n",
      "  Attempting uninstall: nvidia-cusolver-cu12\n",
      "    Found existing installation: nvidia-cusolver-cu12 11.6.3.83\n",
      "    Uninstalling nvidia-cusolver-cu12-11.6.3.83:\n",
      "      Successfully uninstalled nvidia-cusolver-cu12-11.6.3.83\n",
      "Successfully installed nvidia-cublas-cu12-12.4.5.8 nvidia-cuda-cupti-cu12-12.4.127 nvidia-cuda-nvrtc-cu12-12.4.127 nvidia-cuda-runtime-cu12-12.4.127 nvidia-cudnn-cu12-9.1.0.70 nvidia-cufft-cu12-11.2.1.3 nvidia-curand-cu12-10.3.5.147 nvidia-cusolver-cu12-11.6.1.9 nvidia-cusparse-cu12-12.3.1.170 nvidia-nvjitlink-cu12-12.4.127 ultralytics-8.3.75 ultralytics-thop-2.0.14\n",
      "Creating new Ultralytics Settings v0.0.6 file ✅ \n",
      "View Ultralytics Settings with 'yolo settings' or at '/root/.config/Ultralytics/settings.json'\n",
      "Update Settings with 'yolo settings key=value', i.e. 'yolo settings runs_dir=path/to/dir'. For help see https://docs.ultralytics.com/quickstart/#ultralytics-settings.\n"
     ]
    },
    {
     "ename": "FileNotFoundError",
     "evalue": "[Errno 2] No such file or directory: '/content/drive/MyDrive/yolov8-training/coral-detector/weights/best.pt'",
     "output_type": "error",
     "traceback": [
      "\u001b[0;31m---------------------------------------------------------------------------\u001b[0m",
      "\u001b[0;31mFileNotFoundError\u001b[0m                         Traceback (most recent call last)",
      "\u001b[0;32m<ipython-input-2-b6a16c9a0292>\u001b[0m in \u001b[0;36m<cell line: 0>\u001b[0;34m()\u001b[0m\n\u001b[1;32m      4\u001b[0m \u001b[0;34m\u001b[0m\u001b[0m\n\u001b[1;32m      5\u001b[0m \u001b[0;31m# Load the model from Google Drive\u001b[0m\u001b[0;34m\u001b[0m\u001b[0;34m\u001b[0m\u001b[0m\n\u001b[0;32m----> 6\u001b[0;31m \u001b[0mmodel\u001b[0m \u001b[0;34m=\u001b[0m \u001b[0mYOLO\u001b[0m\u001b[0;34m(\u001b[0m\u001b[0;34m'/content/drive/MyDrive/yolov8-training/coral-detector/weights/best.pt'\u001b[0m\u001b[0;34m)\u001b[0m\u001b[0;34m\u001b[0m\u001b[0;34m\u001b[0m\u001b[0m\n\u001b[0m\u001b[1;32m      7\u001b[0m \u001b[0;34m\u001b[0m\u001b[0m\n\u001b[1;32m      8\u001b[0m \u001b[0;31m# Verify the model is loaded by checking its details\u001b[0m\u001b[0;34m\u001b[0m\u001b[0;34m\u001b[0m\u001b[0m\n",
      "\u001b[0;32m/usr/local/lib/python3.11/dist-packages/ultralytics/models/yolo/model.py\u001b[0m in \u001b[0;36m__init__\u001b[0;34m(self, model, task, verbose)\u001b[0m\n\u001b[1;32m     21\u001b[0m         \u001b[0;32melse\u001b[0m\u001b[0;34m:\u001b[0m\u001b[0;34m\u001b[0m\u001b[0;34m\u001b[0m\u001b[0m\n\u001b[1;32m     22\u001b[0m             \u001b[0;31m# Continue with default YOLO initialization\u001b[0m\u001b[0;34m\u001b[0m\u001b[0;34m\u001b[0m\u001b[0m\n\u001b[0;32m---> 23\u001b[0;31m             \u001b[0msuper\u001b[0m\u001b[0;34m(\u001b[0m\u001b[0;34m)\u001b[0m\u001b[0;34m.\u001b[0m\u001b[0m__init__\u001b[0m\u001b[0;34m(\u001b[0m\u001b[0mmodel\u001b[0m\u001b[0;34m=\u001b[0m\u001b[0mmodel\u001b[0m\u001b[0;34m,\u001b[0m \u001b[0mtask\u001b[0m\u001b[0;34m=\u001b[0m\u001b[0mtask\u001b[0m\u001b[0;34m,\u001b[0m \u001b[0mverbose\u001b[0m\u001b[0;34m=\u001b[0m\u001b[0mverbose\u001b[0m\u001b[0;34m)\u001b[0m\u001b[0;34m\u001b[0m\u001b[0;34m\u001b[0m\u001b[0m\n\u001b[0m\u001b[1;32m     24\u001b[0m \u001b[0;34m\u001b[0m\u001b[0m\n\u001b[1;32m     25\u001b[0m     \u001b[0;34m@\u001b[0m\u001b[0mproperty\u001b[0m\u001b[0;34m\u001b[0m\u001b[0;34m\u001b[0m\u001b[0m\n",
      "\u001b[0;32m/usr/local/lib/python3.11/dist-packages/ultralytics/engine/model.py\u001b[0m in \u001b[0;36m__init__\u001b[0;34m(self, model, task, verbose)\u001b[0m\n\u001b[1;32m    145\u001b[0m             \u001b[0mself\u001b[0m\u001b[0;34m.\u001b[0m\u001b[0m_new\u001b[0m\u001b[0;34m(\u001b[0m\u001b[0mmodel\u001b[0m\u001b[0;34m,\u001b[0m \u001b[0mtask\u001b[0m\u001b[0;34m=\u001b[0m\u001b[0mtask\u001b[0m\u001b[0;34m,\u001b[0m \u001b[0mverbose\u001b[0m\u001b[0;34m=\u001b[0m\u001b[0mverbose\u001b[0m\u001b[0;34m)\u001b[0m\u001b[0;34m\u001b[0m\u001b[0;34m\u001b[0m\u001b[0m\n\u001b[1;32m    146\u001b[0m         \u001b[0;32melse\u001b[0m\u001b[0;34m:\u001b[0m\u001b[0;34m\u001b[0m\u001b[0;34m\u001b[0m\u001b[0m\n\u001b[0;32m--> 147\u001b[0;31m             \u001b[0mself\u001b[0m\u001b[0;34m.\u001b[0m\u001b[0m_load\u001b[0m\u001b[0;34m(\u001b[0m\u001b[0mmodel\u001b[0m\u001b[0;34m,\u001b[0m \u001b[0mtask\u001b[0m\u001b[0;34m=\u001b[0m\u001b[0mtask\u001b[0m\u001b[0;34m)\u001b[0m\u001b[0;34m\u001b[0m\u001b[0;34m\u001b[0m\u001b[0m\n\u001b[0m\u001b[1;32m    148\u001b[0m \u001b[0;34m\u001b[0m\u001b[0m\n\u001b[1;32m    149\u001b[0m         \u001b[0;31m# Delete super().training for accessing self.model.training\u001b[0m\u001b[0;34m\u001b[0m\u001b[0;34m\u001b[0m\u001b[0m\n",
      "\u001b[0;32m/usr/local/lib/python3.11/dist-packages/ultralytics/engine/model.py\u001b[0m in \u001b[0;36m_load\u001b[0;34m(self, weights, task)\u001b[0m\n\u001b[1;32m    288\u001b[0m \u001b[0;34m\u001b[0m\u001b[0m\n\u001b[1;32m    289\u001b[0m         \u001b[0;32mif\u001b[0m \u001b[0mPath\u001b[0m\u001b[0;34m(\u001b[0m\u001b[0mweights\u001b[0m\u001b[0;34m)\u001b[0m\u001b[0;34m.\u001b[0m\u001b[0msuffix\u001b[0m \u001b[0;34m==\u001b[0m \u001b[0;34m\".pt\"\u001b[0m\u001b[0;34m:\u001b[0m\u001b[0;34m\u001b[0m\u001b[0;34m\u001b[0m\u001b[0m\n\u001b[0;32m--> 290\u001b[0;31m             \u001b[0mself\u001b[0m\u001b[0;34m.\u001b[0m\u001b[0mmodel\u001b[0m\u001b[0;34m,\u001b[0m \u001b[0mself\u001b[0m\u001b[0;34m.\u001b[0m\u001b[0mckpt\u001b[0m \u001b[0;34m=\u001b[0m \u001b[0mattempt_load_one_weight\u001b[0m\u001b[0;34m(\u001b[0m\u001b[0mweights\u001b[0m\u001b[0;34m)\u001b[0m\u001b[0;34m\u001b[0m\u001b[0;34m\u001b[0m\u001b[0m\n\u001b[0m\u001b[1;32m    291\u001b[0m             \u001b[0mself\u001b[0m\u001b[0;34m.\u001b[0m\u001b[0mtask\u001b[0m \u001b[0;34m=\u001b[0m \u001b[0mself\u001b[0m\u001b[0;34m.\u001b[0m\u001b[0mmodel\u001b[0m\u001b[0;34m.\u001b[0m\u001b[0margs\u001b[0m\u001b[0;34m[\u001b[0m\u001b[0;34m\"task\"\u001b[0m\u001b[0;34m]\u001b[0m\u001b[0;34m\u001b[0m\u001b[0;34m\u001b[0m\u001b[0m\n\u001b[1;32m    292\u001b[0m             \u001b[0mself\u001b[0m\u001b[0;34m.\u001b[0m\u001b[0moverrides\u001b[0m \u001b[0;34m=\u001b[0m \u001b[0mself\u001b[0m\u001b[0;34m.\u001b[0m\u001b[0mmodel\u001b[0m\u001b[0;34m.\u001b[0m\u001b[0margs\u001b[0m \u001b[0;34m=\u001b[0m \u001b[0mself\u001b[0m\u001b[0;34m.\u001b[0m\u001b[0m_reset_ckpt_args\u001b[0m\u001b[0;34m(\u001b[0m\u001b[0mself\u001b[0m\u001b[0;34m.\u001b[0m\u001b[0mmodel\u001b[0m\u001b[0;34m.\u001b[0m\u001b[0margs\u001b[0m\u001b[0;34m)\u001b[0m\u001b[0;34m\u001b[0m\u001b[0;34m\u001b[0m\u001b[0m\n",
      "\u001b[0;32m/usr/local/lib/python3.11/dist-packages/ultralytics/nn/tasks.py\u001b[0m in \u001b[0;36mattempt_load_one_weight\u001b[0;34m(weight, device, inplace, fuse)\u001b[0m\n\u001b[1;32m    898\u001b[0m \u001b[0;32mdef\u001b[0m \u001b[0mattempt_load_one_weight\u001b[0m\u001b[0;34m(\u001b[0m\u001b[0mweight\u001b[0m\u001b[0;34m,\u001b[0m \u001b[0mdevice\u001b[0m\u001b[0;34m=\u001b[0m\u001b[0;32mNone\u001b[0m\u001b[0;34m,\u001b[0m \u001b[0minplace\u001b[0m\u001b[0;34m=\u001b[0m\u001b[0;32mTrue\u001b[0m\u001b[0;34m,\u001b[0m \u001b[0mfuse\u001b[0m\u001b[0;34m=\u001b[0m\u001b[0;32mFalse\u001b[0m\u001b[0;34m)\u001b[0m\u001b[0;34m:\u001b[0m\u001b[0;34m\u001b[0m\u001b[0;34m\u001b[0m\u001b[0m\n\u001b[1;32m    899\u001b[0m     \u001b[0;34m\"\"\"Loads a single model weights.\"\"\"\u001b[0m\u001b[0;34m\u001b[0m\u001b[0;34m\u001b[0m\u001b[0m\n\u001b[0;32m--> 900\u001b[0;31m     \u001b[0mckpt\u001b[0m\u001b[0;34m,\u001b[0m \u001b[0mweight\u001b[0m \u001b[0;34m=\u001b[0m \u001b[0mtorch_safe_load\u001b[0m\u001b[0;34m(\u001b[0m\u001b[0mweight\u001b[0m\u001b[0;34m)\u001b[0m  \u001b[0;31m# load ckpt\u001b[0m\u001b[0;34m\u001b[0m\u001b[0;34m\u001b[0m\u001b[0m\n\u001b[0m\u001b[1;32m    901\u001b[0m     \u001b[0margs\u001b[0m \u001b[0;34m=\u001b[0m \u001b[0;34m{\u001b[0m\u001b[0;34m**\u001b[0m\u001b[0mDEFAULT_CFG_DICT\u001b[0m\u001b[0;34m,\u001b[0m \u001b[0;34m**\u001b[0m\u001b[0;34m(\u001b[0m\u001b[0mckpt\u001b[0m\u001b[0;34m.\u001b[0m\u001b[0mget\u001b[0m\u001b[0;34m(\u001b[0m\u001b[0;34m\"train_args\"\u001b[0m\u001b[0;34m,\u001b[0m \u001b[0;34m{\u001b[0m\u001b[0;34m}\u001b[0m\u001b[0;34m)\u001b[0m\u001b[0;34m)\u001b[0m\u001b[0;34m}\u001b[0m  \u001b[0;31m# combine model and default args, preferring model args\u001b[0m\u001b[0;34m\u001b[0m\u001b[0;34m\u001b[0m\u001b[0m\n\u001b[1;32m    902\u001b[0m     \u001b[0mmodel\u001b[0m \u001b[0;34m=\u001b[0m \u001b[0;34m(\u001b[0m\u001b[0mckpt\u001b[0m\u001b[0;34m.\u001b[0m\u001b[0mget\u001b[0m\u001b[0;34m(\u001b[0m\u001b[0;34m\"ema\"\u001b[0m\u001b[0;34m)\u001b[0m \u001b[0;32mor\u001b[0m \u001b[0mckpt\u001b[0m\u001b[0;34m[\u001b[0m\u001b[0;34m\"model\"\u001b[0m\u001b[0;34m]\u001b[0m\u001b[0;34m)\u001b[0m\u001b[0;34m.\u001b[0m\u001b[0mto\u001b[0m\u001b[0;34m(\u001b[0m\u001b[0mdevice\u001b[0m\u001b[0;34m)\u001b[0m\u001b[0;34m.\u001b[0m\u001b[0mfloat\u001b[0m\u001b[0;34m(\u001b[0m\u001b[0;34m)\u001b[0m  \u001b[0;31m# FP32 model\u001b[0m\u001b[0;34m\u001b[0m\u001b[0;34m\u001b[0m\u001b[0m\n",
      "\u001b[0;32m/usr/local/lib/python3.11/dist-packages/ultralytics/nn/tasks.py\u001b[0m in \u001b[0;36mtorch_safe_load\u001b[0;34m(weight, safe_only)\u001b[0m\n\u001b[1;32m    825\u001b[0m                     \u001b[0mckpt\u001b[0m \u001b[0;34m=\u001b[0m \u001b[0mtorch\u001b[0m\u001b[0;34m.\u001b[0m\u001b[0mload\u001b[0m\u001b[0;34m(\u001b[0m\u001b[0mf\u001b[0m\u001b[0;34m,\u001b[0m \u001b[0mpickle_module\u001b[0m\u001b[0;34m=\u001b[0m\u001b[0msafe_pickle\u001b[0m\u001b[0;34m)\u001b[0m\u001b[0;34m\u001b[0m\u001b[0;34m\u001b[0m\u001b[0m\n\u001b[1;32m    826\u001b[0m             \u001b[0;32melse\u001b[0m\u001b[0;34m:\u001b[0m\u001b[0;34m\u001b[0m\u001b[0;34m\u001b[0m\u001b[0m\n\u001b[0;32m--> 827\u001b[0;31m                 \u001b[0mckpt\u001b[0m \u001b[0;34m=\u001b[0m \u001b[0mtorch\u001b[0m\u001b[0;34m.\u001b[0m\u001b[0mload\u001b[0m\u001b[0;34m(\u001b[0m\u001b[0mfile\u001b[0m\u001b[0;34m,\u001b[0m \u001b[0mmap_location\u001b[0m\u001b[0;34m=\u001b[0m\u001b[0;34m\"cpu\"\u001b[0m\u001b[0;34m)\u001b[0m\u001b[0;34m\u001b[0m\u001b[0;34m\u001b[0m\u001b[0m\n\u001b[0m\u001b[1;32m    828\u001b[0m \u001b[0;34m\u001b[0m\u001b[0m\n\u001b[1;32m    829\u001b[0m     \u001b[0;32mexcept\u001b[0m \u001b[0mModuleNotFoundError\u001b[0m \u001b[0;32mas\u001b[0m \u001b[0me\u001b[0m\u001b[0;34m:\u001b[0m  \u001b[0;31m# e.name is missing module name\u001b[0m\u001b[0;34m\u001b[0m\u001b[0;34m\u001b[0m\u001b[0m\n",
      "\u001b[0;32m/usr/local/lib/python3.11/dist-packages/ultralytics/utils/patches.py\u001b[0m in \u001b[0;36mtorch_load\u001b[0;34m(*args, **kwargs)\u001b[0m\n\u001b[1;32m     84\u001b[0m         \u001b[0mkwargs\u001b[0m\u001b[0;34m[\u001b[0m\u001b[0;34m\"weights_only\"\u001b[0m\u001b[0;34m]\u001b[0m \u001b[0;34m=\u001b[0m \u001b[0;32mFalse\u001b[0m\u001b[0;34m\u001b[0m\u001b[0;34m\u001b[0m\u001b[0m\n\u001b[1;32m     85\u001b[0m \u001b[0;34m\u001b[0m\u001b[0m\n\u001b[0;32m---> 86\u001b[0;31m     \u001b[0;32mreturn\u001b[0m \u001b[0m_torch_load\u001b[0m\u001b[0;34m(\u001b[0m\u001b[0;34m*\u001b[0m\u001b[0margs\u001b[0m\u001b[0;34m,\u001b[0m \u001b[0;34m**\u001b[0m\u001b[0mkwargs\u001b[0m\u001b[0;34m)\u001b[0m\u001b[0;34m\u001b[0m\u001b[0;34m\u001b[0m\u001b[0m\n\u001b[0m\u001b[1;32m     87\u001b[0m \u001b[0;34m\u001b[0m\u001b[0m\n\u001b[1;32m     88\u001b[0m \u001b[0;34m\u001b[0m\u001b[0m\n",
      "\u001b[0;32m/usr/local/lib/python3.11/dist-packages/torch/serialization.py\u001b[0m in \u001b[0;36mload\u001b[0;34m(f, map_location, pickle_module, weights_only, mmap, **pickle_load_args)\u001b[0m\n\u001b[1;32m   1317\u001b[0m         \u001b[0mpickle_load_args\u001b[0m\u001b[0;34m[\u001b[0m\u001b[0;34m\"encoding\"\u001b[0m\u001b[0;34m]\u001b[0m \u001b[0;34m=\u001b[0m \u001b[0;34m\"utf-8\"\u001b[0m\u001b[0;34m\u001b[0m\u001b[0;34m\u001b[0m\u001b[0m\n\u001b[1;32m   1318\u001b[0m \u001b[0;34m\u001b[0m\u001b[0m\n\u001b[0;32m-> 1319\u001b[0;31m     \u001b[0;32mwith\u001b[0m \u001b[0m_open_file_like\u001b[0m\u001b[0;34m(\u001b[0m\u001b[0mf\u001b[0m\u001b[0;34m,\u001b[0m \u001b[0;34m\"rb\"\u001b[0m\u001b[0;34m)\u001b[0m \u001b[0;32mas\u001b[0m \u001b[0mopened_file\u001b[0m\u001b[0;34m:\u001b[0m\u001b[0;34m\u001b[0m\u001b[0;34m\u001b[0m\u001b[0m\n\u001b[0m\u001b[1;32m   1320\u001b[0m         \u001b[0;32mif\u001b[0m \u001b[0m_is_zipfile\u001b[0m\u001b[0;34m(\u001b[0m\u001b[0mopened_file\u001b[0m\u001b[0;34m)\u001b[0m\u001b[0;34m:\u001b[0m\u001b[0;34m\u001b[0m\u001b[0;34m\u001b[0m\u001b[0m\n\u001b[1;32m   1321\u001b[0m             \u001b[0;31m# The zipfile reader is going to advance the current file position.\u001b[0m\u001b[0;34m\u001b[0m\u001b[0;34m\u001b[0m\u001b[0m\n",
      "\u001b[0;32m/usr/local/lib/python3.11/dist-packages/torch/serialization.py\u001b[0m in \u001b[0;36m_open_file_like\u001b[0;34m(name_or_buffer, mode)\u001b[0m\n\u001b[1;32m    657\u001b[0m \u001b[0;32mdef\u001b[0m \u001b[0m_open_file_like\u001b[0m\u001b[0;34m(\u001b[0m\u001b[0mname_or_buffer\u001b[0m\u001b[0;34m,\u001b[0m \u001b[0mmode\u001b[0m\u001b[0;34m)\u001b[0m\u001b[0;34m:\u001b[0m\u001b[0;34m\u001b[0m\u001b[0;34m\u001b[0m\u001b[0m\n\u001b[1;32m    658\u001b[0m     \u001b[0;32mif\u001b[0m \u001b[0m_is_path\u001b[0m\u001b[0;34m(\u001b[0m\u001b[0mname_or_buffer\u001b[0m\u001b[0;34m)\u001b[0m\u001b[0;34m:\u001b[0m\u001b[0;34m\u001b[0m\u001b[0;34m\u001b[0m\u001b[0m\n\u001b[0;32m--> 659\u001b[0;31m         \u001b[0;32mreturn\u001b[0m \u001b[0m_open_file\u001b[0m\u001b[0;34m(\u001b[0m\u001b[0mname_or_buffer\u001b[0m\u001b[0;34m,\u001b[0m \u001b[0mmode\u001b[0m\u001b[0;34m)\u001b[0m\u001b[0;34m\u001b[0m\u001b[0;34m\u001b[0m\u001b[0m\n\u001b[0m\u001b[1;32m    660\u001b[0m     \u001b[0;32melse\u001b[0m\u001b[0;34m:\u001b[0m\u001b[0;34m\u001b[0m\u001b[0;34m\u001b[0m\u001b[0m\n\u001b[1;32m    661\u001b[0m         \u001b[0;32mif\u001b[0m \u001b[0;34m\"w\"\u001b[0m \u001b[0;32min\u001b[0m \u001b[0mmode\u001b[0m\u001b[0;34m:\u001b[0m\u001b[0;34m\u001b[0m\u001b[0;34m\u001b[0m\u001b[0m\n",
      "\u001b[0;32m/usr/local/lib/python3.11/dist-packages/torch/serialization.py\u001b[0m in \u001b[0;36m__init__\u001b[0;34m(self, name, mode)\u001b[0m\n\u001b[1;32m    638\u001b[0m \u001b[0;32mclass\u001b[0m \u001b[0m_open_file\u001b[0m\u001b[0;34m(\u001b[0m\u001b[0m_opener\u001b[0m\u001b[0;34m)\u001b[0m\u001b[0;34m:\u001b[0m\u001b[0;34m\u001b[0m\u001b[0;34m\u001b[0m\u001b[0m\n\u001b[1;32m    639\u001b[0m     \u001b[0;32mdef\u001b[0m \u001b[0m__init__\u001b[0m\u001b[0;34m(\u001b[0m\u001b[0mself\u001b[0m\u001b[0;34m,\u001b[0m \u001b[0mname\u001b[0m\u001b[0;34m,\u001b[0m \u001b[0mmode\u001b[0m\u001b[0;34m)\u001b[0m\u001b[0;34m:\u001b[0m\u001b[0;34m\u001b[0m\u001b[0;34m\u001b[0m\u001b[0m\n\u001b[0;32m--> 640\u001b[0;31m         \u001b[0msuper\u001b[0m\u001b[0;34m(\u001b[0m\u001b[0;34m)\u001b[0m\u001b[0;34m.\u001b[0m\u001b[0m__init__\u001b[0m\u001b[0;34m(\u001b[0m\u001b[0mopen\u001b[0m\u001b[0;34m(\u001b[0m\u001b[0mname\u001b[0m\u001b[0;34m,\u001b[0m \u001b[0mmode\u001b[0m\u001b[0;34m)\u001b[0m\u001b[0;34m)\u001b[0m\u001b[0;34m\u001b[0m\u001b[0;34m\u001b[0m\u001b[0m\n\u001b[0m\u001b[1;32m    641\u001b[0m \u001b[0;34m\u001b[0m\u001b[0m\n\u001b[1;32m    642\u001b[0m     \u001b[0;32mdef\u001b[0m \u001b[0m__exit__\u001b[0m\u001b[0;34m(\u001b[0m\u001b[0mself\u001b[0m\u001b[0;34m,\u001b[0m \u001b[0;34m*\u001b[0m\u001b[0margs\u001b[0m\u001b[0;34m)\u001b[0m\u001b[0;34m:\u001b[0m\u001b[0;34m\u001b[0m\u001b[0;34m\u001b[0m\u001b[0m\n",
      "\u001b[0;31mFileNotFoundError\u001b[0m: [Errno 2] No such file or directory: '/content/drive/MyDrive/yolov8-training/coral-detector/weights/best.pt'"
     ]
    }
   ],
   "source": [
    "! pip install ultralytics\n"
   ]
  },
  {
   "cell_type": "code",
   "execution_count": null,
   "metadata": {
    "colab": {
     "base_uri": "https://localhost:8080/",
     "height": 356
    },
    "executionInfo": {
     "elapsed": 564,
     "status": "error",
     "timestamp": 1739817781606,
     "user": {
      "displayName": "Qianyu Huang",
      "userId": "18232162311717956953"
     },
     "user_tz": 300
    },
    "id": "nyKjjTSYOID5",
    "outputId": "5847c1ec-0337-4986-f142-6deae149ce04"
   },
   "outputs": [
    {
     "ename": "FileNotFoundError",
     "evalue": "[Errno 2] No such file or directory: '/content/drive/MyDrive/yolov8-training/coral-detector/weights/best.pt'",
     "output_type": "error",
     "traceback": [
      "\u001b[0;31m---------------------------------------------------------------------------\u001b[0m",
      "\u001b[0;31mFileNotFoundError\u001b[0m                         Traceback (most recent call last)",
      "\u001b[0;32m<ipython-input-3-f96ef0362f2e>\u001b[0m in \u001b[0;36m<cell line: 0>\u001b[0;34m()\u001b[0m\n\u001b[1;32m      2\u001b[0m \u001b[0;34m\u001b[0m\u001b[0m\n\u001b[1;32m      3\u001b[0m \u001b[0;31m# Load the model from Google Drive\u001b[0m\u001b[0;34m\u001b[0m\u001b[0;34m\u001b[0m\u001b[0m\n\u001b[0;32m----> 4\u001b[0;31m \u001b[0mmodel\u001b[0m \u001b[0;34m=\u001b[0m \u001b[0mYOLO\u001b[0m\u001b[0;34m(\u001b[0m\u001b[0;34m'/content/drive/MyDrive/yolov8-training/coral-detector/weights/best.pt'\u001b[0m\u001b[0;34m)\u001b[0m\u001b[0;34m\u001b[0m\u001b[0;34m\u001b[0m\u001b[0m\n\u001b[0m\u001b[1;32m      5\u001b[0m \u001b[0;34m\u001b[0m\u001b[0m\n\u001b[1;32m      6\u001b[0m \u001b[0;31m# Verify the model is loaded by checking its details\u001b[0m\u001b[0;34m\u001b[0m\u001b[0;34m\u001b[0m\u001b[0m\n",
      "\u001b[0;32m/usr/local/lib/python3.11/dist-packages/ultralytics/models/yolo/model.py\u001b[0m in \u001b[0;36m__init__\u001b[0;34m(self, model, task, verbose)\u001b[0m\n\u001b[1;32m     21\u001b[0m         \u001b[0;32melse\u001b[0m\u001b[0;34m:\u001b[0m\u001b[0;34m\u001b[0m\u001b[0;34m\u001b[0m\u001b[0m\n\u001b[1;32m     22\u001b[0m             \u001b[0;31m# Continue with default YOLO initialization\u001b[0m\u001b[0;34m\u001b[0m\u001b[0;34m\u001b[0m\u001b[0m\n\u001b[0;32m---> 23\u001b[0;31m             \u001b[0msuper\u001b[0m\u001b[0;34m(\u001b[0m\u001b[0;34m)\u001b[0m\u001b[0;34m.\u001b[0m\u001b[0m__init__\u001b[0m\u001b[0;34m(\u001b[0m\u001b[0mmodel\u001b[0m\u001b[0;34m=\u001b[0m\u001b[0mmodel\u001b[0m\u001b[0;34m,\u001b[0m \u001b[0mtask\u001b[0m\u001b[0;34m=\u001b[0m\u001b[0mtask\u001b[0m\u001b[0;34m,\u001b[0m \u001b[0mverbose\u001b[0m\u001b[0;34m=\u001b[0m\u001b[0mverbose\u001b[0m\u001b[0;34m)\u001b[0m\u001b[0;34m\u001b[0m\u001b[0;34m\u001b[0m\u001b[0m\n\u001b[0m\u001b[1;32m     24\u001b[0m \u001b[0;34m\u001b[0m\u001b[0m\n\u001b[1;32m     25\u001b[0m     \u001b[0;34m@\u001b[0m\u001b[0mproperty\u001b[0m\u001b[0;34m\u001b[0m\u001b[0;34m\u001b[0m\u001b[0m\n",
      "\u001b[0;32m/usr/local/lib/python3.11/dist-packages/ultralytics/engine/model.py\u001b[0m in \u001b[0;36m__init__\u001b[0;34m(self, model, task, verbose)\u001b[0m\n\u001b[1;32m    145\u001b[0m             \u001b[0mself\u001b[0m\u001b[0;34m.\u001b[0m\u001b[0m_new\u001b[0m\u001b[0;34m(\u001b[0m\u001b[0mmodel\u001b[0m\u001b[0;34m,\u001b[0m \u001b[0mtask\u001b[0m\u001b[0;34m=\u001b[0m\u001b[0mtask\u001b[0m\u001b[0;34m,\u001b[0m \u001b[0mverbose\u001b[0m\u001b[0;34m=\u001b[0m\u001b[0mverbose\u001b[0m\u001b[0;34m)\u001b[0m\u001b[0;34m\u001b[0m\u001b[0;34m\u001b[0m\u001b[0m\n\u001b[1;32m    146\u001b[0m         \u001b[0;32melse\u001b[0m\u001b[0;34m:\u001b[0m\u001b[0;34m\u001b[0m\u001b[0;34m\u001b[0m\u001b[0m\n\u001b[0;32m--> 147\u001b[0;31m             \u001b[0mself\u001b[0m\u001b[0;34m.\u001b[0m\u001b[0m_load\u001b[0m\u001b[0;34m(\u001b[0m\u001b[0mmodel\u001b[0m\u001b[0;34m,\u001b[0m \u001b[0mtask\u001b[0m\u001b[0;34m=\u001b[0m\u001b[0mtask\u001b[0m\u001b[0;34m)\u001b[0m\u001b[0;34m\u001b[0m\u001b[0;34m\u001b[0m\u001b[0m\n\u001b[0m\u001b[1;32m    148\u001b[0m \u001b[0;34m\u001b[0m\u001b[0m\n\u001b[1;32m    149\u001b[0m         \u001b[0;31m# Delete super().training for accessing self.model.training\u001b[0m\u001b[0;34m\u001b[0m\u001b[0;34m\u001b[0m\u001b[0m\n",
      "\u001b[0;32m/usr/local/lib/python3.11/dist-packages/ultralytics/engine/model.py\u001b[0m in \u001b[0;36m_load\u001b[0;34m(self, weights, task)\u001b[0m\n\u001b[1;32m    288\u001b[0m \u001b[0;34m\u001b[0m\u001b[0m\n\u001b[1;32m    289\u001b[0m         \u001b[0;32mif\u001b[0m \u001b[0mPath\u001b[0m\u001b[0;34m(\u001b[0m\u001b[0mweights\u001b[0m\u001b[0;34m)\u001b[0m\u001b[0;34m.\u001b[0m\u001b[0msuffix\u001b[0m \u001b[0;34m==\u001b[0m \u001b[0;34m\".pt\"\u001b[0m\u001b[0;34m:\u001b[0m\u001b[0;34m\u001b[0m\u001b[0;34m\u001b[0m\u001b[0m\n\u001b[0;32m--> 290\u001b[0;31m             \u001b[0mself\u001b[0m\u001b[0;34m.\u001b[0m\u001b[0mmodel\u001b[0m\u001b[0;34m,\u001b[0m \u001b[0mself\u001b[0m\u001b[0;34m.\u001b[0m\u001b[0mckpt\u001b[0m \u001b[0;34m=\u001b[0m \u001b[0mattempt_load_one_weight\u001b[0m\u001b[0;34m(\u001b[0m\u001b[0mweights\u001b[0m\u001b[0;34m)\u001b[0m\u001b[0;34m\u001b[0m\u001b[0;34m\u001b[0m\u001b[0m\n\u001b[0m\u001b[1;32m    291\u001b[0m             \u001b[0mself\u001b[0m\u001b[0;34m.\u001b[0m\u001b[0mtask\u001b[0m \u001b[0;34m=\u001b[0m \u001b[0mself\u001b[0m\u001b[0;34m.\u001b[0m\u001b[0mmodel\u001b[0m\u001b[0;34m.\u001b[0m\u001b[0margs\u001b[0m\u001b[0;34m[\u001b[0m\u001b[0;34m\"task\"\u001b[0m\u001b[0;34m]\u001b[0m\u001b[0;34m\u001b[0m\u001b[0;34m\u001b[0m\u001b[0m\n\u001b[1;32m    292\u001b[0m             \u001b[0mself\u001b[0m\u001b[0;34m.\u001b[0m\u001b[0moverrides\u001b[0m \u001b[0;34m=\u001b[0m \u001b[0mself\u001b[0m\u001b[0;34m.\u001b[0m\u001b[0mmodel\u001b[0m\u001b[0;34m.\u001b[0m\u001b[0margs\u001b[0m \u001b[0;34m=\u001b[0m \u001b[0mself\u001b[0m\u001b[0;34m.\u001b[0m\u001b[0m_reset_ckpt_args\u001b[0m\u001b[0;34m(\u001b[0m\u001b[0mself\u001b[0m\u001b[0;34m.\u001b[0m\u001b[0mmodel\u001b[0m\u001b[0;34m.\u001b[0m\u001b[0margs\u001b[0m\u001b[0;34m)\u001b[0m\u001b[0;34m\u001b[0m\u001b[0;34m\u001b[0m\u001b[0m\n",
      "\u001b[0;32m/usr/local/lib/python3.11/dist-packages/ultralytics/nn/tasks.py\u001b[0m in \u001b[0;36mattempt_load_one_weight\u001b[0;34m(weight, device, inplace, fuse)\u001b[0m\n\u001b[1;32m    898\u001b[0m \u001b[0;32mdef\u001b[0m \u001b[0mattempt_load_one_weight\u001b[0m\u001b[0;34m(\u001b[0m\u001b[0mweight\u001b[0m\u001b[0;34m,\u001b[0m \u001b[0mdevice\u001b[0m\u001b[0;34m=\u001b[0m\u001b[0;32mNone\u001b[0m\u001b[0;34m,\u001b[0m \u001b[0minplace\u001b[0m\u001b[0;34m=\u001b[0m\u001b[0;32mTrue\u001b[0m\u001b[0;34m,\u001b[0m \u001b[0mfuse\u001b[0m\u001b[0;34m=\u001b[0m\u001b[0;32mFalse\u001b[0m\u001b[0;34m)\u001b[0m\u001b[0;34m:\u001b[0m\u001b[0;34m\u001b[0m\u001b[0;34m\u001b[0m\u001b[0m\n\u001b[1;32m    899\u001b[0m     \u001b[0;34m\"\"\"Loads a single model weights.\"\"\"\u001b[0m\u001b[0;34m\u001b[0m\u001b[0;34m\u001b[0m\u001b[0m\n\u001b[0;32m--> 900\u001b[0;31m     \u001b[0mckpt\u001b[0m\u001b[0;34m,\u001b[0m \u001b[0mweight\u001b[0m \u001b[0;34m=\u001b[0m \u001b[0mtorch_safe_load\u001b[0m\u001b[0;34m(\u001b[0m\u001b[0mweight\u001b[0m\u001b[0;34m)\u001b[0m  \u001b[0;31m# load ckpt\u001b[0m\u001b[0;34m\u001b[0m\u001b[0;34m\u001b[0m\u001b[0m\n\u001b[0m\u001b[1;32m    901\u001b[0m     \u001b[0margs\u001b[0m \u001b[0;34m=\u001b[0m \u001b[0;34m{\u001b[0m\u001b[0;34m**\u001b[0m\u001b[0mDEFAULT_CFG_DICT\u001b[0m\u001b[0;34m,\u001b[0m \u001b[0;34m**\u001b[0m\u001b[0;34m(\u001b[0m\u001b[0mckpt\u001b[0m\u001b[0;34m.\u001b[0m\u001b[0mget\u001b[0m\u001b[0;34m(\u001b[0m\u001b[0;34m\"train_args\"\u001b[0m\u001b[0;34m,\u001b[0m \u001b[0;34m{\u001b[0m\u001b[0;34m}\u001b[0m\u001b[0;34m)\u001b[0m\u001b[0;34m)\u001b[0m\u001b[0;34m}\u001b[0m  \u001b[0;31m# combine model and default args, preferring model args\u001b[0m\u001b[0;34m\u001b[0m\u001b[0;34m\u001b[0m\u001b[0m\n\u001b[1;32m    902\u001b[0m     \u001b[0mmodel\u001b[0m \u001b[0;34m=\u001b[0m \u001b[0;34m(\u001b[0m\u001b[0mckpt\u001b[0m\u001b[0;34m.\u001b[0m\u001b[0mget\u001b[0m\u001b[0;34m(\u001b[0m\u001b[0;34m\"ema\"\u001b[0m\u001b[0;34m)\u001b[0m \u001b[0;32mor\u001b[0m \u001b[0mckpt\u001b[0m\u001b[0;34m[\u001b[0m\u001b[0;34m\"model\"\u001b[0m\u001b[0;34m]\u001b[0m\u001b[0;34m)\u001b[0m\u001b[0;34m.\u001b[0m\u001b[0mto\u001b[0m\u001b[0;34m(\u001b[0m\u001b[0mdevice\u001b[0m\u001b[0;34m)\u001b[0m\u001b[0;34m.\u001b[0m\u001b[0mfloat\u001b[0m\u001b[0;34m(\u001b[0m\u001b[0;34m)\u001b[0m  \u001b[0;31m# FP32 model\u001b[0m\u001b[0;34m\u001b[0m\u001b[0;34m\u001b[0m\u001b[0m\n",
      "\u001b[0;32m/usr/local/lib/python3.11/dist-packages/ultralytics/nn/tasks.py\u001b[0m in \u001b[0;36mtorch_safe_load\u001b[0;34m(weight, safe_only)\u001b[0m\n\u001b[1;32m    825\u001b[0m                     \u001b[0mckpt\u001b[0m \u001b[0;34m=\u001b[0m \u001b[0mtorch\u001b[0m\u001b[0;34m.\u001b[0m\u001b[0mload\u001b[0m\u001b[0;34m(\u001b[0m\u001b[0mf\u001b[0m\u001b[0;34m,\u001b[0m \u001b[0mpickle_module\u001b[0m\u001b[0;34m=\u001b[0m\u001b[0msafe_pickle\u001b[0m\u001b[0;34m)\u001b[0m\u001b[0;34m\u001b[0m\u001b[0;34m\u001b[0m\u001b[0m\n\u001b[1;32m    826\u001b[0m             \u001b[0;32melse\u001b[0m\u001b[0;34m:\u001b[0m\u001b[0;34m\u001b[0m\u001b[0;34m\u001b[0m\u001b[0m\n\u001b[0;32m--> 827\u001b[0;31m                 \u001b[0mckpt\u001b[0m \u001b[0;34m=\u001b[0m \u001b[0mtorch\u001b[0m\u001b[0;34m.\u001b[0m\u001b[0mload\u001b[0m\u001b[0;34m(\u001b[0m\u001b[0mfile\u001b[0m\u001b[0;34m,\u001b[0m \u001b[0mmap_location\u001b[0m\u001b[0;34m=\u001b[0m\u001b[0;34m\"cpu\"\u001b[0m\u001b[0;34m)\u001b[0m\u001b[0;34m\u001b[0m\u001b[0;34m\u001b[0m\u001b[0m\n\u001b[0m\u001b[1;32m    828\u001b[0m \u001b[0;34m\u001b[0m\u001b[0m\n\u001b[1;32m    829\u001b[0m     \u001b[0;32mexcept\u001b[0m \u001b[0mModuleNotFoundError\u001b[0m \u001b[0;32mas\u001b[0m \u001b[0me\u001b[0m\u001b[0;34m:\u001b[0m  \u001b[0;31m# e.name is missing module name\u001b[0m\u001b[0;34m\u001b[0m\u001b[0;34m\u001b[0m\u001b[0m\n",
      "\u001b[0;32m/usr/local/lib/python3.11/dist-packages/ultralytics/utils/patches.py\u001b[0m in \u001b[0;36mtorch_load\u001b[0;34m(*args, **kwargs)\u001b[0m\n\u001b[1;32m     84\u001b[0m         \u001b[0mkwargs\u001b[0m\u001b[0;34m[\u001b[0m\u001b[0;34m\"weights_only\"\u001b[0m\u001b[0;34m]\u001b[0m \u001b[0;34m=\u001b[0m \u001b[0;32mFalse\u001b[0m\u001b[0;34m\u001b[0m\u001b[0;34m\u001b[0m\u001b[0m\n\u001b[1;32m     85\u001b[0m \u001b[0;34m\u001b[0m\u001b[0m\n\u001b[0;32m---> 86\u001b[0;31m     \u001b[0;32mreturn\u001b[0m \u001b[0m_torch_load\u001b[0m\u001b[0;34m(\u001b[0m\u001b[0;34m*\u001b[0m\u001b[0margs\u001b[0m\u001b[0;34m,\u001b[0m \u001b[0;34m**\u001b[0m\u001b[0mkwargs\u001b[0m\u001b[0;34m)\u001b[0m\u001b[0;34m\u001b[0m\u001b[0;34m\u001b[0m\u001b[0m\n\u001b[0m\u001b[1;32m     87\u001b[0m \u001b[0;34m\u001b[0m\u001b[0m\n\u001b[1;32m     88\u001b[0m \u001b[0;34m\u001b[0m\u001b[0m\n",
      "\u001b[0;32m/usr/local/lib/python3.11/dist-packages/torch/serialization.py\u001b[0m in \u001b[0;36mload\u001b[0;34m(f, map_location, pickle_module, weights_only, mmap, **pickle_load_args)\u001b[0m\n\u001b[1;32m   1317\u001b[0m         \u001b[0mpickle_load_args\u001b[0m\u001b[0;34m[\u001b[0m\u001b[0;34m\"encoding\"\u001b[0m\u001b[0;34m]\u001b[0m \u001b[0;34m=\u001b[0m \u001b[0;34m\"utf-8\"\u001b[0m\u001b[0;34m\u001b[0m\u001b[0;34m\u001b[0m\u001b[0m\n\u001b[1;32m   1318\u001b[0m \u001b[0;34m\u001b[0m\u001b[0m\n\u001b[0;32m-> 1319\u001b[0;31m     \u001b[0;32mwith\u001b[0m \u001b[0m_open_file_like\u001b[0m\u001b[0;34m(\u001b[0m\u001b[0mf\u001b[0m\u001b[0;34m,\u001b[0m \u001b[0;34m\"rb\"\u001b[0m\u001b[0;34m)\u001b[0m \u001b[0;32mas\u001b[0m \u001b[0mopened_file\u001b[0m\u001b[0;34m:\u001b[0m\u001b[0;34m\u001b[0m\u001b[0;34m\u001b[0m\u001b[0m\n\u001b[0m\u001b[1;32m   1320\u001b[0m         \u001b[0;32mif\u001b[0m \u001b[0m_is_zipfile\u001b[0m\u001b[0;34m(\u001b[0m\u001b[0mopened_file\u001b[0m\u001b[0;34m)\u001b[0m\u001b[0;34m:\u001b[0m\u001b[0;34m\u001b[0m\u001b[0;34m\u001b[0m\u001b[0m\n\u001b[1;32m   1321\u001b[0m             \u001b[0;31m# The zipfile reader is going to advance the current file position.\u001b[0m\u001b[0;34m\u001b[0m\u001b[0;34m\u001b[0m\u001b[0m\n",
      "\u001b[0;32m/usr/local/lib/python3.11/dist-packages/torch/serialization.py\u001b[0m in \u001b[0;36m_open_file_like\u001b[0;34m(name_or_buffer, mode)\u001b[0m\n\u001b[1;32m    657\u001b[0m \u001b[0;32mdef\u001b[0m \u001b[0m_open_file_like\u001b[0m\u001b[0;34m(\u001b[0m\u001b[0mname_or_buffer\u001b[0m\u001b[0;34m,\u001b[0m \u001b[0mmode\u001b[0m\u001b[0;34m)\u001b[0m\u001b[0;34m:\u001b[0m\u001b[0;34m\u001b[0m\u001b[0;34m\u001b[0m\u001b[0m\n\u001b[1;32m    658\u001b[0m     \u001b[0;32mif\u001b[0m \u001b[0m_is_path\u001b[0m\u001b[0;34m(\u001b[0m\u001b[0mname_or_buffer\u001b[0m\u001b[0;34m)\u001b[0m\u001b[0;34m:\u001b[0m\u001b[0;34m\u001b[0m\u001b[0;34m\u001b[0m\u001b[0m\n\u001b[0;32m--> 659\u001b[0;31m         \u001b[0;32mreturn\u001b[0m \u001b[0m_open_file\u001b[0m\u001b[0;34m(\u001b[0m\u001b[0mname_or_buffer\u001b[0m\u001b[0;34m,\u001b[0m \u001b[0mmode\u001b[0m\u001b[0;34m)\u001b[0m\u001b[0;34m\u001b[0m\u001b[0;34m\u001b[0m\u001b[0m\n\u001b[0m\u001b[1;32m    660\u001b[0m     \u001b[0;32melse\u001b[0m\u001b[0;34m:\u001b[0m\u001b[0;34m\u001b[0m\u001b[0;34m\u001b[0m\u001b[0m\n\u001b[1;32m    661\u001b[0m         \u001b[0;32mif\u001b[0m \u001b[0;34m\"w\"\u001b[0m \u001b[0;32min\u001b[0m \u001b[0mmode\u001b[0m\u001b[0;34m:\u001b[0m\u001b[0;34m\u001b[0m\u001b[0;34m\u001b[0m\u001b[0m\n",
      "\u001b[0;32m/usr/local/lib/python3.11/dist-packages/torch/serialization.py\u001b[0m in \u001b[0;36m__init__\u001b[0;34m(self, name, mode)\u001b[0m\n\u001b[1;32m    638\u001b[0m \u001b[0;32mclass\u001b[0m \u001b[0m_open_file\u001b[0m\u001b[0;34m(\u001b[0m\u001b[0m_opener\u001b[0m\u001b[0;34m)\u001b[0m\u001b[0;34m:\u001b[0m\u001b[0;34m\u001b[0m\u001b[0;34m\u001b[0m\u001b[0m\n\u001b[1;32m    639\u001b[0m     \u001b[0;32mdef\u001b[0m \u001b[0m__init__\u001b[0m\u001b[0;34m(\u001b[0m\u001b[0mself\u001b[0m\u001b[0;34m,\u001b[0m \u001b[0mname\u001b[0m\u001b[0;34m,\u001b[0m \u001b[0mmode\u001b[0m\u001b[0;34m)\u001b[0m\u001b[0;34m:\u001b[0m\u001b[0;34m\u001b[0m\u001b[0;34m\u001b[0m\u001b[0m\n\u001b[0;32m--> 640\u001b[0;31m         \u001b[0msuper\u001b[0m\u001b[0;34m(\u001b[0m\u001b[0;34m)\u001b[0m\u001b[0;34m.\u001b[0m\u001b[0m__init__\u001b[0m\u001b[0;34m(\u001b[0m\u001b[0mopen\u001b[0m\u001b[0;34m(\u001b[0m\u001b[0mname\u001b[0m\u001b[0;34m,\u001b[0m \u001b[0mmode\u001b[0m\u001b[0;34m)\u001b[0m\u001b[0;34m)\u001b[0m\u001b[0;34m\u001b[0m\u001b[0;34m\u001b[0m\u001b[0m\n\u001b[0m\u001b[1;32m    641\u001b[0m \u001b[0;34m\u001b[0m\u001b[0m\n\u001b[1;32m    642\u001b[0m     \u001b[0;32mdef\u001b[0m \u001b[0m__exit__\u001b[0m\u001b[0;34m(\u001b[0m\u001b[0mself\u001b[0m\u001b[0;34m,\u001b[0m \u001b[0;34m*\u001b[0m\u001b[0margs\u001b[0m\u001b[0;34m)\u001b[0m\u001b[0;34m:\u001b[0m\u001b[0;34m\u001b[0m\u001b[0;34m\u001b[0m\u001b[0m\n",
      "\u001b[0;31mFileNotFoundError\u001b[0m: [Errno 2] No such file or directory: '/content/drive/MyDrive/yolov8-training/coral-detector/weights/best.pt'"
     ]
    }
   ],
   "source": [
    "from ultralytics import YOLO\n",
    "\n",
    "model = YOLO('/content/drive/MyDrive/yolov8-training/coral-detector/weights/best.pt')\n",
    "\n",
    "model.info()"
   ]
  },
  {
   "cell_type": "code",
   "execution_count": null,
   "metadata": {
    "colab": {
     "base_uri": "https://localhost:8080/",
     "height": 624
    },
    "executionInfo": {
     "elapsed": 488,
     "status": "ok",
     "timestamp": 1739807879269,
     "user": {
      "displayName": "Qianyu Huang",
      "userId": "18232162311717956953"
     },
     "user_tz": 300
    },
    "id": "EavICosDn78u",
    "outputId": "9423aef9-1e20-41c4-ae89-633ce63dceff"
   },
   "outputs": [
    {
     "name": "stdout",
     "output_type": "stream",
     "text": [
      "\n",
      "image 1/1 /content/32.jpeg: 640x640 2 Corals, 16.3ms\n",
      "Speed: 3.6ms preprocess, 16.3ms inference, 2.1ms postprocess per image at shape (1, 3, 640, 640)\n"
     ]
    },
    {
     "data": {
      "image/jpeg": "[encoded data removed]",
      "image/png": "[encoded data removed]",
      "text/plain": [
       "<PIL.Image.Image image mode=RGB size=256x256>"
      ]
     },
     "metadata": {},
     "output_type": "display_data"
    },
    {
     "data": {
      "text/html": [
       "<style>\n",
       "      .ndarray_repr .ndarray_raw_data {\n",
       "        display: none;\n",
       "      }\n",
       "      .ndarray_repr.show_array .ndarray_raw_data {\n",
       "        display: block;\n",
       "      }\n",
       "      .ndarray_repr.show_array .ndarray_image_preview {\n",
       "        display: none;\n",
       "      }\n",
       "      </style>\n",
       "      <div id=\"id-9468bfde-ea1b-42f6-a732-3a413065ec59\" class=\"ndarray_repr\"><pre>ndarray (256, 256, 3) <button style=\"padding: 0 2px;\">show data</button></pre><img src=\"data:image/png;base64,iVBORw0KGgoAAAANSUhEUgAAAQAAAAEACAIAAADTED8xAAEAAElEQVR4nOz9d7xnWXIXCEbEMdf8zPNpK8vbNmq1TEvIImQQCC+pEQwIBlixK/zgZkaYXWG0GgMzLCucGIwWCfOBBYQHSSDkutVqV11VXd6kf/nMz113zomI+eP+nsnMl1WZ1dVSaz6Kep9bN+/vmnPPjXNOmG9E4J/9wClnTGYzby0CJZE2aitcjsYdKAAAAKo6QA+YCCccIwEqGFGjZEStolEgVFqeDoLSXyYAoEbgBFLVEw4iqOqJ5xPR8Qv7rQCowonn3/Kgo8epedPTb6HliyzvoHis2XRTu2+64F7aQ/gmZ/Z0eAQRUY6ee+yxwMdOk2PH79SeE/sfAOTkwycTKhgmQAGAhMqkCUBREoIwCCAoghpSAkUSQ8gOExHLsbb1rSVjVDUyi8iy/USC1LEGlo3N9d3d3bqut7a2urZOKWmIZZ7nzhpREEEAC8qqoMhw1MOIqACImEQOX1zw6PXt6vqaskiUyKzCiOi8tZS1sUugLACoDggRjFJAIWNQwSogAIEQYM8f/ZuQ3tT70PfNvdDdcPMv0ecQoQCA4E3fhQDkaIZYzoyEcsex3p938HFVFbGfa5SZVUFEAICI+p/wFj5QJUDA5XPviWwkUFUgURVjjDHOeIfWxbZJIiiKqBaNRUVWo+yA+pdFUAv9GL95yjnaX+7pSe/9Nhj5eAfd+9W/RJ8VOsboQAqESxYkOPrG/T7qm6x2ICJ6tORpz+i8HAAYY0TEwwHQn4U3rcIAS8Z481F2K9kFRwOYeWcALYAKRo6Rg88ySBgwoYIhtUAkjEmckf41EBQQABEAQA9m+pufLgAC+naY/Ta6nfsPhIN7e+G3vP8thxHfmfv/X5VUlfv/A+jBFhV60QAFQYFAAHoRVg0pIMKx3l5KsyKqyiIiwgcckwCZBdB0XQcAiCiJDSKK0qGQ03O96tuY/gHApswAUVIDCirCbYwxBk7jPFMCJEAFUBZmZCFhC7Z/TN/KpbyFy6Eo/Wyvx0fmOzlb/9Ii8DlOBABKAv2IgKXw0/+Eesiih1KMqvYzGDPDwTAQlV4VZAVVBNDYBUREhRhjkbteTSA9GAOigKiqKKp0W5velOwMwLI4FSvqAa0j63MCiJjAACGBiCQAowhkiOhAokFQAeDl/CgAAEqKCoqHeoEi6B20qnudWfW2OQMOhMV7e+O7uP/xw7+0ArwJKYIs+61n1KUIYg5+JlRQgUPJCBURBQEOTB29PtrfotfjBQG0N2+oKiASIHZd570HgJQSgDuQkpZD6IAh3w7Z3RgQNFPIAAuEwtjMOktUNY0xDg0iYhI2osY7YyyH0Lf8QPc9PgIElAABemlPsZ/9T1yY3jZb/dIi8DlFR7Y/AACkm78Jai8BCC2XAdE7TCi9lU9VVQURVeRQ8QWk1CVrrYgwM0BxyPRHzVB9e6K2nVlrFCJIVA2iVWipa1A0peS9t8ajgKRklAqkIToEJFAAYmBBAOhXHYXltC+9nVEUARBARY/MRO8g/RL3f44THgo/S5sJ9xZCARQAPTCW9GwrAEj91KmoqAcmS1IAIgVk5l7x7UfFob3xJrngbbXTftE3fqNDwq6NsxnUlTbNYn8ym0wAZRFC6GoE8jbzaOqU9prp1mBIiRGBjFPmmCKRZFmW6s5ap4jMIgrGWBVgYXOPc/2dOPteOf5OosuRP+AWe/wdSESOBvBnMOhuedBR8w52bmnPod/j5Kve7nPfcert6waXBIcMD6qqzvsQgohYZxIzGWucSymKLqV2VkVEskYR27YlIrJGklrriKhuOpdlouAyT9YAYWiaRV1772PdEJGIcOLCexSVGMDQoVJxvK/epBOsrp9S1DCddiGSaNuG2hqztX7p0qWu64js6dOnzp29r8yKye5kcu36NAgIG1CP6I3tFy1mNcYQkQrwwSMFUBSRbrVV/XzSL5aF4hdLO2+nJdMfcD8cWnWYASClJKhoCS0SERK0KbQxiYi1FgyJAqtgUus9GkKiJNKGgMZkWUaZt951ITFzZLZERCSqMSVrLRKJioCyCCGiIWttiHxP7bdTl1mQSqBNSizztlWFM1unNrKiCR0Zt3rm7OaFBzOf6409Ga+k7f00m88X8yzxwBiHxihzSJnzlkhUWUVEGEkRBcG80zrA3dMvFm3hxHae7ClXxZ+PnrsHQgIB0H4hUwTR5XppDABESWQMkrKyEiZJHUMUFgBAQEQh0v5qawxm1loCDSqISN55RQFk0CSCIsYYNEYQYkrkfa8oJ2ZHxiACgMG3crbdRvbyoiWQxbyOiwraelHVA+/Ob2098NgjHbMAWpdNs8IaB2dOb65v7edv8PZOZOiqmbAOCTNFAPBEBjCCkkr/jXpPtMC9Gqbu0NF9D9/MIr2p6c25+7M0DG6628m793afW3YO3T3Hj9zy3M/GsD6xn+90svRz/2FTZOnFEoDCF4LSNDWSMmqILRoTk3RKrICGEihwYlUiss4pohKCNY7Ii6gqELUhIhhFFEOCEFQiqAFgUBaJoNSbIntfk0rke5v+AcBeDwwxtCHFBKnq2sh2vCLj1UWeoTFMplVMDMJsyA7zbN/nWo7iuFaFyB0QOJYspd43QaKoigpKvRcM7gl585Z0k/34LugX9SJw+08/bzbZe+tnFIBD8zgIEIAgojEmChNZAW1TLHLHqMCmNy0KETMzqLfGZB4A2qqtYiAiZiZrkXXRtd7lxliXZYgYmdsQAKSN0VoLiGiM9WCsQ1WOzCr3ukLaBVDTRQCbyMzrVlk3y2JGxG1Aa01hKMsEbN2G2XTG0ybs7q0I+nJsVKGuVNiS5NbyfCGEJEB99xEoogKIvDM6wNteAeAWHnonGgP3vgLcWSk/2b9x+/ElU97pWe/Q2LinFQBBBRSX3ifFpT8UAUwbOuNtF6OnTBGYoBgPPWAbIURFUTCEiKJqjDHOAUBSqZqm16qLonDOAWJMyRbeWNvrmiwShbsUx2aI1hACIpK1IAJMQKR8b5/YtmhnIZUuTy6fxphba8fjShWsAWfRWGNsEJyEsD2v2skU6xbzwTjPsDahCRDboffOu64LxhhFBAE0hIjLRU30RLHsxO9Fn4Vp+hfvInDLMPjcJFXtjZmH2nCv38UYjLdJBImQUAyV45Fxfne/6mIbOXmbFWXJqm3bVtWCrG1iTCKswswYSEC7GJmDALYxWGvJ2awsLAE2DRApoqioSBLu2UwR8R4FQ1tK2cZsVGbJ67bmvvCD8Sm2eQAl8oA+dlzVYTrrglpXrgcvMS87jlVI7WQyi202HheZmzIPEIhIkAQBEQ0iCCgeKcFLl/hJCJ571V3ulY5xktyGoXrLi29pHB3c5wR6e4iUo0f9QotAPUwHtYf0YA/sUbzTf9BDgRQZ1CD2A0EVQRiACEjVGiEWApM7lxf1jcl+s+jqphyOMM8EYK9a7O1P8jxvus5aq2RCTF3bYRfaJlg0iTGEtiiKYVl67xGxaZoEGpSRWVInyg4QOFokXPqkjrZvTnbxyctSL8rzp60ZzvzmcFhmfjUyBODCjZSyajGf7rYxgAmO29RE05F3ZMNwNMmyq7vbi1jLyLdWS0wjlzkwnKQgcmTnbcPW9jh6FO1Z7wAci3AbrwgA3QFArUtb23LkqIIqnLy4LE842e7OqgAMsMToHYoUd+KtE8wKywF8bBTdfMotas/x91GEYzMlAADJgbLbyzkHjREWOAIbHj36+L/x4J6H+0skZu+AP/7zXRL28AMhJAUhIAUhIkFFAUEhoFu23pklXlmSKiFQv/7ng2JvPilXR1d3rrtR/vBTj01DM5/uN8h+bZStDkVpxjHGWDF3SPt7U1a11o5WV0yRb29vt227sbHRtCFWbe4soXM2M8Ys6mkEdWWRCMkYVepiqwqFsaBJkHpomtw8GR1OH4hoAPRggbV2ErOEvNf5wlAy0ikHrEMIBqAVsLJYhGoWUpeMWGLo2rSzN2stDvLByvnzmtppM31jsdhcGccQF6I2BZPIRc6dzY0PIKn/aEtcnR6KinCsiXczcR6+wxFzo9xjgMu90z1qDW+2Onzu0xK9A6pMAABCutzqsf3DLRywESEC9obN3gUEEqPP86S8aJvhwCeEKnR7s2kCx4r99JGCtm1bNzGKRNA8L1l1OqvIWHLeKrRdQjVoHKDlJE3dGksxCZJjAOMsERIBElplo2gU+Bj65m6+gq1mlQLvxm60UjTztu6ajb3pbjMdn95KHauklKTrYmxDTuTJWKR6tkia8pXB2vomNYvZxWZ7MhltnTJEVhWNdZYUMYTAMZI3FkABaCkfoqjKMXH/+GC4hy/1uSof380w1mN44BNhIm/j1Y4/9zORJ2WJazucaA7cWydLEyKshIgAhGYJkAQUlZZTMRpUzbxp41qWk/EhpqrpWGNMvf3GtB3XdS0JnXMuy4Yrw6budnZ2AKlXgmNK4+GKt9YBxhTCYg4ASTlJZFAgcs4CKrAgEygI33O/WVJUgOn+jDk0i7qDbu/G7o35xA0G6DObGUigAhwhInuDA1eENjSL+T6nYn3osoHabG9/dv9pq9bHJggn6ywgCQsRqWiPAVw6B1QFEQBYBQAIQPUW1r+zzeGESCC9d2a5F+54Z3wYBzc7ePJhkw8XtNvt/b9QpALaI/lBejkf5M46APTfF4kIEfsreyO+sCbRxaJBYwejcVLoWI31bdXVbaeCzrkkmiIjojH5uChXV1fzLLRt24XYjxBnSQFFMakyKydWEAENzCGKy5RFU2SIDCoWSfvQsHshW9isi4JRunktnZDBet6kLoUmmToiiFFL6CR0i3YeREsWo0gMi3k99zZHxyZbRBA/9EXGPJvPd4jVZdYS5ibvQo0EiKC9dI8ooKyquOT+JXr0LoSHE0Sgt0dLq90tRtR3nu1ukf5vPygiCEYPRNKDU7WPZL2dbg2Auq3Jn7ktQREEEBUEkQBZlZZ2/hO2AACAqH1cIC7xv4oCbJ1rQ5hWtS0LtPne/nxRtURegTm1bQg2sTEGEQWgS5GsQ8Tx6or1rlrUs9kshlSUebVoozEWEFUMWWMgKYNyG6KNnplDVUHTDa2x1ltEALynScumtq0Xc2RuZo1wyoZZM20os4UdWPAWXeHsuNQ453bStIuq7Zqx9xacM0bBdilFtWzyN67fWHnooXwwpkVtXWas7xZVF6o8MwQARKKgiAwaVaU3nClYgD5YrldIAW6B1x7RLax/oDgS3/Ng+CzrDG9KPfffycp+k73/DpfTSeDad0rlUITel6oAoMiqvZdLpYfpo8CtWwTq5X5Q7NcPRVIwvnB1U4fEA+sWi2ZnMam6lqxFIGscAseQ1ILpY+Fj1zSNMWZ1baMsSxWYTCZN05D1xjlDjkCUWVQ4aZdiE0MWkutiMthUDbSdy/PSeAI09wqFqKfVdH9/dWUY6k4gZauj2X5Vbo5LPxBwwJjbAgculKmhRRemse7aLma5H41Xc+f3Z/NFJ64YP/PS62c2Tq0ZM29jAXackYCGEDKX4UFsvqoyaL8CQB8lob3b8JgHoI8nOuHj3IrvO5AcPrsCw2fOW7fM072OeMji5t71mVtueNhCOWmReRvUuy4P+7bfOdHDSiBE1GeSEO0tdf10R4AWiYy1onh9d2+ymEPmY12XWWF9lgs1bSUAeZblxoQQFGKIcTabIWIXUhtCUokx+nJgXW5BQts2TZdSYk1JtYnRq3imJAACAghk8K4snzeRJRENXPh8LgYNDly5O50TW02QJIlEKrOMfOlyi5aYcuOlbYFM6QfOmqqKdZc2hqM4T5O667ru8quvVaNx8cADw7IcFnmsZqg9SESFUBT4AAQLAAiwFAJ+fujnHUt2nFnvMuHFPdn7b+f+z5RulqLfYmQqIakSKC9DwwQADAFiEkHjbOYZdDZf1DGOh8NZVSPYYTHIcxtjVMI8z/M8jzGuWU9E1aKez6vEioh5nrssq+taSiisY1UWAUSf54VzXQoCBGSBDODSUoSAIOmexoCd7U/Pnjodms6RrbvKoBkPRiQIEeaLWcLF2gaMirFVm1Om2cByQmuVQVkRbNemdtrGrCy2Tr308sWnzp8mn1dt9+rlSw+cPlWQWgBQYVZWYQRGJMLemn2yRHsHHr0FbXsgLCDdAU9/x0+2XKzvVgVAc0I+ojeh4/LJcbn/8EK++T5pGSt4k8X/Ts84yrx08/HD0JDbx9ihzflu2r906t50+U3dewsxQArc5ynpI1aISI2CMV2KStgFjpHZoAB1gUNUCe2gGDvv0NTM0Vq/trHuvW/btqm7GVQhpRTZe69IVdMI4O7u7n2nzzhvvR1vb2+vDFfQGBJaLBamHISUHCGSrZvWek+3vsFbEPVRBaBqkBw5SIgCFg10Im3qqqaZ1e28kTZaAYfGCpEiAXDS2ITYCTByhMSQItddYtGg0nJqJYKz6p04y4RysNATkbeWAFCP/GLHv+XnIH0marfcYf/t3ApPuMM73GP3mMkpqQgCeufyzGaegduumy0WipL6RA+gCERokignLfJSRLsugFKeFVmWWWuJqGma6WIaQpfn+WAwAEBOaq2dzadIUHeN8abruvH6GBGjJAAQkcgsDNDzMdHb6AprDDFzn3TFW8cxAoMjm7oUmth1oeIZ1imFRDFlgIIYRTBq7DqIRiIDU2yTRAnCVVUlACHsNC1CM14ZGIukag8C/pOIioKwOeD+4y5MuG3/6Lsc7OixLbwNDUDxXq1A94QmupPf7BY7/eGN3gb86USx5yaL07H9tzE66KQvcOK0Kks1mKBPKqKSUKKkqGJBkghaI71Pm2wP8i/zEUeJqVMFMiYxV1VFhJP5dDqZcdJysIJIXVwws3cOEX1mY+rIFCG2q+O1EEJSURZhjTGyRDTWGIOQ7v1dwTrnFNgQoaoxJgYmRY+uWSxS08UuzsMkzGsjAFEzY6O1bYhJpa0atc6CAaB2Xo/KsZXGGu/GqwPLFriKIaAsmiojkzlnrDGAmJKkpIntsZg/ukfv3c8nnYhRu/vLP9de55BOfgsFwt5NiYJ68xZuO4ICAKQJmVlURUSUwGYOCaMkQMxz33UhMoOxiDQajq11TVWHkMhqjLy3t7c/USJsQtd1AcgyMxEQEYIy8/rGKhFmxhCo85ZTQIIMXQhBJKnEXmUiIlJCvOfIeOtyB8qGTEjJWEohkCNHdrK736SYoiQAxjYzrjRZljklaELLIXVlYwoojO9s3lbTmAAhLubVuCCbZ4Z4b7pXzAqMyRP5GLyxGZJDNApkjDmWLuV4jsjekHxSUw/dSMe28Nk2AgHcLMG/JfcfV2zk9p3bwIr3NEIOb343c//bI1Qg7JOu3bSF244gACEETtqDEgySMUpkEA3hrKnR+pWVlXY6qxcVEjgyxWgYFl3iHkGKIYQu1IEjEjhnrXFA1IUGwRIROQyhG64OutCOx6uEMl4Z7e3tZGWhiCJJQRDBIFhC+zaCwQAAwGa5FxFL1HaNVw+EvigNYrOognAUQCBr0aBaAmJJKXVdJ5FTjGB94Vz0eZhN62oOmbZCW6sbZ86dWlvNr11+Y2VtxShpiNJ2sQuSAgMWxmZkegVADrg9HUm39+bI+KzSYa6b5T/vYhjobfv9e70j/t0+kvAdAY3f8RVQ8aStnnQcEKIk8sbk3mcWAGIMIYQUWUSsxfFwtAjdvKmZVESKLFvsVqpqjEWSpeiu2Gf5MZaQbIoMypYskQJA2zXO4PraODRtgC50nbU2cFRhIjLGgF0KE8vUi/e4CFibOVRF1aZpVJUsemsR0dsshS7EQAZyY521Kbb7izp0TYrRoDGIEhMqFD5rnbNuNC4sQru6uvrAg/dfuHDKehhkvqtb7lIiEgCjwbACC7Pm1vaZLdKBKb9vNt5Bq8M7LAA/b26tu1wE7n5GP3zfe6W3nOkOT3gbQ6XHwN1+/ES2YqDBaISZLzJPBlJKrBJSbGMLaBGxKIqiKLyvEmAIoW3bPnhdQVST8y7Lx1FiTCGJsKoFyPOchTiCqnrvRcLp82dXVsb7KV69ukMGWVIXGiCy1jtviI0FABAFRrT3LAJZsxwAEiMbA5plZIzC2mikM01tsICeTI5U1810b89mAiwuzyySSkIQ69FnBmJiTO1ifmN/58b+Zj50r128DJq8dQ6MU8gMuSI3SYwoifZJFOUACgEAgCCKpCdlUL3nJNMnU591rM9UdOsWTjh+O70Nc9BxaC7pke69ZFNcJtWDPnz6zbd3+UQ98i2+rbRMx3yRKMdHUS/CCYCgCmCHMtxaEUIGCCG2MTQhtjGxgPMkAOiM8dZ6zyxt3dR1bZ0BpZiSihqyRZEnTU1TQ4ohBINQDAasMAtzEc0LD4T333euzMq9nZ0rV6YbG6UiiRoVVLCGHBohFVSlw0xsN/f5m5P1PpOYrl66RGSNaIFO2i7M5vlw4DgOjXHGmS5oF6GJYVG1Na+M1wi17Zr10VgST/cnndRFQYIpGxed8EuvvvriK88Lp8Ew71LgtjMsK1lOrjTWYFIETZEtEpGFHs+q2iMkEAwc5AkGlN68hWQODrFqj51ZpuLgY3nf4W4YtHc/46FnGfEAinOYwu9wCwCgS2X9bu9/JzrQeXo3B/ZJ1FAEYJlQDG7aqjIcZZs93IKgeZN024c/9FZmxWVi8eOvvzz9DstIn7q//7XXhpezkwpaQwRVihWn5DAfrbhRkZ/emC7ms715s2jaRdu2rTAToYFwam2tik0d20WzaDq2WZlECmvms0nbxsFgkLkSxYQupICh4TwfGGObpnXOrYwHdd1MJtuDlWJ/NpnjfHtn59SZNZflTRsCdyurqwgwX3RDR3mWo4on1BgMUZ9FtMeMIPRs1ceKHeRrOOgLRLQxMMcUY1RmJKPMkJJ0ga2VECUk7adoJKvg0agjgwgi1EObgUVj0iRqIipwmjc1EiAkAiXvADnGQFFJyakFNKWiRaMIBAiKqqBLYAn1cb6HnjAVZNEEAQCwh1Oj9Hx/DArxdkjuevuOKCR96rzbb3U0Sy2zSb3V9q6DE46uuNe29sK+Lqd5AOz13ZQSqKhBBhCHkrnGQUCN88m8qqumbpuu60LokgN0HstyEEG7qprX8y5G7fPKAjRNQ0RZ7ph5NpsTEasyA4hRQUkoEJmTz6yxMBiWXWiuXL1Mik0I1nsk6zKz7oqkAioAenxhNKQAfVw83WUP2BhjCiHGeOiBTylpjLGum6bh1LuuwBiLiNZa6wmImVPv2UoppSTAwAKGSASaupOYENVbMs4l6SS2FIUcu06My6zz3liAPr1oj7dNij0M/aaJtmdxUVZVMoiIZHqsGACgqvSux3v9xCde8POGxvjFQbeJTaqqIoqIhpzNwNgoEtv2xmQ/dCk2KXUpNolTMsYiuiwvFbELXYhijAEwwtqGUDo/XlkBxPl8UVUVgjHOEZkQAhlEEdZgDBmLzjkyigFms1nqYubLrCi7ELvIeV6K9IvqIbf08/4yDZUe1xjf9NPaGGOKnapaa523S8cwc1fHrutU0BgjyIjOOTcocnASU0qcVFFi4hA5JkQiMs47Bmib1LTJEChT03IMXYqBEoMRmwF58KXNcnBIsvS869IWhAhKCnJQI0n7yZ7QIuJBJSQ5Puu/zVSBnzuRNEpyj+qN3sHTf6fF8J2pzgBgrU0qqkhE1tqE2HWx4bAznYiiYYsCwqCCYvoIGRQGBOO9zzJpo/Trw/rp8XAwAsK66lIUREVjDmZSY0j7SADrDBkMot57DorAy5WfmUOMFIy1fQ4gkT47LSEiEYDcU5EnsG1Xa+J+AFhrVZWZVVKf4A0PrCxk0FsjXCRuEgunJBE5xtC2wupd7p0dFGVyWUpJUgQUBgqdxgSQCBkSUAgQECKjgGXsMdG8/HLU13Lqh68eZgY2Fq3NiCilqMu8GKoH3XHPA0DpIF/xXV9xj0+4Ezu/KQTnjjL95xJRP/sgEqEBkBhj03UpCiBZoD5AV5Jwki6ktgnogEVENCaJgVWMsz7G1DQdi9RVkyI750SUOWZZlue5yx0ZcN44b7uuq+saEVyeZQMLagxinucKBgz2plgREURhTSSMSAiAB1odAPTaHYDCHa1ttmkaUgDQPjqBJYqCdcZY47xFIGMM9BBFQmdNiglS1BDFYGibrgkGaFAOnIViMIpdU9c1Qx/owF0CUodIxoAxKGCSUGCMCgZIUVRQlKG3hRhCJAXpy0DBwVE9Rr30/5nY1O+0AvzCxmHdPfWFB084/lleAVJKAgDmIA2oogpwkqIomQHFgkCfBYSTxMghBIkSOS6quq7bKOR9VmZFU3ex5ZhS27bWWu89WgOgWVYOx0VWZrBULDmlEEKw3o/z0oBJXSQij5iMhJTIk/bjC5GZhUgJBBGUzL2YvWwIwRtrrTWqxpg+ywURZUURQUGR0ChrSomBmFlS4hglJY4YEUIIhDgYDBDEu0yTqBpRssaKYExilAwgkUHEpNpGbYLUbfKF7+0+oIqqRGgUSCHpYbkZUNU+t3Av6yOiMUREiAb60S9q7tERcCeN4UT2/5wFMnwWCfW2vliazBAAySgYVWTWGDgGzkZDlRgjAwMyEllLYI0RwMTcxZhECE3/+RSNcKibJqSIiFmWWeuUoBc9nHN5nicOTdvFFACgR0Rb40Gkz76cIscYWYTUoiiIMIAYEhFGa/piBMeafuLcf9ywa3v9kpwDBGuAWXpl13vvOfUmJEnMTFEjp8TMzCwcJVFESCllzmQ+5xSIrAqmyMxIBkGMiCgrEjJQWEYAproL3tGgyA2IAIIqoeJSo1muV71qm1KKMXZdF2PsYYNZ5nvwoKr2AwPUvFNegl8M9AvmJXfOCYAaSogiEmOMIcWQMsWQOIYICY1aS9ZlrsitMSRA1ro8R2O0icIsTVtZxd5XfFjxhUEAgLlLcQgAKXHbtomjtTQYDKJA07WSJCdvnRNWa8C5rA8sARUVEga1oAJqDmxAd/1elgittSHEYVk60t3dHWMMVzM/KhA1CYOiMSaliIkzR+0iha5ZWVlZLBacQubcuXNn6rrOM7e9vV1VVe/g5iTMzIk9GRFNAKSISgG4YfaR28RlZkE5JSm89wQ9KBURlJZlNwU1Sqrbtm1bshaIiAVZTB9cpgAHFRMA4DCnzpu/sB6kLrvVrn9zoPpbSkS3xSfo4Q8ne2rvdMM7ureO51o7esodn3t42S3H6eTz75gH6Q6tSZGNc0SWAUMX2q5LiRFpb29flGyP3lFj+qWe1QAwcwghiSgZ710XOHTRgl9bX00sVVV1XVeWpSo2bV2WRUqpWjQhttWiiakbjgajwSg1dRcSJEXsgBURnXMhJVaVlCQlZ2wPhhOAFMU6IFoOARHRPpiNqIdbHNSiBDwI5LcA4JzDnJ03kCIzkwFjshgjM6eUVFUFLRiAJY/2N0JEZ533viiKvsJZf5yZD8slGGOpd/sQoiERTKpRNah0Kg6ozyRG1OP4RFiRSPSgWJqItbYsS++9c65fBOHAPApwVJzvHkjpZE/wHbZvcbOb+U9+PrB5vzC09L2IJIEUmVOvEGNTN9blWZbnrvDgSAGxL+nCAIAIohwiRwVRa62xaKy1ZDSlLMYoImRMkZfM3NRdF2PiGGMSga4NCvNWWBWNgoKmlAggsqiIc06NQU49y8WkuTPGE0BUlaSiqriMvCXEZdWZpV3xaNJTq6rGGJvnmTOBEzMTg6r2yH5VSCmB9EMIRcQYY603xhhjrHdZUeR5HkKIoRURTazMjGgskUFAIiKjQBbVEDKycATtUorLut5KfZsIAUBEsjzTlFJiVSUyxpgsywCA09IupKrCAICghMtyO/dAeujr1WPb4z5gVYMH5QZvvvct7H73ENG3aNDJx+GmNe0WCNS9PuTYxP8WrT3UIPGmthmygCSKIqqKoERoDZG11jnnvXfWWTXA2hc7bZo6aQwcuxRjUiHrXJa7rEBv0LJIlnkRTikaRO992zVd10kAVVYgRIhBQqrVWUBjyQBgPy2iQD95ExEQQeKmCxkYIWecFUn93Kl9IWEiBewzVwCA6UOWl52pAGBFREGItAcdKHBK2nVdDJ3Nc+9zANAuJQ4GHREY74qyHAz6Wf9AEEdlSSkFlsiSeoOS6fPkoUEQ6FN4gYJiVO6EhTCBoqqoJBF3sGj0zTj4ZtqPNEQ0dNwadAgrMAp89/lQFVAOEEFvulVBWC6Ud+Dv27m/b5bgvbHpZ9sncXvj31y6O+zcpZPmwJdEZIAIyVoSA0JEqCgK4/FYjTNgWFKKSVMf9ypNWyVIUVICIGN97vO8zHyeJYpdZIkKggQcmTUsea8HBaAhJEBV4CSqAtYurYIiQgDOeedc4ATGsLUgKiIhhM5YZ5dJWpbfbilSQx/zeGg6Jz1KqmChL8jHkcn0vcPM0rURAb21lrwvgzSxbaPC+UzvcyENYVjqXkhNU5t2cXqBbdeG2HbadKZVZDLinPajDVFQFQEtIRIrJguSUTot9VAMQMDUDYg9I6kYMsBtlJSABRUgEQdkAwAGjYL2tQd6TxkikiqC3APDISTAZSoKVQSQHulxh21f78TcmWNuGQZ9u+6+ORMyU7B3ffovECmCQopCjnpACgIBYIocJTrnAQTxANoCoCCiyVrLzEjgLPlikBcD63JCK6kLqanrTkShDwwBjDFaa41Zwpr7SRmBrIFOUhJNKiJqhckYaynLfWqYyFpCQMLAiCSiMbDxSghAuCzJBMBJlPlOH9FaawEgpRSo05QAwFgyzgH2dkbJc0t53tX1emp/2nx0GXc2B7AAIwAAqC8BAFgACzC4626tFkf7byeW7f8i9Kf8hd2TxsA75ZfQg/QBt9z5jn6D21cABVCIIRpQVE0EMcYYYwih41Cl1mUZFaZ03hgjloSRVbOitEwJLFrrihKdF9aYutDWKYaY+uRwPi8yVkhx6Q/t14FerugtsgIgkCIgsvS4tpRSitEZg4hgDCARiVUwxiihtVZAe0PE4Vuzqj2uPR4ZLNBmWea9l9illGLbMvNoMByurrbC+4t5VVVFUXjviWhL2lt7y1p475cAARQjuPwqvPr8O/LN3g4Rgdy7MXS0Cg8+DkUJr70I25fv4ULr4YFHYes0dC0owsvPwnxy8pmrm/CeL4BqDsUInv0oTHZu+X1F0i591heBQ/PRZzKuRARYerduDCwCqpA4IlNKMWFfv5r7BVoJvHXeWHRWkEIKXSspMHJyzipA6GJv0jGAKkFEOOlBUigC7fNNixIA4jIcR5GTdF3HzEVZ9kZ206MzkCx5Q5DnNiSNgVGEdRksbw68RUubofZZOBAA7MD5gbfQWolNjI1IzLxbX1upujCbzEKoMYp31hOSxpv6oxzC9/wdeOLzIC+hXkCWw/f/T/BDf+1t9+/bp6/+1fDeL4a//j2Qwj1c9Vv+H/A7/hC0LRCBtfDRn4T/9X+E/RtvfeEHfjl8x38Pp86BdTAcwf4OuAz+0d+AH/grtw7CJz4PvvfvgXUwXoXZBFKE/+G/hec+fk8vdzvdmxXrpIm+t1bJ8Xv1hMuE84eAMlEkAAUCawSRQZJy0sSYkMSiYpahMYlDxdyn1DIkiAAx+cw454FQOaQuhC5JlNJmRWYzsfO5ShIksWA7VCISYeaDAF+DoppSNJkBRMJeVhIVjSHFGL3LliZHRiKjlhiJSI3PQANrYmYmtUsnnGEWFBAVFLQKiGiWZtDp3Du3u7/jvDEYDaRR6fevX3M2P7uyKgxZEuLGpI70GHsNx/BDPwnTffhj/w2IQArw1Pvhv/uLsHUG/sqf/Qw/8D3TF3wZfNWvhr/7l2Fx1wPgm74Nfvcfgx/9YfjhH4K2hvd9AH7zd8D3/B/w+38jpDcVyNa34M/8VXj9JfjePwq718E6UIDf+Dvgt/0BeO0F+C//5lirvhz+wt+Gf/eP4F/9Yyhy6Br4xg/CX/qH8Ke/Az7y44dnHSr9d6J+0jrUMcgaUQXQvsgQ9Ih31V5pJ4R+c4it7a+Vg1gR7NP0IS5/Q1JlAVqalUHREPelzwVQ0aDhPrmQsTEFzHxdz/JxBtOqcBg7LoqiCUGkJWutMwbBOVdkjiUhAYIosxEpjGQFaGYQhExnwa2s5pwgRe2aRjgoGOg53SIYBVUy4pMCYQocgY13xjpJKYWomoTBYG+aT00CBAuoJooLXRQVQ0rIZARRk2hiQ2SNJZAQYxLNnLNkENE6JEdoEQyJtyQaY2pHw/F0vxqUQxYNVV0WfmNtdVzVSy/zeB1+4MfgZ38cvvv3HX2oFz4FP/kj8Lf/LYxW4C/84btlxF8QevcXwv/wl+G7fz/8h3+6PPLi0/Dj/wZ+8CfhO/8M/JU/82bX/rbfB5Nd+OPfDvXs6OAzPwfVHH7Pn4Cf/Ynl8TP3wZ/+/8A//wH4G3/h6LQX/58QOvhTfwV+/2+AS6/dTUtvl9R7506Pl5Ilcy/tYnh8aj8Irrld4jk4hw7OWdp7+1D41GfY7wu8KQn2GSIACdka5wnZYkZZbtUCO521CwXIsqwc5Jn3iOCt9ZldHY1D7GLXLU3njgySIly7vjOdLyThoBwj2mpRdZG9LyIvC6iIJAUAFMA+StigIgEYY4lQiKy1iM5aq8wSOcZowDRAXUzCLWaDPCM/KFUhhBC7oMuZgvryXQrAiqyoggpAPncJGZ2JyIvQoKXxxvp9D90/XFtB7wKnLnVJmYF71BoAwDf8RjAW/vpfvLVrd67A//zH4dH3wPrWCR+zt9p+JvQZXn54k9/6nfCpj8CP/vBNx7evwvd/L/zyXwNbZ9/s8nwAXXsCSmi2D9aC98t/bp2B11+EH/77t572n/4lEMHDTx4ekDv/9dL08R04SK903B985BY8FkRx+M+lSH68AwBQ9SCwUfu83IRIqIiCB0UNlxbDZfSjJGUF7mucIIHx5IusHBSDYbm2vnrq9NbpM6c2NtZXVkfFsPB5nlRCSl2MgYNoEuGQQts2RZmVZUHONKFp2lpBjKXeNUUG+qzYvWwDAIasAXTGWGt7Ob5XG4qiMGRBsbfTAAASJEldivOqYgWX5dZlMcmiaZsmJAEBRCAEg2gQSAWEVVhtpyHMgy98VJgsZlunNr7gA1+0tXm6DbJ9fbfjYDMvBvf291aqPRgD+By+8Vvhkx8+WWv8qf8Eezvg85sO+hy+5b+FC48AAPzYv4KP/PhNsjIRPP5e2N2GG1fhC78SfsWvhRtX4UM/dpOs/IVfCV/76wARLr4M/+zvwYOPLc9/G+RzePQpeO7jJygMl1+HrdOwsv5md/6Rfwlf++vhK74B/vO/gXBgFbj/EfiV3wo//Z9gtrc88vyn4O/8JdjbvfXyogBEmM8PDxx3a5xIN/kZDk3ciIh4CAO5E0j2FivtoRcMEVEP8/8ALUs09Blw+8fgTYgaFCUSUQZRFDBAzrjcq2C+OvBZVhSFtTbFKCHGGGMKIJ4MlIPcWAIA5hSb0MYuK4tza2frqrt88XrdNEU+QnXzWQ3oEAn7OkJLkKTqMlL14GWFRaQH7vfoVDTGOWeRrCVrrXEShYNomzjGOK2aumqcMUTG504R0aAxBkQQURBQ1E4Xs5DC/Q+eB8bYLAYrD5+5cJ8A7jcLMegHBSKqUbSQ+iR0Fx6CU+fg7/ylkz+XCDz70ZuOWA9//V/CfY/A1dchRfhVH4Qf+mvwN77n6ASfw2//g/Dh/wynz8Fv/X3wyvPw+Hvg2qWjAfB7/iT8tu+EV18AMvC1vwF+1bfBpVfgZ34U/sUPvAnf3JFGK7B+Cj71cyf89MrzkBI8+i546Zk7Xv5z/xX++d+HP/a98C2/G25ch66F9Q148vPh8mvw1/7C0cAOLXziQydc/n/7E3DlDXjmZ++ysSc6m28JhOj/yczHLZ6H40r0yPVLNw8SOqjIdjwNgfDy3wbwoGQYMChZ0qgRU6RkTG68td6wKFgCiywpdT3rd5ySCANylmU+y8hgSomZlYAcudytrK2MV5BZd7YnKhTaGDU46pPyIgJaJOnLRQr3b7LUlLjH5SiztF3bwyIZMQoDR+e8tZ4yiEDTum2aZtG0MTGQSQyipGiwj6q1S3+GoNrAbQJGBwAI3s66+pPPPj2bN69dunj/hQe2xqOd69tJ0+rG6ggmoHuwtgnWwXQP7oZOnYO//e/ghU/Bf/87YDEHEXjs3fA//QCcux/+3B9YqpvWwrveD0++D4Zj+MMfhBc+BQDLydVa+FN/Fb70V8Af/iC88AwAwHAE3/W/wzf8JpjcgH9xl1x0M22egcUcXjyJxXdvwGsvwENPvMUd/tqfB5fBb//9YB0QQQzw6U/An/wd0NZvceGv/Bb4oq+C3/n1EI4tPm+1AsDNw0AOMsH0coKI3KJGH7+bHJOLAI4AeYc4maPcuaikhAisCgdYAwAQUhFh0MSxCY0AVKExw1xJlSBJMgCJO0mhd135zKF3LGk+nyeOIXaqKikkFUfGZt5624WmLEYPPHj/YDB6/fWrXWqLIgc1wiqaAJZINVFlYZDlmxpjSFFVU0odUde1uWbOGJYUY0zcMTN5HAxHrTC3XdM0HSc0BMYxYVSxIoQGCVGXHgYAsMbbLMtnTcXA5x9/OAF8+GMfzcthNhxsnTvr1Ozu78zn9dD7vMyhAmhrGI7Aubf42ABgPfz574eXPw1/8tuPTCtP/yz8rl8J3/9v4YO/F37w/7s8uLoBWQ7f+qVw+dWb7vDB74APfDX87m+Ay68tj9QL+K7fA//0Z+HJ94P192b3XH5phLVNOCn3CliClXXI8hN+Ok6//8/Cb/x2+Gd/F/7zv4a6gvd8MXzTB+Hv/Af4LV8Bi9kdr1o/A3/0e+Af/y148enjh5fVVe5MunRKH7FyEkHVQ6iitRaN4YPEB7egR6GPEleApXFTTV+xCg7MPoi4LD65fNAyyxQeokJUgAW4Tk0UbSUOUYw1ZC2pKUcDBYkhMbMhNN6SggQZDIe9ZK+iaE1mfOa98x4JqraOrGU+dLkrB7mwGlPUVde1MbbL6FxrrVVCVVbsh+sSVqaqgikKIgpolJREBAWMERRRnDcNgzIzswoaQwhEgBgSGyAi7CE1iH1tMbFK6otsMp+Uw/Jdn/d5u5P911+/9PCFC5by02fO1IuGvG+6pgmzh20EAMhKWMwgxNu+1G20uglnL8AP/JVbDYs3rsJrz8MXfgX8w7+2lBmyDHa34frNSgURfNFXwKufhutXbr1zXcEnP/R2uB8AVGH/BpwYOCoA0723mMi/63+DD3wNfPOXwN615ZFP/DT8o++D/+F/g3/wX+G3f82RGnCcxuvwzz8CP/cT8L//6bfT5mNm0KVgfDAA4MB7eqcL+8zpeHCTQxFIjkT8/mfEgzwKgkCwRLBwr2eCUuaoI0QlpazM1Vk/yKSF8XicOFZQpSaKcoyQulDX9cbGRtIEDGrY2QwMINrI3JdXqut6Mp0jm8F4WJSjGCQlCSEwp8OIlH4dUADk5cBevilDb1kCAFElA9Z77z0Rssp0MQdjCFFUemgGqyYVSMkiGQWrrAAEyooMQutbGzGF02dOZWVmc3f6zJnH3/XutY1Nl2eXrl9TgCff/a7BaBRCGI9HAAD7O5ASrK6/9Ue78BConiBtpwAf+2k4fQ7KMQCA9dC08NGfuJWhyzGcOg8f+5m3yeh3op1rMF6Fx997wk9rG/DQk/Dai3e89oHH4Zd9PXzfnzvi/p5Sgr/xFwAQfs1vPuGq1Q34sdfgEx+CP/Jtt/+ox4BZx0kO6BYtmYicc30IVS//GGMO0eO3G4WIiNCCoSXsFntwASTthXIDBpKmLnWRQ9LUu7qipCQxSggQE7FYmTVzP8yGa6N8NFg/teUKF5mzLOu6rmmaGzduTCYTa5wKzKtakVjhwgMPjVZWJ7NFSAxkF3XTdHFRN6xw3/33C2BSrqoFoOSFHw5LJDAWR6OhMbS3N5nNZlmWgYg1cBStrtij4o1zQGS8GwyHeVGwchfbKNHnucuzoiyNtV2MgqAIe5NJ1VQxhcARDGRlDgaSsi+8PX/uzLPP71VVtba1vra6PlnMm6a5sbu7trq5fe3qzpXt++47+/73v7+p91b2L8E2wKVXYfsK/JrfAj/5H0742ETw5OfD3g24dhFCAyInSxRZBikup/8UYLYHk9sMJiKQ4pFh8Z2i+RR2rsG73w//5LafHn4CDMFLz97x2rP3ASFceuWEnxZzmOzAhUduBWWsbsCPvAo/9R/hD3zzO9B4ADmWDfIWVM9xBfdozCjd7g0WBCBKeDDAEJQggQKp9ohxFUFVUiFgAwzYhmDUIxgBrdpqvlh0wgAwm+wbY5qm6Wu4l8WgyMvBeFTX9U//1IdUdXV9velCxzIoiqppnLeT/VmR74tISho42RiF8PSZU9bavb1J6GKPr+59GP3w7tPzKKAxZMgQUQhBgRNDF5gliaYi8y4rjLFVG6oYgaWPscx9ZgjSoo0SHQGDBVK0hKJkiTRx4TMUXcxmqQtnNs+cPXV2f2dv5/qNPCvOnj13ZutU5tzezk41XwAAhBb+/T+F934xnDp/wvf5sq+DP/E/L+fsS68BEXztr7v1nNEq/MpvhWc/epMv6XaqZ/DsR+EbvxVGqyf8+ra9CqGFl56DMxfA3ja0zj0IO9dPlmGWpJDSMnnaLSQCMdzqd7oL7tc3dQXc8tcTgzKoEvbzOoMKQr+vhILQH+n/luU3lXqvVv/Xx4mwSJdSkBRA2AJbYBTMLHhUB2w1GU1OxYHm5IelKb3JrcldE1LTxcW8nuzPhoOV4WA0Hq1Y4/Ym04uXr165tn1jexfE5PloOq1392Z5vtK2evHiNgs5XzZtXFQdoFM0zuc+z633xbBcWV9bXV0dDMvReLCxuTYeDpSTsXSokS/NX2T6t2bVyNy7qhiEPBZFNhwOHRmQBCiiqWmqqp63oe1S16UQUuh3kqaoqY0teWNGRZFZD4Jt1XZtm2W59/louJI51zVt1zTCXM2qyY0DINe//6cgAt/5XWBvRnFtnoM/8b/AS8/AznUAgOke/PSPwFd8I6yfuem0934RDFfgx//9nfnsgH70X8JoBd7/5TcdHK/C2fvhsfe+HfQbAIjAD34fvOeL4OtuHpmnzsJ3/An4sX8F2wdOgHIIX/vr4at+NTzw6PLIay+DCHzlrzrhto88AecfhGc/etSqu5v77yABnSzT9ybxXjQ6HjjRB+jdDvM8wTPQDzlUBu6EW4ktJLEAzqJ34ixkBJmFzIBHyAx5i95QRqun1gcrY5vnxXDAoGQcC7RdjEm6Ngkjgk1BU2QCB+icL5986r33XXhImcj4lfGasZmq4QgINnbStXE+W1jrrPUiMp1O67oCkCzLsiwjoj76vAc195LeMnEJcwypF4S894PBYG1tbXV1nA8KcgZAnaPRcDgejbyxMbQhdGSgHBRFmTlvAFU0snKU0MbObq6t7+3tGNDT951bHY+fffbTin5rfZNDCk0Hibu6a6umqaq2bZe43dke/NavgH/4k/AD/wX+3/8dxAgpwpPvgz/6PfBPvh/+6v/rqL+/54/Ad/4Z+Gcfgr/8p+C5j4EK/Lpvh2/5XfAd3wRP34Ut/CM/Ad/56+H/+Pfw///78E//LhiCJ98Hf+x7IbTw/Cfe+vI70TM/B9/zR+CPfS98wVfCD/8gtBW870vgN38HvPgMfN93H532BV8O3/6HIMvhZ34U/up3Qwpw7Q347t8Hf/5vwWPvgn/+92FnG7wFBfimb4Mv+3r4V/8A/vUPLa+9/xH4F5+AT3wY/sZfhPd84U1Pb1vYvvqm68xbkBxE9x1K/3BMFT5RIiIAPrwcQAGiSIQ+HSoqkXqzjMqzBMCIxizBEACEYkANhsiBGa3vQkLjDHnQwAm6pgGisiwLb40xRTkcDAYb66d29vZWRhtEWVV1Z86cWV059cLLL6DaIh+r0v7+bDqZl+W4krau69yFpm41ibVWky4WixCi915YDaASEhFhX1M1xhh95gAULQ7Gw6L0orGLddPWKQqCWVtd895nhurajgaD8aCULg6LXLoQ2wYNGVVOqAB259q1QT5Ai8OyLLIiBlaK3uUXr1zeXNs8f/+Zcelee+nZS6+9/vjqsQwkixl88JfBn/ub8L1/D/IB1HPICvjrf/EENOj3fTfsXoM/+N3QtSAMMcDv+oabvLxtCz/yL+44Hp77OPzOr4fv/XvwVb8KiCAr4G9+D6xu3HT+R38KYoT2NrT2m9C//oewsg7f/ofgA1/dZ36Ej/0U/KXvOjJYEUHo4LmPw1OfD899AvJ8ibT76E/CH/1t8F1/Gf7HvwxEMBzD/i6UQ/j+74V/9DeX1+Yl/C//P9i/AQ8/Dt93m7di5zr80F+Hf/K3+n+dgZBOnu5PMI72J8oy1BUVIULszaRZv5SICsg+mP1eU7jNwiqovV7YsxT2VkJvhAiNQYKIiQwgGTTWGQiaRIBVd2b7iVWQSpfNq9pZL4CEZmN9c2d7O4kYcpIghRRjNZ/Vw9HGbFpdvnxNVTc3N+eLdjqZNXUYlKP1jc0UAqHLsnw0GteLCgBCCDGF3tUVmlBVlTE2H/q6agEASYnIkGFmYU0pIaJCQgcAYB2xUKzjoloYcXleZmS8M4MiyzMzHgyLPI91kznbxpA4RGUwhAYQFe9/4vMfefKxwIHy7MnP+/xX37gYlUbDdQKnIuujcebwIz/9459+7mP/61r7f0+3wtnh874UrIFyCJdeg9fuHA/w0BNw/qGln/g2TPxbo/l7VD3g8im3n/+ZxgO8ANu3GVt7NUMEyN5qierjATZPQzgpHsBaGK/B6fOQFyc8tG3g6sUTlP53lP6BXfm3uEJAKIgCgsqqgCIEgqAEagAMggHF5ZYMgoEutc5bmznjSAlbjiGmNqW9ycwX5XAwGq2svfLqRWtcF0SZT21sXr18WRFXVlZCYma2xqeUVtbWkeilF1/uuu6hRx+ZzWZXLl/bOn16dWV49tyZ2Wy6t7dX5vmDDz548Y03iGh3+4a11pEVkdiGGCOCsda1TUiRk6gh52yuql0Tu9AqokD0mVlZGw1GXiDM60Vo26EbguKgKMhaAijLoigKDl3sOm9wPp0uJvulz8ZlbsCQAQvKi8n0xmRn/czp0ntglpjGp8vhYFTN55lD4K5r5r8lO4n7AeCTP3NXH+TV598sXOYteXeyAz9xzOh0+/lvTx+YT+DpD79Zq/rbym122BTg5Wfh5TvYi1KCvRuwdxehBZ81+m/SdO7cT+EADusvoCj2yrEIATpDjsgaAYiSWAUFkTAIixIQgnUKIKytpC6poi3K8dr61mhlzb5+XQVJFY0zxgI6Q2TIgwRJyqqx053tfUXY2jjdhXDptctEdPbMOWvtzo097/Lp/q6IDNZGzmRdEweDwWR/trGxkQ1KickaVyJ2XbdY1ITLxISqCiDGWOdVwQsqiyJCjLGpFZANUO4Huc3qqp20M+toPB6NRqMs99NpGzgoUhO7JkXjDVvj+wKVZ05tts3i8hsXN1ZWF/uTZz760Zef+dQbLz2LaZFheOLRc4Mcp3vX35DPncJFv0R3Rdu9AVSjYjIW8sKjg47bBlr2yk6wIMlAc3QDHyHOmtkith1oAzJtQ5VETNmKXdQQOKtqWBmfGZSbEs3W5pnFvEpRMl8s5jWgsS4PUWbTqq2jpaLMxxIgtRrqGJqkDAYtCaY27l6/8carr1++eHVnew/YzvZrSebyxe3RaHMwWEfys3mzqNvx2ur61mbTdayqhMYYay2gphQUUpZ7g5pZV+b5qByujzc2VjeH2SqJne0vQCBFXszrpgtgMSuzta0NNyzq1FHpzbjcbduYuRtNhcPSutxnZZ7neQrh3/3bf1tX1QMPPXz/ubOltxvntvZ3rr/6yqdDV9934T64sd337J9utj4lFrzZne7f/8B9r73yck7w4Nkz2rbAwTrbpjCtF9lwMFlURbliAI1Q73BU1cAcRKZN7UaDrdOnqrbZWN+oqmqQZz73mtlydXTm7OmNrY1ydbSysTpaGYORRV0hqjHGO4tIElNd16FrPFDujUqq2zlItIZDtVhM9taKUb033X7j6vTKjTjtpIoebF4ObswnimjAAhAnCEm7hEkhEnQpCigRZAYsYUZgveskWedSTCGwdx6Juo4PgTWJY4zBeDcocwAIbReDDH2ee+cRMgSP5AFID+YPRYU+ieDSAUt3COk/yl9yDMZz4K2FPmmxAgizCoiozQwCnYfwu9L1/g4CqqpZ5hAxMtdtxQb8wBsDQUPbhjLDzOf9RMgoQSWJjDdWmxSbuuukSck1QWNCBTxz9gFj8+vbe23bptDlWanMk709UUyJnc1Dl+azOsbIEb33MfYxWZRSkshCiWOMMa6M18q8BEFhnc8qFTTkinzQdd18tlhfXz973/n9/f03Ll7xmT197nS93xijoEhEwsAShVVVjTFIgGBEpOuCqrRtl7rISa2hsiyRQFUvX768s595765cu7yysoJowJISUJ6VedYK2+HKeH8yGYxHSWQ2nw9Go1OnTqEx61ubW5vrP/7cc1e2r4O1K+trcLCkf6KFH++YSrPfwvp+O2H//nc99SLidOf6Yt74DKMgDtY6katV2nSoSUghMzZzLqnU3M1DMqP1L/7yL1t95OFnPvyhT0yneT6uZpP7t06vnTn1yLseLx97BMcDGJawtdoUvuoWbez6nHPOIABxiHVdh7bNCIrccgyT6Y3ULbwTDyJdkxdltzPVU5v8xo3F5d359Umcd0llRkatcehVMIl2BhKYADTtuqgoqEYVA1vkYeYL9DWAQdsyhwQZEQoFAWOsAqhqFEgABkyhVlUDm6ZNI9AhYGlNTjiwJgcgEbu0ySAjiGI6iEQxcPLaige1HXSZIWgJ1lEDiEv8kAoK9YGzChGcc8eT0rGIWkBjUDWkVHcN5XaQDdVi6FJbtdlw0FsSi6IQhKrpQtN0XdeErqoatC5zZZ+XSRSbpqkW9c7OTlVVuXfee45xb2+PjIsx9ajNrutUNYTQ43nSQSJNVVWBvkZYXpYAUBYDZp7P5zEuMTXGmB7ZURTF3t7ezs6O82Zr8zRLBCWiZTZYZlZZhtGRwd5a2rYtcwqxExGX+R49Wg6KKHE+n+/P9m3m5lU1Ho9TTKPRmBS7riuysu2SRWvF0Hs+//OzIn/f+99/5fo1Rbyxu/sE4vOvvPzpF17o2tbm2fbukdIWQWddVxYZZPneoqIiu/Do4xDqOrZWuO2ajTOnxxurH3/2mfWtUxxYVUFESJNIYhYAY+0jjz16+txZNGYwGDz33HPr6+unNzcee+yxr/6Grzv/0PnheDxZTKu2XiwWFC044iRgEBRjAuaYUhKyrigNAnhCIpMXnXTRcJHZ4XC4e/0qxFCsjMtHyrXh6u5we/uNazeuXy/HhSIBQ2pZVFDRWWOdn4fWUV+gTERYuJ91LHI6Dk/oJ2JrbUxpmbUXDYJJiQ+RCClKopQIFS2rMiASco8+0h6dsizK1HP6PREpyEHKZxGVA6NnSomIwBytJ8vGiMTURQ5oDVqKzGAoL3yWij7dZ0opCvdGVSLa3dlnwhiSARtCVOM4CZBNMQEAM89ms4bMaDwcluXa2lpimEwm+/v7hKYoyrIYOOuZOcsyPUxcieqcA1RmruvaGDMoh865EEJKyRgTQujN/E3TtF0zn8+LolDga9eueTSE1jlPRP14IjSHwTFIKtJDJKSPlRnkg7Zuuq4zlrIyK+2waqsQwvr6uiIu6vqR06cdmf39/dZ3WZbZ/Wpx9r77Hnns8ddff70QKBaDaV3lef70M8+88OKnX3r5paL0Xeiu7R15bd2oKGwpzho/UFQJ7QuXLj1w7uzo3H2X9yd7i4rWNy6/cWlvOh+u2hzJIFmniNqGJgqjc4Ph4PS50y+98iIjPvL4o1euX+EQv/iLvuSrvuar3v2+9/hBLgD5IGfUG9OdSTUzxvV5qsnYJMIASui9zawDSNYoS1ZapcKDdM6ht7hp7fz6dprUKUrwaMdFuTUy9SQlXvr7SZ0FIlQyYtQSCBk1JCJKrKoKFtAQWVUFPYAHi/SFcroQUkq9QwoA+ix/KGjIMWhkFjFgYIk8JOrT2R1GnfdZhw737p50iYYDFRDp01Qqq3LP6+bIGNCHkiWJVdeipfF4zKizdm7Jj1dWTVkYZ0JKTWy1wa7rRCTP82m1cEWJzjZd3N3d7Vg5gsvyc+fOZT5XgRijQMq6zK24lZWV6awqy5KTEprV1dWyGKQ+NzqDMABCL6t47/th0MUYQkCgoiiW8B7pJ5nlSOhTxA0GA2Nxsj+DJAoswrAMB2Ukg30mWTW6TNwFRGSN73OfeO8lcF3XSVM5LldWVmIK4/EQAObTKSIa44xxMaauCzaoUOav7e68dvlStWgeeeyxvf1JG+Mnn31mZ3e7aptOOgBwowEchDGtbG6utHj10kUwsPrA/Yjw8vZ1Nx6uDEYLNF2SnaadXt8eXrhQ7e1byhBBEQUhcAopFUVerAxtnnfTSVAZraw89e53Xzh//rd+y7edO39mGubb29uLxWxla31r64z3eXNj26v6ImeAkCRJHzzqwTi2BIKBg4CaYlBmlkOdUlNLVNX9rktdw11Tx9qVtjy1Omhmu5evGSVUIoueLAslAVaxhAGP0kciGiSDSCqggKp96gRUAV2mMJB+cbfWAlBKSUQNGe+tJmGByJKMJEQmNUelMEG0B3Uui0beMWnuiYSqIIeBUqKqgn0uuoNiW8esYYYSAiEk1DJ3g5VRnbp2sWcirjk3ysum60LXomAjzWKxiIEHo7GwElpBbpq2qbs2iTPZcGxubO/MpvP9/f1BOVwdjwG0qdu2bRPLysrKcDDmJFlWCGvbtqraNk2M0Vjs3be9zOKcQ2NijCmllFKW5SIiDHme54UHAO8doDZtVdf1cDjc2NhIbSusuhzqQnyU3qefcQiW6boIjTFYz+uiyIqimNXTyWzGyKvr68PVYeJYlvloNJpMF13TrK9t1FW1u7try5XxJ597dn1tY2d/XxUZoW7b6zs31tZW73/44UXbutygNaP18nAA+FHJ0gEkcOXG+Qv33X/+6tWrZx564Mrrb3zBr/gVn/z4x+6/cN8DDzywtr7yH3/4X+29/AoIoCUlElQmQGd87qfz6XBl5Ip8e2/n/H33/dpf9+ueeNdT29vXjDVZlnWdU1UFTl0A1aIoB6PRrK6qxSIJWJc54yJDG4NCqtu5CA8HWV5kLNw0VWqben+/rurcGTfMtc5QwWY2mw22zFmu2mbWxCaJMgL20dGIgorSp+WA3i1qRFBYRfq4WtSewwigl78ZEMmQU0KVoAJkrScXpWNOkbHjhIpklzl96WBiPpzNBe+cSK6X+eFguxwmSAYORAvEPo22IBIAEquGlI5VTiYBSAgm88b7hNCvWSnFeV3lVM6qRdt0Ps9T4v3JXCL7vIhBCiVDaMghMEhCSwjm9dcueu9F5IEHL2xubOzs3KiqKsY4HK8MB+O26VppjTGcYggBlJqmYWavS8BVSoaIhNX7LM+KGFOW5SvjtcViMW/mw+HQ2YwlHnJ23+PW2nI87roudJGTEpGxBKp9iaD+c6gqAfZfRxKEEBDVOeeci8xN0+RtOxgPqsVMVa3xdd10dbO2uhnCDNHaYjh89bnnznzd169urMfAP/exj8WYZtevP/GuJ++7//zLr7822hgLApsjTP8idp0KnDk9WFnbPHf20Xd/3qkHHz537ux/+dmP/qEPfvDqrHroqSf+8B/4fc988umf+cmfufbpF5FZwaj3aowhEINCFFFcZrfOnTXGvPfz3vfkk0/u7u5eu3ZttLGytrU2WlkRlJTSYrEIXcqsWx2ud0lUKhV11jtfStc1bS2kk6pTCeidHxZiUsPUtGllfYvIjK3Vpl7UNceEjmhYPHTu3OT67vbrV5pmPwa26AC8glVgEFAgRQJUBGJVVoisvaAJSip9GC4epipZgtSXSQeWQppoAIHEEJMYC06IQQmPwAgHNRjvvZA19hkul5UchRAF0IAoIRGkdBMQiEgQowhYGwmrrq26NoJqStPZrOE0nc+ZedXlqlzXTWy74XiV0HiXW+tCAlQn2HDStm3LctDL2YS2bcJkMrVI6+sbw/EqAOzvTaqq8a7wLjPk+pqL0JutBFli6IgMhhDI2rIsnZOyLFdWVtq2bds2y7L9/X1jDKBU1SKxbGyujUbDpmlclqWUAIMC9zld+pyfcJClXLX38GEPITdEi8XCeDsYD8be16FuY+i6LqV0Y3c3dxkAiEBd15PJpCxLe2OyD/MZqz717ncjmA9/+MNXrlwFor39/a2zpx5+4vGNMxvX93YfWivgxf+67FpHs64qx+Pf/O2/fVo3a2fPPrCxfvXGjTOPP7HdpS/46q/5uQ9/6NnXLk7baPIyG4xsVwMIGTNbzChzjz74QLk2mobmoYcuPPjIQ+9613ve+9S7L12+/NzTz546der8ww8M/XAeqqtXL2+d3lwbr16/sdPnrRsNRm3T7c8XfWYDALQ+n9dzUTQuF6T9aXP+/Kkbu7u+XKHMDNapq+YJsNhcr/f2u0U1PrflTf7E6dPW2t3JPjkDCm3bZZmxBGqI0M4X9drKWj1fqLoUpQ/Zcjbr60EQGeNcCOEgaINSYkU0ZBHRGtdrBWgMADCoADJAgj5j1HJ6AyVYIhw1Sl8vmXqUmx7kcFU4UpQPv7eKGEcKapCWpQUJ+zoJzrpFU6djtULQEJGNEplTimpQgkgQbtp23rWjyI8+/liWZZnPb2xv39jeI7SfeubiF3zhu2xegFLT8WLWIhhDIKIb61vXrl+p6/rGjRtpZSWlFGJaWVlxzm1vby8WCwCqqgqBiMham2V5SiklBkiiqW1bY8l7r6pt24r0GQ4lhuSsn03nIXZ5niNpjMF520/weZ7H2AGISGraBsRY64S1aZqyLFWhz+8fU+gNQURUOCMifQ7roiiKUWG8M8Y467ev36Dx2mg0mu4vrl/bHg3H16/vWJtn5770S+9/+CFmmc0me3t7Ps8Ho5Fz7ur166xqizwfDKbVkRLMAFtnz6xsbPqiWMnLSRf+83/80V/xDV//y77uG8Tapu1e/NjTs5av7k13J4suxEFROGPIaDEs109vPv7U4+PTm69du7a2tXn/ww+cOnf6Y5/8+KeffgYTtm174aH7n3/xxdcuvr6xuUZEdVttrK53dRvaFp0rsiJENdZ7YzEzJsvIkcmdqlhnJcUY0eWjzGqoq0G5cmN759rFi2tFMVhbWYRuvj9dNPN22Jbra4889cT02m49bQW7qqnKYdkGaQVUmQjR9gbmru2C97aXYXqmB8Qei3IIzFREYQXQIAlEUmJSMUQCIIoMKiC9IVNhWaHjUPAXkURgBZSwL6FDokpoAPtQRkEg7aO0QAAkJTJApMZYVBAlRLKKAqQALDcpwSElMRBV2y5y19Zt3YTgi3y0Ogakl196Jc9zQptCIjRdGzfWipXRept4sah6VxehQWtYdW93n9CWxTDL8tFwXJZlaFtjzNWrVxfzquuiiDRVJyIIy+T5R+A8IcRloaTe+DOdzjjpeNQ653o9qjft93WghbVt+vQSYTzIiEiUETUrvCEXYzLGHEaEEhFgn0WciIg1dSlaA9771Y11tNR2TdM0WZaNRiNjTNcGEVEgNHZzc926LHvP+z9/ZW3t4uuvxz6CJnE2HMYYbYwPPvQQlU7ms93d6ZFo6S0C1m37xqXLZx98xJWDizd2dqp29b77m0W1mpdw7kJA2yQNCYTZ+1JEqqaOqvlwYDIXOAxXRg8/9oggvPr665dffePq9etr5cobi8X4mefeuHRpZ3c7y/JPP/di09WPPvYIWuPAZD5XocSaAIUZBIzBMisFNMYogbuQ5vMG0ed5Np0syjLLRquDta3BIANODUHFcSXP5pxGRVGurU72ZhFrcoStFmUOhjWI99Z7H2PEJKGLMUbvPaJRTf0AEISu64hcP52nlACNMIgIYxQR5WRRE2EiSCisFEEdooAQABIBLGvBGkLAvkYaKCpQXzINgWCZhR/7/NegsEzWLsBE1jlHaFGUBXtQWuQ+ZvKYGRSh44TGBJGQYhOaRV2DwZXheOvM2Swrnn322UXVNU3jyHrv2yZsbp1CoLap9/ens2nFzEA2RW5DIDJ5nilI13UhhKLMY9dNJrOmDQDgnIsxNk0XY8x84X1mjReGvggsESEYa62zfmvr1Hw+X8ybwE0IAQA4KZJ0XSfKxiIieu+ttQq9F4GtW6rRRVGoYAjROhu6eJgUyFhyzhGRtWYxnxwmjhERidx1XReiVxyOVkAgdcEaFyOHLhXFwIaUmq67fuPG9vb2ww8+8uSTTz798U+GEGazmRlka5sbF7cvgzX5YHTYs+O1le7GYmd6PXvhBb+yvrWydvbCg/tNk5puNBqNx+Nf823fVkUphqtrW6f2nTfWh3rRhA4NVm39+uXXK073P/7YU+956uOfeva5pz99am1jMFoxaEMIz3/6pSjRu3wxr+qu2dzaAIFRPkBBZOlLJFkyfeUDRehUiJGDsCQVaOpgKVfyWTasm7S6eXY8Hm9fen1753rNqkWZ5QOnVC3aWpIb5DCdV9N51FS1tSoaZ601y8Bp5cSB0FCfSkn1MCSDmfvFFwD6vDVEtPR2EIkgK/Rjo0XwQr3ED6KAaI+lLZGDKg9CR6I9HM/5Y1B1GdLbu4NIkrFkrVHsI1+YBRIIi4Ih0qMIDVEVQE7SxhRjSgJkvfUmK8osH45Go7X1zcnufooqGoXR2wLETPbns6pum46T9jlnWWNKXBQeALs2dJ0uihoR27at61oUsyxzLjNkUxAV9D7LsizFY8IYIqFzzmVZZowpy3JtbS3P8z6/Z4qhrxOlAirovM3zPM9z0aQqZNDYHpxKPnMxpJRib5Lu06IYYxSkjxLu15N+CmtC11y/GmMkS3me92HKBk1Tt4b8dH+/qmprnVXCa9euVeViPp+PRqMnHn3s+aefHZZl3bbz+Xx/Op1Vi7Uzp0+XR/7Kja31QS2RMaW0s7cf8+unz1/IR2vX9nZjVXchPfHu99W7+wpmdX0T2piEgagoioSpaprJYpGNBw8+8pAri7ppdie7KDB05XhUsC8UiEymnF55+fVz585+4fu+8NLlN2aTGRGllKq24RCK8SgflCoQQbWpPFIAQLRZXoikrCgMmtW1U1evvJ7nI8X40huXF9O91XE5293PyPnhqFs0lGcPPPaoN37nxl5IYb57oxiOi3KERmLq2lAZBlXNssyQ7X2ZgCqynNWOYlAO7NC9EOO8YQRhTpqQRRGiMzmCAIiIITCGACAxq4IHCiquT3xwKPEvoc4HyX8O412MIYshtH3aZDqodNa7w0JMxqA3/lDXZlEgs2jqOnYA4PKsLEpyhoXmVb2om8FwdTpZ+KxIXQpdWltdi5Hns0UXWQWpL1RBtigsWd91XZOaELrhaFAUhTHGe7+6uro/mfXyei+NOOcQ+0RASxs/oB7aQJ1zOzs7PeN67w0ZYegZ12cWABSkXwSYmSUxs6rpXcv9HN8rGL0DoY94NMZ0oV1WWyL03gNo34bQxa7rjDP9GlUUhSWrAgZMNVs0oQ1douFw6ZNT1Z2dnel0muf5aDTK83w4HBZFcfrs2awopoujZGbGmMCpKHNVYOYQ+dx9F+Z1a7Jif9HszheBIS8Hs3nlrIcQqqpq2xaJVHU6nwxHg6/86q/+8q/6yqefefrilYtbp08BgAIMRiNmGQ5GeVYYsnu7kytXri4WixdeePGVF16B3mnZBWDOyOTWIQDEZBQskSPryOYu69oIamKUmEDBALomJgG7urlFvnzh9dcCaKcSEdRZPyg3T586d9/ZtY0NVvGZHQzLLHeAAqDWmaLMnfXC0Av9hKYvXAkAfbCSNQ7BqMIBxxhDDo0lYxQx9eWrmCNzEkkqSaSfzvvlO2lfV2f5F4X7v8BpGbtIeBjHKAhkUJQTh5hC4qjKQKSIrBJSUkIyRysAqwhAG0IXYmIh47N8YJxvQ9zbnUwnc2Oss35QjrzLWNBaHyPXdRtCYJYYY9O0IQRCW5YlAAiDtW44GJVliWhUoA/PN8Zhn0sFTJ/NoQdBLIN1lJZ2G11W/uyPp8htE5qm6fuTDqoeIaKIxpD6NYSZZ7Np4uAzByA+cyurI+9df59DD4Oq9gVF8zxXQga21g6Hw8FgAACLxUJE2qarFvVsNpvPFl2M/ZRk9/f3nXO72zvI/OlPf1oTb25uOueGw+GpU6estUM/vDqb0I0jKMSNGzs3Xns9W9+qAz70Lre6uprl+c6Va344YIWmDUkEjZkv6rX1zSc+8IHmxqU3Lr6eYybEUbr1zc1f/rVfY0eDF198cTKZnD93v8mxpIyIisEgsrZtyrPBhfvuf+nlF3/qv/7UpctvrG+scoh9tJIlQBSNXWzaRdO4vMitFwshRU0625/meQEEKbVlMQK0mR888tjjISwuvv5qp+AGw1nTlVkmSV5/440B+QsPPoB4ab6oRuNhUeZu3ygqkjpvCXzbcAxBYSmJMqcosZ/ziIiMFY6cWAUNLUuN9JYcaxyAiqbInFKy1jEzUu9TWw4AYyhpUlXSZcYa6Iu6HZRjQ0BWZmFEREABcs6hckoJDJKhviX9+IRb6n8psggaC5z62AYiYl3W2V0tyslkzooiaq3LM1zMG2VqUqPGCvdeGGVIoN0yA6G1LJGZu67rWVOVvM+996AYY1y6O4hASTUdyj+9uTKlFIP1Ljdk+sw9KthL+f0NyYCxZOxBYfalnY0Xi2YwKPI8V1bvXZGXnCZ9Vy/NccZlPu+xQIrWGEOOrLVAS1Mpq7YhTiYTZa2qSoL2JiYgopeffqba27/yyqv1tNq+fOXGlWsPXLjgvc+zApRee+WVq5euNrN5nh2FkO/d2IOr21C39f6uM2S8vXL96sp4iKouy/bnMyZzfX+iqg/f/8A3f/M3P/HUU2iMILi8NPlgdW390QuPv/LCK5ktttZPWXCDfCiMO7vT02fOhS7u7e2FEB574sncZZcvXbFoJch0d1bPKwkRVY0osgBHkpR5GhT5cJBl3hrltq4lJmUx1hWDUR1SVNzYOstCddU99NATDGZ3Xrly7IYrL1+9dn02MYNy0ixsmTlnFFLkLsWGuUnSBGmTtHWouhR6IF4SSVFEBFDIgLGoRphT4BAlJZU2hGWWe0NqrCIlgTZKUkiKUSgBMmBS6P8AjKBBtAAG0SE6AIvoJKEk7AEF/V8vZmQ+t8YjEAuwYlKJKbUhHMQHH0nejNpx9N5nWe6cQ6QkygyqBGRZ8bU3Lk4ms9likUTyPJ9Vc5e7yIyIzvuyLIuicMbEGBeLhUXq8z7UdV0tagDIyzIvSzyQcBBIRIVRmQ5bsRy2ACLaF1lvmqYH/IiIsei86QFt/VzurLfGG0Bm4Y4lsiHLAQxg5hwoE9GgKIjIOiMifR31XrzJfE5kYgrWUp7niFjNFvt7066JmckgadvEGJjEEFFRDEajUZZl9uu+6ANPP/30Y2fOPf+RjxWnzzzy8KNnts5l+bATZoVHHnh0v1lceuWFJ47Fv1eTZvXMhcmnnjv/lV9O0i6avb3IWbF25vz9L1+9qt7NlLf3tj/0H/7dE+Pye/74d5IsfuLDP+nLYnr96pf/2l/9e3/vH3z+5Vee/eTzsY1nVs9evbx97uHz87AYDIfPffqV8ero9OlTZVF86Gd+9r7zF86cPb197epDDz4w25+LyNrWapSU2gaB29mEMhNTXYyGN3b3RsPxrGo11murw6c//dx9998XBWyeOcpeevZTzSK88crlz3/PuyUyuhW/shFgPjx3Xxe6V3e2zzz8ICWGxM8/+/z61tre7n5ZknMgmsajEcyordq6W5joEMAYo8qAiiSUqRNcNKFqWlDrnM+cJ2t706EA97WbpUtR0Fmbk61DX5SNRLWpO2ccMgkYa61Fc5jlECERWlARZkhgvTFggHU2qza31rWL+/NFVnpR6mJy1oMIMvj8CFiRlMHZUDeSUjkcbW5soTH700nTdcB48eLVNoRE5L2vuqaGZrBSMqYkIiF4lznnVDA0HYhkzhmgtmlV2GUupdR1HYAkjjGFLrSSiCPETkLoCG2WO2PIWmSJKaVe/eUI08lciI0ja4zPnIiQwSJ3PWzPoM+cc85JTKI4KIvhuBgNaW00HA6HZTGoqjpE4RCLLMudjxA5JY6Rja+rNqW0sraSl3ZRTZtqEUNqmi52UJa2dENDNjOZ9x5z7f1iPf7PQtNVO/sxK0enTq2vrLd1/alPfnJeN+/+/M976MlHTVng3vb5rbPNxecOe7ZpuvXB2iQvkPn0qc2rbd20yZliurPrjR2vrE6bxXQ+7+rFy9df/8Ef+gdf+5Vf+ht+02/8x//sn51711Pf/C0fPLN5/t/9yI/ube+Vg3FqeWt9q110eVZ2XcrzMqXUNLWKnD17tp5NXnrx5czbG9u7+5PdU6c3HoVHH3vq0UU1NYAptMPhStCoEmKoU3K5NZm3DmFlPGRQUIEkorKyts5dePihx8bjzbOnT3/0Ix/5xDMvPHjmzLu/8AtvXLx44/XXBiurq3l++fXXyZFoHI7zyX6YzudNAMBJSuQpL4tR7vKuC9Vi3oVmtDIwlgAlQUSSPM+IXF85lFU5BOqx/mQUIAo6JREKqKwIoixwUFYSSBVwWeUCWVWVAAwY6E1PSgyJmGMEZUDERd02XdfnPGu6LqQ0HhSaNGl3HFehpAYNEaXIIhJjbKumqjsiSkmU0PrMAEbm2LbWGacWRMgaQhIEi2iN85ZDSqjQJyAUhhhS27aAir35RXt8BQlTrwuxSuiSzwxQD2LrDWp9Nn9RZgEGQWO4l5cMISKmxM45bzwBocEMDSeo57VBG2NYzBYcOfWaSdAUOmMJ0afEABBCCCEQGme99xSnYbGonHVra2sgJsbUzJutzdMGDckyqjiGxJIAwF65cnV3d1dhkg/K+XxeIly9dLlVns1ma2tre9UCAM6dOSNvHA0A570vcojcNt3m2ubevLIYMpPv7+4PT50aZj5V9ca4fOqxR659fPfHfuQ/XTi9muf52trat33rB3/Zl3zJa1dee+WVV4hoPF6JScej0ZU3rq6tbsymi8xZZrbW1nWtqtPdyXhl+OCDD1y9emVnZ6ftmtPnzpwZnr2YusChLy2YgBFAU5IQ82KYWSfM48HQWLdfzfb2dsZlMS6He4CnTp0NSVjxkUefuPjKS8VgsLF1qtrb93kZVeZNnUQ2T21eungRAPJBsba+Ylw5ncWqjrFmVQ0h9Fla8zw/REP0R4pykGWlCkpfHj2EpOr7nDagzCxiBLG3HPWpK/sPoL2MzCoiEZgOkh96Y4EMAPS6JKuiqrIYA1VbhZSMzxk4hE5VnbdJYx9lc/iZUAEQrHHMNSilKLs7e20Kw+EwhG6+qJw3WZ6zJGLJssx7W1cNkUfA3pUFAsYYo71ZZgkLZ5a2bUXZOGcsOpupBBA0zhkkS8LMxwFOx5O1GGOkNwwJcA+sIOyXPUL0LnfOLSsDGBNjbGaVqEHkRtuu64pykFKqqhYAnHNqAIgVgFNiZuONzxwA53k+HHJfPUAZrLW+yHrLcq+dxxQPt/bjH/+4xOjL3Fm/qKu1rc22SwQ4n06vXLr0yuWLQdNocy23Rxirs2dPT3Hg1lbXVjdCm7ZWNudhf31lczK/lJNHMtVs7/FzZx7+kvf/zPVX33j20g/+4A9a79773vd+0zd902g0+tH/+uOINF5Zz8syzuqu6yazmXFZG7u8yCzhbFZ3bZtSyr1fGa8t5tX+/sQaf+XKlZ2dnQqqPCu7KgyH4yIvU6wyQ5lBAh0WPrcudp0zJjKrwGQyWxmNdvYmL7/86jDzufcXL19bXxlvnT57emMdCNvExWgY2+bKpYsjn525cN8rr7+2Mhw99dRT4/G4btLVy5O9/cWU500dIjMKZFlmXbGoZ8ysCn0GstFoVOSDlDTFqKophF6NM8YAp6W/bOkFIwVl5sQpiRTGqMY+zIkUEdGoMaQhtFG9M4Y1EqoYQAOIxJKUgDILBEkSGiCyKSVAFWEwxzOdC4BY4xXImkwVFouFqOpg2DTNbLJYXR8PBoMiywxCWZYhtFe6a3WdvMt6t2qUlFJSRedc03QAYK0D0F61F0URsrnt0SKGnM8yZyTGKMpkdBkIg9IPc2MoM4SYKfaFBpIwiCRaziPSj7p+Ou99vTHGuu6KwsUYEXEwHKlqF1pnPQCRQRQQVsRl1iAAKIpCQQjsYlHXVSMMw+GoLMvQhR6CKiJ91t7eGmu5jaceeODBBx4aj8evvvZ6URTT+TY4mxf+pRdefP6VFwPq1rlTj3fdYceubqxtutVHHn9ydWPz0888f+F9X0yRLDoSYxUxJpO6kcFEXM32mqbeu3LxkXc99RVf9mVbW6dGfty1YVCO+ugHRFxU7XhtFY0Zr65mWYaQ9vcnuc9WV9ZOb2xsb1//6Ec+snVqYzgqX3/tjQsPXnjmU889+tjDhuyprdMus/NmhiyDLHfOZcYWuQNhVIkhlXnunNs8depDz7/w6ZdeGefFhbOnNzfzp5953irfd/a8SCSfb5w5m6rZzrWrkdAOsnMP3Hfh/Pn7LlyY7O69cfnilUv7oVUJ4JwzznASFU7MxpjeBo+Ixizrl6hIj/VdhkEdIHmIqDf2WWOJUFUZtDeSKgGzpBSFAXtTOlkCRFViAhQF6U2JCY012sXQv2sbU9e2xjiDtGiqoc9AGY8VtQBRkaRgjHHWONDeHQs9KpMIvLW598PhsMyz0WhUVdX+/mwy2XHW94bFEELXdWS9tVYVjUFjDSL0pWJERJPUFXdtkITeGu8MyHKiJIOcVIH76V80GfTOODLIygIiUXqEhwoCUuxtOKoxxrpe9PZ+64gIkIiMAURmDiHUbWstE1oiCjEhoiFrLCZNddtunhp3oe1v5ZwDSwBQVRUo9UNLVa0j55w1DgzYX/2bvnlldXVtdVVUm7bbm0xSSqe2NnPnd3a268V8Ws9Zw2PZUcdyiq2GvCwvXbw8e317cOqhMh/uXN3rqhDqbjAwa1k22776+tMfvXzxla6tivH4K7/yK7/ma74GABpuymK4Mk5N6EKXinIkmE6vri2qxpBddM3Q+c3NzdXxSlVVKSUiw0lGwxWfGQQzncyfe/b58+fPE9oiL7vUaWCIaXUwBLKYuHQ+t65uQlkUs6paLBaq6Hy+trG5e+Xq9evbX/zFX9yxjFdX92dzaarVzY31Qb5z5cpwY6OdTvfn862zZ4z3L7z88vb16/NpO5lNJRoLWeG9IaPS16QT55yIAKq11lnHMVZN7CK3bRtj7L0EvQ3OEFprY0jmIIRAhQ8cvaQIQohEoCyCABBBLJAzRi0KAS9TmSChKkjQhEqONEqqu6bI0TnXNY0xJQDgMSgEgpCCEBZ5icaoQJZlZNEiOUPDIkfUpmlEpK1tb1Ls3UmHoQ59xJYz7jBGwpAjA6pGNCUVSSKqKbIwErDBJRQDSftwSAVBRIBeLmJjKCXtE/keAhb6ybvXUqK1PZf3ZkqfmyxziNq7F6qq6jHYMUZrHZLrU0mDhaWts2u2t7fJYO+pWMyrrk0ITMh4UF1KVYVBzDL2w3777/id0/n88sWLn3r22UVde+9Pnz59+syZpqlK5x++/4FXL702zvLcH9nX9vZ2rkid2+LSaxc37n90tr27+dD6tIsceba7l9NoxeJLT3/i4z/xY7FdIOJjTzz+9V//9Y889th0Xr3xxiURNcb0/hHnHFmfZfm8budVVS1mfn1jc3Mzc/nu7v6Nend9Y/UDH/hA4lgO8gceeFD/T7b+s1mybD0PxN7lt02fefwp79pU+76WuPAkQQCcGYJEUObXSBH6DROSQorQaIZmoAkFIZoLECCA6xp923dVd5c7VaeOTZ+57fL6sE9VN6XZUVFRHypOnFy511rv+7yPcfD88PjZs8PNnS1rAHvMMGGAw6QtlZJlRTwElDqpKGdlVXAmZK129vbB+08rdf9v/vZxb/jO22/ffeV2Np9Ja4b9DZ2vLAIWBGVZjOeznc2NWbY8OjysizIUqQhDhxGyF/xEhBBljFBe17mUCmEQQcQYk0rXpdLaNjCiEKKp9p1zTZVLCHEIlDHIe+csRghTwjG23gNBlDAKzLuLCZn1FmFEAQyC5lTHGHlKMCXUi9oop6nDWHmHjQ6DOIhDHjBV4+/KDSgmnPAgSHiACcV1XVNKEQGlpXVaBAwjL1VdVoVSKpgFGJHVKqcUNyzA5uRuQKlGiNj8oyGEgG94S45iSjAg/8K73HuEEaG0rEvnNWGIcw4Oa2Wdt940jFfUKHqadALwCAFuNMFK1QAOY9z4ZFHPCWFKV4RQ72G5XiulGkqpcT5guJnJame0Nc0QbbFYtNppGETGuAu0iiPBQ6MteEQJA+QRQk315b2nl6/dmk4nh89PHj9+vF6vr169iinFBGVFsbW73e13jK7DVpLKb8lw2WpZEti+vBOG4TtvvCmVNpUaDEaFknmWpcKFVD34/JP5x5+IrZ6n+NadO3fffNMYo4zJs4Ixtl7n2jjEeFmrIIgqqa33tVbGOe/9fD73FuI4VkVZFnWr1Xny5FG73R70h6tiNR5Pnjx61h8OrfFxklRVHhARiWBlXF6vsXPEg6rrRZHjgL96506SJIwQVVabWzv3w2i5ziygdrffTpN2wKwsPv3giUNAwkDE0dnp0R5nYSvtDQbn9nw8mTolkOMBo0KEDDOnrbcGkNNa13VFGImjhBACzmitrfWcUsIYb+zLjTLGOIQQQZhScM5aY4xB3lFKKWeMU2ktQZhQRghB7mK444yxzilviMUeWYcQIwRxghlhxOWLyhrNRIgIkdYCwWmYMsIbBuvLr4kQxDiJWy0LtKrLolKIOOdMrZSWddpKMCMNmt5g8w1FLOSBc04piRBGGCil6AVO7523ziDbWMpdvO0IE4y9tw3+Y703GBDyyFqDqKOUBQFvGnijrffYX7jXgfNNppO3FjcXqXVa6wvKbXOLGmOs91JKIRAASCkRQkmSWPBVWQdB4AB8jZRS1hlCOedU8La1dj5fyloRzOKYOuuzLCOYkheUUbiAIcB5i8/Op3Haunr9Rqc7uHPnTlmWX3z+6fHz5xj5H77/7u/99m9fv3K5Xq03ev2XK9uOo53drSgOdFX89P/yf7555fJ6NhGcioCncYiszmfT8+eHMOx6cK1u+0/+5Z8Co+uqXKyWv/zgg6+/egAelWWlpOn1emVZNntaRMGbb745nU5fufNaVdZbm9vbWztG21/98oPFYtXr9vOsXM7XGNEoivOsGiSjbJ2lUbKeLRbTWRqE1/Yv/cZbP5qcn/ba6eVLl7yxZZ4lURiGYa/ff+e993/4j/9ga3t3d3//k88+k0YbQFxEN++8mpXVIitYFPY3RpU2rVan1esPhhsijMM47nQ6hJCyLBvAR2vdXMRpmrbbbQBoGKNJFFFKOecU44YqwzlvWgUAwBg34/cwjlvdzmhrc2tnp9vvB0HAg8BjVNRVVhbS6EZSbJzLioIJXtU14xwRbL0z3hdS8ih2iCyz3BPMBK+VKmq5zNaE0u+2AB5DEIci5rPV9Nnx00qV2zsb129eHY66lHkpi6pcE+Q5JUEQeO+X66KhYTb9zEvFM0LIGveC13AhjL6QLgD2HhrTnmaga6z2YAHb4UYvigIR8FoVhMLO3tZw1O/2W91uB5BvtdMkiaMoXK0XgDwXlDLcQGqAvAh4EArvfVmWWZZ5hHkQrPM8DEOllDTaGFPL6mxyPl/MvLc85GESAoHlcnl0dDSdTqWUlNIgCBr6XdNRXBCmMcYXwBNGQChgUisTRMn27t7p8dHZ2VmWZdPpZGd74+uv7s2mY2Ts9f1LN/dGL1d2b2Pj0g9//K/+x3/b77TOj86z6fnk6LSzv5u2osl4qYwuxuf65JSFQTcJf/ybv90d9CulADChfLix5TDLsmJv99K6LMuiWiwWRSXXeb4u8uVsfvvSpZ///Oebo83nz58vJ9O6ro0xd+/e/Yu/+M+EoFbaSaLWcrHerJUHlERtgrQWCQYA4/OyGM+fmrru9Lu5lEkUdYaDsiwnk2m+WmfL5ZUrVzjnjLHNra3eYDA/P00F8wgt87zV7bQDUZdlVVfLdQ4IESa0teVqhVocY2qdllojhpujKIqiMAoop0ZbJbU2WkvrjdVINy/ES2YLXIS/oRcHMyGMIUKMMXlVGmMIpghhIQQNSEP5stbWRakUppxjyjGlgLF1yGkDQK21UhltnHPgG2d/6wNMtDbSfmtip8GdTk66AA7JMGaArNSFx9KBohyMMRQTQgFjEkYBptRDAQQjSgg0Xar3Fxi+98h+Z2M1jixNnp3DGHuHPHIIO3DeN3mkgGfzMQ/I1mgnTqJAhIJHZSEx4ePzqTKxtco6I0J+5eplAmg2mwkhAPyFuhfjC2onQlEUR7EYDodxHGuty7qWUmqtpb7ghFpnnDLONbeN6LRjrfVF8oQxstZNnlJDmrh4718QDQkhVAShUhIhdPv2bWf0Yj4xVj///LMZI3/9F3/JOR9uDMIwPCffrqytqnw5ffrZR3ff+f55zB9+/vGXB4fp1b3t27cBO4xclWVwNsFXt3qjzd/7R/846rRra7xDy2xdK4UAy1prrb1xyCHOg8ZFI/KuWK7SpHVyfHrr+u3j42PvwVq3tbm9Xq+V1Jcu7xNOhAgPnjyNkqTbG0QR3+ilYZDIqjDK6Vo9ffw0aMfdtHX27IAHghF0Ojmvy7pBCV+5fSvttP/uv/xNp53ubo/yMu+1R6HodYcD5myAESZsPDvJcN5rpQiw1KaobMBrBqKuay0NiqEp6NM0DUJBCK6x0qpyWjtjm3BmSinDxANyTYi1cwgh78FYizB2CDxC2lptTJZllBKkLcbgvbcIY9ToLj1gCsQ0GBOixGPQznrrKWLS2ko5bT0CAgZJZy04gxR2Xjr7UhNsvcmqjMuUR4KKoKwyqVYIizBEw2Hr5HiJsCMMEURFGHpEOF9aAxQRD946sNYBeOec87YhAjadtb8II2vGDBghhDD2GBByF2M8sB65pBUiYkVEwpgzSqxRWktBqQcz2uoZpcuyLMuq1+84bbKcOm/A46aEwxdp2AgwoZRGURQlCSIkyzLOuTEGM9wKE0op5by5ga21ggdxEg473eVyWRSVd2C0llIa7QQPjGm63iZT58IDBiFEeRAY57S2+5cvR3HY77XPz46L9WIxnz768lyk6Xw6Xq/X3cvfevyfPH36wekUAkqcJtQfPPwCpJlMT9JyI4pFl4UmDIAxWdZbu3s3X38NCCEUg8cn5+dPnz6jWHAulosVYQIAQhGs86zdbm9tbWWr1cOHDy9dumSMCcOQY1zX9TvvvPPTn/50a3M7idNlthpubEym5Xy++Pqrb/b2tgZpwmmYq4yAFTzAgIf9EfawmM2725snR0fLPB8Oh9Z6DqjVTh8+evjJpx/funHtZGNgpWxqknff/97pwcFyMpbK5EVlie61e1xAEqcyW2VFQZzyBkAr7FErjdvtthCcUkopwZiAJxhkjRTRrpKyAbAb7E9rjZFvGsQG8WjIkgDgwVrvvdbGGICGLKkwxuAvKMRaWdvkp3sM3jvrrLU8DJ0zxkjrMKXUIaScB++8dYGgQNDLNtgTHKSBdBUlCGNnyspqLSJI0jhpBeeTJeXAOaZchEFMWeg8qovKKveS6X0R1NSIFMiLKGFA/iJU74VpHfaYINR8JuQBWUzIxuZwvjxfree1LDgTCGhdGiCIcggjXiMbkyAvMkxAK40JklKBRxhRa8lLZigmuKoqLshyubTW5nkOACIKO2GYJAnnHFNqra2qqq7rZnlFFJKswEhhSh1DAEWzowhBL5+GbdKUptR6lKZptloKEYVCCIJaaZRnqw9+9Yvl8ZpTuphP5TrPe9HLDbCezp5kz3f397LVxFbrQSuMWm1l8sVqPOoPI04H3R7eveSy2e3XXu8OB7PVKglCjGlZq3WWtVPW7faqWhPGy6IqinK1WgVRxBgLhXh8fPzWa3fH4zHGmHjsHer1BkEQrdd5Xdd5Vbz6+utKy8V8mWVFEsfmMgqF0NJR5Hut1mAwTKLo+PwcO9drpaePH/EwaKXxcrHqdFur9YJQ9Lu/99vXrlx+/uzg2eMHTx8/iBjtxuGNvb3F+Nx7H8ZpzHiatryx+/uXdXlwerwkTvc7A1sbpZS1QRLFAM4Y0xDQOQ0DptekKIvavsxyNMZ5471HlFDOCQLGmAgYpVRp6cBzzlOM18sl9oAQwdh7wM1YBwE422gDLqxZnPPaWaNdFFFvibUEMHWYNEJLhz3BzmHsEX65AXjMQ6BlXSjrCQYegkijXr/VShIA6A0oIMYFoZxyzjAhCF8k6n33efmiAAAA9g4ush8v7OpezjowwoAwAHKYEsIAEccDKgJKCFivMfggFN1+yyOTF6v5bBaGIQ8QIFuU6yxfEsK8AwxAiAZgjTgUYyiq3GOQWlNK1+u1c44iFIZh2m4zxigj1lrKKWGkqiql1HK5zLJM1ioQUdOJIbCUUkq/pVsDNGIz7ZyjdV3TJAnjRNXFeDy21nLOr1651G1F/8uf/Vk2m4ZJsn/5CvbfiYXUClmTLRfWoyRhN65uPy7rDGrpSgfaOkiS5NrV6+fn4q13vmcAaiOJ4UZWeVkyEbBAYESNqYXAy/VaMNZKUkbIYjYbn53t7+8bY9brda/X67Y7dV0/Pzwy2oqAE4Kc83men56cHR4/x4R02u27r9xhOLDWNbqtTtrStVrMZsN+bzjsd6fnPI5UXWar5c7W1tnZbHx2duvWTamqX/zy5wKj4c1rG73+5Z2tFufWAeNBu9XhgDgThMLGaHN2ujw5WhJCer2ekWY9W2qt67qmFDw0AwHOObcGmlu1mQ805z0CRCkVgodhGHDmnOOCeu+tMwghzjkWQkvpjW/6S+uR1tp7gzEWQhDsG72Btc5ao511zlsDxoCzyCOMgVpvMWCEsQioNbX7js1WmCbMVmkUU4YEY6Oo2+u02u02xdhoN53181whDOCs0rIu5XK5VNIwT9wFmd+9HOQBvMxfBe8uqNkNhmOMIQQj5BFu/gClmHHCGNncHG1sDZRSk/N5nlXOyryIimqVFZkHY51Spj6fnBipuWDOesAXO+rbASIi4HHjJ5emaQPL1nVdFEUQRc456y4GxhcaA6vX63VZlkpq714MKGlzpZCXN/DLJt45R6Uy2ekpp3i9zu/fv7+3PQqE4Jy/8frrz58e/PxnP1N1LRhbTs+hfbGyNy5fft2jw6NnVVUPe73p+dHz2cJHfCd8tapzxeMkCLa3dzvd9vWbt5frDAjxAIdHRyfnZ5hSgmlelsvZPIoia23abrOAY0ryfI08DHq99WIVx2mvN+BAVst1O2khhNI07XRaVPD1er1arYqiiOI4y7LpZGbSREsXDiKrLCEsq9atVqu1McAA/V5Pgp3P55hAkkZ8Qbe3t8JIPDs4qKvq+u1bvV4vjuMXilLa6XSwcTLLjXYIY0HFYGPUPjojjoVhqJFWQYDAZVkWRRyQpxgZqayGoqjrsmrkMs339PK8aUJvWSC01g7AWNtQEZVS4L2gwlhtvAMEYJyVF9gLRgS9uKkbebhDHiMqpamlVtoShK32HgBhEIwgQr0ljHN4cVKxMGwHAaeuKNfI+zDirU4ShNQbDwilaVKUM6lKhIwr1Sqv5ospQdxjAdabl7APvDg1Gz86wHAh0rxwOTJGI0QbmVvzkSkjjJNWO2UCccHKqlBaKi3zdSm11kZ65Lv9VlmW1qmsqHutXpqK9bJwDghgQghGuPGlJKSZqDitFUIIUUIRrfO8qqqqLgF5Y3Fd11Vde+8JxTGNOWHe+LXNpJQIae+gsS1DjdWNcQihZox9wQZFCD09PBwNeusiOzo9vnx5OwrD41NzdH76e//w9/Ii++wXvzw6ft5z1csN8Ob779P+4Gc//5tf/+LniU8++OXPIE1h2G9FQZFJQ0MkRNBKB1uDtN15fv58MOoLFs7mi+Oz80gkBnAtpfUQiNDZhayqoqowozwQV69eff7oaTdtjUajOI4ffPX133/4wdtvv33N6nv37rV77VanEwTh/uWrO/uXozjY3tqdjhdWKu9sEERldSFbu7S7h5JgsppzjOpKybwYbW712p11O1/neVVVjLH3v/e92zeunzw7PMnOEcCVzQ0eRq1evy5ksci0swhhD9Dr91udjqqU89payQQiHq+qijnAGCtnsVbWqCzL60o562upAaCR/2FEEPIvYZNmbxijZK0aKNoozTC1yjoElFJEKOcXNJWsLAjF2ihtJMHOWE0owoTWWkmtlTXMYsDgvEUYOYyl80A9CTnkF18TITDaGOb5XK1kkWXaKGttwDn1CHmKgVvpjVWAkLGmyPKy1FFArHdeg3PeWbgIzwCMEXa+sbb2qPHtRRemn86CIx6/cDhqjm2CGXi0Wq6Xy+VqtXLORVHsHXhnhRANga+u6zSOAya67W5ZVoxTaxyBBqxE4DFGiFDEPDNOKmWcA/CYMU6JIoQ0/isIIa11XZeE0iiKoyhJw1RQYY1bLtbGaAQYfEP9oE0o+Eug6WK7npweR3GgnCplOdweoYCN14ug27q8uzM+Pb5653qUBo8ePIRV8fJuvfzOG51bt+9+7/WfvXVbO/t/+x//NUyyjY1RT8TT57O5wZ7i59nqn7z/D6TWW/3N1TLvDIcYBw54f3sPLJpPZqvlmhweXb96tSxLWZu6qvu9wTf3v24H4Xg8du7MGHPv3r0f/+THj58++eDvf7l36dJ4PpdSjjY3qRBBEHz44Yeff/rFu6/f/d67bzGBAZHJbCYScXXrauWqw6Pns2Ld3Rj1Op0rO/vT5fqr+w8uX72alwfW+xs374BzUcB//rNfdtNkw2EcpSiIH9/7ph1HotPSBGunkygKmej0Ok8fPz4+q1IRGFVqrYNEDLd6WVFZ69dVUVcKe0wYFEUZJx1lLAA4BM47q3QDpJRlSSi2SteyJIQkcYoxlkjWlXIAAROMMWd9GEQAsM5WgtEgYggMRma1WoYRR56EYThdFgo5RMG4WkuHkCWEamS73Z5URvrq5dfU6bdWafzJp7/McxkJdrm7cfXy9YAGxSLPVqXKpKnoZLYATDgPvEPtVDiDwGMMRMvKGi9EYwbqhaDgL5DQxtTLO39hyQjYazDGYoICxikjyEGdq9PDCRM4CEQatheLxcn4SIhgMBggzGnawxhHPK7ySoLSUsZB6I3XyHjvCUUYI+essdoqVOsqCIJON3QetVudqqoY5RQLXeu1UnmeEYo3NwbamTJfO6tjLtI0DoL9LLtXVTpNWtm6EDxozvqXAKj3F4pNWhspAm6QdQSA0+0r+9MJ+/rrMW9Fqe5eunbVeaO1TA8UwEWuW7gx0hv9oCMGe9uz9erG228oGm5futzioh3HnBLAyDOEMBSrZSdtR0ycL6ZFXm/vXZLGnh+Pe93+99/9weNvHjz46pvd3V3n3HKx5iK6dfPOwTdfffLRR//kj/7o/v37m5ubgPG9r++1u92Nrc1+vz+bzY5OjhFCy+Xy8Oi4HSe9bv/g2eGXX3xCBTs6OfjRT74/m80GW8O9nR04Q+vFKs+KtNOzteq2ewSIrDXhhDH+8OHDnc2tu2+8ravCYfLpp196wsI0kUpG3U4aRsvpzIC3xhLO0jQOKEkoU8Q5y7gQZ5NzykWStpGnHuWmkoBABLwR/mIAZJEH5xtSrgPAF2otBKRpkb33daXyssKIEEyhGa5ajzHmgmV5AVKFmgiBOU/CmEtZS1Ubj5sEXwDA4AhDUSLSVsxDxqJYzs5fbgDOWVEUG8PtUKzBgq799CzDrqiyWlW6zj1FcRx4abSqvXbaOgAHRmsMCDymFAseeIdsI+dBGL7junWxFwCwx415u/f+YtDrAAzyDoOlGDGEKSMBJRwhZLQNOBUk4JwbYrwGqy+ujl6vp7Uu8rKhbERR1PgrxnFc1/VqlYVhOBqNWi1Baemc8Q7iJHLOrrPV8fExwo5SGsdxc68SwtI0lbX24BhjjFPvfCNNbiIWmn977ylLo3av0+mm8SR5ePT4bDENk2jvypX2cKCM6m5uSK2DKJGzCdQXG2BelYdnZ9Srwnvear31ve85nmrWqss8ZpRT3GZsfzC4vr2dCKaV6nR787wsisJZ2+sN6qyWZRUI0e/3J6eny+VyuVpSSmezmZby2dPnUdK6fPmqUqbxXXr48PGf/MmfdLtdQkgr7Tx58mQ+n2utb167ub+3c/DsWZ6tvvnm662f/TwrFq+8fmdVrPa2LleoYowLC0Vdy7rOsqw3GMlatdL2bDk/PZvcv39fULazt3vy/FlVV5Pp5Oru7rzbPXz8qB1GhCJCERUMtI2iKAgiK6uiLpWsEEIek1arhSnDGFdFned5nRXYY4K4a8TgGJzzL8xAkXGOfkew6x1S0jhvpFTeYmAMYUYYA+QxeESc4LQyGLAH6jkXQvAg5G4FyuKiLI0nGDlMPKUkjHi32+kN2oxjj2xUxTC/uKvrSs7XVbc9BMuLdb6cl8Xy2ClvpXUWaekoCeKQmCwr61JZC5giQE5bRj0hBGPCGGsSqq3TjLEGBPX/a4ke3nv0wjvVA2CCZK0AgCuHCQJPEFCrvawNWOktMtoaY+pKNsnvhLAojA0zSur1et1ACM7bWpbY0rqu67okBDnnGg4zvEgIiKLIWO288WCaRq6u6zKv2+1uu91ezFdSSkoFxti6JmoZNbYzgDxqzAX7O8O6rpJ+Gxh0Bt2vHj18/+0333r3vflkPJ4vTk9O4yju9P2YCXiRwjhdZ18pRa3STOzv728AfT6er2q0XCwYEcxaRmB/NLy6vTWI09qCkSpgXAgxHo9brc5oNLr/xZd//dd/vTPaSNMUIdRJW47gdZ6fnp9vbm5evXLlwTcPMcF1JU9OTryDTqfz2aefJ2n82mt3b9++/ezpYVWXVVnfu/fV4ZNH+/t73/veDz7+5LPz8+eVKt/5/ltvv/Le88OT8/mkv7kRcui1+kLEgEihpDUOY+Kcj5N2WdZPHh+s5rNuGmutjTetbltEwnprvA3jEANmDGNKtbXZagXKUgDOCTFGCOExqZWRRiIMHoM3lglSK4sQvjD+eQGhOOc8xt8FFq21zlsHiHLOqABMCCFMkFoW2lSBIJWuCIbYBQQRMNLVrlbKAfPeE0IYpR7MSz1uQ1lTSnW6HTi6CPI5Onp+7t3u9hVniKx8VlfESWcRGIQcWA1hzBEKvK+dweAZAHHeU4w4Z5h6o502ymjbYFYIIQ/NLOklDNpU/f7CyNeBR969SIPIs7LRD1FKq0oa5QFAYlOsVwiyRiCBMQ7DMI45RqT5z807DQB1XUspy7KspAyCIIqiIAjqus7z3BgTBBxjXFVVEARXrlwJQp7l69VqIaXW1q/XWRBEYRhijLOsSCKmtb5oAJoeAC5cRgE5mg7aT798ho+RktXOlf2v73/pKc7KYjKbno9njw+e3bl5q1TGfUcQczSbfinVsNPa6g3CTj8rVSFVGHbWxTIkwlRltqp3ui3unMqztLd5spgv85Jhwgk9ev48oGEax60ooZTu7+/Hceyc/ejzzyjn+/v7gUNHz48//eTzS5f3EJBup/dHf/hPrXGcBYEIP/34s3YnXcxXg2Hv+Oi0ruQ//Ef/5Oj4cJ2Xjw+evXLnRn+wOZ+ufvqL/7y5M0IOddLOcr22ynTi1rPnR+PlYpoXu5cvt5LEaLuezx4+edzpJHs7W1Lr09PTViAuXbpUrlcIfNxKylUBgCmljScCIzQKBOfcYzg4fNrt9UUYRokIGPVWm0qJmEuj6IVUwDmwDe7WrJtzznnwCIO33nsEhFFqDLUOVVJj4rHgpcrzapWCsBhECGHKMKJa6jLPFosMMAvDFqIBJaB05V2tdJ0XGWAjQqq0RK1v/cvOzsZZGOWxLDNT5cYozzEBh70Ba7xWBiHlEbEKESQQ9s4jbRVjPIoi7WyeFXVdGWOd85zzZlOj/0pz9t09cHEPNHIZ8E7X2hhrtCOEGKusBYyx1ajIamuc0tJ7nyRJHDHwWEkjpWxM4AbDvlJqPp9neea8IxSLgHMmmtO9qirvPSEoCIKiKOI43t7eZpxUdSmllFJzFBjjZK0avx9rL3JlXjIgGnsMhC+c9iiNeKvbLupiMj5LowBjfHx8/MnJySs3bg6Hw5NnzyllxkOatmFx8Xk/vXf/C+u/99ZdGrXPF/lkNidUAMYEea+lKlbVevnm1X2wtq4qKPLN7ujk7Mvjo6Mkimql1+v1aDBA1mdZBtrkq7U06uzs7PrNmxsbm/PnZ3//wa/fe++9zc3Noig2Nze3t7f/6q/+6t69e3/8x38s66PlYm2MmU0XT588ee3u3TwrnIVKqtdfuzsYdhnjn3/25WK9st6JMEyCpKzUg6++aXe7xrtO2qkcarc768VyPlsWWR6lydbWdhRFo83Naj03zmFOEcVVmQdJShjxDrd66WhrEDCgzseCNRweQA4xMKCt8eBsoUpdQ5RoQjEAeTlHahbdOdc4RTTIwws5MCAgCDBCRBsljQ88Mk46AJGQ9+/eZoxtDjeNsYvZ+ux0Mp1nstJUaOoJeGStxehi+NBApQj5svwWqyCIUMJn02WZK1k5Z31TYilplNIUSF7W4JG1gAnHAMY7iiwmQBkGD4Ri5xzx2COPCQJkEbowOG0+18vEg5ewbxOfA955j7xDRnnvNMYWkMeYE0TAE28xQVQwghAKRcIoN9qVVeG9s06HUSCEAACtpXOGMTbqbzblnDGGENawpi+0XRYIIUbbyWTy9ODZOltRwojglFIpZRjEYRhxtnrpOvFiuzqEEX5Bh6Pa1ts7G0eHh85qXaNOmlRZtp7N6W2yv7VzNjqRtWq3Ot1Ll+HwF81POD09wVt7YdTCNMjyXFt049arz54fBUFg6to5hby7deNau9viVGhjKIAsq2y1AsLSKI44REHw5SefB5xXYcQ5L+pyb2dnc3Oz0WfcuH7znbffNcbM53NZq19/+NH9e1/1O700Su7cvF2WZVVVAMAR2dzc/A8//Q+tduqcuX7zqgPsPH5+fFrUZVGWP/jxD6aTeafbKfOKB9HtV14xCJcHT8tSrvMyW+dhHO7t73qtKqn7w8EK2SJbL+azmDHlbKFkEAWYWI5axA0FNa6WgjKttcb65sY1BzCdzylnu3tb/UFrfj4OgqQ6zglGznlvL6hAFrxzzjpPKRWMEUKsxY3WxHnvLeWUAGAHzoLzxMVttH91963338jzPBKhlk6IBBOxWlXLZZmX0lgwBKxTgUCc8zASIqCEYutUXX2LAgVBiIDky8JbQjBF3nvnGxKddQ4QslI2cU8YI2stckAp1VpZZwAhEbAoDpyFvKiMcRf8Affd8/9C7IteBPi94Ec0bvEEAfIWOYcIoRhjcMgYoERwJgB5Y4yzXtbaeVNVVRgGDf3TGAPgKKWtVosLFsXBhYmYMaSxnWzCtJVCCFlrT05Onh8dTqYTyggCbIxhNKgrVYs6DMMwDCmh/iLH5IK1QQimDF+wRKtshRA8f/qkFYVpFG7fuZPPFz0RrsezTquNrJtMpjdv3t7Z3nn5ua2sh70RArpY5kop40m7P4iXawBYT43jDEK+d3k/FZwAEaz91bPHZ6eng27vfLZY1auN0XYQBL/zO78TUCoou3z58tNnB8q7dVk+fXwwOT+/fv36n//5n+d5vrGx0e12Hzx4sLOz88brrz99+rTx4wbner1eKMRf/NVfjs+nr919rdvpeDCz+Zgw2NrYvXbjcqfXunHj1tnZ2fX9ja3NbSxowMSvPv1sWpahUvu7+0HIkXdM4K+//GJz2MtXc4ax0rqs672dbeeNzAsRM4+9iGjUCoqcOeSTUBASx52QMjZdLT1xe1d2/vHv/kOGyf0vvlhM8/PTj18QaS4ed/HYl3MxeMGVMMY5iyljzXjYWOS8TtNge3dDqnI8OTfaYuABa/EgTFpt65h1lUfYO2WttYY097sxEIRxnVeNS0LzGOOzoqAu5CwIw9AaZ6Qx2BDiKeeyqozWGBGEMWBklPbec8bLQiotKeecsziOvQfj3Hq9Roi8uNEA3H/twPX/UxAh5P3F5PUF7kjBo8ZAAnnSWE1q1YTIaEKxd5AkqVQkL7LVaiGEaLXTKIowxqssD4IgjmNjjNG2yd2ARqNDUF2pPM+WyyXnPEmSulJaW06JlGVdS0oY57yJt6KUQpMngxFlmLJGHYBoP03zIru+v/f84Gl/czsJwv4wmHtipOm0Oneu3vgk+8xIbc23ARmvXb/5rD8QiE7Gs1fuvHY+nfybf/1njJNer5sm0Scf/OJP//iPC1NvJL1GEmqUztdrRshwOCzKimJstZmcnx8+fXrz2vWzszNt1KXr187G47Ozs+n5+MbV61rr3//93w+CIM/zt998EyH07ODg/pdfXrlyRUo56PbuH58wxrY3Nt///veVrT///PN333sLAE5PzqI4PD05+4f/+PdPjk+zfP3o6NFwOEy7nclkMhgMkJSOkvlyobU7Pj4UHBNMCWX94ejRV/eqLH/97pveKBFHQRDIPGNIE0YxM9bLKGajzWFZlidPToq6msxmnV5va3sE1C6z5e3Xbjy89/S99975i5/+bafT4YJRGpZliQCsM4xyZazJisYkJ4rTMIikcnUNzhnGiLXVcpUlnaA/7GdFdnJ+pLUmiLfTPqHUGUiSdrZS1jiPwDvvXlS3SinrABM0m822vkOFkLWhJNgcbdaV1lpTRjy42mgLFlPGQqysc+A0gDOOCUYp01q32mmer3cv7Wtlozjs9/vz1QJTTzky2ttG7Ykau4vG0fdFepf3F6YXCCGEETQGeB7AOzDN+KlJNW2spBvtfFVVmCDGibU2iiKlpZRVu93e2d0GgLIqYhdhjIuirKoKAcEENd6gWZaFUSCl3NgcUEa0kd1u9+GDx1KpfD0WQlhrldQAYIxJkgSQQ4g4bzxYQCgIuBACE0SR0aasEkpHrVa5XA024jQO13Yiq9qHKuJi2O/HccQy9p0bQAqEwcH9z7+az4vR1ubW5natCllViSBvvvXGpSv7iJCVKUMqEJhBr9drdybzg1wZHkZREDbt/O7W9nQywRhLLRd5trO3N5/PG01Gu93e39+fTCac83a7/fz58/v370sp+/1+GsXz+VwIEccxD0U7jf/m5x85Z1qt1qPH9enZ0Q9+9D5liGC2vbVzNqF1pTa2NzBjypgg4AljuZLZaqWUDIIgbUUrazxC+/v7h08eCdZrPCODMFnOZnEUmXJV6TKr1mEScUDT+bjIyyzLclmLMOwNB6OtzVqpo6OjWAQs4P1hv91uN+qQRiaCXsA+/jumiIwxyhgXxKhMW13r0uGKBQ4QttrkeX52dgYecxoYiasMtPTrVVYrzURQV8pogwhmlCEg4DFn3BqHEWGEwAu0zluMKC6LyhiHMaYMA8JYI28RpWAwJgEigDEGrRxhjjGMCVV1naRxu91eLhfWaecNoWCtqeoSI9LQOhpLQ2ON917gb9GR7z4v2FD4RWfQ7Aj/EhXAGCMAxgihWASMc8Y5jeOYMdJqp5igRqfW/PJN0f/CYMY1UJizjScN7bS7CEMYhkmczrJVA0PVlWyWGmPswXrnm1hVTBHnFJCvZaW0pPV6mc+nSLluFMt1kXLBHF6cjq0xWkRpHPd6vbyu8+Jbc1xV5VbK5Xz+9Omhsmi4sZm2Wmoh54tJwvC777x1aX+fsyAryqAdlmXZ73Y3hsNHT59hgFaatpJESzkaDOqifPvtt09PT8fT8WK5NM71er071285Z589f7ZYLZ4dPj08PPzq/pdSSkLw97//vZ2tTUZpHIdRFD19+jTLa6PUsycHr752p5Uky9lc1+rVW6+sitXpydn7339vOBgdTo8Bo88///xscn7t1VfPzqetQb/T63lwqi6DgHpnNrZHlAX94WjQ7Tx78uDs8BlnpMzzcNTtdrvlYipVncahKuqnT57KWi1W+WBro5IyWxcICCHMOvTo8UHI0q3+re6gN51OtTNgACFEKAWEXFPwe2+1dw6s9ZxzShChyDrnnXLOYgQYY+e8rk0ata21WsFysZ7rUteoqrWWQFCAwAAgjChGBACBRwhhrTRGhJBvzymMMMWiLEuCEBYCE+KsdV5bZxAA5og6hD0yRmtbe6QpAe+8B5u24lYr1aYGjyklrXaqtCyLqlHAgMce3LeUtQvjePANHIoAEWhq7pd9p3+RZeScwx47bzFBQSgwBkwQIEcobq4RxlgYiob3VlWVVBXjIcaYUtJEIhBCDLac80YwKaXM87zhaJdlOZ/PvceMiibvwxjjHcLkogr1AAh7ZwBhB9g1ZHW6ni+8croo0zAWYdyNWqfPj6fn53fu3OkPh8DJeLm4f/BweXj4cmV3d7bwoLfI5aXLV3cuXaYsnM2Xzmiwzmu1ORgITOIgkBqstkkY37t379HDh3s7O9LBZ/fun9KzO7duzU7HSsqNwVBK2el1JstFrVRRFK++dufvf/mrK1euDEf9n/3d33W6rWFvuFjMvPGUwH/8D/8BwI1Gm6Fgn37y+WhrJGLeH3Qv7+875ybn58PNYavVmq1mURQpozS42WwWm2Qyn2ZFMZ1Oltk6HXTDMHLOeEcBI+s9Qigr8jBOMCFn55PT80m/246jpKwkY14Zo41DAW1SiuOoxXiCENeyfj47e/zoUO34ujSPHz7DntPXBg0sQyltPM6b0w7TF6EDjXOWMY10pt1tYwwIpcrXhJt2Nx6MOlEaWWuyLJ9NlussrwrrNAbEMHClDGchI0TbyhjnHXLOl0UNyBnt7XemVAQzBNTq2mOPCAHk67ou6tJay8BFQUAoBo/AOg8OYaAMe+qDIG28+SkjzvpK5t5bxkgUh0bbWmprHEYMY8oI9k3Y5f/f2Q8AjZEoAHhwznoPzmpnndHGaRNSSoVglBHrtNJaa1fVBdYIwDEeIwxKKamqZts0HFsAIIRqZcEr/J1EqdUy00Yao7XWWVZ34k7YRDxVVbPCCCFjDKEYY+xAa6W09QHwIBBcBLQu6n6/X3hMPEqjwCiVrVZp0kZAtNbSKk8IDQKehi8/4cbWxrwVQ21eeeMuIuL09Fzr6saVnY1OmhAfArZ5nSSjICC2UihmcRgCQJ7nWIRREDiLsizrdDqcsZ/+9KfHZ6fdfnexWr31/nu/+tWvHj55dHj8/K2338iL7MNff/An//yfbQyG97789Eff/+HTZwfe27fefjMJ46PDZ4N+Z3dnK4mi3/mt39rd2mYBT6Job2dnsVg45+M41tbOsuVXX38dtZOolW5e2kGCX+l1RRobY4wzHqFGYXRydra3tbnKsoPHj5brfDTaDgO+MRxOTp4ZDEncHg23iIJSlwQJKVFeqHW+pEyAFY++eX50MFF1dfh0mkbp5599keXrRtAjpdTGeOUbihjGmAChBBrdU3N21lXW7iRRGNbWK2OtdeCwIMG6WFeFLjJZl8oahBHFgD2gsqj6vQGj4WKltaqc9VrZWhYi4EoZ+Z3X0RlkwHkH3oPW2roLrN0jRDmlggFB2CMEzhkThiJOImtcFKTWmsVy7sFZ47LJarFcaK2bbHfnbQMcUcK1dVoZQATAN24UF53xxV/uBTLkMUEEEADBzmvtnNfaGOu0R9R565zFBBtjwHrvLResMfBxzhFCqrpwLmz8l5qXvjk+mmIsiqKGV6e18t73ei0nwTvkvXsZoIQx0lqD9YxjSqgHo22tNXBBBAuoMSaNkhDxYr4wxp2enMlab29vL9fr0uvCSEf83vUrXWHgRUZeVhbLfOUI3trdm0yXiLNXb169trsxaIVyMQkJ5YAE4IDwwmldy16vxwl9+PBh1O6GYWgNLGfzjes3s/WaMbY5HAFFy+Xy0aNHcRwHQXDr1q2qLn/96yevvHpnMBg8fPA1Y8xYfXR0tLm1sTkagXU7OzvXrl37+S/+jgVsZ28nz9cud3EcMoIPHj/ub42a6ITZbDZbzoJOfP3WdWX1vYcPaNyKwLXb7SBk56cr61VRFetVfWl7Z7XMFvNlFMaddnt8dtpqdTAiRZ7RgHfaw9V4rhQImj4/PD47L5I08BHmon16srRKB5RZRRTyx0enSZIGQdDpdNbrdVEU3noAKKuSEMIIvyCKYowcALLLxYRQ5SGq6rxWhdJhwJl3qCiKMquUtBgYZxQB0dLVsoILR01MCLEaW+Nkbau6xhgTTBnj8MLBTEkjleQMW2O1s5hhB5iJgAc8TZM4jpVSRhmjrUe1s1DXdV1JgllVVVmVJ0nSOABQRhinWikAoE0tQjl4IrXRWvOLQLvvHP8eAC7iSpvfEyFEaBNdQCgjgFwtpdKSMYYxwgS4EAgDIdi9wM3gAk1qRubGv2juPdiXbH7OuRCiyVkyxtZ11Uq7laysBgBohtCMsQb8yfMMkyROgiAUIK11Oi9MWRWUB2FelsNWlxir8qoqqyhJiqLwBBPGqipXHKGQ1/5bTXBlKhKIgHIeR13gO3uX3rhzM0Jqsx0vsO9F8Va7h7WmnnXCBDHyzeNHBwcHjLEoih48eqwN3H31tYODA4Lxa6+91u12HfY3bt8+mYz7/f7Z2QkG+PCDD7TWP/rBD1erxdn5ye7eLkI+DAUg97Of/+3u1rZz7r133onj+OmTJx6cqurpYibrOs9zMiedUa/T6XjvT05PO73ea3dfb3fa//nv/svB88PO5mYkyzgJscdnZ2ci4NbaWqn5alnWVX80XEzGUmtrXLbOnYH1dJl7t9PfVLWLgna815uN8zgwrdZwvS6iIFnlK4o5IB6yjqyquBV2+/0sy9JO2mAdulbohQoJeYMvYjWwR9471+4kQhBrpTYSYxwEAUZM10ZJaxSAI+AB+Yv8JWchjtK6klo6jAgPI+e0UhohxBhrtVr9MIB8/mIDWIUsJ8waY8FRRChlmNIwCuI4EUIAIG+buSjFiFjjZKVmZtYw7zmnQghKcZJG1viqXCKEGCMIsLXWmpch4Rcdh/ceoFE/+wahb2yRnLcYY0ygGcMCts5764z3DiFowJlmvMW5YIS+CN0gtWSNC1BDSXrhJXqB39sXKeUIoRZqAcB8Xnq3ol4oqb33jDHBg8Ztpbk6mt9EiJALoo2sZVVVkg5a3WKdhb3NuDeUrChIEYpgPJ08evZ0c39nXmZWoJqCLcqXGwAhzsJ4Mc5Pz87iqBVF3dl03N8dcYwoQlEQtERLFiVBOIjEfJ3fuHHj1VcP7z18GAjxxhtvGG0ZFckounnt+k//43+czGb90fD67Vs//MGP/t2/+3fjk+MwYP3esNdtLxaL+XR65cqV09NTXcsmWwqce/Xu63/2Z38Wx/Ebb7zx+ReftZNUB+Lg8Gmr3e4Phxs7o263+/Tp09deffW123ccAev8v//zf//F1/f+9H//v0v6vfF0IghRSoGzo/5gczhYL+fr9aqu61F/6+mDh/FwdPPmLV3V48XixvWb+XTS7vTyVUk8Y1hI46xHCIiUKhBhhWujdV5VGLDzOEqSdqclVd1kHjZnGAC0Wi1rbePV+rKEtc6IgGuty6ooShWE2FlfVzIvKu+hqnVd6bpWCJqDV1DKOIlmi5U1ddoORShqpaw1XDAeBu1etxdFcPjwogTyxgIDAGe9A/AOCKKYAEEUAa6KsnFxxARFcdBKEsYYFez8/DxNU0RAmgvHUgQkz/MG3PSAtTKyMs4izoIgiI369mSEC/AHvPeEEt8gpNY7Z9CFvOLCQoZgSgMaBIFz1jpttK1lHQScUtZYywByrGJNEQ8Ye2+ccwDW2Qs2f3NLMMrjmDHWj+PFYrFAgDll0hnwwDhtgE4rbUO7CALRzA2ZiKwzRbnOsgz3WKtLUyjN4mRCLQoZPzs7O5tOo1Ys0mTv5nUaR9du3Lhx/cbLD0lRHLB0e2vPaK1UOT55evDw3rMnD8p8uTHsh2FY2VqDd5RU2jmCpbbj8aSua8aYVfrhN99wShkmR4eHD79+yAmXlXn65PmvP/psMp7lq+zVO6+99857u1u7j755FIhI1rrb6YdJ3O/358s5D8UqX0/m03avM9raWC3XnFLA+Ce/+5vbVy85hibzmVKKM/bs8GnCBFTq/idfmtL+0e//05Slk+dnIeYBYlWWg7UBY6qq0ziWVVVkeb/Tt8p2km69rg++eZIE0cOHD0UkTmfnJOKGgyEuGbSUV9rJfq+bLRcAliLMGLMetPfa1PPFhHE8m4+1tQ7AOGc9OMAOMCYEE2K9rWRlnQmCwAN1QAFz56GWzjpsHZ7N11K5qtJSGucJwtw6XFaqLMvlat5Kg6QVKF0Zr9Nu2u53gyQCTsfL+dOjb7EK7bVyMqsrC94hUEoZqbHHTtv1MivWOSaICxa3o9FOP2gLS03QF6SFVzpbl6u00+oPNqzFUllMuEfYgqcExWGQRBEjxBvrjSOYNtlQL2l5zQvaUDwAsLXeaK+VMwp5SwOeGoW0BG+IUd47RDA32qVJyxjnrFdKTSYTjPHGxgbhFFNaybpS0iFAhFDOHYLZclGWdRRF4/E4SRJvLUV4f2c3DkPCKVAfhDwIeZMyRjEG65EDQfl8MZOq4oJZpzqD9mhnQDtRwoz3ta7Wha81Y2w8nTx59vQHv/ubOAmtYH22NdrciqfHL1c2SXp1aRvL6cnZ+a1rl//9/+vfit//7VESpMPBBf8RwIJv7A8+//zzo5OTdq8bBAEmpN1uV2UeYPGLDz5I03R3d5eFMWbsw08+IxgP+qMkiAHgycNHRVH0+/3ZZCKl3N3bXhbL1WqVJMnZ+Xm31/MYWWvPzs68g6Ks+tujMIpOxidFtt7d2+p3u8vlYlWX67KgiLz+ymsbO3vPzo4qVXHOpa2XsyV2qNNpa60Onz25/+UXg053PB4zyhljs/Pp9sb2+ekzIcQ6z62yDFMaCuJI1E6pYGWZU8yxx8565CnGjRCKWmuVlta4qqqbZCPOOcakkYMhhC+QbLCCBSIKIkGKcu0AMcEZJxiRWikpFSFaK2OcI5gDxtY6bby1hhPwyGACyDvtNDEoTnmr3Z+vFnmeH5cVvKhKCCMUU2eth+a3owQT7JF3CLyjjBLAyknrTFMHOeK8971BRytXZUoqg5BhPOLel2XJGanqQlkVhazTbcURZKuqrmRD3XlRsn97D1w4XzTgqL8goCHA3iLwCCOCEAGPvAMEmHBktEPEUUoZp2VVzOfzXq+3sbGR5aWx3oCklLfSDsaYUua9j4M4SVp1XSPAYRAJIQhhzsFqnVNGCMGALnw0kPcIIUzQbDbNa9UbtJyzYcwpJ6PNbQrGB0xUeYa8N8a0Oh0HYDBaloWscwiFBjudzch33KE3NrY/0Y6F1Gh3dHJ2/cqlJ/fuzd55o67r5sbXoNwLvhRj7OzsjDG2t7e3KsrFcimEiKKoXlfW2q2tnSRJiAjbvV6v11Oyur63d+/evQdff318fLy9s7W/uzs+OQHnKMJGKuRREiWT8Xg4GJyfn88n07qusyzL87zIq//0H/7T7Phpb3/3xo0rjDHkfRzHg82N9nCjMxpO16uvHzy4dOWSthYjJOI4ApuVxfHZ6YNHj1ZZ9sbrr3/0qw9HvZ7xzoIN47ayZmd7lGezOI7BALJQZXXaipM0yha5wQ57Ch5xTAghgAkiDiGipa3ruq5VM4rnhFHKZK0xxhSDtdZphzEKo6DdSQWFqs4JIa1Wi3ECAE00HaUXMAhnnFChtTENMCKwscoYjQjilGJwDdOrsU8H+JajxijTUiPjMSIMfVtbY0oIRc5b70BLZ53jDBBD3mHv/Wi4BR7NxktjXO0kpYwinK1zLhhnARDX/BxwSIgLfLOhFzc8iZcUiUZ02xBFX/iD+Rd2iBd0/qZeIoQwRqw1lNIwDBmneZHNZjOEULffFyJMPOJMNMZExljwWPAQI+KcI4C0lGEYchFaa1erlZTSObBgtdZWg9YaI4cxGm2MsnxJZcEFrWS+u7dVyDyKQ2qrGmNMAHc6Ha01UGIJHu5sL4rccRYmoUMwnS9634l9ZTzMJgUW1ntijXv44NHg0uXBYNhttymlxhjtPfYXCjQAePfdd5Nef7pczOfzy1euRGGyXq729vYCzr/84v54PAbKlbV/8Ad/cHpy9H//7//7jUHvzTff/MM//MOqLp89e3Z4ePj+++8DQGPNsLOz8/jJozt37hhjjFRRFJVlubu7e+vWrSzLBpcu/W/+t//y8uXdMAyFEC/nL4vV6nw62dzauvXaq2eziTGm2++Vuvr4s8/PT09qpV557fXucLjM1m/fveu12d3bW04XO7u7UULX6wUPQlnWspKrPIuiqD8cLhdZA+wjQAg3dEhMnGMN8Ky90ZaRgHNBADPGOHOUYQKolhVUnlAcx1GSxuAMYywiKE1T502TqAkvKJackjAICRUXF4LBjDFtpFR1GAnGqbFyuSykqluttNVq9cMQVtPma4rTqCNQXchm6ZrG1DmHnWOeoos8O2KtM8pbY5S2ANB4cdeRXcyyShachZzSsqwxxnEcB5w768u8kpXBiHe67eVy+d0bACHkwfsXrroIvyTAvjBUdA6QJ5gAOIQwQkAZDoLAWhOEnBDmrAOPtLLz2VIqK6KQM8GZKItqMpnmeW6NJ4Ssy5WUMuB8OpmnaRqEPFvnRV7qWmNGG5KIB9BGYoC0FXc67d6gJW0F2CzW497gdn2eL1czyjzmVAQJQwROp+PD05Pj6YSnCQ4DL1jQbvGALeeLMI5fboAHj54+mFTXsWi12qPh1t/97d/8xvff2d/f73a7jFHqgBGK3Qt/SW+fP3/+ySef0EBQyiaTSZEfJlGsCxUI0eDlhdQ///nPC6O/+fp+r9t99farnW6Lcz6fTk+PTnq9XqfTYYRiIIyTbrdrpKaISFXVdf27v/u7PAwmi9mHH36ozs+3Xrmxv7enlDw4OBCMamsLtci1CgherNbDzS2MxXg+WywWcSs2gLX3W/t7aRxOzs+fPH12+cqVrKo4oCQIpvP5xqAjQmadX2SZqSRxCFMaiSBupYxR4hE476033mFnCXjnAAEB771DziLvL2Qi3r3YJOARBkKBC8IEJgRpa4HgOIzb7fYqz8p6oZXlLMCNU1Aj3MbYIcwIsRSBM4xgxDnFSEpZ1blxkiCQggshOPqWCxQH0e6of34ybppdrWVVGWstojgIxWAwCIRAmHpbWuONMVJpTOD0ZIy3OXjiHdS11NL7IHDOlWUZhCIMQ6NtmSvnHMbQ0HLgwgP9f+UGaIxhKL2wmLYWpNRNRdT8/6a755wDMELRer2uqgKQD4PIWjufLYJacs4R4LKoF4tFWdQEMOdc1sq7zMdxURRRtGScGKXKsgyCgHNurfPeY4oAeY8giAOHHGEoCoVHeLYyWitntdaGBpgJJjhnlVaAyen5+SJbDwbdtZLLbGkifql7iYu6GcU1zxdffDWn/XJLb2132q2OPDrZ3v6jbrfLOSfec85CGljVsBSNBzedTsfj8fXbt4Kk9ejx4+eHx6+/+tp/+elff++993Z2dihjvTjdKsvDw8NPPvnkd3/0Dy5duvTo8YO//Mu/VHW9v79/55XblFIlVZqmo41BHMe9Xq8REBVF+drt1xfr1d9/9NE8X2698srdu3eLohCC10XZ3d32GGVlib3d2N56NpnkZTnNFpU2uVQm961ee7i5JTgdn58dnZ0ha3/vJ7/50S9/tTscrfM8bbUA495wNDk/nU0mRtl2lPT6icxrwEAFRxZ5DdZYrQE8xh5Za4TADZ3BO7DGKVDeeEK0dZoxSjBoLQF5hKm1uqpLo5T3rgH7nHNSSudc41ZrrTPWIags81pra433ThuVthKEeC2rLMuUVlFCu93uMlsHQRCF384rjVXG6roupdTW6uYGMMYwxMEjwQOKufTOWeThok/FBMqyLNsSOxaIWNfIWsc573a7y+W8AXUxInESEcRlbbJs5b1FFy/zBTu6eYwxCAPDDGNgjCEMxiBk4EUEgQGEmxR4QnFTIBljZ7NZnuedTqvVThsgv8iLpV41yZwYsSRJwHrnXJqmDXl+uVwVRYEx4pSGkYhCQQjJsqyJmXHOMk7SVtQbdObLc6t0d5BEcTCdnzuvKcMUe8yBUsqy+cx5XyrpMDYYVdacTCc4jS9du74qysXiW3t0D/TGjdtBmGjplsv19t03L+9dSqMYY+yN4ZRSoNrVGDzn3IN7++23HWXSGsyD3/iN33j29PnkfGyMEUJUpfzmm29uvvLaW2+9FXU7O9ubUMmDg4PFfNXrDt64++qdO3e++OKLP/93/5/XX3u12+32er2yqHu9HkJob2+/0+n+q3/7b8q6xhT1+v3X3rjb7fTLorpx4/obr72SlYVDPlfy+NnZztVrnV53XpWesP5owzNaVaXxKJf1MpMff/bptcv7Mi8wpZgxae1iubxyaU9VZVnXIk7NZIYJOIAwiauiCuOYCYGtN94a7bxruG7IGFMWlRCiMRRxFpQ1RimEkAerNSEYvLc8IBgjbeVqLQFAGh04q2xjsG69b7LikbVW1dppq6n23lttwTlPEMbQRAkzgjkTIuQIoYDxIAhD/m2QScMha4ysGzYBvjCd5UEQGmO1LufLZSMspJRR7L13jAZaWWQRJZxzWxY1RiRNWlpLxphzxnprrWsKeqlqQM2Q6sWoCvkXGRnwLR0aAzRsaKvCgGsjvXcILMGUIADrXDMY9h45LyhjhMiy9uDSdrtWGrRpWmrBCaXUGme0DXlYrAuCEAbghGqjHMaBiNqd1Fpb5CttJOMRj1jairf2trrDzqIYrxcrVjhCQct6Y2sgZUUpUIQwWJhN5xI5qYx2fp3nmqPlet3O87Kqnjx5go+fvVzZvd1LV37w49Px+XKxOj46+a2f/Ob1q9daCeeEgtbee4us1jrgIo64su5Xv/rVrz7+5M7rr/VGiVKq8bx+7bXXhsPhh3//UROp8vnnn29dvlQW1e5gcFYWjU/66dnk+Ph4PB7fvXuXUSKlfPbs2fn5+Wx6LqV87733nHPvv//+F/fu3bpzU3rz5Vf3Pvjwl2+++fr33nvXWn9wcLC7v7+/s//lw0fz1XKd52ezSe5MbmRZ5pWqY2SVccONzduvvZYwfpIX//6n/4k6//zp02K+SOPYKXn4bBIJIo2lgPK66qQdTMhoa/T4m4dgkDOaEP8i6AEQwlpZxhwCQohrXuImHEkE7AIVQZ4QggkyVkkpm5pea91M+Juz1DlHCPUOGW2Ntox5hJB3AMiTJixeKedsq51wwWpdLxbLjY2RoEzrb1H5Tqez0R4eHx41HWdD+mguAa11WdRVVY2nU631cDgMRAScNvJfWWmrFSOBkqYsqoDxMOatViuMOQGU5/k6K4z2yFMuSF1rgMZsh3xXJMAYQwgRghAGD9ZaI1Vd13Wv3XEeG6sBOUAOkHegjQWtNaUkiqIkjZoRvvO21emEYUg5DwMrpdS1UUohwBgRKWVZ1b1uSwiepmlR5gghQlGn05GyZowSisOIRzQYDPuXru2vVzMAlxXLSi/jgIqgd+nS3vPnz+nf/u3PPPYG+XmxFt3YGPPs2TM3O7/xzt2dnZ2iKO7fv/+Xf/Vfkta33qAM07PT8zRNpuOzK/uXLu/vD3o9gaUzJuDUGV17xzl3AFJZqWW/37906VJRFOXRkXXOaNdqtQat/sHBwXK53NraevDgQVHX7dHw9PT0zrWrBO3f/+qrnd1tafR8MhuORsaYkIVCCC7Y5atXOOdxHPf6o08//RR79IMf/ODo5Pkn9z6XRl27ehU5DwBZlqVRPJvN5nl265U7eVU5wN3hcK1lpZQFnLQ7lSwwY3lZFHW1nE6ruvLe7+zs2F7/wDwM4/hkOQ/j5OTkUCpz/dLl9XS2KgtAQDnvdLvnp2OEfBiJfFUCcnEQ1XWNwWtlOROM8rquZa2al49Q5LxxzlCOKG1CgbQx2jhDKXVga1UhjLkQSmprnWsI1YTUtYojUtd1FCYe7GDYR9idns4Rho2NS5igp0+flGVJd3aMsfg7PQAjtMiyJkS60dRWVWWMqWut5CJjZVEUcSsdDIZ1Xed5kSTtpl2WUhbrqq7mFIswDLXW9aIYbfaqqgoFr2VlrI6itCplWdZlWQ4GA+ecNbbV6njvi7yklDavO+c0DFsiYEWZE4KjWGDqF+Pl/v4WIWQ+n6c0dY5a59NWvFgsAIByXlYFIB+IYLFYhHGMMS7WRZHnadKJokhVsqoq79xo0Gl86glCnFLnnNOGYGd0HYS8x9tKy/2d/azMP/r0Q2NqEVDGsTZyMNgIQjEaDJzV9D//1X8p6tJgVxvV3RlCwlfLZZn5u+K9zSg8nU4++vDjxTcPyfffebmyWurVfCWEuLSzGwV4o9ev8yxOGMLQDLzBg3WAvHfIp3F0+/ZtR9nJ+Pz4fJLlOaMiFMFqtQKA5XL5o3/wD775T3/x7ve+hwj5+uuvf/83f/L44ODJ06ftbjcMw/0rl8Mw/OyTj+pudzQaXbp6+cqlS5Ork+VyWZbleDwGj95+993Hjw+Ojo5+67d+c7DZPz89vv/llwF9I4iisBXX4FdGKVVr761HUdxiabJer5WTUutaVkVpirw8fvbsxpVLl2/fiShzVd2O4k6v+/U3X916+25eZOv8eFnkxruYEIuMNjppp4vZUsqqcb11FjUUroBx9J238OJBDoC8KJFfVJLeA4AQoskHWa/X4HGn3dXaFEXR5HEEPGDMNnUE44QyvrE5AOS1UUrXDYtYiIuXmxCydt/qlqqqXClb1SWjHDxqWAOUUt7kEWn7smpnVAQiwBirSjU/h1HuGDbaSikdwUAMpbShUhurEXYOtAfb6sRSl4Bc4wra+I68nIVRihljTZXPOQMkAHmtyo2tdn/YWSwW1itEHKYeE2SccmC891K5pny/IEFoTRgLI0EISZM0DGNJK865LKtGGGmd0QaMUd57D242nXDBrl29NFvOFFjtlfFqsVxv724EIc/KMASWtuJhr39yfNztdmiujTQWETRbLJ+NTzvbg+6oPey2QsoG/d4qK7LVCihj9NsmGKzjGCJK2p32aNje6ieJcMQbDB5fCCCw8946C94bR2ez2XK5bNjeSinweDQYPrr/cHtz80//9E/PJ5PVarWxsfF//R/+H3ffeCMris+++Hy9Xre7nel0evj82dWrV6/duFUU2flkslitvvj8y5PT48be8Pnx0R/+4z/c2trq9/uvsFd/8IMf/h//T/+HYjEDb69evnR1OOBhPJ2Mn43Pns+m86rInAm7HSz4+fmpdiZtRxhwrY3S+u6bb17Z3uml8f1PP8vns1gEQc7jOM5rycKo3x+KMHJSrcoClA4R7Y/6k7NxtlxjjCml2rlmA0QiuCiF0csi+NvWEADAY3/hswmNsimIIme9lLLb7e/s7mGPxufTk6MTimkcx2VZCnaR/RoIduXSfqNTWSzmTYBi45i0t7dXlqU9Onr5LcVJvCXi05NzAGjoGA1BEmGPCSALTb6BtYYQShk2VhVFUVVVmrSDIESgC1NqrQkmjBBtZJxEUcgYx1Kq1TLLivlouAXglZbegbNQlqX3qLn0MHkRNgzgvaMMA2aYeOfg6pW9VqtVFIs0FXHMrHHeqbqswRlKCEaeN8QPwbWz7U43jBJvrVZGiNBZn1uHvAdnrbXO6obsjxqjT4bzctULutu7Q2AWcVprOdzseeLeePOud2owbJ0cH1ZVlWXZZ599/OMf/JAGcYIE55yuZPH84MQLdHmrzzB5cP+rrauXjw6eJkG8c/N2ln1rN9COQj8cEeSrPJcRJr0oCgWSknhAGCNAgJDzoI333kBZ3rp1yzP+q19/qLW+c+fOoD/ilMUsCoXI1tmHH354+/btL774oqEf/vXf/M2tO3c457PF4nQy3r90WQTBBx988M//xT9bLhbNS1M7DdaNRqO7r79BEf3m4YPz8fRseuq9t1r/kz/6482NUVGUURQRLgDjKIo2xFaP4LXVkyzrb2wQxsoq44LWskTEjTa3ep22QxBFUavVCjCyUhVFsbu7W5ZSO28RrpUyCJwx1HvEcNppBaHQWjvvI540CCClFBP08ga4gMC9BY+hSVXxF0Chd+Ad8oCiNOKcy1ojhbz3slZGmuVyKYQwxpD/6sEY46PjQ+ftdDpZLpdVVYVhiCkSQjx9+pQx1nL/FT2/KIpWq2W0tcY1madKKY8RADBOOeceSNN7EIK1NbWsGhiRUqrxhYhZCC5CkudZlLIwjglLrXFlWRjnuSCEImN0A/hWtXfWWwMAwAVrUsWUUoAcYAvgnHdpEvT6bYRQ2oo2NgdCiMl4WpZlWeUYYxGEjDEbWEqY9z5bl33WD0JBMW5S7oqi0kZqI733mAAhxDlDyEW2N6PEea9tVZYZps4hzSM8GHQ3dzbX2aLdaf03/+0/ffLo4eGTR1arxTR//PgxXZXVOltRhpxHcRgyQl0tDx+NO7sbvcHg7PB5pz+4fvWqffrg2+6qnUpGs2JNMbIdoaqi5iqhHiNEAGH0rYOe99BKIgfQ6/WSJDl4fnx2fn750tU3775BCPm7v/u7bqdvrd3b2/v0iy9++7d/WynFCNnd3p7NZovVmgeBR2g8m0ZpkhUVxmw46mOMtTHz2WyV5XEQ8jA4ODhotVrXb197+vRpXZa7u7vGqvV6DR7Vsq7qGjDmhDuMVVmenpwlnU4Uxw5sXqwWi1kSB71erypyZI1stxhjUaczPzsfn5+PRqPR1uZsuRjPpmD09mAQJwm1mlgkCBeRcMgbWQkSYIKbUCpM4ILkiDFuQArXCOQvIuC9Q969cJLy3jlXSQmAozShlK5WK1UprQwjXFljlXXakYBwzhkh4OzX33xFGTbGgLfaSGowR4Gq9dHxSbvd3vpOCYSR55RyJoyqGp+p5gZgAeecUUrDMKiVrmUJ0ET/IsZIt9dBnhp10btzwYJQ8ABLrfN8jZEJI9Ht9ZSWq9UKU+CCWGMxZghjZwFjTDhtrrsmEVlpCdhQRpw3WtdJL3ag6qoejDo3b9zy3jNO5/N5WRUYI4yBkAsykTHWeXt6elLXlRABeIwAl0VVloVzzlvXeE14AIQ8Rt5ZrUyFkC5rcz45afc7k9XcIr9YzixWs/mk2+381k9+5L0/OztTdZ0mYZ6XtLRmLWuzqgh2UkpSYGxdyNj1vf1Bt0cdWs+W8U4ah98OwjjGdZEZXW/vbl/d32snFPuSII8BYeQAGjsAQAh75PJaeXDL5RIhFEXRZDr95ptvwPkHX36Tr9ff/94Pr1y7hnmgP/54MpnsXdr33s8Wi48++QQALl+5tLWz8/jJI8D49PycEZJ0EoxxrdV4Pjs7PkEA77/57vHpaa/X+9GPfvRv/+d/w4NgvV73+p31eu0AtNZSyqIuny/n4zx/dPS8PRw+e3pY6zoIGaFAOUMI5XkuMAq5aFLWBq20QUvqujbaijDs9YZVsYqS1NWVAwACHiBN0yRJ1vXSe48RajaAd+qlUdR3eYvfHvwvqqHmEqjr2iEfiqTVaoU8VLXBAY7CGHmcZVmzlGEYaq2UUkpXjljGcavVopR6hBo5yHw+T9OUUqryb0m7y+XSt/pSysZPqvFkF0IkrTRN04ZpXMraeo0AG6co5Y0Xg6yMlGVVVeBRQESDSgUht05jAr1+d2dnO4zEycnJZHouAlEWEiGghCprEEKc8UY6Q8gF6bWZRDsDRkmEQ6lLqev+YGe02VfSjPI+IWi5nEuprdfWYWd9w5IIBStlVZRUSgmAEJCqrKu6xIjSptMgyDjrHDTe15DrMEIBopj4Tq+Vq3JZrB4/PVzk09FoWNfVR5989OGHH3722b1OEt6+eTOKIrrIy2WWL2eTOKBVVVqnZF2HIU+C8PzkxGl9Ph+3293wOxMWiiANgzAk3U4rjYKIo4CE2BQEfYuCeYQAYwJ4Pp/vbm+maXpychKG4R//8R9n6+LRg4eDweB3fuu3Hj86eO3u3cliNR6Pr9y+9cEHH5RlCc6/+vrrb7/99ieffvz//vN/J4T4l//yX7bbra/v3//k0y+eP39urNrY2Hj17uuXdveQcoyT8/Pzf/2v//Unn378wx/8GCH8i5/97M233qiqSiThcDgMwLsoSq1mndaNV149OjudTMf9fo8HpCjXGEyeLeoiZ52O97bX671y80Y+XyRB2FRiIgz3r1zO5pN2FI+ztTc6DEJvfKvT6ff7Kq+bSt8DYIw9Qs45hAFeZEa87H1f9r8v+wHvfbvdtuAYCQghza5zxmHkoyAWIuCUYIyDgGfZWimVl1ncCbRRVNNmTznn6lqtVhlkWZomxpuXZLiDJ08exvMgaDVdSgNGRVHU6rTTNJWq9t5D7jFu2mhAGIIgeCFDMR4sxhSQs85YrQNOCMXdXidtxdZphKHdbjnrQ95GkCFPCaFKmoZ7Yq19GW4A3je0UwfGWIUJhIEgGBGMZtNJWVbGSO9tHIfWGAyIM+rpxSA5CEUQh5QLrbVWBjlntXbeEkIQ9oQiYz2Ad94C8oC8B9vvj0REur1OUWQOtPOaUJiv1g75Yb/35Zdfdrvd9997t5OmN69dt1rTMs+Xs/lsPG5d2bt69SqhwCldrtZVXn3z8AFyPhSi2+8PyHcSmCnd29sqytzK/PToaTcNtkdtBhQ8gCMeo8YTExNvid/Y3pys1x9//PF8MiUi/Oarb5I4ffvtdxeT+Wf3viqKIv/1R3//6w97vd77b7/98KDLBC/LkiD88OHD4+Pj7//wh2kcn52djcfj2WLR7w1Go1Gcphjjr7766pcffhRgEgVBkiRfPfj65o1bSRifHh2vltnnn31x9Ox5d3OonCWcBpQmnXbaas2ns3qxCgFHjOTrVVmstjaG/VYMVrVCMT89Y5zGcTw7HxtrA85iklZVVedZrTRp0SAIQBGMqPc2SZJ2u70IZsgQcGAb0TduegCPEG6+FYQ9wIWBJjQtgEfgsfMOPFrMV4giRo2SNmQhJTwIOAI8npwZq9tJ6pFGhBDsHLIIA0VYqVoCgAsYY2madDo0TsLZbIYxWPXtBghEtL27qyrtvScYLDjGWBSFQcRESIM4KesaYUcZCUJmnbPWALbWao8MIohemGF6a7WzypU2SjggN5/Pnj59ihHdHI2uXb0xOVshoOCId6jKtdYWPLLGEUI8xt5bDx55ighFgI0FRkWr3TFaaaOePjvIsoxRnmV5028wxtK01VxrDZmHCQEEN+mrCIBQzDkPgsBI/ZJshgnChFGGRUB39vccKB6w+998Jb2qtYwjLKXb397YGI3Ojp+/evvOqLPDGXOgtS1xOwqodz94731O6aA3CMNoPV8tZ4u/+ulf7m7ttJLEOMejkMXfzgEGw34Y8M1Rp5sKK/NRJ2VAvCXacG249dxhCsxZUmtUOoDK1NPZhGB8eXsnxGQ5metKGY9m64xEsUaws7f39ltveCmv7+8lUYwpJYweHh5ubW7vbG4/fvDo4NETq4yuVW8wJIyvsny2WD55dpjXsj0cYMaI4HuXL73/zvsBE88PTzYGW8P+5r/6n/7tr37+992kFRG+Pj4fBVHbI1qUHYLfuHp5efjcrddXh8M2Y3K19FKBNkLwjY3hN4++KWSpvFsVZZK0OQ+zvEyT9nw+b7fbDWSJMRaMbW5uDkYj4511jjJWK5VlWRTyKORlnrXThBHcFPIeXC2rSlWIEsyocV4Z6wBRwgIaMsSzRXZ+PK7yUlby5ORwPj89Oxsv18dFOa2qBaC63Y7aSRQHYm9rO+Ii4DhNgn6vdWl/i3MwVmdF3mp/6w0aRBHnfLWeW1tR6oIApSlvdQMeokqta1M6UDzAPKQsIK1uq9PvEE4rU2gvsfBJJ2x1Y+NVpcswDTBBk8lktVrJqjo7PtkYjEb9Yb7KQyGQA2sdZ0EUJQQx6zBCAYBwjioNZWmXq3w2y1frsqpdqzVYroogiEcbG+Pp+bpYjmdny/XSORdHKUU0W+R1LjlhrTjp97qEYmM0pTRJEkSJcU4IkcRpFLco5w3bnFC6zrKyLDvdLhMx4oG2Nm5HlLpWQilyaQSpwKvpaScSAQdM7PZ2T6rl42f3KQV/7crlK1f2g1PswZ2dnNKQUkaePTv8wU9+Y397d5JlWmsSfAuDxnEMrSRNKIY0W2FCkJSSE+Y9MUCQQ4h4jwBTRxw8PHq0v3v5+z/4ASe/HvYGne7g8dPDL774Iko7V69fN86/8sorseAf//rXjx8+HIxGH37yyfPTk7fffvt3fud31svlT3/606/v3//hD394+/bt7e3te/fufXn//uHRkQiDN99888qVy1ZJjvFyPv3e+98n3hXZ6s6tO8PR4ODZgZzPv/7qm5uv3Ln2yq1+q52Np2WR90R45/q1Z0fPivn0t3/3t4NY/PrjD45Pjnq9rmnF4F2v04rT1Gq9XufeAeGMYMqY0LLECDdeS83BQykVAWvqB6k0BUAAQSAIwUIEgyE6H586Z7mglBJrXRAy75lztqoqzhnGRAjhwBhjwIFWThbKmjnnOC9W7XZYqVKZ2jmwXmOP4iTA2HU67SgOgyAgFHkA560HlyRxGPH5Qhn77UVd1/L4+IQx5owyzhFEKCUYI6tlKStlTRRFSSvmASNMIMDO+ganpgwjxCjhDDPrTF2rWlZxzAEnVZFf3t+LRMgpyVbF82fPRqPddrtVV3q5zLIscxYYEQDeWgeAwRPnlNQW1UpbbQ2cnc929wZ5WbZ6rRs3r5+cHB0cPGslXU54bbQxBiMIgiAIBOPUIVevS8oCSpnRljGWJAR7pLW+GD4T4r1rguYZw4SQ8XQ63O71enFpMsZNb9Cu66qqqvHZKSMsHI7iMNraHHFBjFVKSWqMZpycnp7UshqNOh7ccjGbrZfd0bCbJv0kqazZGm2wav5yZU9PT1aDw8v7o043jtNUBIFTGjloFIDG+Qb/st5a69M0ZUBv3bo1O588/Prhk0dPiQj3dnZYlHYGg/FsOl/M/u7Tz7789LNXbt6czueXL19+6713BeNffPbZ48ePO63Wn/y3/12SJP/L//xn0uiyLK9du/YHf/AHmNKjk+Of/+xn7TS5cfVSWZaPHz8+fPL4zq0bSqlf//rX8+X81iu3OOeTyaS7GFprORdXh4OzxXw/3bYbcjHbp4DWi8VGb7S7vRXFIcJeybqdpqv5Qkupego84kwAgDFmfHqecJapioHn3mujGA+iJGp3WtNwWhe18ZYQEsWpxx4zMugMFutVEHAArFRtpAvD0HtUFFmxrghBhDBwZrjR17VFHgnKNDZSSgSc86A3GFl00mkngJxWNuRB0mppa42zZVU12HdVVa4sjPPWQxyltZy32i2YXgDWlPGyqKMgMMpoo7ijImwo5FWW5ywQnIk45lprZVxVVVVVY4mV0pTyRqfLGQ9DgYkNQpYkwSBqeyP7g14rScbnk9l8OZmct1udbme4huL46KQuS85C7zRB2DUDB0DUY7DWau2dRwiWq/mNm3ta6yxbDYd9xvF8Pu91uwyLgss8q6y1zmupvNROO5OtiyjB1rqqrJ1FgocEsKwVpdj7i6GbdZYQIgQnhHiwvX530G+dnB8Cxv3hMOC8KIqjp8dGeQxMK9fpDqqqxDhM0z5d5wuE/fnZaaeb3r59dTjoVMdZPj0vlfz41x9tXbnS73RaQTh5Mn65AYzRSind0ElNQ88A1kwCG0m/sxa098Y6121vLIqFU/7atWug3NdfPZB1HcXJo4cP1p9+enRy0m63YyF+/OMfv3337tl4PF6vDx4/mU+nrSTZ2doKGO93u+Px+K033siKYjAYnJyfffn558qY0/PzXr9X55kQ4t133/2rv/rLX3/44et3X03bKSI7d169M55OP/3009Pp+aUH36zL7O5bb16+erVcrX/95d+HYfDuG2+O5+fjyXlv1D0fn9Z1COAwACNkvV47Y7S1GBHGWKvV3hht6iLvJfFyckaMRsgVdcUxFYK1+61OL62KTNUGMACyHsB7C8i/9torSsvZdC5VWddlGHUCETKOvYMoDhnl1ihVV0opirEQoTPYWpumcRSLNEkA2cGoSylZrVaMccRZIXVRFMZqwlgQirIsjTfWIcaYtiaOkiZh6aIE4oEvMlnUzlvrnMFOKU2UBo8be0aEkFJKa209stZKVRttR8MNQpiWTimdZav1em2dQkQYg+Okj52oqqLKq7Iqqjrf2BoqLRH2gC0CF3AGCGlTMxog7AnGgJAH2gSlEUIiwatSaq3LKpsvx1U52tza2NzcVMrM53PvLtxTnbdSaYTAY7S9ve2BSCkRaGusdIoi0iRlKKWsNVprYzUmwDlz3i6W88Vizrmr65IxvrmxfXl/nzPxYPjw4Mnhcr48ePx8d+eSlBUh4cbmHp0vx0EQ5MWKBX42H9eyCgPW39xYZPns/JRH4YCyfDYvT7/N3inLAmFofP+0tVLrgLEG6nPeIdy4A2MMxGO8KlbgURrHy1qtVqv5fF5LM5svK+sIxu00TeP4+tWrVZZ/8tGvb7/ySmXN48fL1WJ+/fIlq/U333xjZB2G4fVrVx88eHB69Pzg6cF8uQyiaGs4ePPNN5WW4/OTLxfz9Xr95ltvMcZGo1G73U5byUeffZbVuSFwMh5XWl2/fn1zNBqfneXrdRJsCEQe3f+6kNXGqG9rWTkbxGHcTpI4ncBUalPWUpZS1S5kPE3T0Wg0bLdUsZ6fn3lZRYhILriI2p1kOOqVebZarLx3eZF1ex2EYTw5/+EPfvTw0QOpai4YF4xQjDBQRjgT7U6LUW60PHm+lpV0BDMcNFoCQlgQxlIpTKiU2jpXS8VFIK1xGBnv8qqMUEQsA0wwIGOdCOhouBGIkPlvS6Buq0PXtTOGEMYoB+S1sty4KA7jVppXeZZl63ztnGt3e1EceLCy1tPZJI5aCLBS1tTaecs5TdN0uZqJCHfT+PnRoa5VmrQJRfv7u+PTWVXlsq6iiAccV6Up6hoRDt6Ds5gAxRgBQRgwIcCQVNnDRweMAQ/w44NnjVj58NlxHLWiIA2T2BibZeuiKjA4TLnzrCiV1poQyjl31mOMG0yyYfUppbRRQcgby1Ea4aLMKhm2uh3OEGfCOuAi3tu/ena6erY8WczKw6dnCDvUGM6UVVaU66pYGld//eBe47DFKH7rjbtppz07PZsv1ldvuavfgUFni0VKgIcCIUMoBuQBg7GWeIyQxwCYYEwQxYQAKmWRhq2QiZlW5+fnp8dHcdLZ3t+YZ8XNV195+513syz7+NcfPXv2bDEZz+dzQ+k/+v3fd8794mc/+8XPft5tt7/3zrvtdvvLTz99enj4y1/+8vrNm++/+26UJPv7+9PZpMhXqq5++Ytf7Ozs/PjHP/jqq6/63c69r76aL2aIkJ/81k+6w+F0MUOMbm/vruaLRAS3r11XVj/65vH8bLp3ZbcdRreu3zLeEE65YB75ulIIURHEdalXqxWkab5arvOMeFdrpY1J45h78MhZ5EQoOoP2YhnXspCVzMqiz3o8IAfPx+t88eTZE6PUaHMzCDnlnCDkgCdRlLZbURA45yZn582swDYgqLFKmrqSFkvK4XR8rqzWtaRhEGDS7rXnU20BCKUWwAMQTBua/tUr14QI86+/+haJdkhJwykVPMAElJKyVoiQIAhCzolkUuZ5nnvv4zSNoigMQ0LIyfHEWS945CwgDIyxIKBCcGtDKaUURJcSOdTv9xtGNKEoL1ZS2SDgRqG6koQg5w0AeOedR83rgRrNDMaCRc8Pz3e2+7du3ZktJvPpar1cr5Z5OxkyykUTNmItIIe8w5QBZoQ4gnkcxwTTsiyNvEgFlqpuHHYxgUYAKGXd6bbKslRaDgaDMKBlWd2/9w2jQSfu5VllDBYizFYVotjoSjtDCSfL1QLHIgi5sjqJg+Wq8uAAuSLPD49OS6WjMHml951BmKBNvK6ql0CQca5WSlD+4hLwzcf34D1ClNKT87MV4Zubm//iX/yLW9dvPjl4bhHOK/npxx9/8eWX8/n866++ev32nX/+J3+yXK0OTo5/+fOfff311wjgn/13/80rt24/evTof/p//g9JFL397ru3b97oDvpn4/EXn3168PjR8+fP01b8u7/3Owig2233+/2vvvrq9u1bg8Hge99//3Q6OT09/Yu//ut2r/v9H/9QCIE9Jg5TTxarebVc37l644333jw5P356/KzVTa23ldGVqg8Onu7s7YVxUlW1rpQQYlrXRruylnHSIs5f3tlcTaaurrTTgpIgDpJWtJjjujaegAWHGaGCPT85mi5WaSx4KL76+oAJSKIgTlOEwWJQWjLcuJ3wxuLKWU8Q9R6U1I7YVqe9zBd5VVKMAONSVkIIjwEzGkSRBWe1Qxhro5kxy2zdRiQ/PYEXaMXR88MyKzvb20EQAPJaayWNhYILChSauRhjrDFMNkY7ZxFCV67uBiKUtclWpVZKqrqWVrvy2rVdB8o6laZpw5kLw5BSxBmuCoUBELiqLKxznFNjDKO8qYcRQhgDch4h8AZhzqwCAJ6mA2t9UWTO0STtnp/OMFoyGsRxnCZxv7vBOAWE0rRf1ReedkpqJXVtqvV6HcVhXdcvbIZFu90OBC+X+fn5mT6X2laXr+51OttCiHVWKSkPHn45OV8AiF5vc72WmOFsvVxmK8riICHty/u7cRIRb8MwYCFrxvjdXtshfDZZLOfzM7l8uQHOxudwfhqlzNsiDGgUJJwx5Ahy4CxYazU4sBawRQiBJ0kSC8QYY1Gfb25tHDw7PDs+Tvv9znAwnk7fuHv3lVu38tXaex8Eweuvvvr46eOq3G8lUcjFZ59/spqvfue3f7JaZtbIulL37n9hHIxGfSVN2opHG0PGCYCTVWW9D8NwtVrdfevNw+eHy2zNBL1y5cpoa/P89Pznf/OzH//oR/12N6R8Z7hV5tnx2YkqaqfMoNVLOy1lFa0rjHEYJa12GyFcKT0fTwPOa6lpGBBKCEN5tvKYpt1ONre2rCwgwjHhBKi33oiQGquMN71+JyszESARCUDuzXduCSHSNI2iyBiTZVlVVdIhZ5vHI6+dw5QQgpn33hjbnMoWWc45oXg2nQecc86iKGz1UqWU84ZzThQKQlGWxWAwgO88WZ51u4N2u805t84oXVe6cs42kox1seaCcUGda/pIDcg1enfvXFmWRZlRRMMwFILEqeCcY0rzVdXv95ezZVEUGxtbcRhnixwDEIp1Xq3Xa4J5GIbGVIxTo6117qUypgmOyZYlIVxW9vx0plWNCacoasUi18Vqkef5ueDhoN9tdRLnTVXX3p9gyhtZRWMfHcdxQzFSWlKEuWBNgACjpBHTlVm+WCw6i/ZwOIyjFqehcfDw0YGWELEEEzGezFnAV8vlfLWglZZbu7u3Xn3FOdvvtMaTc+2MECJtd6gIKu1f2dzW2qn19OXKfvHl58kf/GH4/6XuP6NtS7KzQHSGWd5tv/fZx5/r82bmTVeZ5avkSxItpG4kQAKhhkY0wqhpaGge0LwhHgjRNAzoHmo8CPWQaIGQkIQMlMpXVmVVmpvm+nvu8Wb75V249+Nk5c0qpapKeozx3pt/zjgRsWKtsSJir4g55/d9lkEQLvK4rmvbNIUCjJFSICVwLiQwQEIhVFdlr91zsFnWNWPSNM0z1n9F6GObm8vLy0KpdjMYn54+2N3u9/vry5thNBv2B4v59OWXX4zC+bA/vHbtapnfF5K/ceO1MIm2Ns9trq8dH51sbD2FEJJcsKr6zec/86EPf7C31BdC9Pv9n/qpf/XMc88uD1eRrpm2fXB8cHh4OJlMVrtLrGRCMtdyTM3Ik4wAdixH1FwI0Wl2rLrwm93JfAwIuV6jzqowjo9GpwTJa1ev1EWuMImLvOU5AbTn9WkUJzrGXjNwAy+OY8VUURVlXTbbTUrpPJw7npPmab/fv3z5shDCdd2joyOt1tI8RUIxXtmmWWNkaFZZqTwrTNt0DVcjZDweK6W6rfY8ms9mk7osyjwFJXzf73XbnHMEUgiBkUY1nMRhVXQH/T7M3ySwMTRjZWXoBwFjjFBDyDrOQ8uxWu1mxWvTMuq6dBzHdR2uJELItRxKNM7kbDb3fVcpBUJZlpVlkRB0sVgsr/YtrZ/nuet4WTLxXD9Lcs8N5qNQIaLr+lmwWTfodJIDnOVC47ckujBGgiudWo12Yz6f3rmz69hGWWWDbj9azBfzoq4ASUPUeDHPF4usLPO8qCzHDKNS06EoYGOzu7q6Gs7nZz7osqxcy3ozzVsjgou6rttucx7PWM2VhOl4IRhkeX3rxr2Dw9NeZ1hzMZmGCKRkvKiY7Xo0zouhrq2fOxcn0c72vdHpcbvd9jvtMIxapqVbRs2Z4wVD34B7XzoEx4uK17ql61TDRGkaLaoKY4oVAiAKIUQJgEIEY4SUgEUUhWxOuWo5wXBl5Zl3Sc0wFnG+vb1dVGw8nSIlfN9fGw7zIvvc85+Zh2ESRbdv3zZ1/ZFHHkmi+Gd/9meTJLEsa2Vt9bu/5/cSTTs4OMiL7KnVa4Zh3L9//0w34dVXX202m0VRLKKo0W594IMffP7zny9Z/ejjjw+6AyAgmZzN5nmScsFKXliGYRl2ksYHp0e37t9+4tmnsKbvHx9yQJplaLr++OOP3zfv7u9sS4But5cUlajqSoh5klKM0/ksiRPEakU1w7ba3W5ZVAQIr1gURWepQd1uF2NclmUYhjs7O7PZzDCMLMvO4OQ6ooPBIJunWc4kU3me1zUTnFdVJVEpKZstxv3l9vJwICSbTWe6gVqNYHl54LmmrutSVIvFwtDtqqqohtqdlj4efUnNGZQSYTinOimKghAsVG2YumGe4ealrlNMDClFnudBqzkcDpVSh4eHCLDnuY4VIITiRVwUeZ7nCCvPazaClu8YX3jhi1vrW5bpBH7z+otveLYrFFJCgkK6rgulOOeOaysJZ376syQRpRRjvKxr2/XrSsRhSilmrpmkcZWx2ST0nKZODYRBSaS44qJWglBquHbDNGUUh7bFWc2Pjk4cy8AYzxczy9I73ZZlm2VZxnGMFJimeXoyJlhrBG1QaDKezuZxHGU3b9zWqeO5AUZaVdd5HjfbDdf3DUun/dXVWZzeebAnBS8V+J0uMrTbOzsIId0PiKEvFonTaHc6rYcfV0LLslwsFhQL0yC657CKibP0FqWkUlIpgRSSCBHQTLPMSioVIVQhZFvU87wzZHSappbvLS0PlofDuiizNH7ppZeornu+02j4733fuwfdnq7rL7/0UlFmf+gPf//y8nKW55/4xCdefvX6+fPn1zc3McZf/OIXD48O1tfXn3nmGcuyXNc9Pj09Y+AaTSZCiDAMJ5PJycnJZDZLwmS0df7Ga69feeTyh7/pw71h98btm4cnh17T/c5v/05FUQ2qrphAxG/aiGim7bzy6qtxNLc8t7+ynMaRZpnLm1sWwS3XqytmFLWqS8G4ZphBqx2FMStZVdbjyQxTmpflmbJDXdd+o5GX5WQ2O4vke45j27ZJdRHlLKu4wAVjrKwwwkiqqsoR5ZQqVgNRstP0kiwjGNqBx+ocqTqOZ77vS1mVZaJpaLGYIsAIs7drWZu2DlhWdRFGcyGZptMzEXYuaoU4wm8KfhGKDUPXda2q6rPztGO7hqnrhna2dbFt27LMSxevbG9v27q2urq+vrb5q6/9Bgg9CFqT0bRmSkkwdNpotZM4r6pK03XOFAAIIbiUAIAJUggphFzfPyPIkBK4hLJmKC25QKyWGtEJ0YRSrCq5AIR1U8dJlNuuyypp2Zbg6vRktLW5epaw7br2GZMA5zxNY4Ix0QjBVDOoUGg6i8qy9H0fAfH95urKxvrqlhRoHs2zIhRIGDpGGlBETd+1iWWzIjM9v2YVEBT0eycnJ0eTsUJESEQsMy0fphl2Bj3btooi46JoBj4AFlIShCWAAiWUFEII4AiDUsq0TMyYY1sGEM5kJRSXsmT1fDHrdruabd2+c0cIceONN3zX2Tp//gw7i5SilC4Wi3v37o1OT9fX1+fz+c7OTllVZ2x4judJKe9v35Oc6YRyzvv9/vnz52/dubO3txfFsWnb9+7de/f73vv5z39+sVjoug4AWZr/2q/+ulLq3MULRycjr+F3u11i4EUS5Vmxd3wwWFvFiHYHfb/VnIfhZ55/fmVtraw6nuMgJbFuJHFkYAjzDEl0NBoXUagphWvWbTTdRqvVzYswsXSzLEvHcbIsAwCEUBAEeZ6fJWYCwJuC5pyXXNZ5kuUJAutMKcg0bEyAV7WlUZPiXst0LSOOQt2gF88vr60sT8bHpg4GBcEyikTgmpzlSpW93hLCiugPwWh5kZWa1rXbJIEiLTA1bM8hBlaIIwSAQUrpel6v18OUTqfTumaEkLIspBJpFpVVgbAyNEPTLErJ7s5ekqXjJF5ZXn0tvEGJMRnPlcDRIhNcKoVc22wGvhDjyWhuGBRjLJQSnDMpKMIaNYiGdYKzPDFNwzB1Qs6IAoTiua5bdV0rQjRChJBSKFCYYEyptginEjAlmq6ZALKuqyiKdJNubq5LJWaTyRkNNWMMaRqSKGg0syqNw5RqhGqEYN22/c0NS6NGyWopFMJQ1GU5LaUsFQY6TzKv1YnyKo6i/qCbxyzOk8FgcHd3d5oeN5qdR65eu/zYo+jOGw8XQLu9tLTUarW4KFzHAJBFXVqajRB+M8sRIwAMGBABJiUDxQEQY1VeB64/XOk/++53/+bHPpFXhY4RokQiVdalTzw38G3bHCz10zi+f+fuvTt3jo6OOu320nDwyvWXb9y40el2L1269PiT1xzfi6JoNpvZhhk0fCX4fD575ZWXP/v8Z86fP99oBvP54tq1JwK/0e8NuJQf+MAHXnnllbIsp5rRaDQw0V65/to8mm9urS0Nlm3P+81Pf0x3zKqqdnZ2G73eyem4qKuyYlevPnL33u1FuEiS5LGrV08OFaqZUqqWSgDmiijJZcWzqjYNy3Y9XtZSKoUwl4oJ+WYmJtUWi8UZf2jNRcV4MpkahoGF5FGSxHHT1xGGwHMdx83zXPBa13QpmO/aukYWo5MrVy6/69qjQcM/PLQOj/Y8V0+SCKButdydB7uGTnzPmk1Pl+RDULxpa51e03HNJvM1A1mW4TY8Juu8yJTkGFPHsTrdVrMVVLVIkoRzrpQ0TE0IniazqpKaphFMlVRhGD3Y3ul2gyovX3/tNjDotPtIqelkYdu2lLiqWFWJZsPUdFvhBSKEcQ4EI0qwRBifweBAKVmUabPnrzdXdZNgUHmRplFlmkoqECCBV0oiiQAQPkv2brfbZVk2m+2aFWdc7ZPJpNtvN5tNqUQ4n58RbJ2RY0ulyopXlbIcvRE0Aas4SfOMGboVJcl4OscYB62AGFggLiQHrKjf7kZ5MX7tDSHr9YsXpEZPt2coXGiu03D81fWNc1cu54Kno5O33qxhGbqtC5C6qVNdlwCGYfCaY0wwYMCYnPFvEIwIymsGCCmkBAFCUc05NfS19dVWp/Opzz3f6w0uXbrUbrfa7XZdlq+/dp0QAtdVHIadTue597yn4fugVBRFCKH1jY1Go3H3/v03bt1c29hYW1trttuf+Oh/ruvacRyF0Ouvv56dnFz8zu/8zY9//Nlnn3322Wf/5U/9lGEYXhBkWVZVle8HH/mO77h58+Yrr76ugLc6QaPd4kIeHR099dQzisDeyTFjzHGcFz71KYXRc+957uj4aHdvr6wK3/Vc30eIcOCtVhdz0eh0LWqIIs8FKhhP8wJhihAJw3A0isuyPPOsSymLojijZjgj/AGAs48DVZCm8Vk2LxfM9Tzf86MoVEqBkGWV+pqpYaSkaDXcteUhYHECbDEdNTxbilqnynEMQlS33fE9axGGhvUwZavdadYtv2aFZeuYOppOTEuTFWe8YpIbGnFch1KapqmQyHVdADSZjKmGhSiSqHBs3zN9zqTgnHPebPjTaeSZumAicIIH90ethu86AUaECcbrKslyK8kEl7pmYKrXealrpmEYBoCQTL4JGa2CjjcYtj3fVcAR8LyMsvS0qgrfbUuOFYMzbywAUiA5V7bjFXmJAGdpLlQdNB3BBcZ4NBo1Ww3LMjB+82X6vp+kaV4zQ7dbjWarGaR5OpsudKpa7X5RzuI0NU1z2XVa3TbVgWhSNyldW9+KosgBhokiugl12er2Bkv93vLquXPnbMcrK/aZzz5vvvHaW2/W8zxN07IscxytwiAw0zSD1ZVSSiF1lg6MCaGEACBEJVEgFRi6blOTcb4oGRdvgjhPxqNZHDFet4LG6vLycGW51+sFgU8J0QjZ39l94+bNC+fOLa+s3Lt/X9O0Vqt17ty58Ww6Ho9t297a2vrABz6wmE2iJFtaXk6S5PEnn7h69eq/+/f//lu/9dsWUYQQeu6550zTvH3z5ic/9gnDttY3zl27du3K1avXX3vpC198+dzF82ubK51+L6+KMAxPT08fuXKV1TyKYt00x+Nx0Gquba7neW6b5quvvxFOpnmcbNeVTTXEasoEUoCpxlidl7Vr6r1eL5zNNA2qqm42m0IIy7LO9j9vRruEOENzm6aJFCCEbNtCCBVF0XTbtm0jpTzH5ry2Lctz7FbDR1Dzujo+PDBtra4KjATBcmWpKwFxKVeWB4PhsmU7CqOB5sKNnbNhcj17ES0IRbZtK8STNGWq4koAKMPQDFNDWJVlwRhnXLmuK8Sbqu6cc8Zry7Jcxy2LWtc03aCsKj3Pcw3z+PgEI9puu47lKwlFVSulqG4KgaM4rWsuAVc1V3AGkqNMCC6lEAIwpiYNGq5pUyaKNIt8z3I8QxEoufIQB0wkQgKUFAKQIggTQsIwxpjmeX62mVQSNRoNSuloNKIaAQBNpyIWZ2oxo/FUYaJrBiGU1+pMOJAaumEYURQJISzbsFzbrDXHM2zf0A1CNzY2b9y4oTCxHYsDUprmNbtgmMNBf+3y5bwo4tOxILjd673lXnAbgd9qECRMg0rJ4yR1TAmKACCJpQKEFCAOCEmEsYHNHOVJmmHDDNwG4ZJLZuqmYMWlc5v3d/fTLGt1Oo12fxbnXJEkLZIkjqLI0HVZ1Q3fB4BXr1/f3NgYj8fT6bQosqV+zzD0aDF/9ZUwS5L19fWy5hjjxWKRV+V0Mnny2rW15ZXR4dEzTz0VLRZ7cXx8fHwmP9Ntt3cfPOB1aVrG8uqw3+kShFtB4/T+SCnUbDSCIPjFX/gFpdFrTzx9+9bNb/y2DzebzSiKEsauX3/lfe95D+Li3u3bSoLnBQYoWVYVkGgyrfIMFOoHgWHbrm+nac4FFFlpWy7BGogKMGhY07Dm2V5mJo5pISmlZli6paQsyhw0qZkIaeAH7jwcD4ZL3a7X7TYoUbPZbDGfrK4v1XVuWRoAb7aCoqoOj08RRRLxo6PDJMuh/zBeub65dm82jeOYakpkVRjPDG4YlqXbmtcICKVFXnJRAyFFksdx4jhOu93Oi7RmVV1Kw9CRhkQhHC/wAjcKQ8VFkRZrK+eODk6aQSeOslajOzo9sCzLsO0zF2pVc8ZlxStd14AgJkRR5XVdE4oty9JNa2VjyWvas9k0TOZOMOz0e/2lBatlkRRI6aAok1JIBgA60SklRRz3+/2izH3fF1CBqv2gI3lFMChZnxEZYYIcx7FsO8kyRYlm6nlWKqUAY12zsqTY3zsKw9j3/X6302sHjM2bba/ZcRBR2Nasfqc7Oh5hqp2MpxkTkyx7MJ7OSjYtSqvXO0mSa+95z7s+8MGH39ZhN61KhKnkWFagY5NgHRTiSnIpBUiEkIapAZQCKeoKFDZtm1JasRwT0fBM38JXt9YMwS+srnzkm79lOFilujOL2e7p4tf+08d29w8OD48ebO84jmuZ9s69+69ff9XWtWGvW2cpkrwusotbG6xM79y+cePWrRdffgURevPmrf2dvZc//0VR1E8/em0xGru6cWlza3f7wSd/7ufiOH782mPf8I0fDiwDqnw2Oo6mI4fSNJoDZ7yqVM0sw/jA+z/00ouvFHn1kW/5yPbd+57r86o+2j/EAEmSUEpbjWBpOLh48cLlK5earYbhuNQwk7yK86oSOMrqtK6xZRqu32i3DdNChMZRttxfabrtptuus5oqCkJdvnD5icee2FrfMnRbSHx0OnIb9jyZjBfH1IKoiP1GsygYF1qW8W5vmBZ5lIVHx/sKuGHqfsMfri5brjNdTI9Hx7fv3895RUx9Z3f7rWHSDbhwYXWp4xNRa0hSCpyVjmd0lzoc8VoJpaG4yIuiaDab7XZbcZknGauFVAhrBGnAgRmOEXRamm1JRDC1vUbXDVpcoCQtpVDj8UQwpFPHoC6rZZwUjHEgb5KfZywL8zDKQmJgieRwdbhxfr2/1o3KKFeV5tluqz0J442LF0HTiWUSS58nC0UVNU2hlOv7GtUbzUAoplGYzUaszvu9Fq9z0yKUqlbLPx0dmZZhuy419Lvb94NW0Gj4gOTR8XEYpqxEvMIW9aYn83AaLfcHgesQxVwdDRrWarcxbLqUc1FVzPP8Iq82L1/YPz60vEB3jOW1dYnJqzduvn7rNlZ40H2ItKgBqFJCAhBMiaGACS7FW/zYgM7cOIpLhZGUiksJStZIWEiTUghcY0SWhz3fs/aOJ6++/ApY3srW5fpg1O0vb6wsuba+Nlyqy/JgZ3dvby9ZhF7QMC2n1e6+fP16nKYXL1/4+Mc/3lvq/4k/+SePjsec84999KNRFK0Ply+eP4+ktA1jPwzPb2390i/84o27d37gz/xZIPjg6Ogzn/rU1spqy/euXX3ktZuv/sK/+3ejyfEf/qEfFFhtbm6CRj///POmrn/nR77Ddbyjo6Pv+d7vvnXj5urqqpTy1s0b3/QN33D//n3JOa8KTaAkDGVRA+OcCcsLgIkoSwe9Zrvf40IVWcHyqtMZyJoVeSW4tAxqEKPOq2gRa4SWblmVNcEawuB6ppSsqtl4Xhd5rWtGo9Gwbdv1moSIMErGk3mjaTQ77ZOTPV3XpvPF7bt3MdU8v4F1e+Pclm37RVHQ9P5bw3T33p3RUl/XtDzLlOSOZVLTcHyPapqqSoUkkDO5IWqaplLAizovizAOEUWrq+vd3oAQKjmK0rgsasZlkiWy4hQ0ULiqKoqI67oILCFElqdYw6al51VeVnklatMNqrw0DAMDbS91G01/eWlJN3GcR0Wdl3XBOJvMpkmW6Ybd6nbqnJU5a3Qatm4b1KpKFwAqXrO6YkIZOnFcsxFYukmUkq5tea5pmDqlNE3juuZCCIR1hWRdl0TTlJR5VvIKqoppmqrK2nM817ZtnSpW+paOQehIUl2nhyeno/FUSOR6frfZSbKs1W+1B72nn3hyNBmfHB4v9/q7+4eLxUO6Adu2NE0r65oQ6RgmwopzLr/Ej3oGKuVSKgVCQsX5GWAKYTABvSmOhXB/eaiZhsKISQGM7e49uHv3zoe/6RvGhw9u37l1ejIusuzB9t1uq93s9FeGSy/fuO153v2jk3PnzrWHq//xox+/qpv7J+OTo+O6rIZLy5cuXiZSdbtd0zBOTk729w/DMJ7N5s88/a7T09HL1683Wq0Pf/CDk+OjV199dX9/v+TF1atXL1y4MBgM4iKdxItXX72+srV55drjv/7R34xfe/UbPvgNnMmyqD3XnUwmZyeQu7dvGZoW+M2W47JOh6VFMl9EEKmaFXUahmGa+u3A73WhdIvdew/ajVYepYt5RDE5E0aYTifVnJmmmSRZluRndCeNRiOOI0pplmUYkzMgvGYYEiBJ87SIw7DWDFQyVdSSGHjv6PhwNF3f2NItz3S1ra2Ls0kItoa0hzmLo6MRdPtUM5UiCOue75iuY5guV1IK4Jw7ZwCuWjDGhJCccyl4XZZYw4Nur9FsgkKgSDTfA6koxmVZsrzSkN5ut8cnI4yw49hSlVmWSSUty0NUq+Oc1UwpPk9mUIPfdVhaIk1oFp7GE1qC4xGEASMgGE8n4zyLfcfrtluVWedG2W91BAfJoDLq+WQupWSyRlJQYmj6GbuW4pxVjPmBm+c5xjhNU023y7K0bJ0xURaVDkgKlSVZTQQhFAgghVtBw7ZtqpGqKrvdpkakRohtmTRKizDPXde5+shjdSU6zfZwMGx3W2WUvvz5F3b397tLg43Vter44bfVME2BIC1yhalOKUaKCYEJUWeoVwCJACslhKxBMSlqKaUUROBScQ0jighWcjSdGo6zsrraqMW9vePp0SEXrC7Lnb2DhutKhQ3HXd+6eH5rU3I+nkySkt07uCmJ3hou398/0rzGpcefTCsxGc/Go5Pzm+eLLCNATk9P283O3v7+6enYsK1v+8h3FnXxK7/yq48+flU37Ol0KqVstzq6oRGOnn32WcMyDg8P24NuGiX9fn+p17/9YPvC1rmD05Mnn3zyV//Tf7x88WISZ6PTycbG5oMHDzY2NgkoyfjsdNT0fa/VklU9H80ZZ5hSx/Nmi4hiLATXdDOKU8dwkqzI4njQ7euaaZmOUpO6rOuKxVGSxpGoa4QkpQRhFTQ8BQIBlQIYr3GN5/NFGE+xxpGG8pLf297TNEhKhojhBi3NdFlRVpU4OpqcHI8ajeaS5781TK4TYLedxalUxLICy3MkhTJnDDjjijEeeJpGzLAMF+GM1UJUDGOsUaxRLUsSDMC4okQ3dR1ppEwryRkG0DUyHAzi2aIqKi6rWqTUBt2ydAsLKahDGoaPKdJMHWvkqaefOD4+OpM0nUwmOoOg1UPEBCnrik3iKResKOLA86iObKm3Gp1wkUTzREieF6mua4QiwFggzuui5kQIUpYFIKEQPyPPUwoFDbuoaomgKAohlGSSAKlrTk3lOA6lVLDadR2KQTCGMOt2WpynmkY1ndDWYHAwPl3dPL+0vLKzfb8oU3ON7N/b6S31dm7fH89ntuUOl4d0/JActyxLyZhUSiKQABIUU5IgggHeFAsBEEoRBEIpIYEpCVJSBEwhrkAoxTF86rOfaTW6bd0qRvP93R3d8Z547Op0MpKMv//9H0ii1DT1NE0JhlzkUZZfvfZEc3QCCOmW+ekvvNRdXXVabQKwvbO7NhiYmnHvzh3JRJanZVF1uu33vff9l69eyfLyY5/8RLfTW11Zv3Xn7huvvfb0448+/uijQavxyvWX9vf3gapGMwANI4TW1zbmi3D3we5z73uvbpmsqsL5fDB47t79251ma3Nt/XB3ZzgYHOzu1Fk+m01BKeIGCiEFIITQCfE8T1VpmqaSyabfQAiHUZpECZagUaNmXCGMsE4ByVotZnFVZoiXSArdoASB59iSs6LkWZUfHh+3mu2SVZPZzAtM03IFZgenseOCU5uPPvrYpcuXoyQ7vnl7Nlscnc40qnOO1+nDL8BwsHovLWbTkEvpN33DtMM8ifNMUUQ0XRFU1ZxVeZZlWCgpQYEUUlKMLVM/2H3g2F7NJCba6vKGUlCXBatrJN4UgcQECcnLqih40uw2bc/MiyJhhekbw+6S3wz8ps8lf+TRK2bTFEKUZR5XC6wkIEmQsk1dMk4JGDquqyzPQwxaVZdppqVpzGqGABRwxqVmIKppFAPjSoE0TB2QiQmq63o+nyuFznJa35Ins3QTKUIoBslNzXAt901ybEKqogAJjkds264qhpGSnFEr8AWgTrc/HS8El+PTqbws33jlte5Rp9dsD5eWsaWbpkkeCmJCmucmgOv7DcO0DJPxSgIIpQSCM66Ps5VAAeEzhRCFEVIAoBBRCAHBGOFnnnnms5/+/H/+6Cca7W6v1Vi/cFlh8iu//KvPPfPUoNXevXtveXnZ0mhZlq1Wy/d9TOnm1tYsXOwdHHhBsDQcfvZzLzg6PT4+7gXNdrv9wQ986PbNm5cvX14sFucvXvy1X/u1j/7mx+/cucOV/P4f+IGbN2+urq4+89STosz39/fdaMEYOzw8bHaaruMZ1Oj3ekenp1ypd7/73bdv3eIAmm6tr6zxijmO2+/0wlnYbnVm48nx0UnDdfr9PhKSMWZZVrvdXiCkak6VZpmBqGuFQDet/mA5ms5ZLQLPqwUvFgVSiGBNYVXkJZPCMajjupQohABhWzc0yzbzMlJKzhaJZVmaoVV1rTGKKNV0DTNWVgJpShGjkvTodLpzcFyVtUYNSowsO16x3gaKN+yjw9M4zEzHdhqEC5QXLC9qwzapoem6lsRpHIUU4267TQBHi7AqCpCCKkiSSAlRVgIU6jU7eVlLVlEMSiikRBqHZz5cqiHNRMQEieqMpwIJv91dv7DRWx7Ugp2MRrujg2k0d1ybY0VtjZeFkAwJbppmtJibBtGIoSTULHMMR/BqPDqoCmnolkbMoOEnaQwYDNNwHUu3kO/Zruc4juF6jpQyimMlQSFScXbmVXcdjyosuNSpRUmtEZ1znsVJXVfg23mSMiaCRqvIEiHLIhOMISoV9oKACX50etIN/F67qxON5+y1l1556rl32Q1PEFzXtaU9XAAK1FlMh2o6k4IJAZRIIc42QEgpcQYBQoggoEJooIiUBAEBRBHFiBJMfMddW1l5//ve7fmtN27e3b75+tLK2p/+Yz90fnPDd1wWhdeeerIsy4qxLM+jLDo6Ocnz9PaN1x/s7Jy7fAljCGeTpfMXfvRP/5lb19+YjGdFUWw/2Ns6d3Fv/+jlV17r9XoVE6ur673BoBG0Bv0hKHj1lVff9eQTCKGzKNXR6XGURgcHBxcuX6SWzqTcOz5q6vraynotxI2btx9/6rEyz23DlkweHxw5rrNzetpsNtt+MBmNotk81o1Os6mZBqEUIWJ7bp2EUggDU13X19fX7xVVoiemYZVFFYeha7uUaBKJoqiUUo1+r90wfc86y0bO84xQIFgFvkNIhTGu65pLkIA4B2JSx20AVVTDd7f3D09nrBZKUiUVpWYcpbFMT/XirWEKF3GZs5opwlRZcYFqVitAmgJaV1yByPP8TBUuCAJel3EsKVG2QSiWvU4LY6rhCmE9icMsL5VUtmlIDVmGGacL17NMQytZriGaFamoENZop9vuLPWdVqDZVlXIWoqj0Wlelrpt5lVl+Z7SNcMwMIdWwz852nM9EyuglEqhdIK1jjufxpRSjRigUGfQJguUFiHRoNNtanoHpKhYRTH0+n1CyGw+L/JSAq6q6oymwLIsWQqEke8HelFXZV2keTQPqY4450VRnOG2RycnmNZlpduWRjXT2Dp/vixLxzQcx1ldGpia2W11NtZXNs9d2D7cMwMHY2TZDx3MBGMhRFlXoqpkVUvFNcOgug4AQqmz3354kxcNEYQ0QBghgjBBhCBEMaZAlrtLwbv8KxcvJ1lh6eZoOncd73u/6xuJgDwr3acfW9vojKaJ43nT2exwBINua3vnQb/pR6HXbXjbDx5oWK4sDRbz+Vlc6bXXXvN9f7FYHB8fY40WdTUcDgfDoWEYN27cuHDhwosvvuh53snJyeVLV2bh/P72PcUlQujB9vYTTz+pKFEghoNBGMdIKsFYtFicoTuRhPlsoWsmSNCJsbS8ksbRWTonQkg3jDIr0iLXgDQDP5ycYikI1oVSzVbbtlxKNIxxVdZ5VliGpWk6r1hZlpTSZrPpuXQwaDNRCsGTNBSSgWKO5/Z7S4sozrKUc06wVjNWM0UN6jo2ENjdP1CIXHv08WWnsb+zlxc1whpGiL1Nym0ymRpeUHEFiFRMcFQrBRo1lISiyhmvpeKO4zSavqHjNM5ZXegUm4YlpVxbHuZlZRilYdrTyUJwxRjXNNPQqGWZSRi5riuFyJIcWXiWLiTAcHVtaX2l2elyQIs0Y7wWCJcCUd2spVpEsR94hm15noM5bbUaGsGuo1OMPcepK8aZbPQ7tmnWNcRxmcZVo9nRDVLsR0CVG7jtViNazCe7Y4pB0zTHcSzL4lIpIFmWA0FccZ0YQgoMYFsuUiWrRZnnZVm6ugVCCSEI4xThyWSiGUIIC5RNV1aHnXYwPjrO0lQpFUURwfDud797ZXV5HM8FRafRDBEspXjrzTLGqFKWZZVpJqU0TEMIYVsm55xzhpWSSiqMCCU61YqaYaQo1kyMdIwRVzUrhSwE1W3LChwnK1i30WRC2pZjKkBScV5e2RhEUdZxDM7Ltmfa1nKr2VjqN7c2lnf29j7/hRdkmbz3ueduXH/x/uv3LmycazQaGiGdTifLsmff8+4gCBaLxRdfeunatWsnJydZlo1OTy+cP69T3O20ZpPRSy9+Ma+K/qDrNVzbtrMk2Th/Pq3Kabio8moRxq/fvhVn6cnR0e7hztPPPnVuc3PvcN/UKV5etmxjcjpyHGf5iSdEXRdxYlnWysqwyitqUCAYgxqurmRx0u8PmBRCKcDk+PjUNkyMKAJcVxwBbgTNxTzUiDMLFxoFLipdwwezMUVkfW04HKxtP9i//vobjYYPAFVVUZPUlSwMkaYpQoZpOYswtRyn2xsWRTGbTDiTtu9BGr7pqzD0KEla3b7luOPZhGdCgORKOL6TJEmaJWtrQ9vSfNepq7LlO+kC6jL1Tb/b7vV6TccNuFSf/ORnCdWXu700q27duDsYLJVRHbT9aTjVsbZxfn2azmKe10wE7Q7RzCivA9Pb3z8Ow9ALPMvypOJFyQBpk9HcN+gTm2uTw735bPTM09fu37t1YWt958GDZrNpW45t+62Gf/fufhBY8/l8NGGO41CNKKUYY7ppHh4fAwDn/Dc/+rF2uz0cDouSa4ZRltVZvkbGMllJAmQ6ndqW82Z8vdns9ltSVL7vK5WdbarH031NU7Zj0EsXt+7fueu61lKv0+m2JWftbndp2NdMPWZFU+9qDV/ouA8Ps0E1Qk3TJIQopWrB01mcZJmfZ1xKgkDH2MTEIrQilFIqEUZSKiEFIUghIAgQJggJzjmUCGs6BtcyQGGiaxoCQ1PYwAaARqVl0ZIzUXLP1oSoe+0GRmI+G/U7TdO8/N53PbO+NPyOD3+rZ/kHBwebm5v3trcn89npZDyaTJrNplJqsVjkef7UU0/dv38/y7K6zBHIZuA1gmZ2kqZpurKyvJjMzxi9XdctypIptbV57vyliwfHx7bnWLbu2e7R0VFdVIvZLI5D13OWl5eTODw5OXFMc2lpSdY8Ms0szoo0Ngy922yejk91RKM4DAJPLS3du3Wn2Wx6tuO5LiHE0o0zEas4Fp2WQwixbd0wnEEv6HWbeZ43AjdJZnkegqw1il3HZMrBGJVVxeO85lIpXQmcZTVjIKWUnOuaiYjSTfOtYarrinEexQuOACGla3rFa15VXDBD1yn1XdvqdZsYOCFqMj7WKATtxtbq2nd+x3csFlGcZu3OoNlu3rpxh2rWgBgAgADXlQCFEJZRFmq5ARrxmg0ukOv5xLCSsmJhXFWi5iCRjpBelbxIiyKrdU1vNIIkigLfbTQ9BNz3rG4vyLOGUjJN537gUawtr/ZHo7DR8sfjMM9Vt9tVINI0nc1mvV5/Pp9Nx2PB2GIRAaZpnvdcVzdNohSlVHEABDq1KNXKqsiyrOaccz46nbQ6HqW6BF7WvCyVkijN8+qwpFhWSTwFxV3HPDo5KosMUbS0tnwwOj2eTohtENvQXdP1H/rXtrfvD0cjExOd0ma3l+SJYVlAsI6xRrBJqU01m2oWJhhQkhcSYcCcSCWFkqAUBokQxVhKKREnWHMsEyEslJKcazoBS5PACJYYECFYSO4aTimFSQzTMpaGA0RxXdePXb1y+eJFyrUirRzXunPnzhs3Xnvm2WeFEMPV4WQysV2r2W6YtnF/++7xyfG7nnq6KIpwMRsOeq1Wq3qhMGyj0Wi8fvP1+/fuPfLYVZBSSUkxns9md7e3wzQ7d+GcqRmmZkrOzzKiCVLT2QQpsbW5mYSRAqg4y6IYYdxst6si41Lolj6bTTfWNvKyxJT0lgY3XnjZ6i35nn+WrOx5XlVV08m8LOGBLCrW6XUb7bbXbrum2ZvNZmWRCQ6cFQiUlDUCYRtEIlUj5Biubb4psssYL8tKCa6UAsV1QpV6+KGueC4BJWmEDGIYhm6ZomBVmvO4UkpyVmSprg/aCHCj0azyOXEtUyPdbhNhmWSh7Xiajv3A0QzieKYQeHl9aT4LEeFCKL/lMclsz6qrvDcYIGI4QWA4blzxRZzWTFYcJWkZ86wsUhAcJMKEgIA0ijWXguSYCNukGla2iQCQTki7aecFdLC/mMftTiPLSwR0Z3e30+koifjh8bnNzcBvDLoDKcXu7m4cxwohwzAIPeMhQUVVuaZvaZYQMs2TNM+5lJLzOIttV0vTVKpCylwqy/WcoGFjojBipSwzg0rBy8n0NGdllKXbB/vzNKGWY/mB6Qeu1yjrh3m2rGZvkR6/KQFBiWmalmVZlqXrukE1UzujAtE827Nt2zQMSikAcCmFkkIpYhrE0EGjiCKFlQAuZM1UzUFiSqM8K6VgIAvB07qqQCGsLep0EkeNXvfxJ5/aunARabTV6fR6bddznnrqqUUc1nX93LufFaDa3Xan2zUtYzweA1LXr18nFHPODZ06lhVFyXg8TuJ0ZXlNCIExnU3nL33hxWi+0DTN0LQ0TRezGQZwbPtTH//UbDztNDugkGGYzUbbtpw8L5WE7qDvOM5oNDoZj4SUmmFYllWLehbODdvwfBdhVRS5ZZlur6lACFB5nqdpekZqcMY/npVFVmQSS6phITljOUKcAPNtw3N0z9ZElWfxgtcVUsKxTMe0XdNzDFejBlFUcSn4m1rZZ7pjD78AsgbMK5YWeayAazoydKxREKwmWOo6AsXDxaTMIkND57bWNlaXmk2v32sdHO1yXpq2dnC0s7u/bbpaLarj8ZHXdE3XRLriULlt1+t4TtMBDXUG/cHaMrVMzTDcoKGAFIwrROaL5OjoeDGPTGp1giYBbTGe6bpeFXkUzpUSge9UVYyQaLbc1bWB6+iapooykooZptbrdxtNX9P0dqu3ubGlgIZRBgqvr20uLQ37/QFGBGMiEZR1rc6QWFIIybMyi9I4KzN2RhaPMSJ0ESXjyaxmQiGCCLUdPwianW6fxvNRkYe+1wjDaS2rpXZX6eT1+3dWNjf6y0PNNirJGKjJ0fFbb7YRBO1mU6cUpMzz/AzeRQhBhCglGecVCE0BxUQpRTRLIkBSF4oLIc+8oQoQxwgQ0QBqJc56wBjrGslBEcCTvCC6pkDNyyKsa8QqSXDC6rCufcvCukE8f1HViDIpJCbQahlXHrk0GPzwu9/z7Cc+/al79+9cOH/p3s7d+3fuX330yrd86zfbpv65z3yurutLFy6cnp6WZR7Foe+6X3jpBazRg4MD0zafefZZ12mcxhPTcpvNdpylo5OTX/vFX8QErl59ZHtv23HsoOGvrq5qOt3b2zvbYkopB4OBZztlWRm22el36yzZOreZZglnnBjEtPSlpaUiyQAkoQhjYtlGwJy6anmB0EJ1DAAA2aVJREFUFSeTM3aqvMjGo/35bESUsG13a6PRbtqs6kwWYVGkkiAqNcvx43kkgQKAAKFASskBJCDuWC4mIMTDgL2mAaHKxLTmeVZgBhUXgmqIatT1rVZj6Pt2NB8XcSVZcvnCFiBCsMZlZRlmq9WcR/PJ7HT/4NB2/fkirjj0ljqYoppXURJRQamB8yozXcNveYbtz+KMIen4LgmjOmYIyJn6gaFR33U924hqlqeFpmFKiJICKdFqerajcWZaJm02/KouNYqqunB9K0lF0HRn03hlee2MpiXwW1laaFhrnu8wVkVhEkVRxes8z4uioBoGUKZlRIuoyOq6EhIQAFEYqKa7nlPzvGT1SqO/NGxaJpRFuXdwRDVEP/2pjy4W0bPvfu/pdCYkT8vcbARKp0eTMfVdE+wojfOqLMYPQfEgRFWUREHDccuyDDyv5hxRQikFKaRUBJBGiIYJE6LiZ2hJKUApJYmCM+2AlNUG1RQmXIqS1QikQQ0Na4u6oLo+r0qd4CiOsroqEBFlnZal47lSt07CRM3TMwaEpBZFmnQcP03Ze597t9cIwjT9pm/5Rs75pz/72TzPv+0j36Lrepmmn/7kF5eXlp555kPdVncymYzHY0zU6urqb/zGr21dOCdqdnpyMhqNQjcdz2fzONk/PFyE4eHJ8Y/9zR+3PafTa2uapllaWeV1XYfRQtf16XQ6m0yajUZvMCiyrCgK33XX19eno6N+v//CZz6ngdZuty3Lcj1H1kzTNNswDMNoer5Oqa7rhqktDVu2gwaDjmuTPJsh4LZjNwKXVZlh0OVhD2E1nswLVheJUApnGeaKIoQAA8KKyVpIzmV9Fkyo8MNRanfbbQoIa2GUKsVm07DmwjANTAApA4DblsYNnUEdz2eTsa1YTSiSiq2SzaLM51HsB95sMT46PQlaXc/3vaaLCJlH4Xg6jbNE1/WCFV63I0AqIpmseZkZNlEYzrhQXdc2CMKcS15XhcRS2Lo2OR0Ney5IHocLo+MaumGZNI5mnVaj5oXrNDuthutRfrLgjEgpQaGbN+4sptHq2jIlum5Ylu12ne7R0ZFlezxPsiwry9KyjYpVGtWLusyqsioYJTrBOgJMKTUsy9MtoSqFcFmzoswBVXUdEw3owc6DOE117X2+ZzW7nYxLpxF0G8Hd7Z3TxbxFIUyT8Xg8fNvpyvd8DCA51zRtPp9TDcdpSnTNNE2CQHEuEJZSSkCMMU6QQAAI8S/FjIVQVErJQSDgSEolOJJICQRCgZiXpY5RxJUFOE4SoBQbRiREDbiq+KIWRcnqmjWGy4IrVVfrjZZJSJQmnW4zjNPjk6Mnn3yitzRQGOaL2WQyns/nFCHTMt773vdMJtPDvUMAGI1Gnm9/9rOf3d3dtT2HSfbe1SEAmLq+sbZuTqYHR0fD4cqlR644vru9+2AezjBGlNKu3z2dnFZVtdTvnp6eAoCmaVEUFUVBDapbRlXHhmHUdS0BqqoKLFdI3mq1ZMUZrwGRs/QVKaWu60rJOE2zggGqLQPCcIoxJkSlcYS5QkAbXjPL3CzLZCnyQtRFbukdIKamUUWAibqsVFkxDFCWBdUINvW3hmm43D9SDDDRbV1J4KcMqtp2DSkloZjXVZlnvucSXxe1nYYLVmVU01zXmS8mrOad/pIXBFtbm9MwCdodQ3c4Z5pOHd+1fevw4HjJH2JdMx19NDttglIgsyxJa84l95s+Vtg0jCpO4sWsKFLghGJpuVaSzKpAA1VjwnyfZrlUIDFREjhIISRvtLyjk+SMXtayrFSTpmGdnJwSQjzH0XX9jddvOK49Cxdnu4azIADGOI5j07Asy9GomdMyLyrGuWGYCOOaMy8I4iiPo6QoFoYhhqtd29WlYtS0tFt39vd2d0zff+qJp07nc8uxqK7bgZvmuc29rChPT0/PvU2BuRX4hk4JIZ7hjLHCGPO6JghRTeoapVSzCLV1w0RYScAEc8AIK6QU41wKyZRQCFumJpRiQkgpOQKpEBcSozpk3OAqUQpjPC9q29Udyy7LyvTd4/FovFg4vod0szbMqIxJVXdcOR6dGrqJGX9weKDrOkJIMr7cH3z/7/ven/7pn97fvr+5ufnIxQsaxbdvvcEK6fv+dDIStT9fzGxDp0iVdTk5OVac2aZBTbPXbV86t2U5rsL44PiQV0yaJrHp7u7u2uY6KOx53mIesarqtNuO40xGE03T+v2+YPVoMuNFWRW83e3NTyZxlipNdfqdxWwez2NW1hqhGGNTMzRN47IOoxHGdVWZtqkILZd7TdfWJ6NRzRDFBqUBpaBryBAaAoEUOLZpWYHtulgjJSuzMqnrgstC17BmQNsw3iLH9RueXqZcgu+7ju9Rk1RV5fp+WRWOZTQbnqgKx9KAQ9AJ9rbvIoQoIaZpSqHO8gtOT0+ffOqJvGavXH9juLxcsRwpahm6Y5llkVKMqaYhwOPRFGFTt4IyL5mUCmi32/ccD4Sc1CpVCySlTqlOwKJEs1wFgrHKMw3dNLK8tEy6vLLBBdQckizUzcbx0UlRIc6x47gjttjc2Lh37+7J8UHiuralnZ4cIqwYqxVWCAOTXNd107IQYMDU831KjNhIqpNJxWpKHUygKos8p19ikuOWZQ56KwTLMJrRJE8uPXrpeHR4pfNoI3CwSZNaPNi9f/v+jqSEGLplOg3XN6OHblAdCQoqyZJbB3fb7XZZ151uWxSlS6kuMTBhIGRhCkLyokQatXTd1k2sW8oRZVVWecE5J1JVRaF0HVNaKQBCBEJplqWgDk5Pe72eAEC6kVb15PAor2qkaa/fuikQufbM073l4Rdu3RpNZ889/vhEQw/mJxfWz5kmnZX51dWVhu3s3rv/6PkLRZq9cenSo1sbk+l42O9cf/H59z/3TDPolkXF6nI6Hmn6xaDpHh4eHJwcjA92Zyd7GKpFlvqtTplH11/54vq5C69df/W7v+d74rrI60J37N2DHU2ntqU3XS+NFsvDgWT8hec/Dxh3ej3b9dY2Lx/t7DqGiZCRxmW6CJMwXhsud4fde9u3QaiVpWGSZGlZdNpdwLhmQjPUbDFvX+gNB63AJcNBqxkgU3d9t10zwiQfTyaO43hVTamNJHMszbZ1RIlhG7pJONNNs+k5ZHmlNzg9hnunZ8O0s7d/OwmJrrXabUOZF66c67bbCMtwMUuiRaft99rrkvP5ZFzlxdLKcl2UQogrlx4bzWd7e3tJkiKEdna3l1fW+4NOux3UTExH8ziaCV63G835eNLpD08PRr3mUp2BbVie4Y7Goe0Es8Mk1bmSTHGRLnKuCZbFnU4Dy7Lddc6dWzIMgkGVdfZgZ+fDH/xgu9vdvr/7ic98FoN5+fLjlBgUieWV1dHJ/PFHrnzusy80fVtIbtk61cGQuKyKtIofffTRvb09UzeVBM7UoLfCJVS1LGSeFSXRScdr+77PaxayFBTzPbvTaiXxQseOqOjp+JRzRsezyff/oR948toz/aXhZBFhBUjJVtBYGg6ymiGENEJaQctIZ28tAMlqjMG0DKaUwAoAiqJwiWZTzQDChSRCiqqWAgRXtkGUlKwsztRyEIBrWkAwIJRFRZrniBCghFqmFDKtGEdUIiIkcCkxpbqh8xRhxqM4ppSatluU5Wg2a/S6ZquVSv6bX3j+/HAp19GoSMOy2D09Wel006rMynJldfgHf+AHXr3+4s/93M+dv7D1rnc9MxqN79/bOT44IoAsS3Ns/WBf5EXaaLjLqysN11lbWR4iYFIxyaSUumV98D3vFUIc7h0kdSY0vLK2KgVP4vkLL7ywvjIcn5zu7OysDIdbFy8CRrfv3m8Y9mg0m2GiY2TaNgE0PTneO9h77MrV3qB7ejwKkwgUIRqJs6TIY9u1NFIjxJI0THOxtNR3HMJqQzExGLYOD2YKMUyVlKrf70dxbmo6As5ZhUBXCFVVpXhNbNN3bCRreJtKpOd5XVMzXSeKIgkqjBYPtu9IUbmmsbzc73ebvmuDlBTJLIryPF8eLC2vrnt+q5ZoOlskcXY8Oi5Y3e3311aXF+HCctzFYra/t5NEZdPz86zK4sRudBzNBcNquV1u6nVGorg6PhnHYbiyOtxYH3RbvSwaR0noOIbT0DzfeeTq5d2dBzu7D9bXV7vd5ZPRIkp5GJUKDCHI9oPDyenCd1upnRNA7ZZ/6dJmFIeaqZV5pps4KYq8jBkvpWJBKxBCGLqV5UWeZY1GR0iU5sUZGw0ndV2XCEDTqWlohCKCNVaJ2SQ8sE7m0wnCim6dP/fsu9+9PFxzXP94PF1eXkHzRakS2zQxpYrXILReq+EtHqYZZnlmSGnZFi8KAKCUVlWF6Jek8d5UBxBK4TcFQ4XkUkopsQJCCBhU07RFGAohNMPQLZMrJQGqui7LUiDs2VbD9dIiZYRYhqkT7Yzwp9VqgW5UQkSzme37JsE7D+6PDw8fuXQhKsppEeZIhYIFSAnHynWSYNCaweojl//r7/+DCKtbt2/un55kUYExdiybifJkPKrqQiqONfTGG2+cu3zx3OVLCOPZbIqk6vf7p5PppYuPvPzG6wCwurqasJJqeDyfLeazdrtt2zan9MKFi7Ztx3m+iMJGoyGykuo6cJHneZ0lwDillBKglPT7/SRK86r07cCyLCmUbmhUk1JVqyu9lWGwPHRXVgIdi47eIVIDpEbj0/5gFTTj3vahbpi6aZaZFIKzPFekAoKLosCq5kyL46QoZFBUD71AhOrIoJguDQYrw+Hhwe5kMllZ7g8GXdM0bdteWlrKs+T46LAq8qWlwaDXM21HKTijcFxE0enpaV5XVVWtrG2EUbKytDI+midhkqf15nATtbEEff90XlSzqkbTSYaxGyV1lJTzyUKF0SnGtkaQQsOlVZDtoGlpKNOokaXFdDaPokQI5AfNupbT6eHW5vkkyqtCdLt2q9lVQE6OTzudXmfQUmRzb39Ht4w0wdTQlv1hkHqMsaXl7hD1b7xxU3CkFCNY6TouKxBcvskZSnWlkBQSI5JnhW5oeVbEaS54iQgu8tS0DPrhb/7mIZLqC58RhrGS5ANZoNFEHJ3gLDNtF0dYKuXoxnD6UIG5cbjXvPWa5Xt6kliOrVMdqppKZWmGBsgQgiJsGKZSoFc1gMQYEYwxfEkiFwEgpOWZQanlugqjJMsYZxohtgTOONEM83CbJYkBuNlqVTVLywJTjeg0r3leVbM4TLJMKhgUyRPdTvP29SqrTAVGUXVRqcWnflmZC/v0tUwJtt5snFtu3btzK54dBbheu7olyjpLkr29aaFKt2UnSRzv3jcMrX+449x+PSuKDhdY1/KKhbdvO1Whv/LyU09co9HsNJwlaeTUVT+Nes3m+M4t3/OWloYH+/uv3nhjYNtXLl85HZ/ogE40jZcFqwUFFQSBSeh0MW+0m51e+/R4dEZfhRDyPI/xeZ4X3f65x596pNc1kEzD+ajXbGVJleQJU3WjHbT6SxLTw8NjqTjVNEppWYssK4muUUoxAqXUbDajVJ43HvoqyqJmqkYIXTx/TtOJ77pXr1xZHvZ6nWaaLDzHQiCjRbiYzXRCNZ2WZTmezmy3XTNu2rYjpWFZWVWOx2OiGVmS+K77yKXLb1y/kaCszPPAaShCTg6PFbGrGks1Q5pLqCuUYesOGQRlmR3tHRumGnTONfzAMHEWFWVZfeGFL5ZVETQ68/kCU2oa9niyaLeKshIY61KRM17u05NTzwtqVGke0X0NQDb7zbLIut1eGBpKKaqj4dJwZ/d+uEhs23YMP0kjjF0hBHmTBNuSUtY140wmVWVxPQzjIi85q8J5DCAxovRy4H7b73svvM3eBV/Dfug//iz8x5/9Wq3+f8seB/hv3rHiLdmDDOCn7sJP/f23V34IAAA+CF+3/Yc3//5X7/tI7rp+IyAgDYSqLAMpA99vtVrT8UwIUbOyrrimSdshjqu7gWdaupSyyPMoSQxNC2fRUn/18tXLCCsFfGV1aXvn/mgyG/Q3LcviWcWKHCPd91yCFZKl12gTIsy3PUtdc802NEx0Srfv3/NdZ7C8HC4mnmP2ej0hxL179yajses5vuPGSZhEkeP6eZHWHEzTJJq2trZmOXYcx9PJq61WO5zN281mr901wdp5sEfgOE4rXmPTpe1OX4JZMiqVwTi1Ah9jGuMFyDyeLx7c3zN16QcWkiGRxHWQ53uO66VxTHXMWc0E+fwXrztOsxG0d3aO0vig4bfLSiRpPlmcAuZe08yyrDfs7j6IBGJZlXiOc/vOjXYzuHB+Y+fBPkLIpNZ0dtBqN6tKl5xj/KY4uRCSc2EZJiBSFEwqooBmeQ1K1LWk2mz0laNIKTz2HGAAy4OjHdi58/VPgP/ChjF8ufT512VeAzYugmXD7j0YH31dlwxWYWnlnavCBUyOIY2/rLDRgUefgiwBy4ObL0M4/YqL2nk2te0oSViedpsNSqlpmKZjm7ZtWLoScCbQAlDrur6xcX7QXxIK5UVBqKZRc/vBbr+9pJtWQzfKUsxm8eHJeDwet9ptjAGwUIgDUoQiSikoLoRYW9skiBnTyVvPwDnTsMmqqszzIk5EVRIssywmy0vtRvPll75ANYIwUEwBSUqoaZqNZiuMCkTBchwTo42tzeHaal3XR4cnF85frGuWidQ1rUqvRVUXVTGf8NWtc1jzW0GHMS1KRVaBrMEJ3KIoiKIIm5LjaJHNWBRFBsUpK9U3fsNzpqVHUcQVNqiR5dVgafXw4AQwC6Miy6owTEVNbMvTDL3ite4i27FLnmMNOb5l2NrScs93vFu3bh0dH26tb4azcD6ZEc0KfNe2rbISRV6WZSmxIm/pbgNGgIVQumYoQoQQQkrGGQ3j6MuGznbhx/8lXHocTBvyFAwT/tnfgZ/9P7+uafRf1j70HfDYu+Af/Tjw+ms3fsv+4J+EP/KjUJaAMVAKL38W/rf/BywmX+OqP/Kj8O2/HzD6LRUIyhx+7p/CP/s7D8suPQ4/8VNANfAbEIfAGfzl/xZuXX/7ZbZj2a6bRvEiigLPtV3PsEzTNv1mYLtuPF8IkM1mw7IowVWv06srES1S2xa+ZzYbvdOTseN14rTe2X5g2Y3JNHzpletFAU8/c2E6SWvOKl5btmnbthCc1aVOkBTKdW2CHsI2WFXN58x1zJ372512GxNgrOp120qpMAxHo9HFSxcMXZtMR6hSq6urzWYTkFYw0Inm+X5R5Z7nBc2mFGBYTq/XCxfJIoyCoDk9CdeW16qS+XblON4srNJ5UnGtqAgXlFVIb1h5XWFJTVNHAQ98WuZENxXIWoqa1dI0NCm12WzOBCGY9tuDooT9/UkcRo1m19D9JEyVQkVZAwGv4VFKueJpkbZ7bazwxvp6GiXLy8vz+XypNwApq7IEiTBAWRRn5Et1XSOCdV0niHImy5qbJqVADdMUvK6zTEospaSzKHw4bq4PP/tZiBbwF34ApARew5Un4X/8W9AdwD/867+DWfhfxJ56L3zwO+Bf/X1Iv+4F8J1/AP7YX4CP/TL88s9CmcO1Z+H3/zD8+L+AP/09wPlXu/Bf/G/wyz/zDgvgQ98Bf+TPwSd/5W1P9T74m/8cfv3/hl/5ObBMqAr4yPfB3/s38Nd+GF781FutEEK9Xq/huIeWbul6URWB75q23ey0DdsMd6OyLAPXazQaOlWslrdv3mu1zE7bEl1vedBZ6m3GUWno9hc+f51qVsnFaMR7AwtT6jf9+TzGBJzAd90gSRKuuGfbo9HI1Pv0bbglxsV0MV198rHnP3f9u37Phy5fuTRfTJgodx88iKNgZWXFNE0A5XmeaZpE14iuuW4jqyQ1LNd3klGaFYXbaFBdt0z73r17danqjPfaS/fk9mAwiBaZRlmayzRKQJrUaHqWx5WpRGVQgzNpm16361fM1rQKqcJxqW06zUDs7R1tbGx4fvMLL75ih/HK6kZVyfs7B0wh0/VcNyjLBZcSCD44PuxsWstW37Ztz/fv391ue8H+zt7SYOX+9l6r0ZkcjxbzSHJJsJZE0Wye6h7jggrJlVKEYtM0JVd5nhNMdc0wdN0w9SxTRcmVYEwIatpfcu/4Lfjpj8MXPwU/9qcejvfdN+Czvwn//NcgjeBf/L2vdyL+f8WuPg1/+e/Dj/1p+E8//2bJvdfhU78KP/NZ+JH/Bf7h//LVrp2cwOTkKwttF/7Wv4SP/RLcu/lmyWAF/tr/Dr/40/CP/+bDZvf+n1BX8Ff/Ifzp74bD3bMyXdM45xVnXhC0fa9Mk4qxOIt9z13fWAun0/37h68sXnnm6WvDfs/UHGnV2/fu7+3U57eGx/un4WxuW95kNO92V/OCBQ3H98pOr1cVHGESJpEbdADhsiyE4Gtra3URP7h3s92yGXv4YyFF7bjm7oP7jz+6XhX5zTdeW1lbWl/fVLJ+9dXrj1y9XDHGeL08WO52uycnJ6enk6VlI4zjyXR3c2vdcZy6rsMwXFlZ293fRxJbmm069snpacX4nXv3G06rKOo8Q4HfrJkUUBtYVTVTEs2nkak7VZUTrGVx9swzlyZTLSsW/Z7baihMmGl5i0V44fKjmmmEYbJ7cLy9sz8crmCFTNt5amNz597uwcHBxoXVk9NRWierq6tIQqfdH59OTd158QsvYyCrw+XZyRwjLfBazaDz8osvmqZ5eHxc1qrdaHmOnSapruuO7daMGZpBqUY0XSpsWm7QkHVZaoaBdeNLId5v/R4gFP7R3/rKeTA9hv/1f4KVc+88dTAGjN+56uu0/w8vf6uT7/8ReONF+Ngvf1n5+AT+2U/Ah38PdJd+x31+8Nuhvwz/+G8/LOkOYO8e/PK//sqWH/0lwBi2Lj8sQTQvyjTPizKXSnnNpuWYaZ5nRdHp9S5euTRY63kNN/AbOjWzjBeFcqzA1Lz5rDg+XERhfef2Puc0XBR5JoKg49qNxTymVJNKNFuBkPV4OorzOEmjvMj63e7WuQ1NI/A2kbxnnn366aevNduB71mT2akX2FKK+/fvF0W+vrGKMEgApdQiTY5G46QoNcNEmGqaVjE2mkyKqgqaTcf3znR3Do6O5nGS5WWUpGGYEE1XGPUHy5qmAcGmafteg2Ba5CWrha6ZnhdQokeLKMvyJM6KPGdltbu7WzM1Gs329o7KSnS6S53OgEu1e3jUHfSFUljXdcsQSvSXe+cubXFRK4RMy9nbOdzdO0yTLM3KV6+/QbAOirz04nXDtMNF1Gy1GeNPPvFUkiQIAcLAeFXVZZanJydH0+n0LD+AMSa4Mg3bcwPDMIXEQkhaVhUAgG7CR74XXvvCO58an/8oHO1/ZaFuwu/7b2H1HADAx38FXvzUlx1YMYaLj8FsDJMTePoD8I3/FUxO4IWPf9le+ekPwDd9FyAEB9vw738KNi682f53YboJ56/ArevvcGA42oNuH4LW76xn04Y//pfg+f8MO7cfFt55A/7l34P57CsbWxYgBEny9jJKabvdzjMKGANGiBABiituWXpvqbc6Xzk9OWGMmaY7OT2J4gUhihJclYVj661G/+TonqkjSt1Ou0mQ4Vg4zcrpZC6JNFynzmsARQguWT0ajdq+1em0yyoFeDgEG+vLou02m07gO5/97GcW4cxwNM2i/WZ/Np+GUSQJJoCQpmOi267nN7tcgu14zWZTSs45tz1XVGVelu1e9+R01u52A6eplEZMQ0PGyel0c7NdCq4Zlm15mJpJhjXT0JBjmpYCZOgmYxkAzBfTNE1835zPR9v3H3CRtjqdBqFplpdxnBSlwhgISfOC6nrJymQcddvt1fWl/aNdN/Amkxkra8u093YONzY2o1YcLdJwsfBst9Vq7z3YeeyRR3d3dxuBv76xmksUx1ldcSnAdqwiL4syb/htACSkLKvKNG1K9TNkLsaUvpkzvboJvSH8y99mkyPll80DAKA6/KNfgpVzcLIHnMG3fx/87P8J//jHHzbQTfjDfxa+8AnoD+H7/xQ8uAMXH4XTw4cL4L/7S/CHfgR27gIm8E3fDd/+B+DwAXz+Y/Affvp3ME3fMi+AVg/eeOkdqh7cAc7h/CNw/8bvoMNn3g9r5+Cv/4kvK6xLePWFd2j8x/8iHO/DjS++VYAxQYQ0mg1CgRU5K0rMhWlZummWaaaU6vU7gnMhuRAiL6uq4KYFChPGgTGklNZpL6VpNux3V9c2dnZ2Wu3GcLj8YP8+x0wXNRNEM/UzYl1KUJYlTsubzKfJ25CrZZ26bsv1Tarh3qCNNdzutKqqIBQrjGrBy6rSdV0ppBSmui2BTsaz6XTqeZ4AoTCqOc+Loqq57XmPPfFEM+i6ZtBq5UnCyrS6fXvbj6O8yl3NBY0wLpiQluNp1GdC5Vnm+hYmRDNYWZaM1UuDFccSu7tvUB00swQtm8ZJnOcKgd8M9vb2MMYSRFLEWZIA5kv9frvTrFVhW05nuDYdj6fT6dbWucFgsL9/YFrWxSuXQEq/GaRFZtkGE2z93Do27Pk8Pj46TdPMsqw8rYu8LsrMMt2zzLnxeGxZ1lmkTNd0qmkGAECzA1SDaP5bB/cdrNmBf/0xuPsG/M9/BNIEpIQLV+Hv/DQM1+Bv/Jk3j5uUwiNPwuVr4PrwP3wf3H3jzQl0VvVX/w949zfC//B9cPcGAIDrwV/5B/Ct/zWEk7dc6b8z6wwgTeDeO03x2QR278Lmpd9Bb1SHH/7L8OoL77yivsK+7ffBMx+EH/oWeBtmyLBMznmUJmVZgBRIKYwxNTTD1Os8O8tcDxqeb3pxHGuaFgSBpimMayh5EufR/MHSYIjyOsuLyXS+iKJWr9n0G/2qf7I4PZ2cAui228iLtNlot5seVbWmU9dzZPhwBONoPlsYUTKP43jrwmYQBMsrg098+lN5njXbrUazaTmOlCqveZhMtFnY7uRFUTy4f/+Rq5eZEAKUQghjXDFGNdLp93gFWVXZgb918UKZ81dfv23YdtBWcVpClpiOhSgpqorxvOJAKLEsi1Cq6wxkiJHp2pamtapymJXRIkyURi3H0QydA2RVhQ2t3WkpLhSresOOrKvT8WG70ySArz3yqGe7Hzs8NAzj5s2bqhK+75/b3JRC8EosLffG85Hf8pqtYP/g2PEswzIJxSdH46pkCKjgsiprLjLP9ZkUcRTqqXlGmFVziaM0AQAoc3A90LTfOr7vYD/8l2H7NvylH4TxCeQplDm8/kX4o98Gz3wIvu9tP5mNNiytwh/9Nrj+echTyNM318b3/TA8+yH4Y98K1194s3x8An/lv4PpKVx+Eqj+2932qxlC0Oy8kx8TgGIIWmCY71D129ljT8OVJ+Cf/O2v3bI1gD//4/Bz/xTuvf72YsM0DMs6UxwimkYIaXVamFIJcEZSXZZllmUAijFGKUWE5GVZstqwTMOyhFIAsLy8nJflrVu3qIarqprOxo2m73q2ruuGYfi+TwhxXIsQkmWZAvHI1Uvnzm++9QxxshhPTlZWlxpNb7DU1ywtyVOFVFlXJ6ORadu6aTGuoiQ9OR3f3d4dTaa26124fKnT6YRheHR0NJlMgGCi6VTXZ4vFzsH+jdu37m0/qIQM2u3Ljz7qt9qXH7tKdVqIym/4ju8URREliZTS9/0zcWIhmWHqnu+E0SLLsna73Wr3HMexLdfxPdt1HcepBWu0m+1eWxFJTXL5kfMrm8O0jGfzyWOPP8I5j+Kw2+0EDS+czzSdlFU+X0yLKheIh8nCtGmULwRi/WFbCNZoBBcvnd86t2HZpqaTRjNotZt5kZ1prQKAUopzXpZlURSYnfH5GDakMdTs65of7R48/5+/0rE4OYHdO/D0+x8eag0DZmMYffmhAmN45v2wcxtGx/AVlmfw2gu/M6//W6YULCZnoldfaRIgmsPbJJ6+tv2pvw63rsPLz3+NZn4LfvFFuPES/IO/9hU1nHPDMAzDCILAdd28LCUCpZQCQSg6o/So62oymWCCAFTNqixPGK9d1x0Oh6vr65hSLwi6vY5uaL1+F0AlaTybTV3PWV9fP8PZWLYJSCVpTCgCpAxTXxr03noGzSBhPHM8s91pjWcTxqv9g90g8AaDXpIkXMkky+ZhCBgPloee7wsJpmk++eSTg8GAUnp2cEQInWFfH+zsHR4fP9jZuf7qq/sHB0LChctXkEYbrabjO7ppKoQkgGkbpmMKEFLxLMvyLCuyDCOkYXJwsBfFYZIkumY4jqPrOuO8Yowa+hmSllAsFRdINNr+hYtbq+tD3UTtZiOJ59PJ6OLF843ACxre0nIvisMXX3ohjGZJFuZ17jUdpsooXyytDDQDSyV831saDizLVEpqpm7atmEYZVmWZWkYhmnbXMqiqhXCeKnTAwBYTIFzaLTg6zEF77A34DW88jnoD8H2AQCoDkUJL3/mKye07UNvGV75/O9yov92Nj0FvwEXH3uHqmYbNi/D7r13qHpHe/RpuPYc/JOvFYBrtOHju/DqC/Dn/sBvrczzPEkSzuszrd+iKCbjKeccEKm5NB17eX290+umRS4lByQppZbjuF5gO57l2JZlAUFpHg3Xli5dvdjudWzfClrB0ejYMu3V4TKhOInCuq4kZxjDuYvnDdu4v7M7Cx9GrAf9pTzPX73++r3tB2+8caM/GBZlPVtEEnCj1QZE8rKO06zRbD/22LWt8xcBkShOs7ysmPD9xoXzl5aX13VqZ0kZh8XB3lEaZUmcHR0dTadTIdlweQmQWizmmmEYpj5fTBfhLAjcTsfnVZbE8yyNBC/rumKMVZxN5yEoFMV5luVRmERhXOYVVsig2hm+SjJOMQLJpeD9pc7VRy+vrq3cuPHq5uaa6zlB4Pm+RyiezGaaYdRc3r3/YDSarKysMClWVofDlV5RJYSiMJxG0QyAS1UXVVrkcZTMGk1PKJYXCaFgOboEJhUzTIqvXrgCAHC4A+Nj+D1/8J0HG2PYfJuPT8l33lEYBnD2pi+I1xDPIfwtDhMpgTPQf1f7nK9iSQTTU7j65DtUbV0CguH+zXeoekf7Y/8T7G/Di5/5am0abfjNHXj+P8OfeecMo43N9YuXzymlDg4OXv7iS1VeZXFGCN15sJukOZNKt2xqOxmr86ocj8d1XXc6varkrJbjyYxLIZQI0wUHRgyU5HEt6gd7e0HQNA3btl3PtOaTEYIKYYYxPzw6GM8WBZfj2cO4vmO6j195Il4Uq8PNbmtJw5ZrNRwrsAyvGXQG/eWNtXNPXHt6Y20ripJBf+nKlatXH32cSxVGydJwtdMZ8hru3NwJZ8X4ZOHb7cOdEQg8HCw/+fhjF7bWW741Pj0IFwslxN6DndHJAZZFOzDycFxm07qY59lsPj9ldVmUZZpWtt2YzrKj43GeVho1HdPdXF5PZuHp/mEZJq5GEasMgleWBlWZ2YZpmXpZ5HG0OD7a1yi8/NILF69cfPpd7yorsbZ2vtkYhosqy0Reit3d/e3dHUKh0w9aTW99bahrSMry/e979kMffq9pEd83yipcWmr2lhrUUAfH242WG6dzL7AoVAIAoC7hN34e/siPQm/5HTyh7/1m+Mbvhh/7kTf/RRi+6bvglS/fIXgN+Lbvhc/8OuTxV17+dstjuPkyfOR74af/d0jCr6w9iyr8LvJ/6hLu34LBKlD9K3+5hxswHUH89Z3vNy/De78F/vp//9W2TF9r9gOABFHWtQBJKe31ejrCjcCzdYMSnWgGB9A16jUbjVYLU+J5Xhgtiv2MaqiseFHyZrMpQNqOGcYhxlBVVZ7nhmEwKVhZz8aTuiw6nYbvBRjJsqqYKKsi1w3yaLP91jOwSpSCGZazv3/c7rRee/1Wt9tdJCnCNC+r0XiGMFESHK8SQlVMlEXOGNMJUkIKCbYNk3GyWGSgiEZMjVibG+c7zfbycGVjbU1yXhbp+9/7XqmsySjpNpZGo0WaiFs3XpWC2CYFUWMQSAnBRFGAgqrmwjZII2inSbGytuY6TjSPfNtjqqY6skzT8+xOKxgu921TP6Nt7PbakvPJ6SjJClBod2/HcxuPPf54VQgADSF9PA4t98h2UK/fcQOPUDQcdubTOAqTosg8z7l4cQ0TlcR5mpRJnIkRx4ja/rLv2e//0LNHR0cY3to2/8bPg5TwI38F3saDCwDQGcJf/Ltw+OBhyRsvwvs/Aq3BlzV77BlwA/jUb3ztSfaxXwIvgCff92WFfgOW1uDCY7+b2Q8AUsLP/CQ8+gx883d9WXlvCX74L8LHfwXGXwoC2C580++FD34HrJ9/h37+xP8MoyP41K/9tjf6OmY/AFRVVRSFlEoK5XgeNXRd17MsK+pKKZXneZ7nhBCq68cnozTL5ovFg72D2SKazhfzMK6YKPLSsJyqqiilhJCizE3LqItSyjpcTDGB1dXlwVLfNnVAsq7rijHOeVY9XPx5xUouO51elCZMyJPxSGEEmCKiXbp8VUrFOS9rHsZJWXMpFCiUZZUSmCCjyKqyYKPTaZGxKhdUs9ZWNldX1kERw7As08GIslpcfeTRyxcubaytX7t27YknnnjqqSdd1yWESM4IVhrBBIOQvCrLKi8EY1LKTqdzhu7I0uL+/fvNZrPb7QZB4Fqu7/gbq+uXzl/sd/qsqjRC19c2z58/TylNsxgT9Nrr18+kruaLmeWa7W5HKDWdTpVSrusSjQLGtayyIip4FueLRTwJms7jTzxy+ZHzTz7z6Ma55ZX1/mC5tbraB6gfffxyVkQ0mn/poxnP4fvfD//ms/DTn4S//T8CY8AZXL4Gf/7H4d/+M/gXf/fh8P70PwAvgH//Avz9vwq3XgEl4bt+EH7fH4Uf/k54/YvwNe3Fz8CP/F74F78Bv/Cv4ef/FRAMl6/BX/gJqEu48+rXvvy3sxsvwY//OfgLPwFPfQB++WegzODac/D7fxju3YCf/LGHzZ56H/zgj4Jhwuc/Bv/Hj33Z52L9PHz498CP/znI03e+xdo5+A+vwqtfgH/8t+DRp7+sqixhfPLWd6aqq5oxTdMYpZqmxUkiHLuoKkqp47pVnjLGdF33ff9oe48AaXS6RNeEEHFaKiVn8xABKAkIUwCMMbYsyzQM09QVSEJU4Aadfg8hhIlSGGVZajoGJqhmDz0Tpud1WxYH4ASnadrp9k+ns7Kuayne98EPwa1bUqosr7kAnWLDsj3fRBJcw+S1ODmJIr2cTCLOiaEbtumncVkW7OjgpC5FFuUbGxusknEdGXrDsSzftZp+N0nYfBrv7Z3EMnMdWygOiEkFGgEmlGCsRlInrcZwpcjLw6OD6WL86LWrruekVYSQ4pwrpSTnCKGqqDgTShee662vrwPBjaD10suvHp8eIdAPDw9dOzA7Zp7HQglESFHVs+nc9+0qrwGzVsfP8ngyO1nE/WarZ9jIdRoIKz9wojgPw+j4NIzjqWERmkRvi1+mMXzfe+Bv/BP4iZ8C04E8AcOCf/S33iEb9Cd/DGan8Gd/DKoSpABWwx/91i+L8pYl/OZ/+G3Xw63r8EPfAj/xU/DBbweMwbDgn/w4NNpf1v7l54ExKMt37uEd7T/+Gwha8IM/Cs9+CDAGQuCV5+Hv/ZWHDiuMoa7g1nW48gTcehVM88sy7S48Cj//z+HX/u07d27a8Hf/L1hMYOsi/ORviVZMR/Cz/wj+7T89+08qEELYtm1QzTGNLElMyyGImJQGQTCvawTIcwO0jBenC1bW57a20izaeXC/ErLZaKZFHbhWUdW6pqdpqpTwPQ+Dch1D8NJ1zGbgaFjVQpiWrpAnQDqeLYRYMhyAN4Mh7f6wWu9sb28/8sQTb7zxhhX4URRJhLOiPDg5RZrumLbt4ihODM3WNEvXrSIr0pQXaT46XpQFihcF1SyJSFXKl196pdXqlIXY3z2enEzazS4l+v17O90Wt6yAUmqb9uhk1zZNS6Mk8DSN1kIJghChjqVViDOWlUWRJEm70zjc3gaFhkvLZVlhjBUoRFQeZzM6xaA8187iZDKZPEiijc1VP/BWYLnb7QkJRcHLKhcgS1ZTonEhbFOzbZsJMQ9DIeuG5xk1MWxrERlRMo+SmWZpWRHbjuE1DKL5EliWSdPBr998qdPx6XsPv/x0mKfw578fHn83UAK2C4e7sPvb4AH+738CX/gkLG+ClO+QE89r+Mm/8dX2M3degx/6Fnj0KQD05l2+Yvf/yV+FT//673hH9DM/Cb/8M1/CA9yF8Zc7W6WEFz8FL38GpARMv/K08IlfgY/+4m/bM6/hv/8u6C+Dab1DbVnAycHbC7Ky8G2n0fZUzc6IUiilQqlFHM3DkGLsmJZumkjTR0ejTi+vmchLTiloul3kcV4w05SGoVPN0DVkWUaeRawqKiI9r4mRSNIYYQxUAyQJpY1mJ6/ytZWHcQAOCHTr3v7Be1dWg3b3ZHQyHA5tP5jMpi9df81ynF6v77tNxqVGVBRnnMfH+ydFVBZJeXR03O3347g2DILAjBaZRmzJkeAQhlGv1SBYbwQBRgdFXiKlKah7Pc/3vKVBZ3R8WhQxAiEkQyANjbq2pVElRKVUzcoqizPB2Pr6erffnc5HeZ55gd3w3DyL0jQVolbddhIm8+l0b39XKra+sWbquq7rTz395HyW3Lh5z7ZNXgtAVDeo47q253qeZlkEY1xV5Tyc0MxkvDJMTUKdZlFWxniBCNbTPJ+H45oVg3779dduXLx8mT75i//sHYbztc9/zZkGALBz56vBZb7m3A2n8Jn/9NXa/+7OA0kIr3/hqz3VWbfyt3g5v3rKNOcwn8D8a0ELAAAg73RlUVOie543Ojwqqroqim6jmWeFZKKua6A0r0rHtAGjeRjduXdfKYmphimpmBRAsWa4QasoYtc1XcfQNNRu+YKXnKUUqaLMmRC22xBKFVUFGCuMSiZORg8f73g0TZbaJYcwyzXbOZ0v1i9c9NrmPM2wBmXN8qLGuBhP54EjqV7XFdvdO8rmRRbli0WYpCLLCwlJqynmNBsur/GKV3lNkNbvDUen0yqvuu2+YGo6mSEgpu44llmVRZqH8/nIMh1EESXI0HXLNmxHsy2CidIoFkJsbm4GrYZpmrquazp2bavhBXmaZHGexRFVkMRzDNBuNOuqiOLF0tJSUeTdfl8qsCyz0QzytO73Bu1mULGsKArdhK4TGAbKkzjJMttCjmNTShXIxXxclVwpZZse5/ViPhNc9bqDleWlTrtBv8oo/v+1/cOP/AH7G7/N97wvfOZ5YOLJxx5bW1rau3ljvd0cNltpkgHgO3ce/Puf/8WyYlub5w6Pj9c3Vg1T3z/c3Tq/+Y3f/OGg6Y8X88Zw+Eu//hurq8vnLl28fftOXpbD1aEEsF3rs5/7XBxHTz31JGN8dHrS6/UNSg73dvDKStlfMvb2Lce2bC/N8yRJLKpphmHYlqkbtmnomiY5NzRraXn5cP+kqGsl5dbWluSMC46xNlheHy73X3rxc1zoFINPjUeuPGqZ9OaNlwEpXpcKU9sx80rUdY0Mc7oIp7Pw06d3fvBLb2AepUji9c3zmJpY44gYSVbZbiNKiqeeemo6mTm2zRnEUUKQEVDDMCxdM4hnshJjUoRhGsZJEqdZpyKE2pZn23aj0bFtt9HofvELL7qW/f73f1BgVeQjjOjeznZVy09/6lOjyVQBFopZlqXpumZg09Q0Hfu+YVmmoeNFOD9/6fzR8eFkPPYbfqfbBCwIIWVRpMmirjIsRVEknU6re641m49FzQLXS4ucVSUC1QhcBOToYLy+sYYB7m/fOTx+kJdWfxA4thv4DdFjjUZD140wDGfTxWw2A0CGZVu2qWsGwkpIbprmY1evGpb1cAH84g/8xTtO27adMAqVVJ1OqyyLpWG/KHJdI+3j3W//x/+vs5af/ON/Jj930bEsUzMpgJRKIWy7fslEUtcM0DiJJnGsMCrSQsTlYjQJWs21zU0ueZzlQBFTikme5/nFyxd1w6iqSiHIi9zx/C+8/IrEqN8fHOwfPfHEE62gsf3ggW2avuP5vmvoGqtKKdhrr7zkOu4jjz0ChN65e9vWjU6rsT4af+DH/vzZQ2aPPO5880cKjN+4s/fI+Qvee967N57cHi16jz0il5ZuvXj9qSee+ZVP/68vIre7viRbva1nv8lvN//Dr/zCSapGynri4rXCM9tL/bAs05Op9vjjUaf9yTvbV971XLK2ur2zs7axOsmqoNW8r+svvPDC+vlHjjSNs8p5/JmW7778mc+sr65iSo9OjhutTpFlDdebzxecMYNqnuOmaZolqanVjUZj8/zW6ekojWLGxWIRmYbuOfZ8kUl5Ekbp08+8D8mKlfHx6UgpNZ1OA98WgGbRYvPiFZHlN2/deeLZ56hhrWw0rwxW4LU383bjsrp7/Y3Hrz2q6TSdzb/hm79N0+nJyUmj1fYbzRs376wsrSwWi8OT453dw35/cPWRx6iun+6fbG5cmM8j0za5gDgpKsZXekPGVV3xLEmuPf7owd6eFJBlhWEY93a279y5fXh41Gx2eoOlja1VatAwDIWSClXNZruq0jwjqJDtVmN0epjneavdfOGFF85fOMckbwaN0elpqx24rtcMPMeheWZIwSzdiMNwuNTTNRS0/fl82ul2F/MJJoYQlaGTwHOQkju7u5ig97znPTdvX0+TnFVl4DqGbpuG02w257NwsVgcHh4+88y7eK1Oj056nSXXcj2TWIbRabYVkIcL4G5z6ePIWR4swwDa7fa4yJQS+xRnJGq1m2tvy/Sarm6kV675rmtrJsYYIw1pNEFamOUJY5rvHU1nN+7dDbM8q1JqGAuLOdi+1hr6reaNW7d2j/ZN1926cH4RR/dK1Q383lpPgNjf39+6eDGyfMv1tstSe+SpcHPzk6++FtqND33oQ3uj0cnR4ZX1882G98UvPB+tbX7gfe/bde3JZJJbTmA7cyF1+pC+rhkEWMo8zZoNb9Dr8bpO49j3XMPUZ7OZYRhcSSllq9VCCO3u7iZZ8eijj3DO4zgOPE/TtHajaenmG/fura+sdFuto+OTNIqyODmDmWdZdvny5TCJp9Pp6upqXpaEs7ospKHXVW47DiLk8PjY0jTXtDCidV1bluWYFiFIKHVGHMsY67a6vu9vbz9QCGd5pYDMw1Q3zLRkSRp1l1aipPBt6rgNSnXAdHl5GQA0TUOEHh0eK00Pmq28qJZ7S5LQjaWHcYD7Owfa+sposgga/uNPPnfr1g1Kqee3Dg5PDw9HjaDFhCiLCoBQivM8Pzk5OTo+LGshlFpeW+VCOZ4fprnjeUBwVVVRFPmu+8r11zBSpq6Hs+lv/Pp/KvNqNBpFUVjVtUTSdn3TpjiVVVVyptI8BCTzAjNeEyylEm9BmefzeS2rmnmWZWk6PTk6ihYLogEGCDy32fDSNImj+Xwxsaz13mDQbjXHk2mWxGkcLRZZKxg0W8GDB6wo8pWVlfn8eDQaXTi/kecFKyvLtDM9Mwyj2Wipdej3+5bhHh+NDg8P59MpBnpu4zwozOrq4QIoqmJa1n6rKYQwXafmvN1ppnFUSRElyfztyEmEFcISUYE1gTHCOiI0SYtJlKaM+dSKk2o0WszipMwyLSt90+ZMnByfUl2Lw/D+7TuGY1MCnV4vns9d20adlobQYjSeOu4j57fCNN+dTq4+efH4+HDnzp21zQ0AeXx4MF9M83IFEvZgb2dza4M65r3tu5yx9eEyUXB6eFgU2VvP2G74CWfhdNJtNZeX+kkcjsenS82mbdvbt263mm0uZVYUtueySsZRmual77tFVmJEHNvNk0xfHoq6ThfhYHnAy2J0fDRodwxKNUBYwcnRqWXbURQVeWXa7mS6WF1dzQGNR8euqW9sbJiGsfvgQStouLbjNxvJIjQMUBhVZc2ELMsaMMIaaQRup9uSUgiF8qrUNaNYJAIo1RygtNftTibTc88+buiQZqHt+UtLq4vFxA/a1AqUQpblbG5dUFQfTRa6Y0PjYS5Qu9cTjY5h21Uly0IsFmm/39MNuxl0xuMJVoAAd9q9CxdUtIim4/F0fMo5r2Vd8sJvemle2J5juYblWFyyoDW4/8W7g15v5/72+tqaoWmz0en29rbv+lKAYeo1Kyez0cAgjm943IKEF0WR14llGQyqKIskVJ7n2Y5pmiYQlOWpaWmC1Y5tYpBlnkklgIk0DUWVBK5pm2aWhljKIk5EM6jztMxSXgvB69OTo821LV2jm+traRbbpm6b5mIxCoJGFsVpkuVlpTBybNfzciHEdDpdX3Fc25qC6LQaVSH+31T917NlV5ofiK21117bu+Pd9SZvZiKBhEcBha6qZld3k6OmqCBFcYZSaEIaxbxJM6E/QdI/wQhFMBShkIYx0nBEDrtpuqsKZYFCIgGkN9eb48/2fjk93Gbd5H3eD9/Zd317feZnTE1fLFaXF1c3bCxN067dyfM8XyzmrusqioIV1Gw1dEPzPPfm/APEgcwhokipAIpqskhLv6aZgGkt5kE0XQRFwRSs27qTJnmr1ep2u1EQHL8+LvMcAxgtlscvXqpQcnXDxMifTEVZ2YoSzGeGJB0/fzI/PyNp9N2XXw46jc/ef296djq9PN/b2oSCXZydttrNvYO986vz569eWLrhWFaVZWWSqm+s8HRVA4yncew4jmNZcRgGvu96joBwOp87npekcRzHmqbJsowxtm17uVzGcby+tlaV5XQ8qct6Ppm/e++tnbX1PE5sXf+H//N/8OnHn/R7vVajMbm6evDgQZ7ng8GA1vW1EA2HQNE0hLHlOoqqdnq9ra0tSZIwxoZpEsLCMEzStKIEAHBtLykE91yz1W7UpKoIYQKqugElxTDdrZ19KGtMoN5wAyB5OlshWXMbTcO0TMtbW9tstDqEiLKiZU2n80UU5xeXN1v89979sCiIaXmUSg8ePmk2B81WP46zrZ3dza1d3bSTJInjmDOmYIQQQrLUG7QH633TNbEua6aiW+rG5nqr42k63tndJpxO5lPd0DDGk8m4IkRV1aLICa+QAq+BmXEeKTpqtu2NrUGn7yoatD3dsnWsSGWdc8GwItekkjGSJOA1HELrmpRpllBWqxipCsZIKrI0DgMEga6rtw9uIQmsFvPZdAw47bZbWxtrjmVAweez8eb6+u729sXZWRTGhqobqqbrOoSQMUYIsR3LtAxFxecXp8cnr/MyaXpuf9Brd1pVXaZpPJ1N3jwxSlNzMJI0BTdcF8twPhnnaaypmNaV9gZSGiGFC1QJSQhYUBqnZVJUsqoJVQcMRVkVpxXGumdYtCpP06ekZt12uyqKi7Ozosx1RSnynGT57PxCxmit3x1fXGIhtkdry8CfHh/PXr2mhI1fvYrHVx+9dRdV1dXRq55ntz0risLIX22ujwad7tnpoQR4w3PKLJ1dXSpIaug3NjayBCUoSF11222MpLzIKCO2bfthKCRhuc7XXz3My3J3Z/3yfLIKg93dvSgK66JaH65NLid5khuqfnR8eNC7E6fxq2dP0qp8/6P3iRDT8eXl+amGlYbnrQ9HumPP5/PRYDCfz4s8azZadZ6dn10KxmzbdpuN0+PjIkm319f8xSIvS1vTbdsmhMhQsm07Wi2RLK1vrJ2cXgpQ1jXQNSPNqiSvOkCmDN6+905V86PTSyag7yf+fJpnaUmXnT5GijabT8azRX99W1NMJCvhG2C4uqqjMvfNuK5pUdKt7T1aV0VWa0q9vr4hAbBaLDikrXZj2LsTLIMgCGazeXdrHWNtPl+qpsKZ2N7f8FdRzQiUxfrGaDGbffDBe7KE0yS4LhRlKF1dXRFSqxrWsdbrt/dubQlJpGlqLjV/FXhtxzIMBuvFbEFoGQQ1Y6zRdLEiu67jhwuW1wISQmssAwh4u+UhydU1RdOwKSEdy9MkiSOaZ1mz28Gy1G543VazLkt/FbKClFWeZAFGiAKJ1HWWZQJwKAkZQ8ZrJINez6urjLOqKjkQchAtZaEsl2PL1JoN+yYBsiQuiRr5AQNiZ3tTw7JjGQ1Lu7q8ODs52noD/CYjRUCppqKqSFrXfl4kRQkrpptWxWFOWFVzLhAQiNVcUFGWJULIsT3f94Msx1AedXs1KV8+eex43uefflLZCSvK7mhUZmnlr9abjSwtisVyrdkEef7zv/zXUZr+vb/4n63isMpSRQIKltM0ZKT2PEdX8ex8PB1P3r1z15LQH4LESGaEVlVlWda1jaSiKKZlHZ++dlwXK8rL1690XW+32y+fHwaLhWEYeZ4RQlRVvbg8i8NQxZhUlaEoeQEVWZZKEPsBl9FsMinyfG9nx+120iw7Oz+HEPZ6vfly2ev1sBCGrmZxUhUFoTQMQ0ppu92+9oNRVdUwDFXXIYSkrPI8z/LE1qxhv+u4dhjmpChQW83zUFEURuu1YfPg4N5kfHx2Pv7wvXvTqyPIIFaMPCuWfgiQ8vrwZLoKNadFAeRpBtWbHcWL16/te/fiOGeEOnYjzSpBSsvxvvv2u/Hl5fbmhipjXVdsw2y4roqxqiCMcas7qigr6lJVtaoknXYfIcQ5f/Hy+WhtiCBYW1tjhL7zzjsqxtPpdNDtjeeTPCvcpuc2GqONwcbOOoD8/PJSUoEA1HFN17YB4FHoV7Qu0pwRIsmi0XAF4FwwTrmqwl6nRUg5m146ptrstKHEAGeapmZJIkvQsm2EsQylNA4VxVobDrKMyhL89a+/yLLsk08/2NjcfHX0LEmSMAooqwitOECT2WVZFWuD4c7eBuQgClN/GSdpqGMzy7JBf003lJsEyNNEdwaL2QTKiBRFZ31td3Odk/ry+BhQWryhDi0hDCWZMJHXeVyTnHImq2XFMpLWFQMcCCBTIoqsrvISy0qn2ZZlmTHWabYAZ3me93udi4uzlZ9QtVSg1HSc5XKJIcBc9NvdjXZ7MV8ijEfNFkaIZVm/4UmUgqr2TL0oEhXBJAzyLJOhpKlqWaSMkIbngfimUVEVOU3CJIoMTQNQEFJLCCmKkhW5axhlXad53u33/CCYTCZrW1ue5wWBX+Y5q5iG1e8ffnf8o2MMZVLV/nJpaHqj1cqSxE+Tly9fKrZlmmaRZWenp0ESD4ZrjPJ2u9NseOFiKiPoeZ7Sbk/Hl0mStDqdTrP54slj17R0RZU4r+v6WiUyz3MZSgIw27bv3Dr4+uFjAhgljAq+WKyKImO0fP7iVcPTEMKKpidZsdbxAOBpmudpOZ5fnhyfxoVA6mvTczXbZaMbea8sK6qyBpRqqpGlxetXR9sbQyTJdUWfP3s57PfyPE+S8MXTZ0eHr/qd7tpotLWzk+R1lGbdfisIE1mVoQybnRbn/PnjFwf7t72GO5mOu+3Ou+/dr8sySeOaE8uyHMd2Gg4DnAtCaFlzQljlek6Wp5qpq4bWkJrahVaXtYyRpmLOaZoll1fnhJa6pqia5rg2xs5icZnlKRceKSvAqaHj9bVhr9fSTS2MY46kKAiaTXVjbe3ly1NVUcosp3WFEep1Osult1osmKgrki/9wrDXkjSUMcKqBCTF0k2McRYnnbaXxSWEQFFBf9C6SQBNku/s7RNCsjyHgudZhmVpfHXx5NEjz7HgG1QTISGAlJLRpKrjqiYSRoYuRJ2kWZ6VtmYgjAWQhAAyUiCSh5sbVVEsl8tu01vrD/zVotP0In+pyghAPp+Mq6LwZzOpIroE9kcjWtcOwqZtE0J0yxw03YKS77/5/frerum452dHrmVxCRRppmmarZtYQtcK8eVy+ocgFShncRKHPkYQCMEIAVAABCBCTIiyLA3D6HTQwwffTWeTf/wP/5edTvv0+IhkGeOk3Wx++eWXP3zw2f7tvabunXKxMRy+9db9TNTfP39Ga3Kwse0vll8/elRT+t5HH66tbz15/sy23OlkNr44Xc1npq7vbG0uZktbVzFCTyeTPEkG3Z6l6+FyXpSloSqmoSEgAFSRJEEg79/affryNRdIQtBQjCjwFQ09e/Fi6U//2//Tf215zekyLAj/7VcPDR0rqiGQPJ7NJVkZrTc0y6wI0yHk4ub/pOj6g+8eDdv9t+++fXwy0Qt1b2dneXV179796fji8mKyXK4MVYFCOKbebXu2pUmALubT+cqnhL14+VpGeGZe2Zab5LHlYVljig6OTp+53vsb2/0oirrzdk3pW+/f2dzcxCo+Oj5UdCwrkDNYlanjmqauqhjJsiybWNE0Sphmyoam1XW1Cv0oDzQdu44BZXu5YHu3trvtVl1nlm2GYUFoLSBtd1pVkRVVFfp+QcjleDrolxtrO6RMBJA3NwcSgknsl0XabjWePH/c7nXKok6zeHNzwzAsz3MMwwjDkDGm6aqEQKvjReGpYdntrtdp924SwDGMWVns7+7oltloeU+ePHFt5+uvvppN56PuoG96f3gyLau4IhzjCrKUcCoRRdEElv08217ffPjVg7XeUDP1xA9NjH/0J3/66uScFUWw9LuWubu+li6mmLGDrfXJfKpq2tXJsWs7P/zgA42Lkdd0NeV0fOFqmgqY12mGUfD25ghpqqPAq+Xq9Pnl3tpaneW//+7bOEvv3383CoP5bIZkSDgB+KYEooIkQWzrGpYgr0tGqlbTK8ocyyoTIEoTwzBYxaMo/OFnHzNavnzx5PWrZ91RL02iOEsMy/r1b3+r6PjOvf1RtzNb+VG0+tVXXx5enN/au+Vo5qOnzzrNjt1oDAdrs9m80+5Op9O8rNc2tvb39n73y1+ZmtF2G4JRhICuqEa3O18t55xqWG5YpqlgiTJBKrvlxXEsS5BLbHdv+9Wr0zBYuV6j1Wt2Ws3mW7uNhv2z3/z2y9/9ajTsjoZtZHpHpyebm5uElxfjeavTtlvN6WJBAeQymr9BKG32Rm+5bhXFk/mkrGtCyJOnzxVZbnv2ZLKyDUWR9VazMeq21gYdx1JanjZfLObji5KKoijevXfw6NGjTqtHWGGYTNXM2fK153gf/PBuv+OGxSwjWWvNenV8fP/999aHo/l83llv6qoKZSoJimXgWAbi7ZoyCGEQx5bjvj467nXaw17r6uJCMdUkCWy3PRwNur1Wr9Moq6zV8ZKY64YyGN4Kw9A21SBcUlKleW7ZpgORruhZXs9nF1ubA13XFZlquko5R4h6rmmbpq6ZsmQAVh69ulgb9dOo5vWqP+iVWZ5nhSRJlLBGy242WgARxRA3CdB03SnnhNC0SPMye/HixZ07d7Z3d9vN5vbaejO9gfpUhOU14QAKScaazgWoBSdMtDqdvCyxqmCMO61Wz2tkUYwN/eXXrxu6gRFaLRZNU++32ievXxqW1fDcoi4lALMkOTk6uv/Wvabjnh0exYHf29/ttTtA0KgqeZFCXt/Z3srzdLZki+mkns9UJL91+61RfzQ7OzVNU/U8WVXe/P5VVRUEgaGquqpCysqq0PSuoRl1XVu6blmWomJFlRUNUVIRWn/zze/X1tcF4JRSSzcWTJRFFUXRV7/93f7BjmUYhy9fHb56fef+O+3h6HcPvy3z6r1PPk7LSsFqq9m+mkzKqgYCarrJ6gpjPJvMQF05lm2Zuq6ohNarsqzLUlMdVVUlCGQZKgqqBak4pUBqddvo6DQnhdN0ozD89P7bP/rjH7UaXllnh6+f7927x2g5W4WeZgJFn/i+LMvrmxu26yZlASHc39uPijzLbqCNCsYK1pbxJKqCfm9wdHyoK2bDdaIw4TW4nF/1Ot7m2gagBZYkQFm0Wh6+flXlFWHA1vUk9l1H01S41V9L0riuyJNwymA+HG0O+l0oKBW509Du3N+HmAqZbewNsQZXi1lZMIxxt9dCkrBsQ1a0s5PL58+fcwHXNzerKqtZjRTEKbMsE8qQC5oXmW4MgERVpeE2TNe2OKu5YLKKi6qo60KSULfVBgJm+RiKyjJ0XZNtS+v2GrIsZ3kuAQGAMDQtT/Iyr+IooZRahtFseZyBJMoNXZFlDABAMmy2G6PhCAgRxv6bUAgxmV4FWToLfMOyoIRtp7Fxd40SgrhQD4s/PEc4qCljgFFZQggBykhZFSVptVr+bOlapoaRbVugJtFy/vLZRZYkA8fTtIYG+WQy6babCKE4S4db63VAK1ILIY6//VZGuNNsIFAXSSyEcHW3oAmUQJIk+apa29ra3dmSDf3714dlVX/03ruNfv/s7Ozy8GhrfX3UH7S8Bj264T2WVRGG4f7ODsY4DKM4jg3DgACu/IXa7ckyglComoIQ9P0lhDCKoo8/+HA6nS5Xq3v33prMZ3Vdn59fPH367f/5zn/T73bm/nJvb29nZ2eVpEmS7O3ttbxGNpshhKoqjePY87w8Sy/Pz+siRxBOJpNewzMMQwiepqntOQJCgCTN0BXTYEVB6orIsD/qMkVO40JxbGToVtPb2b399NnLzYOD7Vu3NVWWFeC23R/8+LOLi9PpxUkVLBquswpX5+fnSJYUQgipG02PMrI+GrnxTQJwUr96+hiWwNbM8dlka7jNCur23eMXhxgqtu6s5qvTQ6XdMCKSheG84VkAIlmSKOcNzz27OG16HmfEc20AKLSkTrtpGpZjWwiJuiglICzL7DUbi9USSsIwdIwRlACSICWV5zplWUmSwhiZzsZX40vb8RzHcTVXkiTLNtOUGbbLeF0UeU3zyUQ3bd2zrSyPi6IAkDPO87KSBBWMMFrXbClBRCnVdd2w7CiMkSSrigYAYJRGYQghhFxE4QoCZhkGluXrbSNjrKqLRtOVFSXLsjRNSc0gkqMgmM7nNwlASZ0Rtlwuz68uvXb7o08+9Tptr90p83w5W+bkRnAGIllAXFNWEFIDWDNaEVYVRZmovCZt11MlSUPS6eWlP5vquvpnf/JTURaryXh/a/3L3/wyT+NWp7cKV4xz03Kmi9nm+vqTx0+/ffLY1rV+21lOJ5QRJENLN2zblmSZRtxfLs1WczQYxGWRcdGynXCxPHnx0lDUQbc36A8sYGT5TadeFRUEYDQaEUKm0ykhxLKsOIspI7qhGabWaHp6z1gbDY6zktO61fAkSYqiKE9STVFYTTjhl2fnl1dHGOPlcmlZ1gfvvffk8PXRxeXO7rbban7xxRdRWfYXi2cvXhZVtbu/N5tOFtPLUb/32WefHb18JeoqjmPPtYdrG3640k3Dsiyv0dIti0ooJ6wkxfPjo7KukiiPStLfWL9z/4MPPvx0Pl/N54vL1YLTutF03GbLcU3ZNNY3RuHVmYrE1dXlZLk4OzsjQDiuq5tm4Pu9Xk96QxZAgXBrMPQvw16j9+LZ8/0PP+v3+0WePg6+3VofLhY0zGZlXjV3NqoSB8tZGqWO12CcFmWRZjGjREYGJXWRZ4JTyzTvHtwyDYtSGvtL23KbDUcgWFeF4Kyqi/FVen52rMiyYZmz6VxV1aoqBaiSOI+ToNNtKlifzafbm+s1qWRZghJwPbssCwnLCInHT5/cvXtgW9psNivzbDDsqaqaFwUhpWNZWZWtrqaKonluQ1WMoiiqqrpu5DjnqqJdmw42Go154Jum0Wk1DdvUDbWuqyxPZCydnJy0221JlquaRX6o6XaeFlnxxiZY19Vew4uKXNO0VrfjNRoVZYswJlUVFWX7DWAmB4hLMqWkqmlBKJcgkiRD05IwsFS9YVo8LyCpTl+9wjJs9jr9Tufpw4cX56e7w16wWgWAu56jaFoYx2ubGxfTSavXV01rFUaE1ICXi8mkKnLOSbvR7HTbrYaLZViVOfV5IcD2aC2l7MHDb2bL1dbOzt7Ojqnrq9U8VzUahH8IsigKy7IG/WGeFdPJzHU8z2suVquKEKzIWZ4qqry5sd7rd8NVgAAqqzyOQ4wRxshf+lVeAiZOj04P7u64tvXkxUvNsRmULi4uHMc9ODh49ur1yl+MtnehBNqd1nBtrdXu9LqdlzJAQAghqqJoWlbT85AsXaef12roqqoqsoEVZFq6biRxEAcldmwM0DyOtrdvv/3O+6ptr7me3mhkeUqJdLlY5rS6mI0tU2853p13muFsjDXj/nuLoqw553VFCAk912VlpcCbzebs4rxxcG+ezS+DCwdbv/r3X/xf/2//lwcPvs7DDPRFOA9cy204HqtY5IeqohkqYoToippk2WI2RQgyVqqqkieBaZoyEA3H0FR1uUwYFZapci6CKMoTQZlgVMuSJIiWDceVJFeCjLM6zSMBYJYXpq23uu0irxfLaVXmlNbXeha6ruuG0mw4jq0/e+oTQhhjZV0vA1+39FbTM007SwSUMZSRhGUZq5KsFFVV5KVlORVhNlbrutYVXQCmIOw6zmgwqGitYaXTbsqyfHF5HsVBXdeqqlZVVVc0K8owTlUjqsuyKOubBKjLEuqQ0FrV9W53AGRcMZFVNYQIG6b0xoC5ILQiHEiyALSmJUSSoaq6qi3zwtF0W9WKrMijsErj4eaGDIG/XGCEOs3WfDoN/cA0zTCIZEsnhHIBZU2tKEOqksaJbVtJmmNVDePkyZPnmoYP9vd2tjYGayM/DFu2pas60jWQpqAodSjd29sfttaenTw7fPWq1Wo1gxvib5YkRntgWdbV1VWUJmujkW3Zp0eHQgKqroxnE8Jpp9t2Gs6tW/sKwt8++CbLEiEY5zzP8/W1Ncc0v/t+/F/+7/8JIQQhJEF4dnbW6XRuv3P/ZHz16tWrzc3N23fvPnnxfNQftJrNs9MzAIWqqvFqOb645Jy3mu1m00vTNI7D995/X9EVAEBR5oAyDIUkyQTw4PyVpzV1yxKS1h0NNcu8GI8hknXNKiJaFdXJ+YWAI01XRVFWRWYM+lnNh5s7f6/dERD99te/PD650DXlve5QQaqCbr5T8Xw1xReLi0mR1uvr61/8/BdP/tGjttcsk6Iuyvl02mwYrGwKQYPlKk1921K8Vmtnd89LWvPpFGNESWVpSpklKoYlKcMwlGVMamboZlUkUZhMl4v+5rYkMUPHjtku8pjWBMtgbX0Q+HHorygXSMaOY2Gs1nU9WutzSgXgAAoVI8aoYWoQQqfh3blzB8mQA+B5DX+5nExmEMLdvR2v2QzDsCJC0U1FMZO8oIRZuuV5zTRJKGFFXkoQCQCBkGQZrQ9H51cXaRbbuWnZ5jW4ixBy9+7dmvAoSQWHumGZtoOwwt6k/44n45OwHI/HVqvTHw0lLGNdk7ACgCTriIIbzam8ZnlNddvSgJQVBSGMUw4wtzRdRZImwYrSxfhKhUAFcG9zq8hS1Go3dGU1vro2LOCcl2Wpa9arw9e264VxKmtG5UdhnBgS7Tdcf7mcz+cYS+1mw3OswWAgS5KBFUXT06pSOfjwnbcJE5oETy5fHR2+igK/3+0geBNkmuWgDSilhJC6os12t6JsuphbrtNotQ5fveJQ2KrlNew7e/vtRvsXP/uZbmhJFAlGEASb62saVt99552NjY2rqyvL0AGW8yLr9HtpEj1+/Hh3d9dptzDGdV1TJsaPH5+cnSEIPNtot9tbg1Gv3a7i9Pj42PO8nZ0dzTSYEIwxhBVJBoBRITOs6fu3bquGSmpuGK5uGE+fP1/M/CTL+73RdD7PkiQMA13X1taHs9kKkDKcLBxdHYyMfr/94cd/dHk5Pz8dl2m9moVYKMkbRaBEQRnlqR9YmpMsV66mP3v06L333t0cDaosX86msuQhtL2/u6NI1cXFkR/MVkvidNq2aaJehwvGGWl6bl0VUHAZQkAJ55zVdSVYFstFUTBWGYYqINA1RVe1XreTRJFhaZ1WK0/TokrDKMGK5jXaSAYC0k63HYehjJEqY6jIeZ4rGkoSAkD/zp07K39hmmZVFxyAIAiwqnYH+cgbZXkFsSIBWUIKZJKqIbfR1DVzMp5BgOI4tiwLQsgZhBggDBUskRpRShljmqJYpqPrepIWVRXNZ0tZUVXdMEzbNN12+w0/hSSJpnGZxOn6rdu7u7snl1MFSCXlNSWc8LS8QYPWjFVUmDJWkCxJMitrgqq8JraqAsqQAIKSxXgic57FUZVmJ8dHr54+lih1dLXdbEqSNBqNnh2/VizzyfMXf/b3/i7lvNluB36YZPk7794ddpsvnj6bjC+zrLq4GgdBEEXRn/7dP5/O59VsgQ1dVrWN/gBI8txfPfjyy6wo1keju7du1Zc3nKy6rhljRVEwxq4LxCRJVquVpUpFXZ6cnUkAxDyJ0/jOrTsbmxujtYHnNLIkqaqKs5rWtdlo/G/+i396sL+blGmj0eBYHvb6kqG/PDw0DM0y9O+//bbkIK8rKMlBHO3t7HDONkb9NApnsxkpyyqJiyxjlEOECBdFXSKsNJsN17YFqajMNMMS4TyLs5qI/f23qppfFpOtra0oTPOyUmSZK6o5GFR5GQfxdDId9bvfP352e2f71eGl51jbW7d+/OM/PXp5PDk6mU99DBWzeaPs9P3vv/+KP5GBRry6rmshSJGl//pf/Y/b2+u/+c3PJcAtQy+r7OL8OM3jrZ11Ywpenxz/u3//Vwd37/U6HQh4t90aDfuCkTSOZQk1HAtCeHFxkWUFkkSn4eiWLmiJDZ3ROqlySgpVkTQVGYZm2rquyZNJGgSBY7t2x4yzFEkS5xQADiDHCq6rAgCbEIIk2W00EJIMU4njqKZMcEgJW64iGWuKorXa/bKosKwiIFEiOIdn51fPnr7QNC2J406ngzFGSEIYNDsultV2y9RMTUbYsKy+rFiugxDiIpNkzDmIoqiqjjmQbMu5SYDFfGHv3PnxW/d729vT+Vw3DcIZY5WqaJquwjfuCkXVDdOOk9xxnLoisix3Go3FZIo1gxdFxUGdpMnKf/etO6vV6tnjR0dHR4m/vL2znSdRXZb7+/tnp6e+73dGw6IoojC2HGd9bePwxRFjLEqyg51thLCCVdswp5N5p9V49uLVJ5/+MEsLDsR0OvXancViwYV0cnlBynxve+udt99tmc2T/GZU1XCdo6pybOfqcrJcrJI4vb19B0Jk2hY29MlqfmtrF0mIcFrSwrS0d99/u98Z5mkShr7nuWfnJ+9/8O6Pfvx5UvkKRrZtx1WJMT4+O4uiaHNnO0yyjY31y+ns7tt3KRPj+Xx/fz/0fcvUNCwfzRZYAFYzXVW3Nzen83lVE7fdVLCaZfn5yZkERb/VLdIYclRnOYBocnZl2Q0FysFiZVsuAhKkDNSEUiI4jf1gcn4lEc44ev7yVFVtjNSnk6M//snf/fbBd5Oj0zjMWTU+Wt1ggdI4a63tzmdLRitVly2n8eTJd0WZ5vmyptnG9nB3f/PeO3csQxIwgxJzXNMwdDWvyrKczWaObZr62nI277WbdVVySaKUGoZxa383TbKaUl3XLM3Na9ZpNRgVq6Wva9i1mmVZvnj+9OT4NC8y09QNy4oSfxmsbt2+8+zp8zhItjY2wjAsq0LBSNd1UsGTk5N2s8EFRQhBiF23laXFbO4bpus4XhSlmmYwBiEACOOVv8yTNFj6l5eLRqPBKX/8+Pn6+rqqKlkRR0k0Wus7Dc8yHc65jLDqGHlRAgDqmjhWYzKdzacr22X93iDPiptj3W23p7rteV63262hHBUlhTIXQsC6JkIjN6qJnAMquBCgogRJ2NAVjJQ0Sqlu6hAhAU4Pj3ld11nJCPn919/MJ5OdnS2MZFqUqqyEK//06kyoShQEm2sbL168+PSHP+x0eoSQPCsoYdPZqj8YnZ6eKooiSXIYp5qmPXv6HCAoYyWJ04rQ84txRQkDQLO0D965r2n6ycVREgZ/CFJVVVLTPC91XXccJ8v+FikdZ2lB6rv37nVarULUSZXJinx6ceY0nD/7ez/95uHXzsJaLGeUVf1+z3FtmfLzqyiOYwpBnuedTke1nSfPnrX6w639PcNxdcdutjqNVoswpunKixcvDFXp9XqTs/Orq6vN0Wg1X5i6fjGZ9AYDWZLSPK+qerWYp37SbXmGak5Oz7d39qNVkEZFu9E6PbviFU3SnFLatJ00SzgFWRwbiioYty2Xc/785StVVXWEAz/87Ad/9Oy7x2dHx7wWV1EC/iNqazjYsPcO2u327t7OV19/efvWLcbY9v768+ePNVVp9xpew2m3W01PK6tgsbgCvOr22rWkZFkmGBn1O5RSGYGLy/Nu0xNCRFFRFZmKkWtbDAgkKwJJkqrpqgo1WOV6URSE1ozSLEsePf7e0M1BvztZLBmjfhA8evx902tLDEAIa1IRQhiR4yjhjAAATk/PPM9VMS7yUnDoOM2iKJbL0Gk0TdOWhFJkOZYl3XPqkp2dT2I/KivKOKQcci6nWZXldVFlmqnHSSGAjBVNURTGJUJJluaGZcdRslyGaZJzAIu8DPxIf5MRludFGIZdQiilfhILrAgZQSgxxmouyBt82bwsiiKnlFZVmaapxLVZlrW9BkYICZDG8dPHjyVKj18fXlxc9DrdYOUbWKmKQjDmWGYSRadHx52NNVLWWFYEZI5uGbIqCRgHcbAMx5L89lt3Qz/RFdV13CxNOJB+9otfjtYGjtOQJAkAaXo1KYpi/63bd965t+ms/ebJb7979Oh2deOSC7mAQEiS5HmebpnXPD1Z0aJ0RQTY2t0jVXUxvsKK0uq2grnfHXY7jXacBAAyIQCAvDdoR1GY0/jg4GA8nRxenENF0xQcpimAwrINJEmTyeT0wdfvvHtfVpSr8cx1zKIonj95/NbuvqnrWZI8efS4KIp//E/+VwpSWM2Wi0nNaNP1qrxI09xAcr/pHuwcYKztbx/8v/7f/+Ld9z+cjcfvv//Rav6Cc+4OB6yuhAQ5qUe3b1uWVZT06upqvlosA7/jen4Ybu3s3Lp99+z4zGu2PUBB/reGtvt7t146bpiFzV7zv/qv/w/tTsuyrLLMTVv5N3/1r92mnhZZmsUQ5H6wyrLUMhRN03o9cxUlLddu97oAANM0w9Wy1WoBzssiI4RACei6KiDkQKoZF4znaWIYhoLlPGMQCEVGdVVtrm8UZZWkcZom9+9/MKrq7x8/9VzWbDYFB3VFijKXAFwusaIoiqZ99ftvWu3G9uZmksSECq/Rth3GGCOVyEXJiZQXRFfkIq+LnNIKcIE6nbVOp1vVBVYMVVchF4qmpWklK2lNhGbZDcXQFItxmsBSRkpZkOlkXpU1xkoQ5XEQt5rtNxhhL16iT9fbjZYqqxAWeVHIOpIQ5EBQxvgbY1BC6muVXcYYRghJUhZGt7a3yjAq62p2flFEadO20jg9e/r83T/+0aDXK4uiznJd1QRjhq5vrm0mVcEIPTu//PwnP478UFC+vb7JslyRdSyrlLA0L8aTBYTQX62yLIvjuKwqxw66g36j1XYsS3Aw6g33dnZ8uvrtb36DMT64tf+HIOMwltt9XVUZ45yJMAwZYJSL2XxZVXS5WI0vz1M/kHUtq6uL6WWn0Xx+/kKSpe6gmye5AMxx7CjxNUupqmqxWDSbTd1yfvvwG4bkP/uzP0OKejoZL5bzxWIRRVGr0+GUWpa1sb05vjjnnPc7HcdxDp89DxcLiYuGbedxspjNZFk2sQY5FJT7y6Cp6RfnF7P5otvv39q99eDrb0aj9dVyWeaFomIJQtezo8CHgpV5uvIXW9t7q3DRajezLFERSAtb09D+7f0oWCmy7C4Xf0iAP/rjn2xvbD14+LvNvR1d12er1f/zv/vv/pv/9v/4j/7zf5IUyetXjx3PmM+WsQ4EB1tb255nLfxQyqnb6XuWaRo6q8qiKCRJSqJoNByYulHCEkFIKaWcAyAxAcg1x19wzjngHEEoEGKk7g+6qmaEUYJkpSjS8WxRZjnGWIZymmQQQggkIUSelQrWJIiEAIEfm9qyLMs4SQWXrj1dbEvMpzMsK5KEKplFfh5HWavVC8PMcEwhyRxgAZWyEgrGum7G2aqiEFY8z6muEcq5AIAzGIUpqVlV1lmWmwaq65pUBElvVPZhGB/s7PT7/biqoBBVUQKkQBkIKElQfkNBDlyru1BWa4oCBcMIIQgTP0hWvkzZ5dmlY7mmppqqhiynysv33303mE03+j3AyNPHj4ajwXv373/13bfLyRzUrEzy52fjje2tnc0dUNW8LJMof/jN96qiEULDIKmJsExFQnISp1GYCCg1vKamm0laBkGAETofX/Q67Q8/+GgjuamAy6q0LIsxloQRpdTzPArA0veDOGcQnV5chit/Nbn60Wc/DKLgcnK1vbkxWYw/+OR9SzP/5f/wP77/8XuGo0sIMFqmSWTbNsfyfD5vtVr9jc2sLIP54rvHj2zT/PyHn3a6/bQssjxZLpd5kd156y0Xa6vZIgljJMn94dpiOocKRnLVcBtVVT19/CxNwl67JxAsc4Kgupj5NRHvvN0ry/rqcpykuWEZQojj42NVw6vF3Gs4sizLMrqanmVl0GoaNcuyks5XUr/n7N/ZBRI9Pznjqxs4oGqblmf3RkOz0bBt+9nhYZIXWVlvOM1Wu/erX/5ckmDLdYZrLQVbumqr2DQ0FtU5h1IQRYxUTds6OTyUBH/kL13HhhBeu7vmeV5TqigKQBhBWBNK6xoCgBFSZJlRDiEcjYZr65tpVmxtR998+914PFYUJYoizHGRV6qiq4ouQQggR0gui5oxScYylHCWR1Gc204TITlZRqSaRX6gKjrGCgRIcEAYb7e6NRFVBdKUyBhDSSmKHEoKFpKqWDJSKRVxnFPKa0JkLKVpGoUBkmTbtEnFkCTZps0VrmLtjdYWKw23QSmPg0jSdIwVKAEhBJSAqmFdv9kDaLrOBU3jGOgGBIBWNQRgNpnYqpYnaRSEiqIs5ivhNZqeNxqNBoPe9OyYEGKpmFOqKQoEECM0HY8//vyPxpeXZVG1Gg1RsdCPNvu9KApmk3G71eOsyvJUUw230WSMlTWJ4xjIsiQr7XYbY3xycvrLX/4Sa/L77757Z/PW/K//1R+CdB0HDUeMct/3EUJ37twRQCRx6ofB2cV46Qej/qDM8+29nfHZeVqkg2Hv5PXhnbu3HdP+y7/6q3/4j/+RoqGyLJEEdV2P0mx8cQlVbTgcJln23fOnBMDVavXBxz/Yv3tnOlscn574vp/nOeN0e30DED6bzYqiyNN0b2eHUkrrWjcM13JiDss854TbhoklKYyywWA9z2vTto9Pz24f3Pn9gwftfk9RFEmSLq/ODV0r6qKFPMJpVZdJHLbbblHHlm7kZXV67r/77p1m162fl7PVBNY3mnbj+fglI29/8P415S2vyU//7t+7ZtZ3+2sA4Ml4ftVpj0Z9TsXRq3PdwKphxFk6mS+zOLy9t91rNrK0UGWJFPn4aiJBoer69c0PAGBA0KqK80pCWKnwNfFNVVWgwGG/3+52VaykPBuNRmGcUAGTKD88PjFlsypJq9XSNE1T1bIsJYgWi2WSJL1eV1NMwVd1yXTNULB2ml348wBCCSMjKTLOgKYalIs4yhRZL8paQkrP6wKA84oixaCMM4BqImpSAgHTNBeC2bYNhJSlZbfbHQ7XAJDqolIURdJkxthNAiD0t6NTXdfVRrNYLrkkVTVBQshQUpUbRpjtmK5tl3lu2zYnBAqhIHm8CkYHt89evOaEKbKSxCmriGnYpmU8e/bs+++/92fzQbtpGIamaUdnZ4BxWUJVUWRxYll2GsfhMkijePj+B5Zpmpo+nlwBzuqKUEpevn7tWBalhFERBFESP/vk008t2z05O/xn/+yf/clPf7K7tTsOxunKfyNI2x4MJEmK47goima7G8WRJCMupIePHwFaDzc2ri4v4iTJsqyqayGB8WxysLNX0fLe23d29reuLsZllh/c2n19fDidz+2G57TbTw9fH51f7ty9K2TcHg2H6xuMsWuXl93dXUVRakrLoiA15RCMRqPx6Vld17qqTqaLRquTRnFe5L12FwqhYpXWdVpk5+cXrU7nxeHR1u5OlGaffPqDNM8rStbW1jRTUxWZ0nq1Wpycn7149eSDj982TFWCgtc5EVzF8nw5bjebANG4CO3iJgFM11rf3giTrNvtLperv/iLf3B6cgIh/A9//fP3373/0cefnZ++ogxQCiQJFRmpy1ojYrpc+XGIAKccREnqNZu8KrrNRhzHlmEYFro+6FiS8qqczZZ+nHXaXQUjAICCZFrVsqJ2u935cplmZZJmIM7LshwMBlAsBoMBSUmeVXVZM8IUWUEIAQD8VdhoNKqqrgiTFbWo6tOzS4yVwA8xQIITDVdAQCAQp5AxAbikm9Z0Oq1K2un1mACUCllWCasEkMqKhWGSpQVWEMYyQhgALiMsI+xaTpWXk3TCaiYruCzrm825qhqUAlLToiKz2ZwzQcq6SLMsyUhdv1EBgWAV+quwSAvBACc0TZIiywLfRxBeXl4CBF3XbbSbWFMGG8PhYEQpb7W7sizP53MFY1LVZ0evFSjWWu2vfvELWNUKgFmYQg62N7ZOT0/ruu73B5PLcZ5kbafZ8Zrhwq/yilYEIVQX5fnpSZWlloKLOBmfnWOkWKYZr0LHsf8QJBVC1jWGeFSki+U8z6Ll9ErD6P333hacDIb9W/v7umHMVr6QkWqZp5dXLw+PTM8Js+Te++9cjC+DaKWYynS1mPuLzd0d3TK/e/y9hND7H70/GPRVQ2u1m+PJ5Rdf/Pzp86dUsE6/2+511kaDIsvzNPUXS4wx53w2m11cXEynUyFElmXhyldkBARfzKfBagUhtC3XMIytra3x+Opv/ubft9pew7PWN4YbW4OtnXXd1rb2tnqjwbvvv/vZ55/KMs+SVbfj1TQXkK5vrZ1NzpGGt/a2N3a2+qMbUjwHhAhCOLmYTNqD/mhzy/QaQZRZXrfdH915+/1uf6Mo+MXFLAhTBesSxP4yLPK62ezfunVX1ayLy4nluExAp9kSQAIII6RKkooUAyl6mtHz8SyMEsI4oTzNijDN5n4QRBEHcDBcl5Acxunh4SHn/Nbunu2Y25sbrXZTllGaJYvlPE4iQimAsKyqsqpfPj98/epQcCg4vLyYBH7U7fYVrPp+NJ8tGAfXXjhlVZiWMRwOMcaME4yxjBRN0RuNhuc2NNXgAuZZtViGi5k/n61mk8XkakGJyNKSMihjnRBR1IxBiUvoDVK86Tx89FQAmVExuRxncSZxJAmYhcnycpr6N8LzkiQhIM0nc0g5lrCtmlmQ9NqdKAhJVYaRD7DEkPjg04+dZjMpSkK5bjmO12h1Opyz8+NDmqWoKJSqaMqyVhOpqFqmpQBZVfWiqqq6Pj09TfwAc6lOc0c2bGy0LHfQ6WuyMp9MVChF82m2XLR0fdTut0zn+bePNKRsr98IAyqW5nqt8/nlMp5jTXSb5uGTbzJ//NH79z7+8P4HH9x//Oz7tEhN1xkvls3eUCj6JAi5oswCvzPsH1+edNd7sokXWSB0pYQMqrJsqJptWp5zPr2YLyZHJ69ny5msyZIK3vvkvWW8OL084ZwiCURh4Lj29va24zgQIBlr7V53sVgkabS1vRGGSwmyNFqkSSAJcPf2rW67VWZxEi0O9jZOjl70uu5w0EjTFZRpq+P68Uq3NavtDjeGho47TbtMYwC5qutpWYRJ+ur0zOsPmv2eeIO6nRVRs2N99+Qh1lAFqJ/FUNVKJq7mq/EiBrJ1OfWXYRbF+XwRZEXJCBECyopZlELRvJWfzpcRFXJ/bZMJ5LR7NUCLMFsEWZiShV+ejYPT8yUFWDEcgLUnLw/HC38ZpQQgw20ohl5UVV6W09kkS+IgWBqabGhymgWGKXttS9HlrEjnq2WSZ7brIVnZ2d2jjJ+fXVqm49lunmSmZjhuCytGWVKEsdPw4jzqDzqKJoXhXMFSp904OzkO/EW75eVxZqoahDBOUsOyPbdBiSjiyl/Eq3kUB2We0MnlKljlbmtged2SSkA2bkqgq/HEH0ZxmkVpXldU5aAqyyqvAGWyJOM3UqVMC4ywpZu2YS4XC83Q4zjYWd8gtEYKcp2W03DWt7Z0x2SSYIzNZwsFwm63m67my8WMlxmtimA2bbQ6Hdvxp7P9vYOsZmVFVEOvqmpVFZ5huo6znE4d28zj9GB3L0rioswpqduNJqmL189fYMZu37mzCP3lbFnl1c7O3nJ+IwzYGw5PktnTVy9qRvb2dxASVZFiSXx0793H589Pz05ms1lRVwDL4+VqYzgCWN3Y2x8vVoppaY4t/KVi6k+fPi2rem1joyTVPPC7gz7E+PTidBH4aUVGmxuTle8Y5uatnZqUp6fHi9nSNczlfLq1tl5aESRckmVT0a/1u71GIy8zQuuizACrABRrw97dgztYVh4//d7QlNu39iivS1J6TTOOlyUlruwmeRUnIZCkmrAyy1zLhqAOgkCGEoQwyXIFa+fjiaSoXrvDLPMPb6DV8i7DQEJwPJu8Pjrq9deqgjnNdpjkX/3+4fnJ65eHpztrXRnrsszjJCFFTCUYSWq7v3ZxMUOA5Hl9fHr5wTtvhcGCcoExzvLKcowwys7OLwrCCEeNZnfuhy6x54tg5cd/9KMfTmZzy3EppQBJlmV5nocxDv1VsFqahsVp7TUdTdc5Z3FScCYo55phdJrdsiwlAXTN1BU5yzJBuYzwcNglNT87P0FIhhAMBgMBWFFmvr/yg0VZ5VhWHdvFEorjdL6YSgpQFAUIUaQZkmTDsTRFLcsSI5XWvGB1WdcQIcJZVTNJkt5ognWt2+/rpokrouq6JElFUSRxAiGEQkhvYIGyLCuK3HHt77//nhOibG64risrCinz3Vv7g3ZHw7LrOUma5lkmAUlT8bDddixzfpasFgtSpOEqVFWsm7Zq2WmW15RSLpbLZavXvbi4EIy8d++tg4ODJw+/QRAeHx+PNoZlXXGJAwk4jlPkcDadeab1/ocf/ujzzxdhcH5+jjHW1RthrDiOnj17GgTB5ubmW/v7RVXlVdnudh6+evSXf/0fvv76wdra2icffpKV9fPXh5vb28+PDsfLRUZqt9t5fXZ6cXE22NoUWN4arfm+v1r6neHAa7W++f77y/nizttvS5pqNzzd9WRNDeP4iy++SJLENM2XL19KstxoNI7GExtrVVWlQew1mzv7e3EcX00uHdemlBIg8iStG1W32yzyarmct9rNVrtJWfXq6HVZlpIkCSEM3RRI5gwijKM48UzNUkgczi/OxppuAIFUbOzt7aVp5tnu2kefRKsA/O5vdV0dx7Mtx1C1Ms+PXx/Npz4U+PbBXdeyq6oK/KjZaLuulyRZEuZ5sijileY6uDMqqrrOU4xEXdIwSvwwJjXP0qDb7cqqubV74IbRdO4LyLiAD7/7/u37bz9+9DvP88bj8Re//M0777zzq1//bntz07KsVqNB61oIEccxo7VtGc1Ww3EbhHJKWE2ErhkCIgZ4nKZxGMpQUhRFlW1ZVmSkMCoURRkMBmHkK4pyLS4WBP71PIpzPp1OKeHdTk/XjLKsVquVpIBuvys4L4oKcohllXMgBARAStO8KEsOgGrolHFSM1l+Aws0GI3oYCBjbLmOwPIiCKM0iVaRoiiubtE3ZMppXadhuLGx8W+/eXjn4Bahlaqq88UMCTYcDnuddhEnjWbz6PBQ0TRVgHu37/Aq++ar3x+/emYpyNL09fX1IFjleU4AbDQaFxcXbrsXBIGqqv1+P0/jNI41jIss77WbqqoCAAghtucQTgGnhmpompYkyfn5RWc00DTN4VwSwLZveoDvvvv2bLixtra2v7/vOM7Xv/r1fD4/uHt3MFojAlAA7r7z7uc/+cnz5y9Mx+kNR988eFAJMNzevro4//b580G346epbtmvj45c2251O1EULQJ/c3Pz9jv3oyxbJfHp5UV7OFoE/rMXL7Kq/OFnn5VFffTi1Q8+/ZilZRRFd9/bVzHOgmkSRU3XC5NwtVwgJNZHQxnBV4E/mY6fPX+apul8OUnzMCcpYyTLsqOjo2anvVguJYRVVccYCyjRmjVbdhFeJWFiG5bjNWWsmIYFucRqxmthNez2zo3rB6kpY9wwjLKiMkLL+dxz2jJEo9H65GqcpXmv1ZSRNpv7roWb7UFtWabr+BQcHZ+Oet2iLCGAElIfPXm+MRrGYUgZ7HT7jAvLbqxv7FxNpppmHR6/TIsH3W5XSDgIkiCMSE0Nw+h3ehsbG5qiOI4jhIiDsN/pjkYjVdGAJJ+cnmu62u21u53+1Xi+XKxsWxEQMiDquq4pdR1HQRhjJQgCTdOGwyHGMuf8WqCOUrqzvee6blXVVZUmSeIHKxlhIURZVpxzSsi18EyapqSu4bXfa12XZanquizLhDFGKQDgJgE4AFGaTBdz1bQBANPptCzLKq8whLyu6zdgNhIACpI9y95cX9vZ2iJF9uL14dtv3aVlbrtuXpZxnpmOleZpniSWgD3XGy+m58eHBlYGvXYShIamcbcxWyzWGs3B+nqY52meW7at62oYhoaKF4uFqxtZlqVRrMrYXy4VTZMkCXBACEESkKFcVWQ2mw23Nm6v3/J9/9uHDxFkd/5jkI5lv3X39vburi7ji4uL45OTVrt9//33FFUva/reBx/duXvv28dPfvazn79//10/TsIkff+jj+dB9MvffQm5aA6Hp5OpRFnP9bCsqJoGZblmVJbluq7LsgzDaDKeOs3W+dmZbbsff/a5YRgPHz7c39+3bfvJyyPDNG3LqusaKAojRHAiS5JlGIosK4rC6lIIUZOqItmrw2dQElwwzmmSxmvrQ03TAABFXk0ms3aro5t2nCaBH5qa3LSbceCPhhs1ZVVJoC758wAhdPTy+OL44nN0c1FXWRX5cctrzpf+ztbW6dnV7vaOoeutRuv5o6d1TXXDlrGcppHX7N2+tR35cz+Ps9j3V5GBNc81dU1LksRfzCQoQyGiZMygMvvlbwHEumHGaWl5rdHGznK5pFQqK4ZkbTK96nUHWNbms8Xa2ppsI1mWFSQrbdhqeZZtb26vZ3l5fnUuIeC4tmUbAPJrlBGjghMWh2EkYtOwAJTDOFYUJS9Lw7KqurRcJ45D23XjOI7SSDONja0tCGGZk7KuZVkAIDDGVVlySjVNQwAmSVKXpW3bNSGMsesRlizLoKoIIZTSm8q+qmtJlvOyzIsiiKOyLFWMPcexDVOTMXqjBJIA6DSbZ0eHDdu+Ojupq6oqctNQsSIjWeKCeQ2XCj6dz0+Pj2UoZuPL2dUlAmDQ62qKulrMoyjSNI0Lsba20Wq1NjY2CK03tjcMwzg9Pi6yDAGYJ6mKcRBEnNIkTCCEWZLURYUQJjVN07SqKkFZ6PtxHF9dXf32V7+ejid/CPL27Vv7+/tCiMOT41eHr91m4+Mf/GB7bfdnP/vZarX66MOPbdf567/+myRJPvrBJ7PFQlaU4dr63/zii9kquP3WvbPL8dHZheHYlm3vHdxCGE8mEwghxni1WkVR1Ol0ms0mIcRxnPfee49T+rOf/SzP89Fw7fHjx5PJZDQajcdjUlXtTleC4vzktMyzbrupKTiOgjgOu93Wwe29t9+5a5jqcNjd2dvc2BpJWGq0Wq1up9cbbmxtY1mRoCwjTAoCBEzDLM8qVjFF1jHEKtJozcZnV6vpkuRkdjV/0+5EltW93YN2o91uNj94972N4Yau6PPZ0jbMbqc3Gq55bktCCucSkDSsWjkBV+NVUdJupx/FuaHbtun5fqKoxnwV10xKclLV/PXrs+++e3J+MV75sapa/f5GuzucL0NCYKs3gFDt9deLgkxnq+Ojs7PT8zTJ0iQpikKSYJanqop1Q7NNg/Oa1tVkMkmSBGMcRVGSJFVVFVUVxWkSZ3meR2GCEJpMJkWZCyEMQ2s0Gv1+v9FoQAgxRo5r7+zs9PpdQogQwnXda09OSphlWYZhyrKsqbplWYIDRVFU3UAIMcqhEIKD/2QPoGhqf3sbGXpW1pTSRqNhmyaoOScEUvYm1UgWXJTl0cvnzUbj7OzszsGtXrd19Oo1AFxTVcvQu+322dlJXqQyljQZvTh+HQcBq8rLszNDUzjnruuuwqDRaAghiqKAqlpVFYKQMfb2W/d0jGxNffnosWUYgjJD0xpNLymzNM0VTTMtAzCuqboE0XLpd5MML1a6qn7+2Wd3OzfKcHEYHh6+msxnaRRjDt8+uO24ja++/f2Xv/tqc23D0s3H3z+u8uq9d9579vjZ8+cvP/vkB+PxmBBy//79RqNxenLU6/X29w6yxfzbb7/Ni7rTG5i2fX41lrDy6Yef/eLr31RVFQZxu90VlD148GAymfz0pz/N89yPwn6/r+v68ZPnw15fUKprGmdMMGYZBoBCxshqep7rWKZWlWmn11AUxW14EsI1qcbjsWYaluWura1laZFkOWUgTXIs4cV8ef5qokqiLkW322059ng2PT08C4Lgjz7/sa1apLrBLCJJNg3n2fx5ksRgABCEZycnaVbtbu52mp0rw0rilNGScKmmIE7rNCNZyZCq9Lq9OAirmkNBJKQpmoKgIAQWJZ/Nw6wgSV5fTZeMCsqhhNH5+XR7Z2s+9xkjH3382dXFtN3ysKws5ktJgE63LSgpsqzhOoQxCIgATNWUsiwAoLO5n2aVYzXSNI3CpN1otVtdwISEZAElw7IAAHEc9/rdtbU1IZiu61ACjaanYHU2m6Vp2u8NrtleiqLqus5zlua5qugKVmlFNU2XdBlhheS1oisSh4QQxisuhK7oEgI3xxrJcrPZBABUVXUtW+l5nqIoZZYnYcjf8NBGgs8nVxJlnml1PZeWuW3opqbapuFZpiJLpCqePHp0cXYGOfviZ3/95NuHTce+tbcLOK3LEiOUp+n88spzvPPz8/l0+vLlyyRJLi8ukjhsNhxSVU3PE5yP+gND08bj8XQyY1QABrAkI0m2DKvfH6qKfnx0kibJ2cnJdDwWjD17fGPXfnF5fnz0enJ1qWnaaH394M6dmtK//Ld/hSTpz/7475Rp+t3XDz56/4N/+A/+F4++/a7daG6ur3/3zcOtja2m5z369lG33b1zcHB+fn54eEg5f/f999rt9osXL2RZ3tnZeX36uq7rbrc7Go0Gg8FyuZQl6eMPP3Qt59tH3yOEBoPB6cnJ4ctXruuOx+MkjGzTKPI09FdZEiuy1Gx4miqPx1cvnj8eDjprG4NWq6FoyPactMg4h0mWNxtthJWyqPKsFELYtkMqcvvgrZ3t/dUimE+XRVEVSem5Tddunrw+ybOizG/ggGVR//a3X3733fdff/X11199PZ/MZpNJHIbn5+enp6eqopdVDSS50exixVj68dnV9OpqJmNdMGl9fXO1CCbjheO20rRWVbusxMqPH377eDxZxEk+mcyzvFysgpPTS9drT6aLvKjni6CqWKvdVxSzqtjF5XQ6XwABq7oOgiDLspqUsiwLRgGnVVFwRuMwqPLimrkRRRFjzHVdwzCujTGvLd2RLLmuu7+/CwCQEOScW5blOM412wtKQNd1LlieZ2macibqigohOAN1XUtQVlWV1IxSCoQEAKhKUpYlEJJhGI7t3SRAbzC8nIyjJG522gJC27bLsqSECCGKNHtTGEuVEM0LSEnDMlueM+p0SZoBStc63SpJ13v9i5PT06PDrfW12dXF9PTIVBVOas82e50OIzVCKE1Tp9G8urpaLBamaa4WyzxNu632cr4AjGMksZpwQiGEnDFOmaFpEgDX10VVVQAAShgpawmA0+Njx7brsvrrv/7r6fjGEElGUMXoWsfh/v373z169Kvf/RZj/OmHH2kYH796jQX4wQcfXhyfPP32u/t37kaLZV0U9+++FS1X/mLx6YcfFXFydnzsuo3NjW3f91+9etVqtbud3mKxCIJAV/RBb7haLEhV+Uvfsd23771z7Vh469adKIqumXi9brcOo+V8LggZ9XrLxSKJ46os8ix2LTtL4yCYA0DOTo4kBNM0NQzj9u3bVVWlaboM/GtFPVmW87yQBIjjmBK2ub3T7vYV1ZyOF2VODMXYXNvQVeP85HI2uRkEzxf+o0fPIz86O7346suvL84vVUVTEP71F79ezZdlUUlQZpRTwrKKLMPod199Q4UkIywETKKcCyRjndQiScvJdFnVPM/pZLosK8YoaHjtIi8n4+lkNgcSQrImY33QW0+TgjIggLxahNPxgtTs7PQiidOyJHlZKlir61LTtFarNRgMhBC6ru/t78ShT0jd7/clWb6aXmmmvr61ISsywnJRVc12u6gqCctvv3vfD0PTtou69KOg0W6puq6bpoDQdl0Jy4vFoiiKyA/TKNGwalpOmhUrP5Sx+rejJyayvKQVMTWDExaugpsSiJBa07Rmv/f89VGn10OSXJZlkWVQCMD5YjX7w5OL8RhsNVJ/eX74qtHwEn+1HI8BAMOWZxvm6auXz777tmHqpq6f1pXt2qYkISgUGZm6BgAgdW07jiohpOqKbtiWtb25mVfEtW1FV9PQ1zVNAqAqihxJsixfm9xLAjMuJARJWdOiztKU1FSS5Nl0sb2X6bpe1UVZ3BAC794+cN95J6vqPCtfHr588vRJ4kfrm5u7u7vHr14DQv/un/0Zq+u//nf/bmtj4wcffPjP//k//5Mf/fjy7HRxNf7f/tP/vOHY/4//+1/9+U//9L23337y5Emapu1u13JcBiGlNE3TwdqGJMuLxaLiTJZlQ1Pn02kQhAe37gABrmFzdJAiAAHGjBLABSP12nBQk7LM8zJXkjjcXB8F0eL09OT0/MLyXKzqjuMAACQsL1YrzbCQJCuKck1Kvs6Ebx58q8m43eqURZ2Gea87xAgFfmhoVr8/gFenf3gDdUU4F81Wx136VVUXeUWJMA2n2Wxez1hlWaaErYIISMwwtUanywSUBIyDKEmSdrtlGurx4eu8yDVVBxBrhuU1OrbdUBTFNOz50h9P54PRSNEMW8aWYdCKzObT8XiuqYoi4Wazmxf1o8fPNRVZjr61tZWXBWPCMNSNtbW6YoweVRXTVXU0GhUlraqaC4Yx1nRF1XCr1fIazmq58H1aVnmapp7nYozLqlitVq7jbW9v6brueZ5pWKvVajabG63WfDqVJKmu6/l8jlX1ehlf1/V1/3ZdLAnGyrLM87yqqpsbYDGb7e3tcc5bnQ4TIsmzoig455qmaZrG6Y0sSricJ/7SwurB1k7LtJ5883B+eSXVBDHeMC1/Ojt+9tzBqgqgLkkyEIDTMAquZWKrssziVAISYECGEgIwDkLPcQSntK4AoYqETEWlpC7zLIljLCFD0+qykgRUkIxlWXBY15QTJkmyqmiaorS8xub6etPzFoub719dV7qiEkKurq4ePHhQVNX23u5nn38eBMHL589uH+xvrI2ePv6+3fT+q//df5mlkSSYY5hnR0f/4C/+osryf/0//Ms//vyPht3u8fFxEqej4Vp/OJovl2cX5xCgZqMdBEFVVZZpY1kZDAabm5sQSP1+P8uy8Xgcx4nnNhzLQgg5to0gFIyNr66KJMnSWDCCEPL9lapg2zY1Vd7d3vJcR1VVXdf9MJhOp71eb+n7SZZd8znXR8O6Ksbjsawqv/jlr1++PtI0vd/vc84PXx/NZ8s0yXXNNAzrD2+gqiiEqKqpYdoSQllenhyfTSYTVVWLMlc1pdfv7N/aW1sfmpZLGLdsb3p19fLF6zzJ4iDK4lQQYBpOq9HN83q1iiCUHacBgVRXpKhqCSIJolarrcoKJ4zUNE2y+WwRrGJKBIC4qtlqFTEOGZSms8UqCKuaX8/QEEIY4zRNIYRZljUajU63bds2xlg3NChLfhRMF9PZbDoajYbDoWmai8Xi+Ph4Mh3neW4YRlWXmqYRQi4vL4Mg4JwjhEajkYywpZtRGB8dHqdpZhgmkFCS5UwASca6bui6cf0TSFkD9oYynO04h4eHw61Npaz9MAQAKprGGSzTrPKj4A3BBc80fRl7zea9g1v/n//+Xxx99+37P/hYQzCYTLqWFUzGVy9faJAXRZEFIU8SqGBSVUUSSQAxdm2PIoqi5JJU1KTibPf2nbosizSlVeHYZp1VSVoCzmlVA0XFCAEAJEkCSEIISZKEJcSQIgCDABR5KQFgG1a/0wVXZ38I8hc///nlYpESMp8H88nsT//Onx4c3Cnq6qsHv9dMo93rPHz4kHD69//+37dt+7//F/8CY+y5tmtbnVbji5//LI/Djz/4+4vF4smTJwe3727v7C6C1Wq1UgxdVdWsrq7R6oPBACm4rOskil+8fOWHYc0BoHQ0GjmGdckYpAxLiEGoyFJVQ0qZpRvtZlORUV0XjJN+vysrEpSUyWQSxFmnv6brOoeUAwkCaX1jLfDD5XSq63pZlr1er9dqrmZTSvl33z/eWt/aXNu4OB8Hwfz48NgPwkHzZhO8CoNUd+eLiWNZnbYluDQdHzHG10ZqkiSXl5cbm2v7e7uO48gY5gW69/ZdzurVbOratoLkYOnritZstILQL/KAyLTVbuqenmaxHwZMAE3T1kcjQ9UUJMdpUZV1nqZ1yWxdURSdccEFKivSkjXDMOI0yUqK1brhmBAAQ7dGo9HGxpwyeHU11XUd1rTdbtU10TSt1WwH4aqq84tx1Ol0LNuA0IyicL6YvX79mnPearUghHmRXfcJCCqU1ZIEEULvvvtuXZbPnz/PiqLX6zXbbd/3q6qq6/rakud6+okQuk7CmxuAVHUSRkEQxHGcZVlVVZIkXV/3nHP1jSXrxnB4//ZtS9W++d2Xv/qf/tI0LE/TpbJOlyuaZOF0BoIwms7nJ2d1EkHBZIwoI76/StPYMAzHcSRJuuZPCM45YZ5tG1jhdRkFAatJEPqL2UzBWAKgqirBoYY1AADnnFEuOJBlrCoaELAsy9VqNR6Pg9VKxdixbzDbVVW8ePlsuVz2+p3tvd3tvV2ApF988QWHfO/Ore+fPZ4s55//+I9KTv7mFz/76sHvB8P+fLV45/69Z8+fLhfTf/q//i/CKPj6we/v3bvX6XQuLi8uLy9Hw/Wd7T0qeJwkvW6/LCuMEMY4jpK6JnmeHx0d9Xo9JMn7+/uWZemqmiRJniUylJbzuWloWEG2Y8oYLRaLa5ZPsFrNZ7OyLIMgyMsSq6puWJIkGYbBBL8mGRJa64amKHKz1VjbXO+vr2FNnS3mHALDtvr9/sc/+NQPg6Ojo+n0plK9HE8uZ9Mky4GELMezbFczDVlREEKME03FZZEXZQ6AAFAYhn7nzp2f/umf7O7uckI1Rc+yzPf9LMuOj06EgLbbsF1v0B92O/1uu62rqm2YjuNgWbJN03Mc2zRty202WwpW0ySXIGo0WkjWjo7Pp7OVZXsSVlZBWFe0KgmWle2tnR9+9vlnn/5wbW2Nc56mqSzLQgI1I1xQRcG250gInpweTabTMIr8MKCMYUVJsni+nBVleXJ6WtW1YZo1JTUlURI/fvbUMgzH9vq94Wi07joNwSEQkmW7WNEoE3GSp0le1xQwIAEkS1h+48SU+7u7F8t5WVSapiVJChhPk4QQ0m40muLGfUiTlYbjXJ2f/+6XXwAh7r915/tvHm4MB7aCRF3Ory6BJKlQ0pBU1UJRZAnBa9OO61W2rGBSVWVeSAjLCpR0QKuaVlUaxUEcagqeTaYkzTDGvKpJVSmyLEmSIstccACABKGqqjKUaF2XBbVNMwnjuihty/Nc7w9B3rlz+1ySusO1dz/4uCopoPD4+Pjw+Pjv/PTHDIjz8dVPfvITpCpffvmlqeoAQavhjDZGJ69fXZ2ffvrJxxKC//bf/tX29s76+vpkOr+cjHXTbDp2FEVRlm5ubqZ5QQjBiiKESJLEsK233nqr2W5v7R38brG6LvY6nc6rb7+XBFAVNJtMsI6zMpMVOBoOUBNwRimlUVSSmnY6HUlRJ8sgjmOsGkBCnW53sVydnZ0JIVRVbThu7AdplhBCriaTIikkWTYMK4iiKE6BgKPRiAMwe6MITNI05rKuq3GSc4GiKFEV7XrQZxhGd6NDGVE1LEmwrgskgzAKZFke9Qdpkui6fnJyAoTwPI8SBgTUVL0qiRCi2Wy2Wq0oDiglVVW1G03V0Kuy5gxomm6apiQkRpmq6nGS1YQXhMqKKina5XgKWW0rqqCEU9DpMsd0JEU9ODg4Pjm3HM80zZOz8yiKAOOMUwlBrCmariZJsljOq6ra2dm+e/cuZXWapkmSMMYgQGVZJklyveEqsuLw8NA2HcMwVKCnaRolSVlXnuchhKqqAlxcVxPXB5JzfpMAdw5uz1arRqMxWx03Oh2EEGP8mvpQERKF4R+ejMPw8e+/joKgzvK7b90rknQ1nqhCmIq8nEwnp2cYyXWaiKoGlCEVJ2kEKMAYCyYYYwjJRVFcc0RITZkQx4eHk8urmtKsyCaStFgsRFmZmsYphRACAK5/qgwlACQgJCEE/I9/SJZns9m9u3cwxqZ5UwDUdd3f2ur0egAAXde//PVX5ydnnX5Ps6zj86P1vZ1Gv/vbr78Ukti7feuts3cO7tx59uxJsFz88PPP/dn0//sv/+Xerf1ms3k5HkdhbBiGpuvj8diPIrfR1HXj8PhEd2xGeUmLsix932+2Wuvr65RSjPFsNiNB1Gs2gyAYDAZhsKyqKk9SrKE0TTRd3d/YmU8nWJVsx8iKotPpLMPYXwVYI7furVsUXF5eOo6jKWpd14vJ+Oj4sMjzQbf3/NXLPM9N2768vHzw4MG9t97inP+rf/WvNjc3LcuS5zdjANu2dUWvqiqJUzPLF9MFAtL1Jrvb7UZhUJPKMGRFlamgnW7r8vJSRVDXNMc0EUKdTsc0Tddxer0ekiVdVYPQDzTFa7imaRJCZCRdjyyzLFstFjJSDN00NVNVNEXFCMGVH7iu02x1Nrd2OaQnJ691RVoufAR4FKez+bLTHVpeY3d3Fyu6jHUOQEWIomBJkqI40A1V05Wu14nCeOUvsyzDGHueR1ltmmYSZ4PBIEuLIAiKomi32wrWTN2cnV3Wda1qmhA8z/Prauea2AkAME0TIwQ4RwBWZfmfbIIVJJV5cnV+1m035+MxKSvIoa7rju3KikLATROcZemvvvji7OxM1zTLML79/e/v3r6jqypgnJalxMWg2+U1xUJq2LYkYBamdU00TZdlGV7v4BgwNUORMae0TNLL07NisQBVrUkoXMzrJCVlyQm9dlWRJIkQUtc1pddZU5dFXZY1qRmjokzLy7PLLMtWq9VsekMIvLq4aLmeremnrw/HlxcvXj6Nk/D9jz44n42ZJO/dPnjy4vnlZLyzs3N2efbJJx8JwC6vLnr9jmkZfhxTCAzH0SwrKzMOgWmaVVWtfL/Varmu++DBgzAMIYS+75Oq2lxfH3R7CsYa1qbjq6bncUqTJFEUJc/zwdooibPZZBoHkWs58So4PzlLo3g+WyBZqQiTZJQWeRCGiqKsrY/Wh6MwDFbLJaesKAokAUVRIISyLOmW7jhOmhe6rjcarSfPn/38F7+sqsptNC6uripCbOdmFei1GpZlpUmSJQmt66LMalIwUhNaDYY9r+HajinLshACIdTtdbigjNNBv2NoCoLik48/+ODD96q6hhJwG412pyUrCqU8idPFYnF1OalK2vSaWVrMp76/CmWEm812o9FothrD4ZAxZllWp9uu6xrJeG9333VbZcWePHt+dj6+vJgcHR6fnZ2dHh8zSoCggteMVkIIx3Mt15NkDamm7bYqxlrd9t7Bfm/YlRAoqrSqS1VTCCu3tjc6nWYQ+nEclWWZZjFCkm6aFSlX/mI2mwThCkpCgmK1nFdlLkHhOman2+q0GpZtYAVdf1P/4/uyDVakpgwMWUTLmaNqEuMQSLKqBGkClBvp/ZUfGIahKMrV1dXR0dFwuC7LMgIS5HByOT3Yve2aHi+JqeqLq0WZVrbhSUxOwgwwSCtSZqVlGE3PG3a7CIim6/A8b7fbsKxhXlbzlSE4IrUCBYKSYRhhmmJNJYxTwihhgnJGOaGcAyghNYlSKCBG+PHjR4s3GLEKEJaMg8n0q1//6t/8//5lWWcf/+jD8/n56fiq0e/WQCx9/5NPP6nqMg4DhODk6rLXba+vr//Nz3++vbsz2tho9LrPXr+Ki3x9Z6vidLqc2465sbm2WM4Rkm7fvi1J0vXipt/px0EMaq4gJGqyuTZaLhf9Qe/ho0ebe7vfff+41WrJsvLiybP1/rqlmKygX/7mq8XcPz4+v5xMz64mF5djRVFcz5Fl+fL8fNjtVlnirxYygpEftFqtlb/oDfqUctOwGo7Xbrdv3bqlqmpRFEmRjzbW07wI4yQtbiBb+zt7QAiJccfQJc4cQ5VlHmfLdtfd3t3o9NoQygd37na6g0G3v7O1tTYcEFJLMh+udTmoWx3XdvWiSmpebe1tUkEHawOIEMJqmlVRnM/nfpbSLCaCyi2vzyhwbJcQUlVFu9PggKgaTtLo9u3b5+fnkiT/+Ec/qStWEXh+OaVcghDNp9PXz5+k/uLy5Ojp42+fP3tkO6bhuH5aAM1lqjuOslyw9rDT7Le297fSKi6qxLCU8eRsNr+czi40FVmWxlhFack5t2271Wst/OXpxRlSZE1XGK00VQaCxsGS1UUSB6TIoCQ0DTeaLnoTDaob2lt39sf+ajyf6arScGxdNcbp1dVk4i+WneqmuFRUJZqu7t271223GKWIi8fffddpuHlWRKugzPI0DCjhCckAgJRyjLGmyJRSCSImCK2qjDJgiLooG65bFUWn1QqCAGq8TjMLKwqWRVlxShVFgQhRSkFdG4oqhIAACCEAgJKEZIS5TCFAWMLz+VzTNEvcaLdYupFH8eNHzy6OT5Kq/It/+A8MUz86O3nnvfdMy/niiy+Gg0Gn0zk/PtE13Gq4/+5/+jcfvP8+pSQIAgHhwZ27ioq/+ubBzsZOHMdCSAcHB0BCr4+OsqL44IMPoiRNymJ7aysIw6dPnjcaDQDA+fm5oapBEHDGAISz2azd7T5ldLFKQV27tv3i6fNet0/KutFthnFclaQ1aOdVQRhN85wLJEkSkiRJgF6vlySJv1gSQjzHsSwLAEAZkwS4f/9+lhZ5nr97/32MceSH7Xa70+06nqNWN1igPMsODg5G7c5sOlmspnt723v7O5KM4ih99fp5FGRRHMymC6xI19DiTretK9DTjVajMRlfRoG/iqMwCtrtluPaT5+eNxsty3Esy0KSrKl66MdZ8nxrc6fV7KxWKz9YJklS13Wepyt/kSTxbDHGGPcHHSTJi/my1+++++5HLx59N83KrCglyaiyxHXt77/7brlaBUkmZEWz0pJJfpgLrEKkpgUt08CztXa7MRwNVAUlcYCQ0A2Fs+rk+FW/N7JMFSJuGLrjugyQmtUQA6zLqi4DAAjhEDAJ8qoqooDlaSzLsmPbtm0jGRrmG6R4WULX9NY8zzVNOz09lZB6zSjf3d0dRRg8+tsnOQDvfvA+VtXJ4ZxT2mu3DNO0bE/RjFcvXnDGssDXDKNMM6xiJGNFMxghdV1zCBVF0bCCMeZMFEXRsq2yLK+XMlmWcsY0VVGuJxWMGaZ5/ZUFlNZ1zYSAECoAyBBd9waSJPW6fdPEeZ6PNnsj6aYA4IyfnJwsl8vt7Z1nr1+uDYfLMFRV9br2MAxjd2v78fePBCGdhnt4eLi7uwshfPToUbPd3hrtfPvs2+ls8uGHH54env75n/85qdlqtcrLqtPptLvo5cuXZU0WYeA63tV4TJhY29hYLpdX00m/318sFo7jJElSlqUGoCRJVVW1XNd1zKurq0anIYC4HsZFUaT5albmlHE/jB23cT2eAwDkec4ZMAzTti1D07Isi6O0LMtes/P733+tyuqtW7dePXuNIJQgjKNIkkBVlpTcQCFW/mrtrftoNEQyOL08EhLv9ruyqmhGdPj6OC8y27FUDXsNuyzSo9cvOahlSbi2ubW5XlVFzWj85AmjNUbo8ux8PpnZhoV1zAiRJanpeQlM0jQNgsC2bc55EARXV1dFmRNSzefz4XAoICWEXHcdx8fHjLF2u33vnXeRJMVhwAhJkrjZbh8dnyqaVlMmS7CqSFZxxpiiy0BCEEIkyVEYNxrOYDDoddpJHHiuo8jSr3/96+XS1w3l1sH+yo9kBfb7XU3TsyzWTJ3QGkDBOaeMCKFommrbFmOMEcIF40LIGOuGoWpvJIBhGr7v12U5HPazkvirXABJCKGpquc5IL5BgyIs33/vvd9/+WW72+20WnHge522gBJW1YKShuNKEnQc56q+UC0jTWNNV7kQAgJJllVNQxDKUBIcXP+bVVWdz+edTudqMmm3GpzWCOmKolAhMMZCkjDGkiyTsuIQQISuc+O6i6eUIsCrquKcO46j85sgi7TghO9t71rNxun5uYoUCYDN9XWOtNevDtfXR6vFYjab7W1tJUmyms0/ef+DwPct1zFU7cnrJ9ct12htTZYU0zRP5+dBHAGIVmHAGPjmu2+hJHut5mQ6ZUDcu3ePAzCbzdrtdpZlpKx63d7R02fdbvfx1w8wxtjz2q1WnsWaYRwfHx/cueX7vqrrQgJBEBDOKBWUMAVrClYp4YyzXncwny9Wq5UQokhzzrkEUbvZppQevz5cX99seY3Z5KrptUzTyuLk/r23Ca2b0c1FXZaFVGQyAJs7W0kZbW5tjDZGhDPTtoMgyLNSwwrnDHAGBWOEtbueiqGmqLZpbm1uGqYZhuF4PCZ1ffT6dbgKiuEQApTnuSSgqqrABkVR5EUaRj6AXDe0lb/EGFm2KcsyIcSxPcaJEFCSpLIsCSGWZVuqXhfl8+dPiiy1HFczTMO0hQQpyxAHZVFlaUUEwgZkjHMGAAeTycw09f2dXc/zNFXutrx+v1+W5fPnzzFWXccybS0vkrxMVA1btuE1bFLnlFWUUsoIki3HtYQQQEic0msR9jiOr1Ug3tAFimJgNjHG143mcrl0vXan03Ftm1blYjG/KYF0nUOpouzjjz6MgiBJEtvxLi/OTNP02u3dnZ1r6Og1ciFdLouqlqF0TctnlBdlyRhzXLvmRGYCQCEAZ4BDCciyXFUFpVTTtIISCKEAwLZtICNGOYdAkiRFUWQkU0oZIaSshAw4p7btGoZZrVY3+aybTbfBIH706Cng3HUcBvncDy6npzubm7vbW2kcv3f//sXxydXl2bv33s7K4sE33/z4x3+0trb28OHDTqejy2YYhr1e79Xh4fHxaX847HZ6F+MrIaR2u00ov337dhQlAEmKohweH+u63u12z8/P2+32NVp7OBz+zXyuUt7zGnVdR1HU7/cn8wm4c+t6kOW4jsDXpAxkVHWr1QYAhkHEOLjVG52fXcZRAgTsd7qO48RRkmXZ1fnFn/zJn5CSHL1+beh6r9tKo3R/b6ff789mM728UUYajYaxZZR53uv1ozyQdSWpMoyxZmqqoe0d7EsCxEEUhD6Wge1Yg35HloRc8zgM8jRxXNvUdNs0Kyb+tguHEhSirirBBKlrWldFmduu7Qcry7L6g954PJZlo9lsGoYRhsF1e805hxAuFytV0VSs1mUpSUjX7bKo19Y3q4p3usPzy0tF1hFWq5JQwiVFQQAKAHRF5UVe5iVgQpYVXTcoKYMgkBBstxrvv3d/Op9LEN15a1+COMvz+XKsa5blGnGqCIlzJmpGSlIBABhjpmGZuiOEKPLq2l/jP4FDv3753Lv9dgXY8dklVHQoCU5rXTE828kkiN+Q0NIM86snTyRZXq5W/+Hf//t7B7fb/V5ZFUhT+6N13bY8yw6CYG17C3AGIBecpXFcFwQxWjPOKMUI5Xmepmmn0ymqqtPrxXF8bR8NACjL0rAsGQghhCxjx/OKupJlhQp+fW6AgJxSwDmjtOl5Nc0ZY0mUziY3Wera7neT2flk8frk+Ac//pzVdH41vZhNx7PV/XfebTUaWRRPx+Nnz57dvXNL1fUHDx9+/uMf9fq93335JQDg9p07jx99f3p5+fbdtwEA7W5XN01ZVSzbVnWz4kySsYyxLMt5VT787jvG2O7u7tnZma7rDcd9cvatZVmKojiOE1yOcae7CnxN0yCEmqaFYahYahiGumNQzhRJQwhhWRUcrJbBZDzXdXM+WzDG1tbWrmd/17WE4FIURbd2dpazxdXFGCOUJ2mRZjsbm3t7e+e2qRQ3C/v9vZ1wb+fs7IwIkuRJtsqoqDzPIzW/nFxKEHebXcs2qyKJk5iRxHWUQbfpOEaWxKQuOaG2bXaarYvJTFPVbqej63pVkTzPBRMIoWazadhWlqVxmgAoLMuoqkLGMM1iAFmz1ZhOpwAAJMkC8Pl8XhRFlqaCMV1Ry6Ja+UG73Z7OxgcHBwJAt9GSEK5pAkAJBSjSvGJCBtw2TERLLKtZnGDIGSOUFHEc65qytX1bO9HzPO8N+47jfvvto1//+jfD/rqsQEXBAAAhOE3rKPY5B9eucK1WC2OcpUUcx1VVC/EGFCLNMoNzwzCazaZqudvbB8EqXs5W0+k0z9NtfGM/aFvW979/vLu1/fLoGGu66blJWaxtblVFbrtumecQy34c9bs9RmvdUKMguAa06IpKqorWxNC0JI1VXWdCGIah63oQBJqh1lWla1qepqZtX5fCGONmszmZz2RZFoRQxrgQQgBOGeBCkqS6ohBJZ6fnqo7oG2ug5Wx+ntPL6RxL+M7ewaunL7599LDZ7/3gww9n4/HXX/5uPp3WZXlrd29nZ+fRd99vb29vbG09fPA1E+Kjjz568uzZ85cvfvKTn1R5PZvNLNOpKZnN54fHx57XdBuNitDpdFoW1SoMkiTZ3NwESFosFuvr61mWua7Lsryu6qbn5YuVLMukqkYba9cD6TROFF4JCNMkqQBVSY0QJkxwISVF5a+ijQ1TCKEquud5x8fHSZgAAEaj0cb6aHZ1+eLFCw2rjmnN4xkpy73tzabn5HHIq3r+xiD4d7/7nZ8k3W4XIGVja4NLrNlq1HV9/uLVKgqWs1XQWo26AwlQSsoc8DQJ3N0NmQsuatc2NRV3mq3hYPDq8JgDIGOlKuosy0lNMMbXOi5u0/vyq99qhur7fpoxw9R1Q10sFpSSmlTL5VLTlTiOvYY7GIwcx6nLSpakZeA3HBciNF8sz84uHadhW15WFBSQMIjiKJWUmpCIMOHZhmFgyEEWp08fPdENuddtajrWNBkCGidRUWaqplAm8iKVFeg4tuXaWFPzPGeMEULyshCMc8ErQoq6zMpcAxoDDMoQQ+U/IcVjWX79+rXqWO1OW0D8+vWhJKmqqkgA1CWw35Dc4UDYtm25zoPffXnv3j0uxHw+x/1BXpT9fj8AwG60CHup21YSRWVFKeeW7diWaRmGv1gu5/OaUsMwTNOcz+dbW1thHGu6wjnHGKuKGofh337pAcAY26Y55aIqy6q+1rkXEpCujaYxQmVZdnoepbTVbLvJTQK8fP5K23+r1+6uoiiP0lcnr/zF4s69t2hRPnv5auUvLcva297Z39//1a9+labp7du3oyRJi3xjYyNKk5Pzs1u3b+umOR3PKWMIy0cnJ4xyKjjCmHK+8n2IkO25aZHv7Oz0+/3LyXg4HOZ5Hmb53b39l989Eoxxzj3P0zStqipVVZeBn1d5q9sKgmBnb48BoaoqQggAiVFSFEUUpmVZapoWR2kYhqqirZZ+q+ldQ4+yLGt4TUhZq9FKgqDh2Lf3D9595x3Pcb598A3hNIpu9LH91VwCQlUVRcVee8QgZZyEWQwQvHXnYHubTC8mk/lEgbzh6oaulVVRVTkAgNNasW1GKixLrucAziGSl7MlBAhCyTTN6yG4oiiWZbU6rWbLe/LkSV3X6xsjXdfOzs4URVksFoQQVcPL5VJV1eFw2Gg0Hj9+vDEclVW+t7eHMU6TCCF5sVg2m63lKmACVlWFJKCpqoyEIaFBr1smC1VVVYzjKEoTaugYAj3PFVm2jo+Pgyja2dlZjCdBGJuG9YMf/oAR6fqkVHlBCGWMcQagAJwLjPF133g9dMEYyrJ8swdIs6zX62maVpbl2dnZ6ekpI6ThuoZhXC+g/vDk1cXYMp1OuzdcW7Ms6+TkVNcMTdN8369rMhqNOOdBlOimbVjW81cvryaTbr/f7nSzvJRk7LquYZmEsdH6ekWroi6gJNI0xRgzTuM4dhynqqrrTXWe58+ePYvjWJZlUtf9Xq/VbBZZJhhTMb5WB/DD2DRsUlPP8f4QZBwmlmaFq2BzbePi/Dzxw//sp3/uaOarZ88Pn78YtDv3Dm6/d//++PLy4cOHd+/eTfPs17/9jW6ammE8f/mScv7Rh598/fCbyXLRGw6evXhR1vVkPusPh26jUVSlEOL6dmp3u3fu3InjOAiCjY2NxXTmuu71i57P57IsG5o2m04Hg8FkMmk4LiMkDMM0TVVVxRhf8wBN05RluaqqXq+3t7dX1/XJycnp6emzZ8/W19frut7a2rrmDbq23et2VYx77c6H77//05/8eHM0fPL9d0dHr6/OTyG72Vfu7mx3Wg0JgTRLGCdXV1dxmg5Go/5w+MMf/fBP/uynn//oh6ZjQVmaL5cAQoTQYjFPkmjlL2RZIrSuqirLMkVRhBCapmVZXhMSRlFRlkVZPn/14vLqfHNr/eHDb4bDwR///9t7s2ZJkjM9z8PdY99zzzyZebaqU3VO7b0C3Y0GIJCchZpFptGI0g+QdCvpSv+BJpNpZKJovKTJZDIjxzjDAUXIABADYNCN7urqru6qOlVnP7lHRkbGvkd46CJ7UKW/IFNcx0WkR3r45/697/P+8AftdkvVlNuHt5amAQDo9/v22l0sFoZhpEn26uXJcDjkef7BgwdvvfXW0Z1DlmUxxkVRNBoNy7K2trYOb98ebvUPb954cOdwe9Bt1VUW0zSGZZFzHMtx3Hq1mk3G9soyDWPThPE8DwDAcdzZ2Vm93gQAmJZVVlVnq8fyfL3ZVDStPxzcf/AAYgogambMszIvqjKIwyR/IyTPd50OR69XDmQERZY7rWZeZPP5nOc4CGH2JnmcojRVk0XRNM07h4eNWv3O4eFyMZckiWXZzz97vL+3Qwi5vr6GFRgMd7I0Nlf2y9VLGqHtwVDg2MDzKkCyLNtU/AAAlmOyPE2SBBMKAEAVRQmpvKhwWVRVleZ5VpRxHKuqCgDAGCOEQElIXlQ0rjfqWZpnWZG+YQjEkP71r35Ta7UQoaaXo91be+1m87Mvnzjr9Q8//nh/f+/45NW//eu/JlX1ne985+OPP/7pT396/+HD9cr85tkzWZaP7tz5v372kziOG7WW7fuYYfZu3mi2O41mczKZhXHcqDdN07weT/r9vuu6Jycn7V53ox6XZfnk+KUsy68WTx3HYQuSpqla04Mi23zIWZbNokQShIhkKKRM0+x2t7b6PUDhqWE26nq/P6yo8yzLZEUylotWo8FxXK1Wy5Po+MmTs1ev3nv73Xa90W23j58//2d/8b+sraWqqlvD/kcy97sR2NvdGekq5jkQVRBCmkFXo1EFgajIWVmkYaS3mkf3jozx6PLcWa5NzzUtY/LdRw8FkUuTyFhZC8M6PbsajUayXqMQk+U5y3EMx1VVlWYJTdMQQwipo7u3dK1ekgJhGEVRkiTb29tpmu7v7/M8bxiGvXbjOC5yoqkqodP+Vvvy+lySxbfffuvi4hxCajwey4pUZMnSMCezGU3D27fv7A63IKwkpppcXy2MWUUyXVUwA5LYj+Lwzt1DTdWTJJnMl/PZgmZYz48ff/5Fo9ldW3aSJMJAVtXMXFosC7cGA4kX0zT13IBhGIShqikCL4rSG2CsmzcPNvszvckXRVGv1yFikyDlOQ7DGjV/fcKoyArPspiCLb2RRamu64ZhCLywu7O3kXdnaX771mEcBr1er8iT6cSLwxBhVlOlIAg815YFUdf1KIlpmk6ShOEYUZI2M4GiqI1emgBq0wHYSJcCz8vzPPT9qqrSKIYVqMoyz3NUYEEQ1rZpLJZ68voUiGf55eNvWE5w1k6chTxmz16enjx/cXD3fkuvXZydXZ6cas3Gx9//viBy//dPf9poNLKiuJ6MBUE4vHsnDMPTs7MPPvggDOLJbPree+8vTbMoyyAIDMM4uH07DCLH9xRFEQThcnSt1Wt7e3uffPJJu93O89y2bbHVHo1GPKZDeyWxLAQAQbgp6niWjVLEsmxRgpIUvu9jjCVJYlhhtlwRQhzHEQRB05V+v//111+nafzrX/9yMBgILNtutzma9mxHE8T1avmr//ALe2226g1VURRe2N7qgi/+fgQEbr1a3Tw8JIBkWXbv3j292XR913VsikI05vI4kRWl8eCBqgqmMc4jnxeEkhQVKWez6auzC2vtmSunrCqe52v1tut5giRDGsVhFMUhhFBdSLv7g26vk6W55zuyIqZZPJ5ccxwniQqEkOd5iqKCICBE4Fie4zhzMa6//1aapqOrC4QQL7BlWa7X1rC/BQDVadeHgy5G9GoxEkVxd3e3d+8IFLHzfBn4riiwNM1ghFRFEQWZpllzuV6Z6/FoBhGuAFotr1hWrSjEizIvykmSSUqR53lZAQKAKMuGabI844deGAcsw2P6jT3A0dHh10FAURTHs6PzK01tcxxnLVdLY65J4vYbIhMWInM2xxXYHg7nk+mN/Z1f/OIX947uyKL48vkzRZIWi8Xu9rZtrXien0wmruuxDK3XNIFhx6NLazLu7ewoane9WmGMozgkgEiSVIGSphHIKkJIBTcoF4ghRDSNGQYhvKmLQs8PwxBDCCFkaRpClCZZGIaj0ahDv+4Ed1sdccu1llaSJL2drdn1aLQYi7q8P9w5ubhYLg2B47qtNqiq2Wx2enqal+XLkxNMo7v37xeE/PjHP97q9xBDT6dn3yrhFguOZr/65utBf5uiKC8MRFHc3t42DAMAsLe3N5vN0jSVZfn67LzX67nmqsiyVq9/MpsLmu66Ls8xaZrqup6mKcdxVVWxNM1xnCQLtrNe2WuIWIbFZZmPJyNOECmKkmV5a2urVW/YzrooCqXZUFju/UdvzUaT0HGfPH789ZMndVWTBUHgWHdtzZnXJZBlLl/aLoXQhz/4eDwdjUdTPwmbrRYvKJ7nM6wYxFGV5/V6++Gjtxx7K/HXEodYBq9Nw/Njy1pNFmZZIl3XAYXN1SqIopKCDM9SCEqKQjMIs5hUhcgJLMvSDK7X6xsZaRAECNKGYWxU3xzL97cGiqJ0u91+Txdlbnd3MFuMiyy9fXRzdDnmBCYI3Kqqdnd3Dw8PAz86Pj4WOHqr16jKYrg9gLAMI79Z1yGuyiK/desWLwhLwzx9dREkaZYQ17M63b4gMOPxQlEUjuOiIM2SstvZchxnPB4LLJfn+Xq9Hg6HVBgWZc4LrKxIryeA67oGQZvXQwiJ45jnpKokm1qckNcjCwhhEe1atshzWZJcX1zHbphGkWuuzk/Ovvfhh+uVORtPQFm5tj2dzQRRRJg2LSukGcwwnKZtmllhHNMME8YhqSoKVmVZQkAVFYEVqMC3CmqqKACENE3LssyyLIOwV5YYQhrjjRYUMoxt2wBQ1squWq/9UIP+4PtS+4uvnyZxUhXVZDRxvFWr3bg4Of3000/uPrj38Q9+ABn6xcuXXz59AiAUJKk36L/73jt5nv/28eeYYfZv3hxNJmme7/V6v/n0U1lT61rt7Pqq3mw+ffp0MBiKong9HgdBMBzuzOfzZ8+e/fCHPzw/ObVte+fO3cXV9caxtalTkyBot3Ysy6q3atP5vL/bL4qCE4R2p8mrou/7fhg5bnD34SOGpRsCTyqIMY6TiGawJIvvvvcOglhgWJQX15eXvVb74uXx57/9rFmry4LAYpqQksF4abw+BTIWs/HSNIylaVmCLA5vDElRGIah15o0w2dFqeuNJAwn02m3oe/u71NFbzY6FyXWWVOartZbjZcX10lS0KxsWRZi2IJUcZrGRSaLIsfzeZ46nldUsSSyzUYLYxzHIS9w+zf2HNstiypN08APKQAVRep2u7Vavd1u3z0cnp690GTx/v07SRi/PDmZIbAyDUWSJEkq8thYTCAA3bam67rAoiCIGnW13XyAECVJQhyH1nolimKWF9Px4uL8ugQoS0gaVQwSRVl9dXoKAB2GiW17eZ5KikoAZa7smqalWexHYUbyrMzzIkUMrjVrryeA59iVoAEA5tPpYDBIohIhStM0RZKiwJ+/4Td/9vRr/uDtXqcTRsEf/IN/+PTp0//in/wT05hfrO1uu80xTLfTOT4+3t7e9hxPFJU4izHGIidIkgBJwdJ0vaYXWUrBShCELE9JVWRZxnFcmRc0jSkCKkhRCEEKbqLuMcZRFEEICUUAITTGGOMizaoKFlTmR54oc3Eck+q1HBoB2O8PKgq6gRcXcZ6mgFSPP/ts76bfbbcPb9169erV46++pBj69tGtH/3e782MxWAwEBXpZz/72dXV1Z/8yZ9Y5jJJkhs3bsRxnJWFqqqu7x8cHJycnGx0177vO45z48aNxWI5n89v374dx/HVxUVDr0VBQNN0s9l8+eXThiyfjsaqKNRqtel0CiFcLpd7B7uwAgAAjuNETfGDsIU616MJplEY+Xt7Ny3b0bQmQjgMg5PTVwcHB4LAl2mWhOGTzz9Pw8g2TdMw9h699cd/8IfmcnFxcb63vyONzsDoWzQGx3OqJPtB8s/+6T+9+ejBf/s//Pc1vfH1i+cIc2laYIEBCNIs65XEj8KlSWkSy4tiUWWSqkiSUkH0/OX5eGpwCLE812i2SwrmpIzjCEC4dpzJdKQqwrDffLVeyrKsaVq30+v1eu12m6Zpx3aLoiCEbMQsG1uzxAtpEnEsMq2FLCluFpnGotGsXV6diwJLgdJz10noFUWRp1mv12s1a62mvrIrFtMVIJCqRFFMsyQMItcLwiAhJZgbS56VMRYAoQFgWEZYmVYYhqIklHmBER2GYZblhHyL3wrDMEujNE3ni2mSRm9YImWZ47i176dpyjBMVZINhcE0DNNY3H8jgLbf6/G9XrvZHI+zPM3nkwnIcobFVVl2Wi3TWGq6unHBFoSoqhouIp7ne70eRUrftjYnJL7r5nnO0YwoihUooygSRcG1XRrToKwojBBNgwoSUCGEMMaea7MsCzHJsoxGNACAEEJBKgxDQMGqqjZW6DcWNC8o+Va9JWvK0loUJLFsI7m6trRGjWp98sknBSFb3e6jd9+ttesnJyeypl6Px9PZ5Pj4uNfrJVn28uSk1+vRLGuY5u7u3nq9Xlv2cDi8Hk/v379/enKGMR4MBqIonpycDIfDg4ODn//85zRNt9vttbFkGMa27dD3maKUJImGUJEkhmHAJkmFYSCE6/U6g1m905IVieUElhMIxK5j5nm+6Rh02r16ve7adlFmktxgFPXf//qT1Wq1mEz3+4NOq5XGcbvVMGZThqYVWdY07XcjMBwO3t27uTQsUoG8yv/F//bP+/t7ar2GaNqzXIwFP45UUVR1ncHVeDrN6kpLl6p4rapKEMRJlnV7PT/JMeZ7ze5qbVMQZ3nG8lyz3ZpOJ0ma7jYHosSv12S5XOZ53u30EEJ5nkMIMcaeGwRBwDBMmmaWtRZFKU6iheGqMp+mqWUu0zhuNnRZlqPQWy6XQBLi0A/LkqKoNI41VeQZJCuSHzo0DX0/9FxH13VZln0viMKYxky3s2WuQpFXygqlcanWWJbmXdf33JChuSzPzNU6zxKEkOv7Jck1TYuisNGoNZp1DGGWvZEULzA8KIoySbVabb6cFwXsNLqKyC7iKHFtTX69B6hp6ucnp569Fnjx+uqi1WpdXl62W3WWZUVemM/nCIKdwbAoCk1Rrq4vG7raa7WzOFrOFzSsijwbX1+ncVQUBawAzWCMWEICjOk8zwGkKEIhCtEYAggBqDCEGGOWwQyNAKgqUgKEEYI0gxFNe1Gg1jQKEZqH5RvO/SxLLcukOTarSpGX8iKjCtS69TCywzC4TsriR//oHz16950UVMbSen56aq6X9WazAqTRbN67f//Jl19QFNVsNo+PX7ZbnSCK5qbZarVPry7feucdYz63TPPo6KimaS+ePSvLst3tfvP8OYXQYHtbUcT1rIQAjK4ueYGbTacPDo8WkxHEWJQEhJCiaTTNVZAyDKNCBcPSEONlZnb6Q4pmRFkoYKnU5Nl0ode0bqdR06Q8jfy1CSt4eX6WBdF7770n0UxoO9uDgRP6WzsDTmQYgeOl16ZQVVWGjXZJ4H/93/xXXz77+n/+X/8Cc7ztelFUbA2GjmXLoigIgh2FeQkqzMSEmprr/aZCg+LZi9P5YiWKoqIoUZQ16/rcMCCuyrJQRbXRqC/NOcKw3+8H7qpRa6VpStM0AHA2W4yvR5Ika6rq2l4ch5uOTRgGjmOv12umzZ+eXsmSGgTBzs6OqqpnZ2cHBzdlUdjd3R1dX7948aLTbO/t7SmKYhgGZnGWpa1Wnaah664hokRBipOUYRiWZVvtbs/0JanuOH6aZKqkfOP6aV4ghBmapSiKZ3kWYUARCKk0SziauTw7r6na3vauKIrr9fp1H6Ahyze7QxYxJaQAxzpZMDdn569eiIC8d3inIb3+tFxenKmKhCEIfPflyxdFkR0cHjx6++1N878qS0WUWcxMrsdVljclkYpjtiKzq4vEdzGCpCjyJN2s/mVZZWkeBhGC9GJmkJKKghRBLAqSIAgcwyAIijz1vbXrWnHsB76LEWAZnGdJWWRR6OuKXMYJrkARp6B4TS9amvOsSGgGffLJJ6Zh+U5yePPReur5F3MJSd999IEq6l89efav/tW/+bc/+anebmvt7mhp1LudH/7+7706O3E8+w//8e+/fPXi/PKyvdV9dno8vLkbZInWagKKOj09vbm3vz/c/uXPfr6cLw9vH+VFeXJ51d/eMVfGp7/9hGGxZZm+vbp9+wAzVKfXLKs8K9PVeiVrMitwOSkpSLcbLVxQfEkxJWABphHKi+zwwZ2EJKa7DPNgtpxUICNpsD/oUEnw/PGnnmW+/+47rWa9JMV3v//R4Ma2FdiHD+/80X/2p7uH++Vr1wZYmcudnR1eYoM0bnU63/voB7pcq5Lq/OX51599dX12acyMyXgmqRojaylkFn6eQS6v8GdfPIWIVbVamqYAkIUxH0+vECRh4NQbtffee1eShVuHh7cODx3X8/xYVhrNVr/bHn755KtP/u4T3/GspZWEiSrLvU5nvV4FgZfnKQXBeHL94vnxeh3GccJxvGEYgCK3DvZ5jv6TP/2jRqOh6/qgPxyNZ7JSu3HjaG379npVlEnouxSsZEVEmGJ5VtM0TdP29vbu3r17//59AMDzZ88USVqbK1GWWZ5vdTpVVUVBRBHq8ObR4f7tjt7K/Djy406zq8u1mtauSqio9dcrwNo0C60rsdzx9SWtq44bACYXWZqlqsIPvTd0Zm8/evTLnHv16pUkSRuHFE3TX3755Xw+b9brG3YpyYu7R0dhFFRFrsmiIvKdRjMvsizLSF5UVSUIAsaYRogQkqZxkZekJBRACFFFWcVxnGZJVVWEIphGGNMIUWWZl6SiKECqIssJKEFFUXmaQoyzJKNpOnnDDpIVOSexmIY0ho7jFGXFYLGuNkpF2R3sCazw+W+fLCN368bu0aNHh3fvX/30J9//0T8cDnp/+6tfMggeHR29ePHCdd133n33+cvjdre7stcVglvD/qsXp4PtbY5hHn/+uchLmq67a3tqLAbbuxuYqyJKWZrkRQYwKsocIWjba0jDsswxi+M0RRgvVytlMa/VtP2d3bzIhv1tO44sywqLHDA0AUCSxHpNDx1XljicZ7uDfmhZgWtLIt/ptkBJJIHbGQ50TavVNaoiWOQa3bZZvu6EqKqal+X+7VtRnH3z4rheazTbXdNam89f3tq/XYJqPB6Px+O96Ea335XUehjHXhhdBtNGq61pjfPzc/fqWlak/mCr024RsuA4jqGpJAmGO9vUdOratrXKmjU9CGNEUZBCsqjEMOYZvixLd22v12vLsVqNGqHAwphBTPV6rTQutrpNhDlZUcoiEUWRENLt9/I8d9x1mub3Hzz6wfd/xHFCkZO9vX0KZ2Fom6slJwgYI8d1fT+iGV6r14qsEgR1MBiUJT47veA5jmGYzaaxqiqMUFWWjrVeyUueY6IgqIqSqihEwTCMjp+9WLu2rKpvxF5ESRAEYRhqisIijEhFiqKu6SLHF8W37sTNZTuu67q1Wi3O0nave+PWwfnV5WQ22yTWx3E8HA673a5pmuPxmOd5lmUnk8lGDmVZVpp+yxTZXBuvIwBgwy1iWXbDjMiKIv22l03ysqwoEKdJmmWEAgUhWU4qAGnMFGWFGbooSwTp8o0gJ11Xd3Z2Go3GpjMdheHaMkVR7Pf7tm1vsJKiKG46rJPJhBBycHDg+/7xq1eSokiKMppMao1Gp9O5OL/c2FPq9Xocx0EQbI53PM/rttssy+Z5bhiGqsnWetXpdDZIyfFo1Gw3l6bRbrdd14UV2HR8CSHdbrcsy01oEmSZ6dLICKFZNo5jUJIsiDmIYUF0SSnT3LNdVdbKgsRx8ur0fGWvXr46/urZl37sUTRFc0jVFDfwzPUqJ/km3Hdzyaq+WC5FQc6LkmEYVVVrtdru7u7+/j6NGQpAz/WjME6SJEkyUFEUAXmep2VJYcxw3HBnp9FuCYLA8UyjWd/d3dnb32FpdPLqxdo0HNuiAKlpelmWG1YfQmhjEVY2phmEaJouy6pWayiKUpZlFEWO40BEs5wQpylAEGKa5cU0zzledH1fr9ebnTYrsAe3DyRVLkjOcExR5nGartZr27YRwrIsb6SpCCFCAZZlO9323v7O0Z3DbrfTaNZ73Zamq7zAqZrS7rQUVSJVESfRcrlkGKbdbt++fXtnZydJ4tlsFnjeG5tgVV1Z1jdPnz780Q+mzlrmWFQQmkZhkZakkCXhd3cay+U4pL770YfL5XIjn57NZgf7NyCEu9vbs9G41mgY8/lnv/lNs9dRVSFJktFolPl+c7AVhuEm2qQkIMu+jSijqApCuGl4VZCqKFBRFIAAgKqoqjxJCAVKiorimAJIFiRSURjCzXSheW4DxwvjAEsM+PttcK1e53Q1TvODgxvz2TIMQ8tc6o16EARnz7+p3djfPbql9Jo0TV9fX7O2uLuzP5lMfvXL/3Dz5s16rTGZLWiG293de3l8jCEMw7CqKlEQnnzxZa/Z8X1/MZ12u10aoovLEScrqqz4jpvGcU3TYsvCNH3+/Pn9e/eePf7i/fsPJxeXm8zWqigNw9i5sZdVhBCSkzIq8oplTHstqEqj0ag2I+OHaRhKncGw1QvtoKM0fvN3vw19vwLU9vZwPL+maVpQBJqj4yzxAkdWpSD0AQAHBwe/e00URJ4fyI1qPJqQskrz0l47WUFUrVYU5WQ8TeO0vd2RJDmNkgiQqqoUUZJYmmSREwaKogy2t33f98PQdqyyqARRbLfrl5eXl+dnxsrkOabTbs7GE4IwTdMczdCQKrLs219aVY1GowQVxtgPQ0EUBV7yvXB7uBVnxXg6qQAQRL7WgklWMJxQUkipqQUBJ69OK4CyLBNFSQOlJMu2s4qiyPU9PwhvHNzWdOH6auQHVpFXRQqSOA+jTFUVRIMo9mVZ0hK5yBKOo1v1YU1XIamW5oLjmHqj1t3qybIsq/JyufTCYGtr6/UEUBQlX4fL5dK3nTJJ6AqQNIv8IIkiGiFJeH3C2NvqhF9fBoGvaepkNl2ulu1ue7i7fXZyUm/UijT56umX88kUYEjTeLVakTLjeX5DhIzjeFMCsRyT5/mG+7CxQVVVlRc5jZmyIkVREqqqYAUgpBCiKMJxQhRHVUURBClA0SzDCTxFUSwv8AIHELW0llyr+bsJQEHKtu2yovq9HqawaZqWYWAXFoQACHmer6pqPp8zkV/bat84OKh1Wj//2597bvAf/+EfTMfjOI5rshIEweXl5fZwZ3Q5UnV9Np1XZckwzGw2i8OwXqutVis/cCVNbXdaq9WSQdgwjCiKEt8DcYQRIkVJY6oiebs3YBgmikPb9BudliAIjMT5cQgE5e5bj6Io4gWhq+qe5zmOF/phW6tpgpQ6vu0GZ69Onz59WtO0Tq93+9b+6fnL/f39/Vs7ak1BFOUl4XZ/gF06LXK+er1Qz41lVGvatrtcrb/55htN1SsCF4Z5cXX96OHbs+kCANDu5L4XKIoiSkJWFLzIUYDwvJonqbFasTzbajezLJuMRuPRtNPp3HvwgCL9IIyKJGQg5dprGkNQlYHnChyLEZJlGUIYBEEcJbu7u+1WJ47jtXXFcEwSpwyH/DCKk3A0GleIrmmKrGoFgbKmMyznOHaUpl4UPH/5HGPm3r17EGNIV+PJNAxDlufDaNVoOZQGzy+vwyCiALYsz1isipxQAIWRv1yZFMdSiIKIiuNIlaVaTUMABKHb7fc2PN2VZRakoChqa2trOBy+ngBJnrVarTt37qyNZXdnaC5XMSmzKBAlQaJF1n6tBXIdF2Psum6UxIZh9Pv9RqMBAHj48KHjOI+/+MKxLEEQbh0dja4uFUXACPR6vTiONwIyzLA8z/uBhzHe/PcZBmOMK0IIIYBCSZZlaUoowjAcL/IMz2zgBUGckryEGFMVZHmeE4QgCJIwRCxDAFUh2Gw2gPPtQ0IIXc/hBUmS60okyaKAMbIsq9luH739LiOL8/nCL9Ldu7dv7N1sNlqr1fri7OzDjz4Ig+jq8vrG/h6oqlevTjvNdrNev57MJEG4Hk8ePHhwfXFdFMXe3t7SMCgCOp1OnueSpI0nE02Try8vaoI4uR41b9zwfX9nZ8f3/U10zbd6B1HAGPM8r+ja9Xy6zoKDB3cJgpwoCIJAyhKVQOeEYX9oLa2/+ct/gyCd5znCeD5bQkzMlowYtL0zoDlMYKnrumVZcZmWoBRl2Rm9ZuNdXF5Oc3J2Ndb0put4PCeJktKDzN/+zb9v1jv1eiOKInvtZFl278GDdqszm83iKBUVzo3sLE2piqiyXAEw6HcVkSuylKapNPJAled5rMh8URBSASwIWZbN53OWYUSe73a7gevN53PP9Wma5iWR4ThAUUmWr+z17cNbcZwWJEsLYru+FwQlpHRdaxckJyDOiyjLoyyPguDGjRs0x12MrkLf/rtPflur1T746CORE0oCprPFcrnMUwIhCoJ0NL4GBA0GwyIvoigsEn+wM0QImQvDXM5EDm8IioSQMAyzPEUI0QxD07QkSf8vNehytRIkaTAY5EnCAojKsowTx7YVUZJE0XVfp0ROpmOOZ0lVJklcVYSmcZLEEFElKcbj0XQ2UVVlMOjTDI4jfyPtpCjKcZyNQ2LDu93wSjmOEwSBpr+NWd5YRgAAFUVBjDHHspLIKzKvyIKiMYKAWLZCkMJIkGRJlAmgbMdLssx2HF4U6/XG7x6SkDLPc5HnQUlIUUiC0G23QZaxLCvLsud5Ii8c3T4a9AaSIFim+eLZs0a9dWP/5meffYYxjuO4ICRJksFgELhBt90t8nKzn1mtVhsdaJ7njUZD4DhEVZLAQVi16o04inieC8NwezAIfbfZ0D3H1XV9bVtZnsqyfHBwkOWJH7iSJCV5FmbpbGUCTFMQB14osYJEcz29ISNmcnL21aePnz15enL8ipDKWtnL1epyfIk4QGBZlCliKFZgJFXOSObHQRAHbvj6NfGyzAk8hWi93nz3/e/ygsTQLMvy+nDH84JGvdXfGoqCHPghKCsas2EQh1EcZNloYXpxCmmm3mknaVxv6EdHt7//ve/cv3urzOMiDWWB3eq0WQY36jpLI01WKkIAAK7rsixb5GWaZHEcX19fe65PAajrtUF/SMoKIprmxTDJMc3lBbDd8OTsajSavXjx6uzier60Lq/Ha9dxwiCryHw5n8xnlm1XAAZhnKS5ptfTjFyNJkmal6AK4zgMwzzP8zJHNCqqDOJKFFhNkTVFpjEMo8AwFquVmZc5wjCKQ1JVjWZTluWqqmAFsjh5PQHWjr32PcMwfMe9OjlN/cBbmfPpJM3iKA7ms+nv7ux2O7IoBqF36+BAkoWLi4uqKmq12v/5L/65s15/9OF3u91ulkaGYbQ6HVEUfd8PgsB13Y3dPs9zy7IoimIYZvPvz/M8CIIgCOIkiaIozuKiKihEQRoRAJIs8+MI0hjSmMKoohCEmBMEThQQQkWZURS1dm2WY/Abrh3HcTfsVT9wfd9nWNzr9WiedxxvdDkaXYz2tnc//M4HEscnQQxK4Dneu2+9I3Dc+fnl3u6Ni4tLUla1Wh1WcDwed5otz3G2Ot2T45dpFFdlOZ/PMQVVSV4sFhhjVVVZTG/1e5tKAENICEnjeEMh5mgmTZIkjtM0RZi6vLy8vr7mOK7RaOzevBFmKS8IGGPPcVAF0iBM/cBZmqkf3Nrd4zCmCBW4oaIo/X6fkEIQeD9wiqpAGARRQEGSpjHNMV7gAfj6HPTe/XsPHj364z/9T8qyfO/d92VJcV3/k998enR0t16v+76vqmqr1UKQTpIkcH3f9zFirieLuCA0x3tRgmha0ZVOt01RRb2m3ry502xow0H/3p3D7WE/Cr00iSgAdF3XNE2SpDAMNyS1jWHA8T3TstaOzQnCzVu3WJ53PJ9mhCBKkoIkRUkoHITpyvaPTy4uRpPPHz/59W9+G0RZTsDJyfnTZy9kvfbonfc/+v4PGFZ8+vT56dnVeDS5vppkWUEBmMRpFEV5nsdJaNvr+Xy2Wpk8S1NlXiQRBIRj8IaexnHcJrJWEIQNJS4MoyzLi+INS+RvHz+GSvPy8lKWxVfPvm63uttb/Vf+ycXVlcQKnddiUMALnFyJzW5rNL46P3k52N5FGJ6dvBzeORxPrqPIowiYjK41We31Oq5rsyzbaDR2dnYc1z4+Pm7oNZqmkxTJsgwBYFmWoqo0TSFCSZJsVoB6ve7FgaQoekM/OTvV6/UKAL1WIwVp6I0yycIgoilGlmXTdQhVCbIgyELyBhOhu7V1WUJeFBmGiZPCtCxBkm7fvp2khbGyirkxvhr3drY9142KfOdwv66oiih++fjL999+z3EcwzC+98GHr54/76oNVVLiMEQQ2rbr++GDBw+KNJ1fjh7evffVkydURYbD/tMvn7z91kOOYULfdxh6d2f45JNPrfGYSjIOQ72mnZ+X/X7/6TdflagyzeXD77xXFDnDsqv1+v7OtmFa1mR2MNymqqrTbCosFwfxT3787yiI+92OXKsP9/f6O9uX43NaLgbb3bqu1+q6KAmu42VpIYqSrteNlaW/IdlarsyTJN/dhjcODlamFSZxGKzfff9923bjOM7yUpHV6Wxy/OKFpit37tzZ29mJskBSaoAScgJqem25MovQn2fxznDLnGV5mrz76KFl28cnFy9fnfT7fQphz4meP3vW63RqmsYAFPvR3t6erut/+6tfkzKRJMVcWkEUXV2NBEFK4qyiYF6ANM2S1Lp//77n2n4QSooKEUMzwlZ/ByKqJHlJKIjp8XiuydqHH/0gjcnZxcVq5di2bZrrPM/r9TrD8jRN9xh2tVqNxldxHDuuLS7YrV7XXBqgItvDQRhGeZGyHB1GEaZp1/UgRBQFNVV/7913afoNNiivKCXDaLXaVqvRqdUvTi9Onr8gFKQgABThhddw3DAIEkidn5xalsXzAoORLIj2erW7vS1x/GBra3x1XWRZWWTLhcHQ8ODgACF0cnIiSkKz2WQQ3hyDxnFMiiLLsjSNkyTBosixrOf7RUVcz2EEvj/oqfWaH0eSJCVxtrO3Zy5WxmLJIZqmYJYkRVEIHLs0537gPXr7XhC9LgA839V6u4PBYHt79wv4ZLlah27Q6/VEXtGNxWdhML64KiG1cC0osRfXF3fffhj54fh6/OGHH3z9zVd3ju5dXY4a9Za5WLZq9fF4rLeafpQoiuI4jipJFEWZpjmdTg8PDz/75NN2r6uI0otvvqaqUuR5uiTTs7O9oyO6ILAsLMvSNG25XGzMAM1OO47j6XSKJaHTbr/45njY7tzc32/ISk3VqihN/OBv/vqvJUGoKCpLoh/98D/t7m5fj8cry/j44XuNrtaqt0RRtG17Pp9DQJdlqemNZqfVoV5/qBzfm4VJkpJOa4vnhLfffjtLC9fxoig5PDw0litd16M4pCjq4uJitVrpNQ1GlOEEoIKYRTTN8RzOyyyOvfH1pcSwkMFFkYRRwDKI49kyT8s03/SCNh5zXdfjOL66utrkOlZV1Wy3SVVRCBVlFYSxWmODMOJ5UdfrlmWVBUjTKkmr6+u5IouE4JJAx/MQoCRZiOOyItHSXMuSYq3d+cxI45JhGM+LWZp27YBhGEGgKIrSNK3VblIU5bueKLCiwGqKMlssTk5OOI4bDLcxYhiG0fWaLCuiIFWEEnmlKqHtea9LIArjlJSKotAQKYIgsLTv2c1GraKoIIoQfj2y69USAlLlKYuo/laHZVCRRHVd7W91KVAmUeA7FqaqTrtZr6lFUUiSNJ/PFycnNE1vckE2xMaiKDYK581B0KY6l2RRkcQ8TRVRarVaAACEEIVQvdW8c+fOBrgACFFkTddqW50uQlSWxgyGvW479F8zERDGd+/fV3TNMM3JbKGouiDJLCf22r0b23t7g12e5WhANVStU2u2a01ZENbGkipKVZbXq1W70ZxPp7qq2eu1LMiL6YJBTJFmiqKs1+uiKDRdtZ21pqsCx5IyVyTx/Ozk8vzi5o0bN/b2giAAWXZw80aSxq1Wa7lcMgw2TZOm6TRN6vU6wzCO50IIYVnJnAAJUCXlwd37CMCf/OQnf/VXf/XFk8dRHNYbtcOj24dHN9utmq5J28N+r9cReX5D2J7NZsvlcuO39n2/qqr8DTUUyzIAgOl0enZ5MTMWkqL0h0PMMmEch3Gs6SrCcDAYHBwcZGnqua4kiHlWkBJnRZWlJM1KCiCB5WAFLNMs8phlYBgFznqFMOQ4LsmzMIlZGnfbTYHlQElYljUM48WL4yiKp5N5FCZlQThB1Gp1mmYpCkGIWIZX9Vqz3dFqdYw5SdJaza1eb5tlZV7QigK6bmw7/niyuLqeOk64mK9OT68nE3M8Xl5eTquKTtIySUvPj/MCUIhGNC2KYrPZbLfbtbrW7/WoqsIIIFjFcawoSrvdhhDarkdB3Gp0i5zEYcyzPI1ZXXujEwwZzPBCTdVK14kcd9jrVVU1GAzcMIy9AOf07+5M4yRwXUTTDE3LgthutTbJDmkcp1FsZgbPclvdrq6qRZp5CG1yjaCm0TQdhqFt25tW0QbZznEcQjwhBGMMIRRFsayqOEtVTS7L8tWrV4Zp7u7vv/XWW616czqaaZqGKUQjJAkChYHjrHmJFkXFD1yavPYD7OzsMt3uYmE8f3FiLFeCKBEK5Uk6ny/KslQlpSY09w5uYkVEEtfZG1xNrhcLY7s/NBdLiZfWpkVjpkhziZcCz2NpeoOipyECVeV53lajaeaLu3fvXl9c3ju6Exf582+e3dzf79T0qqqefvll//Ztx3E822nffzg+v+AZnKapXtNWq1Vzq9ftdisEMUJFkj68dw/mBarA5fnF3/30Z3/1l3/prKw//sd/MJlMWp3W0b3D0fjy9t07N2/sjBbnrm2vvfUGruq6LkOzrVar19uajGeu78dnZ+/9/QgoqlYj4NKdr9drmqZ5nnfcdVHkkixs8sN93282m3fuHqZP4jRNOI6DECJIp2kaZqkDCU8VLYXTVBWTNE9TVZaiKPJ9X9Yboij6ccJQMAxDUZA0TcMYbzhClrXudDrr9dr2XJYXaJ6LopTCiGbZOM7COAYVLIuqrrcCP4QUzvNclZU0sooih4BpN7doBMeT68BLxG3VWQdFRuIkrwAqCVSVGkMbRVlCADiWVxWNVCUpMoQQBatNGMzaXDmOU1Xk5v7+zVu3eV6yVs5kPBUFpd3uJHFmZauyAEmcdTqd1xNAbTRIp7PVqNtXV0YU0Qh12s2c5LVGPePF8g2/OcfQs8lY1fU0TfMie+vBfZ7nL87OJqORwNCgqtq9TuB6lrGI41iUFEJIs9ncwNJc183zfGP7StO0zHOGYTiO8X1/k3SZ5SkFoSRwgiAsl8vTly8AgMqjR0dHR8u5sVlD1nNjPp8nfhjFfhy6erOr1+TJ+HL7jW5dr9d9aa8XxooQav/GzfOLa9eLBIa7vrgkhLhhwJai73plHEazNM7TyXLuBPbu9uDy9KzdaEZB0Go0VubqVn9ncj3e6m75jsfwfBTFsqR4rqewXKvVYiGKogghZBsLXVV3d3ef/vZTe2nMJuMffe/jn/34393Zv1mSnJCC5/kgihRF8eMYIkpRZUJRkiCKmlaXFKokaRD+7//yX/7ir3/c6DQ7nRYncv/5f/nn77z3bprn/+Nf/E9pEb//wXcePbj/9YunV+MLnuH2d/eb9aaq6N1OZ8Nmi+O4tF+b4kuSq2qj3kgCL240GoPB4PzsAmP84MEDQkhd01+9ckPfVURJk5U0jhFF9bt9L70kUQQKEAWpA4o6j+uqyiNizaZVWaZpGsWhpNUxw3CCQNO8OTOTMBYEgaKotWmRopB4Yb1e7+3tXU/GaZpiljfNFaJpThAsa52TvNlqJHFK0+zzZy/a7fZyboiiyDKMrmsir+k1VRJ4jhXCMGzUOpPxJcZMp9MHAJMSVACznFSWJQSEFxRRkJI0jtK4KAqWowVBmFyP4ijy3EBR1UF/2G63FwuTEJKmeUWAICrtpqSI6nq9Xs6XoHwjKLtWr60ZuqJInufOel3keQEpy7K620NMoeUbxBGMEM+ydV23LMux1qOrK9u24zCcT6aSKOZpGtgOS9Ou7WxkQkmSbDqpURxpmpaxXBAEDEt/q9nAGGO8KXUEQQhMn6bpVrtFYzybTYHjAFnFGG+yMNI05RkOlFTg+kWYGeZE1b+NdZkZ88Zg9/UylaZxHFMIlqCiWZZmOUGSqZxkWU6KskzSZeClZZnBYhX4/bWJBS6IvNHlKM6jXu9+kiUYY5ITGuIyz2VZtqdTXpZXq1Wz3lgtl8fHx//Rx983Z/PD27fPzs6Kiuzs7Lx49vX11cXV2fne3h7LsrllPfqzP3/2xedFUbRarcVyyTBMv99nRbEsS0jToihKDJf6wXwyLbMsT1MAwfb29scffbCzPXjw4F5OSl7mfvD97906ulXmmSzxGGNSVjwjdtq9bmeLY/k8z33X27gmZOm1JcjzvMaNW6KknZ1eVlUpSoJe06qqardbcZzUajVd123bxjRqd1ppFpsrQ9HrAi/7fkCRElRpHCVJktK6iDj+xLIAVZnW2jAMihHdMMmLgmUhQmg+mW26nFmWqaoKKiqIo26nznMCwowoijzPJ0VBKpAkCZPQoKKiKPFc8+zFS5YR0iRPE7fdbImCwnK070ZJkHKMzGA+ToqSwArgrW5XlWu27azXrsjLEFEQAIbhyrJKkywMYgAARck0QnEUcTRD1+sQoSLL4iiNopiCmOeEKExeHr/q9wccYpM4D1wvid8wxQ98C58/Z6gKnZylnz/maWZ3d6eZZ+TlWmQFPX29v/wwXu6JMl+sPOhlbC4cf7KYTuWaTnM48lYY4WC5bnY6JZ2rDE4jByDgRgGGCDKUxFBB4iVUwlJMxEYVIa3UoDLgVrbMynVVHDkRwqjDycn6er5axDWWYqrh1df6j9MaAVuzmW1YSZpCgaAqDbRK1rDGZjUqvM7dh8vx7x5SGF8NkoJZrsqpAafjQ8iGWezb9oAuOYkJGO5yagIjoljczdK2xapUbTQf10jCitxdq+P6XhRHe6KU/PY3bwl88fWXN4qcj/3pbNbf3WWMhWdZzGO2EUSD/sB6/tVwZ5u5eGU/f/6xrt2ra3VVnT97+ke397vGaDG57rPsURERkjSqotZseHEk2hbDsjpG0DSF2VwxDMe2vsvgm289FHnm9zvN1HPq03EYhZzA/YOaYp+8AADs1BtFQWoUPvSC3mgKAMjSfDqdEgC4JK6StLV+DcZaGHMNIVkWOt3uamW9OD6mEY0QchxnuVwO+1u7ezvxi6goimazuTBmZ2dn23tAVbTlalURUEGQxumG3MpixnbWfuAtV9Z8Pq8wH+UEQAZQsSiKRVHYlsUxDEYsQoiUlSzLPM8Ph0MK4rwsFU3L1naapvV6nRN513UlSeE4rj/cZTEjdfo8zwNSAYLSuLDWThrHkiSIkuA6Ac8Jnh8qUsxwfKvJvXz5stloZFmWp3EUxhCQvMgLUqV5niQJydNWq6WIkl5vzuZzwzCUWgNjHIZhHMfm2rq+Gve3pt1me205GELbdqnq6PUc+P+v/y9d/92PflT/sz8nOez3d168OJ5Op7pSFwSBRpxt23/+Z39GUdTPfvaz+XxOM+jy8lKSxKMHbzW3dp4++yZ1ViyIUe7cGjYf3N4WMfjX//r/iJPIWFoTw+wO97MKQkbgOVHj5ZPjV7ZltdttgZMXiwUpq+HuzqMH72QVefb8eLFaVQBN5jOI0K3bByvbGo+vHz54u93qZHF2cnJKI67RaFxfXXEcV6vpLEdnSUJBIAgcwlCSmPPzU1VS2+32Vqf3+PHjne3tpWmszRVmKF1VBIkFVMmwiKFRnkS6KAkst7u7//TZs/OL0Tvf/Q5CzG8+/Wwynfe3tpdzo9PutWtt0zRlQYrj+P8BqDAzEomxiOIAAAAASUVORK5CYII=\" class=\"ndarray_image_preview\" /><pre class=\"ndarray_raw_data\">array([[[127,  54,  22],\n",
       "        [132,  57,  25],\n",
       "        [139,  61,  32],\n",
       "        ...,\n",
       "        [ 80,  41,  27],\n",
       "        [ 80,  41,  27],\n",
       "        [ 80,  41,  27]],\n",
       "\n",
       "       [[143,  72,  39],\n",
       "        [142,  69,  37],\n",
       "        [140,  64,  35],\n",
       "        ...,\n",
       "        [ 80,  41,  27],\n",
       "        [ 80,  41,  27],\n",
       "        [ 80,  41,  27]],\n",
       "\n",
       "       [[138,  74,  39],\n",
       "        [137,  71,  36],\n",
       "        [137,  66,  33],\n",
       "        ...,\n",
       "        [ 80,  41,  27],\n",
       "        [ 80,  41,  27],\n",
       "        [ 80,  41,  27]],\n",
       "\n",
       "       ...,\n",
       "\n",
       "       [[255,  42,   4],\n",
       "        [255,  42,   4],\n",
       "        [255,  42,   4],\n",
       "        ...,\n",
       "        [148, 170, 142],\n",
       "        [136, 155, 128],\n",
       "        [145, 164, 137]],\n",
       "\n",
       "       [[255,  42,   4],\n",
       "        [255,  42,   4],\n",
       "        [255,  42,   4],\n",
       "        ...,\n",
       "        [115, 136, 111],\n",
       "        [119, 138, 113],\n",
       "        [119, 138, 113]],\n",
       "\n",
       "       [[255,  42,   4],\n",
       "        [255,  42,   4],\n",
       "        [255,  42,   4],\n",
       "        ...,\n",
       "        [ 83, 104,  79],\n",
       "        [ 96, 114,  91],\n",
       "        [ 87, 105,  82]]], dtype=uint8)</pre></div><script>\n",
       "      (() => {\n",
       "      const titles = ['show data', 'hide data'];\n",
       "      let index = 0\n",
       "      document.querySelector('#id-9468bfde-ea1b-42f6-a732-3a413065ec59 button').onclick = (e) => {\n",
       "        document.querySelector('#id-9468bfde-ea1b-42f6-a732-3a413065ec59').classList.toggle('show_array');\n",
       "        index = (++index) % 2;\n",
       "        document.querySelector('#id-9468bfde-ea1b-42f6-a732-3a413065ec59 button').textContent = titles[index];\n",
       "        e.preventDefault();\n",
       "        e.stopPropagation();\n",
       "      }\n",
       "      })();\n",
       "    </script>"
      ],
      "text/plain": [
       "array([[[127,  54,  22],\n",
       "        [132,  57,  25],\n",
       "        [139,  61,  32],\n",
       "        ...,\n",
       "        [ 80,  41,  27],\n",
       "        [ 80,  41,  27],\n",
       "        [ 80,  41,  27]],\n",
       "\n",
       "       [[143,  72,  39],\n",
       "        [142,  69,  37],\n",
       "        [140,  64,  35],\n",
       "        ...,\n",
       "        [ 80,  41,  27],\n",
       "        [ 80,  41,  27],\n",
       "        [ 80,  41,  27]],\n",
       "\n",
       "       [[138,  74,  39],\n",
       "        [137,  71,  36],\n",
       "        [137,  66,  33],\n",
       "        ...,\n",
       "        [ 80,  41,  27],\n",
       "        [ 80,  41,  27],\n",
       "        [ 80,  41,  27]],\n",
       "\n",
       "       ...,\n",
       "\n",
       "       [[255,  42,   4],\n",
       "        [255,  42,   4],\n",
       "        [255,  42,   4],\n",
       "        ...,\n",
       "        [148, 170, 142],\n",
       "        [136, 155, 128],\n",
       "        [145, 164, 137]],\n",
       "\n",
       "       [[255,  42,   4],\n",
       "        [255,  42,   4],\n",
       "        [255,  42,   4],\n",
       "        ...,\n",
       "        [115, 136, 111],\n",
       "        [119, 138, 113],\n",
       "        [119, 138, 113]],\n",
       "\n",
       "       [[255,  42,   4],\n",
       "        [255,  42,   4],\n",
       "        [255,  42,   4],\n",
       "        ...,\n",
       "        [ 83, 104,  79],\n",
       "        [ 96, 114,  91],\n",
       "        [ 87, 105,  82]]], dtype=uint8)"
      ]
     },
     "execution_count": 24,
     "metadata": {},
     "output_type": "execute_result"
    }
   ],
   "source": [
    "results = model(img_path)\n",
    "\n",
    "results[0].plot(show=True)\n"
   ]
  },
  {
   "cell_type": "code",
   "execution_count": null,
   "metadata": {
    "colab": {
     "base_uri": "https://localhost:8080/"
    },
    "executionInfo": {
     "elapsed": 2764,
     "status": "ok",
     "timestamp": 1739819984763,
     "user": {
      "displayName": "Qianyu Huang",
      "userId": "18232162311717956953"
     },
     "user_tz": 300
    },
    "id": "mQL0u5GlTD0n",
    "outputId": "c2c45e47-a315-4aa4-cdff-9637b83eb3f8"
   },
   "outputs": [
    {
     "name": "stdout",
     "output_type": "stream",
     "text": [
      "Requirement already satisfied: ultralytics in /usr/local/lib/python3.11/dist-packages (8.3.75)\n",
      "Requirement already satisfied: opencv-python-headless in /usr/local/lib/python3.11/dist-packages (4.11.0.86)\n",
      "Requirement already satisfied: numpy<=2.1.1,>=1.23.0 in /usr/local/lib/python3.11/dist-packages (from ultralytics) (1.26.4)\n",
      "Requirement already satisfied: matplotlib>=3.3.0 in /usr/local/lib/python3.11/dist-packages (from ultralytics) (3.10.0)\n",
      "Requirement already satisfied: opencv-python>=4.6.0 in /usr/local/lib/python3.11/dist-packages (from ultralytics) (4.11.0.86)\n",
      "Requirement already satisfied: pillow>=7.1.2 in /usr/local/lib/python3.11/dist-packages (from ultralytics) (11.1.0)\n",
      "Requirement already satisfied: pyyaml>=5.3.1 in /usr/local/lib/python3.11/dist-packages (from ultralytics) (6.0.2)\n",
      "Requirement already satisfied: requests>=2.23.0 in /usr/local/lib/python3.11/dist-packages (from ultralytics) (2.32.3)\n",
      "Requirement already satisfied: scipy>=1.4.1 in /usr/local/lib/python3.11/dist-packages (from ultralytics) (1.13.1)\n",
      "Requirement already satisfied: torch>=1.8.0 in /usr/local/lib/python3.11/dist-packages (from ultralytics) (2.5.1+cu124)\n",
      "Requirement already satisfied: torchvision>=0.9.0 in /usr/local/lib/python3.11/dist-packages (from ultralytics) (0.20.1+cu124)\n",
      "Requirement already satisfied: tqdm>=4.64.0 in /usr/local/lib/python3.11/dist-packages (from ultralytics) (4.67.1)\n",
      "Requirement already satisfied: psutil in /usr/local/lib/python3.11/dist-packages (from ultralytics) (5.9.5)\n",
      "Requirement already satisfied: py-cpuinfo in /usr/local/lib/python3.11/dist-packages (from ultralytics) (9.0.0)\n",
      "Requirement already satisfied: pandas>=1.1.4 in /usr/local/lib/python3.11/dist-packages (from ultralytics) (2.2.2)\n",
      "Requirement already satisfied: seaborn>=0.11.0 in /usr/local/lib/python3.11/dist-packages (from ultralytics) (0.13.2)\n",
      "Requirement already satisfied: ultralytics-thop>=2.0.0 in /usr/local/lib/python3.11/dist-packages (from ultralytics) (2.0.14)\n",
      "Requirement already satisfied: contourpy>=1.0.1 in /usr/local/lib/python3.11/dist-packages (from matplotlib>=3.3.0->ultralytics) (1.3.1)\n",
      "Requirement already satisfied: cycler>=0.10 in /usr/local/lib/python3.11/dist-packages (from matplotlib>=3.3.0->ultralytics) (0.12.1)\n",
      "Requirement already satisfied: fonttools>=4.22.0 in /usr/local/lib/python3.11/dist-packages (from matplotlib>=3.3.0->ultralytics) (4.56.0)\n",
      "Requirement already satisfied: kiwisolver>=1.3.1 in /usr/local/lib/python3.11/dist-packages (from matplotlib>=3.3.0->ultralytics) (1.4.8)\n",
      "Requirement already satisfied: packaging>=20.0 in /usr/local/lib/python3.11/dist-packages (from matplotlib>=3.3.0->ultralytics) (24.2)\n",
      "Requirement already satisfied: pyparsing>=2.3.1 in /usr/local/lib/python3.11/dist-packages (from matplotlib>=3.3.0->ultralytics) (3.2.1)\n",
      "Requirement already satisfied: python-dateutil>=2.7 in /usr/local/lib/python3.11/dist-packages (from matplotlib>=3.3.0->ultralytics) (2.8.2)\n",
      "Requirement already satisfied: pytz>=2020.1 in /usr/local/lib/python3.11/dist-packages (from pandas>=1.1.4->ultralytics) (2025.1)\n",
      "Requirement already satisfied: tzdata>=2022.7 in /usr/local/lib/python3.11/dist-packages (from pandas>=1.1.4->ultralytics) (2025.1)\n",
      "Requirement already satisfied: charset-normalizer<4,>=2 in /usr/local/lib/python3.11/dist-packages (from requests>=2.23.0->ultralytics) (3.4.1)\n",
      "Requirement already satisfied: idna<4,>=2.5 in /usr/local/lib/python3.11/dist-packages (from requests>=2.23.0->ultralytics) (3.10)\n",
      "Requirement already satisfied: urllib3<3,>=1.21.1 in /usr/local/lib/python3.11/dist-packages (from requests>=2.23.0->ultralytics) (2.3.0)\n",
      "Requirement already satisfied: certifi>=2017.4.17 in /usr/local/lib/python3.11/dist-packages (from requests>=2.23.0->ultralytics) (2025.1.31)\n",
      "Requirement already satisfied: filelock in /usr/local/lib/python3.11/dist-packages (from torch>=1.8.0->ultralytics) (3.17.0)\n",
      "Requirement already satisfied: typing-extensions>=4.8.0 in /usr/local/lib/python3.11/dist-packages (from torch>=1.8.0->ultralytics) (4.12.2)\n",
      "Requirement already satisfied: networkx in /usr/local/lib/python3.11/dist-packages (from torch>=1.8.0->ultralytics) (3.4.2)\n",
      "Requirement already satisfied: jinja2 in /usr/local/lib/python3.11/dist-packages (from torch>=1.8.0->ultralytics) (3.1.5)\n",
      "Requirement already satisfied: fsspec in /usr/local/lib/python3.11/dist-packages (from torch>=1.8.0->ultralytics) (2024.10.0)\n",
      "Requirement already satisfied: nvidia-cuda-nvrtc-cu12==12.4.127 in /usr/local/lib/python3.11/dist-packages (from torch>=1.8.0->ultralytics) (12.4.127)\n",
      "Requirement already satisfied: nvidia-cuda-runtime-cu12==12.4.127 in /usr/local/lib/python3.11/dist-packages (from torch>=1.8.0->ultralytics) (12.4.127)\n",
      "Requirement already satisfied: nvidia-cuda-cupti-cu12==12.4.127 in /usr/local/lib/python3.11/dist-packages (from torch>=1.8.0->ultralytics) (12.4.127)\n",
      "Requirement already satisfied: nvidia-cudnn-cu12==9.1.0.70 in /usr/local/lib/python3.11/dist-packages (from torch>=1.8.0->ultralytics) (9.1.0.70)\n",
      "Requirement already satisfied: nvidia-cublas-cu12==12.4.5.8 in /usr/local/lib/python3.11/dist-packages (from torch>=1.8.0->ultralytics) (12.4.5.8)\n",
      "Requirement already satisfied: nvidia-cufft-cu12==11.2.1.3 in /usr/local/lib/python3.11/dist-packages (from torch>=1.8.0->ultralytics) (11.2.1.3)\n",
      "Requirement already satisfied: nvidia-curand-cu12==10.3.5.147 in /usr/local/lib/python3.11/dist-packages (from torch>=1.8.0->ultralytics) (10.3.5.147)\n",
      "Requirement already satisfied: nvidia-cusolver-cu12==11.6.1.9 in /usr/local/lib/python3.11/dist-packages (from torch>=1.8.0->ultralytics) (11.6.1.9)\n",
      "Requirement already satisfied: nvidia-cusparse-cu12==12.3.1.170 in /usr/local/lib/python3.11/dist-packages (from torch>=1.8.0->ultralytics) (12.3.1.170)\n",
      "Requirement already satisfied: nvidia-nccl-cu12==2.21.5 in /usr/local/lib/python3.11/dist-packages (from torch>=1.8.0->ultralytics) (2.21.5)\n",
      "Requirement already satisfied: nvidia-nvtx-cu12==12.4.127 in /usr/local/lib/python3.11/dist-packages (from torch>=1.8.0->ultralytics) (12.4.127)\n",
      "Requirement already satisfied: nvidia-nvjitlink-cu12==12.4.127 in /usr/local/lib/python3.11/dist-packages (from torch>=1.8.0->ultralytics) (12.4.127)\n",
      "Requirement already satisfied: triton==3.1.0 in /usr/local/lib/python3.11/dist-packages (from torch>=1.8.0->ultralytics) (3.1.0)\n",
      "Requirement already satisfied: sympy==1.13.1 in /usr/local/lib/python3.11/dist-packages (from torch>=1.8.0->ultralytics) (1.13.1)\n",
      "Requirement already satisfied: mpmath<1.4,>=1.1.0 in /usr/local/lib/python3.11/dist-packages (from sympy==1.13.1->torch>=1.8.0->ultralytics) (1.3.0)\n",
      "Requirement already satisfied: six>=1.5 in /usr/local/lib/python3.11/dist-packages (from python-dateutil>=2.7->matplotlib>=3.3.0->ultralytics) (1.17.0)\n",
      "Requirement already satisfied: MarkupSafe>=2.0 in /usr/local/lib/python3.11/dist-packages (from jinja2->torch>=1.8.0->ultralytics) (3.0.2)\n"
     ]
    }
   ],
   "source": [
    "! pip install ultralytics opencv-python-headless\n"
   ]
  },
  {
   "cell_type": "code",
   "execution_count": null,
   "metadata": {
    "colab": {
     "background_save": true,
     "base_uri": "https://localhost:8080/",
     "height": 56
    },
    "id": "suuY3vyWXz0J",
    "outputId": "89750448-255f-4401-9c2a-cebb04cd9978"
   },
   "outputs": [
    {
     "data": {
      "text/html": [
       "\n",
       "     <input type=\"file\" id=\"files-038f3402-7719-4e81-ac7b-8c7031f5702a\" name=\"files[]\" multiple disabled\n",
       "        style=\"border:none\" />\n",
       "     <output id=\"result-038f3402-7719-4e81-ac7b-8c7031f5702a\">\n",
       "      Upload widget is only available when the cell has been executed in the\n",
       "      current browser session. Please rerun this cell to enable.\n",
       "      </output>\n",
       "      <script>// Copyright 2017 Google LLC\n",
       "//\n",
       "// Licensed under the Apache License, Version 2.0 (the \"License\");\n",
       "// you may not use this file except in compliance with the License.\n",
       "// You may obtain a copy of the License at\n",
       "//\n",
       "//      http://www.apache.org/licenses/LICENSE-2.0\n",
       "//\n",
       "// Unless required by applicable law or agreed to in writing, software\n",
       "// distributed under the License is distributed on an \"AS IS\" BASIS,\n",
       "// WITHOUT WARRANTIES OR CONDITIONS OF ANY KIND, either express or implied.\n",
       "// See the License for the specific language governing permissions and\n",
       "// limitations under the License.\n",
       "\n",
       "/**\n",
       " * @fileoverview Helpers for google.colab Python module.\n",
       " */\n",
       "(function(scope) {\n",
       "function span(text, styleAttributes = {}) {\n",
       "  const element = document.createElement('span');\n",
       "  element.textContent = text;\n",
       "  for (const key of Object.keys(styleAttributes)) {\n",
       "    element.style[key] = styleAttributes[key];\n",
       "  }\n",
       "  return element;\n",
       "}\n",
       "\n",
       "// Max number of bytes which will be uploaded at a time.\n",
       "const MAX_PAYLOAD_SIZE = 100 * 1024;\n",
       "\n",
       "function _uploadFiles(inputId, outputId) {\n",
       "  const steps = uploadFilesStep(inputId, outputId);\n",
       "  const outputElement = document.getElementById(outputId);\n",
       "  // Cache steps on the outputElement to make it available for the next call\n",
       "  // to uploadFilesContinue from Python.\n",
       "  outputElement.steps = steps;\n",
       "\n",
       "  return _uploadFilesContinue(outputId);\n",
       "}\n",
       "\n",
       "// This is roughly an async generator (not supported in the browser yet),\n",
       "// where there are multiple asynchronous steps and the Python side is going\n",
       "// to poll for completion of each step.\n",
       "// This uses a Promise to block the python side on completion of each step,\n",
       "// then passes the result of the previous step as the input to the next step.\n",
       "function _uploadFilesContinue(outputId) {\n",
       "  const outputElement = document.getElementById(outputId);\n",
       "  const steps = outputElement.steps;\n",
       "\n",
       "  const next = steps.next(outputElement.lastPromiseValue);\n",
       "  return Promise.resolve(next.value.promise).then((value) => {\n",
       "    // Cache the last promise value to make it available to the next\n",
       "    // step of the generator.\n",
       "    outputElement.lastPromiseValue = value;\n",
       "    return next.value.response;\n",
       "  });\n",
       "}\n",
       "\n",
       "/**\n",
       " * Generator function which is called between each async step of the upload\n",
       " * process.\n",
       " * @param {string} inputId Element ID of the input file picker element.\n",
       " * @param {string} outputId Element ID of the output display.\n",
       " * @return {!Iterable<!Object>} Iterable of next steps.\n",
       " */\n",
       "function* uploadFilesStep(inputId, outputId) {\n",
       "  const inputElement = document.getElementById(inputId);\n",
       "  inputElement.disabled = false;\n",
       "\n",
       "  const outputElement = document.getElementById(outputId);\n",
       "  outputElement.innerHTML = '';\n",
       "\n",
       "  const pickedPromise = new Promise((resolve) => {\n",
       "    inputElement.addEventListener('change', (e) => {\n",
       "      resolve(e.target.files);\n",
       "    });\n",
       "  });\n",
       "\n",
       "  const cancel = document.createElement('button');\n",
       "  inputElement.parentElement.appendChild(cancel);\n",
       "  cancel.textContent = 'Cancel upload';\n",
       "  const cancelPromise = new Promise((resolve) => {\n",
       "    cancel.onclick = () => {\n",
       "      resolve(null);\n",
       "    };\n",
       "  });\n",
       "\n",
       "  // Wait for the user to pick the files.\n",
       "  const files = yield {\n",
       "    promise: Promise.race([pickedPromise, cancelPromise]),\n",
       "    response: {\n",
       "      action: 'starting',\n",
       "    }\n",
       "  };\n",
       "\n",
       "  cancel.remove();\n",
       "\n",
       "  // Disable the input element since further picks are not allowed.\n",
       "  inputElement.disabled = true;\n",
       "\n",
       "  if (!files) {\n",
       "    return {\n",
       "      response: {\n",
       "        action: 'complete',\n",
       "      }\n",
       "    };\n",
       "  }\n",
       "\n",
       "  for (const file of files) {\n",
       "    const li = document.createElement('li');\n",
       "    li.append(span(file.name, {fontWeight: 'bold'}));\n",
       "    li.append(span(\n",
       "        `(${file.type || 'n/a'}) - ${file.size} bytes, ` +\n",
       "        `last modified: ${\n",
       "            file.lastModifiedDate ? file.lastModifiedDate.toLocaleDateString() :\n",
       "                                    'n/a'} - `));\n",
       "    const percent = span('0% done');\n",
       "    li.appendChild(percent);\n",
       "\n",
       "    outputElement.appendChild(li);\n",
       "\n",
       "    const fileDataPromise = new Promise((resolve) => {\n",
       "      const reader = new FileReader();\n",
       "      reader.onload = (e) => {\n",
       "        resolve(e.target.result);\n",
       "      };\n",
       "      reader.readAsArrayBuffer(file);\n",
       "    });\n",
       "    // Wait for the data to be ready.\n",
       "    let fileData = yield {\n",
       "      promise: fileDataPromise,\n",
       "      response: {\n",
       "        action: 'continue',\n",
       "      }\n",
       "    };\n",
       "\n",
       "    // Use a chunked sending to avoid message size limits. See b/62115660.\n",
       "    let position = 0;\n",
       "    do {\n",
       "      const length = Math.min(fileData.byteLength - position, MAX_PAYLOAD_SIZE);\n",
       "      const chunk = new Uint8Array(fileData, position, length);\n",
       "      position += length;\n",
       "\n",
       "      const base64 = btoa(String.fromCharCode.apply(null, chunk));\n",
       "      yield {\n",
       "        response: {\n",
       "          action: 'append',\n",
       "          file: file.name,\n",
       "          data: base64,\n",
       "        },\n",
       "      };\n",
       "\n",
       "      let percentDone = fileData.byteLength === 0 ?\n",
       "          100 :\n",
       "          Math.round((position / fileData.byteLength) * 100);\n",
       "      percent.textContent = `${percentDone}% done`;\n",
       "\n",
       "    } while (position < fileData.byteLength);\n",
       "  }\n",
       "\n",
       "  // All done.\n",
       "  yield {\n",
       "    response: {\n",
       "      action: 'complete',\n",
       "    }\n",
       "  };\n",
       "}\n",
       "\n",
       "scope.google = scope.google || {};\n",
       "scope.google.colab = scope.google.colab || {};\n",
       "scope.google.colab._files = {\n",
       "  _uploadFiles,\n",
       "  _uploadFilesContinue,\n",
       "};\n",
       "})(self);\n",
       "</script> "
      ],
      "text/plain": [
       "<IPython.core.display.HTML object>"
      ]
     },
     "metadata": {},
     "output_type": "display_data"
    }
   ],
   "source": [
    "from google.colab import files\n",
    "\n",
    "uploaded = files.upload()\n",
    "\n",
    "image_filename = list(uploaded.keys())[0]\n",
    "\n",
    "img_path = '/content/' + image_filename"
   ]
  },
  {
   "cell_type": "code",
   "execution_count": null,
   "metadata": {
    "id": "vbUq0sqvYs91"
   },
   "outputs": [],
   "source": [
    "! pip install cv4"
   ]
  },
  {
   "cell_type": "code",
   "execution_count": null,
   "metadata": {
    "colab": {
     "base_uri": "https://localhost:8080/"
    },
    "executionInfo": {
     "elapsed": 1289,
     "status": "ok",
     "timestamp": 1739819999714,
     "user": {
      "displayName": "Qianyu Huang",
      "userId": "18232162311717956953"
     },
     "user_tz": 300
    },
    "id": "ktMwSSEyWeO3",
    "outputId": "0612e848-73d3-4e00-bccf-491923c02755"
   },
   "outputs": [
    {
     "name": "stdout",
     "output_type": "stream",
     "text": [
      "Downloading https://github.com/ultralytics/assets/releases/download/v8.3.0/yolov8n.pt to 'yolov8n.pt'...\n"
     ]
    },
    {
     "name": "stderr",
     "output_type": "stream",
     "text": [
      "100%|██████████| 6.25M/6.25M [00:00<00:00, 145MB/s]\n"
     ]
    }
   ],
   "source": [
    "from ultralytics import YOLO\n",
    "import cv4\n",
    "\n",
    "cap = cv2.VideoCapture('input_video.mp4')\n",
    "\n",
    "\n",
    "while cap.isOpened():\n",
    "    ret, frame = cap.read()\n",
    "    if not ret:\n",
    "        break\n",
    "    results = model(frame)\n",
    "\n",
    "    annotated_frame = results[0].plot()\n",
    "\n",
    "    cv2.imshow('YOLOv8 Detection', annotated_frame)\n",
    "\n",
    "    if cv2.waitKey(1) & 0xFF == ord('q'):\n",
    "        break\n",
    "\n",
    "cap.release()\n",
    "cv2.destroyAllWindows()\n"
   ]
  }
 ],
 "metadata": {
  "accelerator": "GPU",
  "colab": {
   "authorship_tag": "ABX9TyPFn+bAomo+DroCvzaOE0ck",
   "gpuType": "T4",
   "mount_file_id": "1OypSmnCC8jswJjWI7TJwrirtU-WOIUE0",
   "provenance": []
  },
  "kernelspec": {
   "display_name": "Python 3",
   "name": "python3"
  },
  "language_info": {
   "name": "python"
  }
 },
 "nbformat": 4,
 "nbformat_minor": 0
}
